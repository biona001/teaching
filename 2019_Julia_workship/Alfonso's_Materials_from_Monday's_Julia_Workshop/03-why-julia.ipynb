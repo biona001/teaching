{
  "cells": [
    {
      "cell_type": "markdown",
      "source": [
        "# Practical Reasons to Use Julia\n\n- You want to write readable code that is easy to share with others.\n- Your code needs to run fast.\n- You're trying to solve a problem and Julia already has the right tools.\n- Your project requires software from different programming languages but you need a way to \"glue\" it all together.\n\nHighlight from the [Julia manual](https://docs.julialang.org/en/v1/):\n\n> Scientific computing has traditionally required the highest performance, yet domain experts have largely moved to slower dynamic languages for daily work.\n> **We believe there are many good reasons to prefer dynamic languages for these applications, and we do not expect their use to diminish.**\n> Fortunately, modern language design and compiler techniques make it possible to mostly eliminate the performance trade-off and **provide a single environment productive enough for prototyping and efficient enough for deploying performance-intensive applications**.\n> The Julia programming language fills this role: it is a flexible dynamic language, appropriate for scientific and numerical computing, with performance comparable to traditional statically-typed languages.\n\n### A Mental Model for Python/R/MATLAB: Talking to a Politician\n\n- These scripting languages were developed to \"be easy\".\n- You tell them something, and they try to give you what you want.\n- There may be some things hidden behind the scenes to make everything \"work better\".\n- They may not give you the fastest reply.\n\n### A Mental Model for C/Fortran: Talking to a Philosopher\n\n- You say something, and they want something more specific.\n- You spend hours digging deep into the specifics of something.\n- After finally getting it right, you know how to quickly get a specific answer from them.\n- Everytime you want to talk about something new, you have to start all the way at the basics again.\n\n### A Mental Model for Julia: Talking to a Scientist\n\n- When you're talking, everything looks general. However, you really mean very specific details determined by context.\n- You can quickly dig deep into a subject, assuming many rules, theories, and terminology.\n- Nothing is hidden: if you ever want to hear about every little detail, you can ask.\n- They will get mad (and throw errors at you) if you begin to be loose with the specific details.\n\n*Credit*: [https://ucidatascienceinitiative.github.io/IntroToJulia/Html/JuliaMentalModel](https://ucidatascienceinitiative.github.io/IntroToJulia/Html/JuliaMentalModel)\n\n**Takeaway**: Julia offers the best of both worlds.\nYou can prototype solutions quickly compared to a compiled language.\nIf you need better performance, you just need to be aware of Julia's rules."
      ],
      "metadata": {}
    }
  ],
  "nbformat_minor": 2,
  "metadata": {
    "language_info": {
      "file_extension": ".jl",
      "mimetype": "application/julia",
      "name": "julia",
      "version": "1.1.0"
    },
    "kernelspec": {
      "name": "julia-1.1",
      "display_name": "Julia 1.1.0",
      "language": "julia"
    }
  },
  "nbformat": 4
}
