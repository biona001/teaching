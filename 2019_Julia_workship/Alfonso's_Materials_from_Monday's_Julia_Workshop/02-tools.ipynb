{
 "cells": [
  {
   "cell_type": "markdown",
   "metadata": {},
   "source": [
    "# Tools of the Trade\n",
    "\n",
    "The most recommended tools include\n",
    "\n",
    "1. the Julia REPL (terminal),\n",
    "2. [Juno](https://junolab.org/), the Integrated Development Environment (IDE) in [Atom](https://atom.io/),\n",
    "3. [Jupyter](https://jupyter.org/) notebooks with support through the [IJulia](https://github.com/JuliaLang/IJulia.jl) project, and\n",
    "4. [Weave](https://github.com/JunoLab/Weave.jl) for scientific reports.\n",
    "\n",
    "You do not have to use each one, and you can always use your favorite plaintext editor (Notepad++, Emacs, vim, ...) with a Julia language support extension.\n",
    "Reports are best handled by Jupyter notebooks and Weave while extended coding should be done in an editor.\n",
    "\n",
    "*Another Option*: [VSCode](https://code.visualstudio.com/) with Julia language support.\n",
    "\n",
    "### How to Use the Julia REPL\n",
    "\n",
    "A Read-Eval-Print Loop (REPL) is an interactive programming environment where the program\n",
    "\n",
    "- **reads** input from a user,\n",
    "- **evaluates** the input, and\n",
    "- **prints** the result.\n",
    "\n",
    "The Julia REPL is a sophisticated calculator used to perform one-off calculations and run scripts interactively.\n",
    "\n",
    "##### The Basics\n",
    "\n",
    "**Normal Execution**: Enter an expression and press `Enter` to execute it.\n",
    "\n",
    "```\n",
    "julia> 1 + 1\n",
    "2\n",
    "```\n",
    "\n",
    "**Help System**: Type `?` and enter the name of a function, type, or variable.\n",
    "\n",
    "```\n",
    "help?> Float64\n",
    "search: Float64 Float16 Float32 float floatmin floatmax Cfloat BigFloat\n",
    "\n",
    "  Float64(x [, mode::RoundingMode])\n",
    "\n",
    "  Create a Float64 from x. If x is not exactly representable then mode\n",
    "  determines how x is rounded.\n",
    "\n",
    "  Examples\n",
    "  ≡≡≡≡≡≡≡≡≡≡\n",
    "\n",
    "  julia> Float64(pi, RoundDown)\n",
    "  3.141592653589793\n",
    "\n",
    "  julia> Float64(pi, RoundUp)\n",
    "  3.1415926535897936\n",
    "\n",
    "  See RoundingMode for available rounding modes.\n",
    "\n",
    "  ────────────────────────────────────────────────────────────────────────────\n",
    "\n",
    "  Float64 <: AbstractFloat\n",
    "\n",
    "  64-bit floating point number type.\n",
    "```\n",
    "\n",
    "**Package Manager**: Type `]` and enter a command. You can use `?` to get help with package mode.\n",
    "\n",
    "```\n",
    "(v1.1) pkg> update\n",
    "  Updating registry at `~/.julia/registries/General`\n",
    "  Updating git-repo `https://github.com/JuliaRegistries/General.git`\n",
    " Resolving package versions...\n",
    "  Updating `~/.julia/environments/v1.1/Project.toml`\n",
    " [no changes]\n",
    "  Updating `~/.julia/environments/v1.1/Manifest.toml`\n",
    " [no changes]\n",
    "```\n",
    "\n",
    "**Note**: It is possible to use the package manager in non-interactive scripts. For example, the following is equivalent to `] status`:"
   ]
  },
  {
   "cell_type": "code",
   "execution_count": 1,
   "metadata": {},
   "outputs": [
    {
     "name": "stdout",
     "output_type": "stream",
     "text": [
      "\u001b[32m\u001b[1m    Status\u001b[22m\u001b[39m `~/.julia/environments/v1.1/Project.toml`\n",
      " \u001b[90m [9c13caa0]\u001b[39m\u001b[37m ARIEL2PARP v0.1.0 #master (/Users/alanderos/Projects/ARIEL2-PARP/)\u001b[39m\n",
      " \u001b[90m [c52e3926]\u001b[39m\u001b[37m Atom v0.10.1\u001b[39m\n",
      " \u001b[90m [6e4b80f9]\u001b[39m\u001b[37m BenchmarkTools v0.4.3\u001b[39m\n",
      " \u001b[90m [cee09bd2]\u001b[39m\u001b[37m BioSimulator v0.0.0 #develop (/Users/alanderos/.julia/dev/BioSimulator)\u001b[39m\n",
      " \u001b[90m [336ed68f]\u001b[39m\u001b[37m CSV v0.5.12\u001b[39m\n",
      " \u001b[90m [5ae59095]\u001b[39m\u001b[37m Colors v0.9.6\u001b[39m\n",
      " \u001b[90m [861a8166]\u001b[39m\u001b[37m Combinatorics v0.7.0\u001b[39m\n",
      " \u001b[90m [a81c6b42]\u001b[39m\u001b[37m Compose v0.7.3\u001b[39m\n",
      " \u001b[90m [8f4d0f93]\u001b[39m\u001b[37m Conda v1.3.0\u001b[39m\n",
      " \u001b[90m [a2441757]\u001b[39m\u001b[37m Coverage v0.9.2\u001b[39m\n",
      " \u001b[90m [a93c6f00]\u001b[39m\u001b[37m DataFrames v0.19.4\u001b[39m\n",
      " \u001b[90m [bcd4f6db]\u001b[39m\u001b[37m DelayDiffEq v5.4.0 [`~/.julia/dev/DelayDiffEq`]\u001b[39m\n",
      " \u001b[90m [eb300fae]\u001b[39m\u001b[37m DiffEqBiological v3.11.0+ #master (/Users/alanderos/.julia/dev/DiffEqBiological/)\u001b[39m\n",
      " \u001b[90m [c894b116]\u001b[39m\u001b[37m DiffEqJump v6.2.1+ #master (/Users/alanderos/.julia/dev/DiffEqJump)\u001b[39m\n",
      " \u001b[90m [a077e3f3]\u001b[39m\u001b[37m DiffEqProblemLibrary v4.5.1 #master (/Users/alanderos/.julia/dev/DiffEqProblemLibrary)\u001b[39m\n",
      " \u001b[90m [0c46a032]\u001b[39m\u001b[37m DifferentialEquations v6.6.0\u001b[39m\n",
      " \u001b[90m [31c24e10]\u001b[39m\u001b[37m Distributions v0.21.1\u001b[39m\n",
      " \u001b[90m [e30172f5]\u001b[39m\u001b[37m Documenter v0.23.3\u001b[39m\n",
      " \u001b[90m [9aa1b823]\u001b[39m\u001b[37m FastClosures v0.3.1\u001b[39m\n",
      " \u001b[90m [28b8d3ca]\u001b[39m\u001b[37m GR v0.41.0\u001b[39m\n",
      " \u001b[90m [92fee26a]\u001b[39m\u001b[37m GZip v0.5.0\u001b[39m\n",
      " \u001b[90m [a2cc645c]\u001b[39m\u001b[37m GraphPlot v0.3.1\u001b[39m\n",
      " \u001b[90m [bd48cda9]\u001b[39m\u001b[37m GraphRecipes v0.4.0\u001b[39m\n",
      " \u001b[90m [19dc6840]\u001b[39m\u001b[37m HCubature v1.4.0\u001b[39m\n",
      " \u001b[90m [cd3eb016]\u001b[39m\u001b[37m HTTP v0.8.6\u001b[39m\n",
      " \u001b[90m [7073ff75]\u001b[39m\u001b[37m IJulia v1.20.0\u001b[39m\n",
      " \u001b[90m [e24f45a5]\u001b[39m\u001b[37m InverseLaplace v0.2.2\u001b[39m\n",
      " \u001b[90m [42fd0dbc]\u001b[39m\u001b[37m IterativeSolvers v0.8.1\u001b[39m\n",
      " \u001b[90m [682c06a0]\u001b[39m\u001b[37m JSON v0.21.0\u001b[39m\n",
      " \u001b[90m [e5e0dc1b]\u001b[39m\u001b[37m Juno v0.7.2\u001b[39m\n",
      " \u001b[90m [9c8b4983]\u001b[39m\u001b[37m LightXML v0.8.1\u001b[39m\n",
      " \u001b[90m [d3d80556]\u001b[39m\u001b[37m LineSearches v7.0.1\u001b[39m\n",
      " \u001b[90m [b1b5f1a8]\u001b[39m\u001b[37m NewBioSimulator v0.9.0-beta #master (/Users/alanderos/.julia/dev/NewBioSimulator/)\u001b[39m\n",
      " \u001b[90m [f4d8cefe]\u001b[39m\u001b[37m NewBioSimulatorBenchmarks v0.1.0 #develop (/Users/alanderos/NewBioSimulatorBenchmarks)\u001b[39m\n",
      " \u001b[90m [429524aa]\u001b[39m\u001b[37m Optim v0.19.3\u001b[39m\n",
      " \u001b[90m [1dea7af3]\u001b[39m\u001b[37m OrdinaryDiffEq v5.8.1 [`~/.julia/dev/OrdinaryDiffEq`]\u001b[39m\n",
      " \u001b[90m [304af1c8]\u001b[39m\u001b[37m PetriNetUtilities v0.1.0 #master (/Users/alanderos/.julia/dev/PetriNetUtilities/)\u001b[39m\n",
      " \u001b[90m [91a5bcdd]\u001b[39m\u001b[37m Plots v0.26.3\u001b[39m\n",
      " \u001b[90m [e409e4f3]\u001b[39m\u001b[37m PoissonRandom v0.4.0\u001b[39m\n",
      " \u001b[90m [438e738f]\u001b[39m\u001b[37m PyCall v1.91.2\u001b[39m\n",
      " \u001b[90m [d330b81b]\u001b[39m\u001b[37m PyPlot v2.8.2\u001b[39m\n",
      " \u001b[90m [1fd47b50]\u001b[39m\u001b[37m QuadGK v2.1.0\u001b[39m\n",
      " \u001b[90m [6f49c342]\u001b[39m\u001b[37m RCall v0.13.3\u001b[39m\n",
      " \u001b[90m [295af30f]\u001b[39m\u001b[37m Revise v2.1.10\u001b[39m\n",
      " \u001b[90m [276daf66]\u001b[39m\u001b[37m SpecialFunctions v0.7.2\u001b[39m\n",
      " \u001b[90m [3eaba693]\u001b[39m\u001b[37m StatsModels v0.5.0\u001b[39m\n",
      " \u001b[90m [f3b207a7]\u001b[39m\u001b[37m StatsPlots v0.12.0\u001b[39m\n",
      " \u001b[90m [b4f28e30]\u001b[39m\u001b[37m TikzGraphs v1.0.1\u001b[39m\n",
      " \u001b[90m [37f6aa50]\u001b[39m\u001b[37m TikzPictures v3.0.5\u001b[39m\n",
      " \u001b[90m [a759f4b9]\u001b[39m\u001b[37m TimerOutputs v0.5.0\u001b[39m\n",
      " \u001b[90m [37b6cedf]\u001b[39m\u001b[37m Traceur v0.3.0\u001b[39m\n",
      " \u001b[90m [44d3d7a6]\u001b[39m\u001b[37m Weave v0.9.1\u001b[39m\n",
      " \u001b[90m [efce3f68]\u001b[39m\u001b[37m WoodburyMatrices v0.4.1\u001b[39m\n"
     ]
    }
   ],
   "source": [
    "using Pkg\n",
    "\n",
    "Pkg.status()"
   ]
  },
  {
   "cell_type": "markdown",
   "metadata": {},
   "source": [
    "**Shell Mode**: Type `;` and enter a command using your machines default shell.\n",
    "\n",
    "```\n",
    "shell> which emacs\n",
    "/usr/bin/emacs\n",
    "```\n",
    "\n",
    "##### Interactin with the OS\n",
    "\n",
    "The `versioninfo` function is good for reproducibility, getting help online, and reporting bugs:"
   ]
  },
  {
   "cell_type": "code",
   "execution_count": 2,
   "metadata": {},
   "outputs": [
    {
     "name": "stdout",
     "output_type": "stream",
     "text": [
      "Julia Version 1.1.0\n",
      "Commit 80516ca202 (2019-01-21 21:24 UTC)\n",
      "Platform Info:\n",
      "  OS: macOS (x86_64-apple-darwin18.2.0)\n",
      "  CPU: Intel(R) Core(TM) i7-4750HQ CPU @ 2.00GHz\n",
      "  WORD_SIZE: 64\n",
      "  LIBM: libopenlibm\n",
      "  LLVM: libLLVM-6.0.1 (ORCJIT, haswell)\n"
     ]
    }
   ],
   "source": [
    "versioninfo()"
   ]
  },
  {
   "cell_type": "markdown",
   "metadata": {},
   "source": [
    "Most of this is self-explanatory.\n",
    "The potentially confusing bits are:\n",
    "\n",
    "- `Commit`: The specific [git](https://git-scm.com/) *commit* that corresponds to your version of Julia. Git is a version control system used by the Julia project, and commits are specific revisions to files.\n",
    "- `WORD_SIZE`: The default length of a unit of data \"preferred\" by your hardware's instruction set. Essentially determines whether `Int` == `Int64` or `Int` == `Int32`.\n",
    "- `LIBM`: The library used to implement fundamental mathematical functions.\n",
    "- `LLVM`: The version of LLVM (originally an acronym for *Low Level Virtual Machine*) that your version of Julia relies on.\n",
    "\n",
    "**Loading code and file systems**: Julia source code is typically stored in `.jl` files.\n",
    "You can `include` source files at will:"
   ]
  },
  {
   "cell_type": "code",
   "execution_count": 3,
   "metadata": {},
   "outputs": [
    {
     "name": "stdout",
     "output_type": "stream",
     "text": [
      "hello world\n"
     ]
    }
   ],
   "source": [
    "include(joinpath(\"src\", \"include_test.jl\"))"
   ]
  },
  {
   "cell_type": "markdown",
   "metadata": {},
   "source": [
    "Notice that we do not use an explicit file separator `/` or `\\\\`.\n",
    "The `joinpath` function is the preferred way of building up a filepath to maximize compatability.\n",
    "\n",
    "Lastly, you can exit an interactive session in the \"obvious\" way: `exit()`\n",
    "\n",
    "### Understanding Packages\n",
    "\n",
    "Large bodies of closely related code are bundled as *packages*.\n",
    "For example, the LinearAlgebra package defines types and functions for most applications of linear algebra, stored within a top-level *module*."
   ]
  },
  {
   "cell_type": "code",
   "execution_count": 4,
   "metadata": {},
   "outputs": [
    {
     "name": "stdout",
     "output_type": "stream",
     "text": [
      "Hello world!\n"
     ]
    },
    {
     "data": {
      "text/plain": [
       "Main.Example"
      ]
     },
     "execution_count": 4,
     "metadata": {},
     "output_type": "execute_result"
    }
   ],
   "source": [
    "module Example\n",
    "  export foo\n",
    "\n",
    "  println(\"Hello world!\")\n",
    "\n",
    "  function foo()\n",
    "    println(\"Biomath\")\n",
    "  end\n",
    "\n",
    "  function bar()\n",
    "    println(\"205\")\n",
    "  end\n",
    "\n",
    "end"
   ]
  },
  {
   "cell_type": "markdown",
   "metadata": {},
   "source": [
    "Notice that our print statement is executed, meaning that all the code inside our module is evaluated.\n",
    "However, the functions above are not accessible until the module is invoked with `import` or `using`.\n",
    "\n",
    "- `import MyPackage`: Functions and types must be namespaced; e.g. `MyPackage.foo`.\n",
    "- `import MyPackage: foo`: Explicitly declare functions and types that should be visible in the parent scope; e.g. `foo`.\n",
    "- `using MyPackage`: Any name that is exported is visible; e.g. `MyPackage.foo and foo`.\n",
    "- `using MyPackage: bar`: Decared names are visible *but cannot be extended*."
   ]
  },
  {
   "cell_type": "code",
   "execution_count": 5,
   "metadata": {},
   "outputs": [
    {
     "ename": "UndefVarError",
     "evalue": "UndefVarError: foo not defined",
     "output_type": "error",
     "traceback": [
      "UndefVarError: foo not defined",
      "",
      "Stacktrace:",
      " [1] top-level scope at In[5]:1"
     ]
    }
   ],
   "source": [
    "foo()"
   ]
  },
  {
   "cell_type": "code",
   "execution_count": 6,
   "metadata": {},
   "outputs": [
    {
     "name": "stdout",
     "output_type": "stream",
     "text": [
      "Biomath\n",
      "205\n"
     ]
    }
   ],
   "source": [
    "import Main.Example\n",
    "\n",
    "Example.foo(); Example.bar();"
   ]
  },
  {
   "cell_type": "code",
   "execution_count": 7,
   "metadata": {},
   "outputs": [
    {
     "name": "stdout",
     "output_type": "stream",
     "text": [
      "Biomath\n"
     ]
    },
    {
     "ename": "UndefVarError",
     "evalue": "UndefVarError: bar not defined",
     "output_type": "error",
     "traceback": [
      "UndefVarError: bar not defined",
      "",
      "Stacktrace:",
      " [1] top-level scope at In[7]:2"
     ]
    }
   ],
   "source": [
    "using Main.Example\n",
    "\n",
    "foo(); bar();"
   ]
  },
  {
   "cell_type": "markdown",
   "metadata": {},
   "source": [
    "See the [Julia manual](https://docs.julialang.org/en/v1/manual/modules/index.html#Summary-of-module-usage-1) for details.\n",
    "\n",
    "### The Package Ecosystem\n",
    "\n",
    "Published packages are aggregated in *registries*, which are effectively Git repositories that store information about versions and dependencies.\n",
    "The official default is the [General](https://github.com/JuliaRegistries/General) registry.\n",
    "\n",
    "* Adding a *registered* package is done with `] add ExcellentSoftware`.\n",
    "* Adding an *unregistered* package is also possible:\n",
    "\n",
    "    - if hosted remotely: `] add https://URL/to/the/repo.git`\n",
    "    - if located on your machine: `] add path/to/mywork`\n",
    "\n",
    "The main Julia developers, Julia Computing, and the Julia community itself have all spent hundreds of thousands of developer hours setting up tools that automatically\n",
    "\n",
    "* test code to make sure it runs and works correctly,\n",
    "* tag and version new releases of packages, and\n",
    "* track dependencies, both within Julia and other binaries,\n",
    "\n",
    "on different *operating systems* AND *hardware architectures*.\n",
    "This is good software engineering practice.\n",
    "Many projects in Julia rely on the work of others.\n",
    "\n",
    "**However**, software that is being developed breaks in unexpected ways.\n",
    "When this happens, it is always possible to rollback to a working version:\n",
    "\n",
    "```\n",
    "] add Software@v1.0\n",
    "```"
   ]
  }
 ],
 "metadata": {
  "kernelspec": {
   "display_name": "Julia 1.1.0",
   "language": "julia",
   "name": "julia-1.1"
  },
  "language_info": {
   "file_extension": ".jl",
   "mimetype": "application/julia",
   "name": "julia",
   "version": "1.1.0"
  }
 },
 "nbformat": 4,
 "nbformat_minor": 2
}
