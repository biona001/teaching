{
 "cells": [
  {
   "cell_type": "markdown",
   "metadata": {},
   "source": [
    "# Basic Julia Syntax"
   ]
  },
  {
   "cell_type": "code",
   "execution_count": 1,
   "metadata": {},
   "outputs": [],
   "source": [
    "# needed for Weave: .jmd -> .html\n",
    "# using InteractiveUtils"
   ]
  },
  {
   "cell_type": "markdown",
   "metadata": {},
   "source": [
    "### Primitives\n",
    "\n",
    "Plain old bits. Think integers, floating point numbers, booleans, and characters.\n",
    "Most (if not all) support familiar [arithmetic](https://docs.julialang.org/en/v1/manual/mathematical-operations/#Arithmetic-Operators-1) and [bitwise](https://docs.julialang.org/en/v1/manual/mathematical-operations/#Bitwise-Operators-1) operations.\n",
    "[Comparisons](https://docs.julialang.org/en/v1/manual/mathematical-operations/#Numeric-Comparisons-1) are also possible and use familiar syntax."
   ]
  },
  {
   "cell_type": "code",
   "execution_count": 2,
   "metadata": {},
   "outputs": [
    {
     "name": "stdout",
     "output_type": "stream",
     "text": [
      "x << 2 = 4\n",
      "exp(π * im) = -1.0 + 1.2246467991473532e-16im\n",
      "z + 0 = 'a'\n"
     ]
    },
    {
     "data": {
      "text/plain": [
       "'a': ASCII/Unicode U+0061 (category Ll: Letter, lowercase)"
      ]
     },
     "execution_count": 2,
     "metadata": {},
     "output_type": "execute_result"
    }
   ],
   "source": [
    "# try typing \\pi and hit TAB\n",
    "\n",
    "x = 1   # Int64\n",
    "y = π   # Float64\n",
    "z = 'a' # Char\n",
    "\n",
    "@show x << 2    # Int64\n",
    "@show exp(π*im) # Complex{Float64}\n",
    "@show z + 0     # Char"
   ]
  },
  {
   "cell_type": "markdown",
   "metadata": {},
   "source": [
    "Notice that [unicode characters](https://docs.julialang.org/en/v1/manual/unicode-input/) are valid variable (and function) names.\n",
    "\n",
    "It's not crucial to know which objects are primitives of the language, but you can always check:"
   ]
  },
  {
   "cell_type": "code",
   "execution_count": 3,
   "metadata": {},
   "outputs": [
    {
     "data": {
      "text/plain": [
       "true"
      ]
     },
     "execution_count": 3,
     "metadata": {},
     "output_type": "execute_result"
    }
   ],
   "source": [
    "isprimitivetype(Float64)"
   ]
  },
  {
   "cell_type": "code",
   "execution_count": 4,
   "metadata": {},
   "outputs": [
    {
     "data": {
      "text/plain": [
       "false"
      ]
     },
     "execution_count": 4,
     "metadata": {},
     "output_type": "execute_result"
    }
   ],
   "source": [
    "isprimitivetype(String)"
   ]
  },
  {
   "cell_type": "markdown",
   "metadata": {},
   "source": [
    "You can check the bits representing a number type:"
   ]
  },
  {
   "cell_type": "code",
   "execution_count": 5,
   "metadata": {},
   "outputs": [
    {
     "data": {
      "text/plain": [
       "\"0000000000000000000000000000000000000000000000000000000000010000\""
      ]
     },
     "execution_count": 5,
     "metadata": {},
     "output_type": "execute_result"
    }
   ],
   "source": [
    "bitstring(16)"
   ]
  },
  {
   "cell_type": "markdown",
   "metadata": {},
   "source": [
    "##### Integers (Fixed Point)\n",
    "\n",
    "![figures/](figures/twoscomplement.png)\n",
    "\n",
    "Exist both as signed (`Int8`, `Int32`, `Int64`, `Int128`) and unsigned (`UInt8`, `UInt32`, `UInt64`, `UInt128`) varieties.\n",
    "Note that `Int` and `UInt` are aliases for `Int64` and `UInt64`, repsectively, provided your machine is designed for 64-bit integers.\n",
    "\n",
    "Integers in Julia are based on [modular arithmetic](https://en.wikipedia.org/wiki/Modular_arithmetic).\n",
    "Signed integers are based on the [two's complement operation](https://en.wikipedia.org/wiki/Two%27s_complement).\n",
    "From Wikipedia:\n",
    "\n",
    "> For instance, **for the three-bit number** `010`, the two's complement is `110`, because `010 + 110 = 1000`. The two's complement is calculated by inverting the digits and adding one.\n",
    "\n",
    "Specifically, the additive inverse of $x$ is denoted $-x$ and satisfies $x + (-x) = 0$."
   ]
  },
  {
   "cell_type": "code",
   "execution_count": 6,
   "metadata": {},
   "outputs": [
    {
     "name": "stdout",
     "output_type": "stream",
     "text": [
      "typemin(UInt) = 0x0000000000000000\n",
      "typemax(UInt) = 0xffffffffffffffff\n",
      "typemax(UInt) + UInt(1) = 0x0000000000000000\n",
      "bitstring(Int8(1)) = \"00000001\"\n",
      "bitstring(Int8(-1)) = \"11111111\"\n"
     ]
    }
   ],
   "source": [
    "@show typemin(UInt)\n",
    "@show typemax(UInt)\n",
    "@show typemax(UInt) + UInt(1)\n",
    "\n",
    "@show bitstring(Int8(1));\n",
    "@show bitstring(Int8(-1));"
   ]
  },
  {
   "cell_type": "markdown",
   "metadata": {},
   "source": [
    "##### Real Numbers (Floating Point)\n",
    "\n",
    "![figures/](figures/double-precision-numbers.png)\n",
    "\n",
    "Real numbers cannot be represented exactly on finite machines.\n",
    "Instead, we must rely on [floating point numbers](https://en.wikipedia.org/wiki/Floating-point_arithmetic) that approximate the behavior of numbers on the real line.\n",
    "Julia provides a [list of references](https://docs.julialang.org/en/v1/manual/integers-and-floating-point-numbers/index.html#Background-and-References-1) supporting the standards it uses.\n",
    "\n",
    "$$ fraction \\times 2^{exponenet}$$"
   ]
  },
  {
   "cell_type": "code",
   "execution_count": 7,
   "metadata": {},
   "outputs": [
    {
     "name": "stdout",
     "output_type": "stream",
     "text": [
      "bitstring(x) = \"0011111111110110010111001000110011011100111011111110010010001001\"\n",
      "significand(x) = 1.397595274959061\n",
      "exponent(x) = 0\n"
     ]
    },
    {
     "data": {
      "text/plain": [
       "0"
      ]
     },
     "execution_count": 7,
     "metadata": {},
     "output_type": "execute_result"
    }
   ],
   "source": [
    "x = rand() / rand()\n",
    "\n",
    "@show bitstring(x)\n",
    "@show significand(x)\n",
    "@show exponent(x)"
   ]
  },
  {
   "cell_type": "markdown",
   "metadata": {},
   "source": [
    "**Note**: There are [special floating point values](https://docs.julialang.org/en/v1/manual/integers-and-floating-point-numbers/#Special-floating-point-values-1).\n",
    "\n",
    "### Control Flow\n",
    "\n",
    "[See the manual for details](https://docs.julialang.org/en/v1/manual/control-flow/)\n",
    "\n",
    "- Compound Expressions: `begin` and `(;)`.\n",
    "- Conditional Evaluation: `if`-`elseif`-`else` and `?:` (ternary operator).\n",
    "- Short-Circuit Evaluation: `&&`, `||` and chained comparisons.\n",
    "- Repeated Evaluation: Loops: `while` and `for`.\n",
    "- Exception Handling: `try-catch`, `error` and `throw`.\n",
    "\n",
    "### Arrays\n",
    "\n",
    "Arrays are declared using by encolsing components in square brackets `[` `]`.\n",
    "They are *mutable* so you can always change their contents.\n",
    "\n",
    "##### Construction\n",
    "\n",
    "For vectors, use commas `,` to separate components:"
   ]
  },
  {
   "cell_type": "code",
   "execution_count": 8,
   "metadata": {},
   "outputs": [
    {
     "data": {
      "text/plain": [
       "3-element Array{Int64,1}:\n",
       " 1\n",
       " 2\n",
       " 3"
      ]
     },
     "execution_count": 8,
     "metadata": {},
     "output_type": "execute_result"
    }
   ],
   "source": [
    "[1, 2, 3]"
   ]
  },
  {
   "cell_type": "markdown",
   "metadata": {},
   "source": [
    "For matrices, use semicolons `;` to separate *rows*:"
   ]
  },
  {
   "cell_type": "code",
   "execution_count": 9,
   "metadata": {},
   "outputs": [
    {
     "data": {
      "text/plain": [
       "2×2 Array{Float64,2}:\n",
       " 1.0  0.0\n",
       " 0.0  1.0"
      ]
     },
     "execution_count": 9,
     "metadata": {},
     "output_type": "execute_result"
    }
   ],
   "source": [
    "[1.0 0.0; 0.0 1.0]"
   ]
  },
  {
   "cell_type": "markdown",
   "metadata": {},
   "source": [
    "You can always enforce the type of elements (if possible) by being explicit:"
   ]
  },
  {
   "cell_type": "code",
   "execution_count": 10,
   "metadata": {},
   "outputs": [
    {
     "data": {
      "text/plain": [
       "1×2 Array{Bool,2}:\n",
       " true  false"
      ]
     },
     "execution_count": 10,
     "metadata": {},
     "output_type": "execute_result"
    }
   ],
   "source": [
    "Bool[1 0]"
   ]
  },
  {
   "cell_type": "markdown",
   "metadata": {},
   "source": [
    "Multi-dimensional arrays are supported out-of-the-box and are easy to define using *comprehensions*:"
   ]
  },
  {
   "cell_type": "code",
   "execution_count": 11,
   "metadata": {},
   "outputs": [
    {
     "data": {
      "text/plain": [
       "3×3×3 Array{Float64,3}:\n",
       "[:, :, 1] =\n",
       " 0.407998    0.124008   0.27965 \n",
       " 0.197937    0.0279326  0.739372\n",
       " 0.00996212  0.551288   0.948201\n",
       "\n",
       "[:, :, 2] =\n",
       " 0.522974   0.0110859  0.556004\n",
       " 0.0603225  0.762221   0.478879\n",
       " 0.83195    0.811878   0.529315\n",
       "\n",
       "[:, :, 3] =\n",
       " 0.727057  0.16779   0.0050802\n",
       " 0.496719  0.937815  0.808383 \n",
       " 0.011346  0.549132  0.960725 "
      ]
     },
     "execution_count": 11,
     "metadata": {},
     "output_type": "execute_result"
    }
   ],
   "source": [
    "[rand() for i in 1:3, j in 1:3, k in 1:3]"
   ]
  },
  {
   "cell_type": "markdown",
   "metadata": {},
   "source": [
    "##### Indexing\n",
    "\n",
    "Julia's arrays are 1-based and stored in column-major order.\n",
    "This means that, underneath the hood, a 2x2 array is really a list of length 4 with stride 2:"
   ]
  },
  {
   "cell_type": "code",
   "execution_count": 12,
   "metadata": {},
   "outputs": [
    {
     "name": "stdout",
     "output_type": "stream",
     "text": [
      "A[2, 2] = 1000\n",
      "A[:, 1] = [1, 100]\n",
      "A[2, :] = [100, 1000]\n",
      "vec(A) = [1, 100, 10, 1000]\n"
     ]
    }
   ],
   "source": [
    "A = [1 10; 100 1000]\n",
    "\n",
    "@show A[2,2];\n",
    "@show A[:,1]; # column 1\n",
    "@show A[2,:]; # row 2\n",
    "@show vec(A);"
   ]
  },
  {
   "cell_type": "markdown",
   "metadata": {},
   "source": [
    "##### Special Case: Lists\n",
    "\n",
    "Lists, or one-dimensional arrays, are also *dynamic* in the sense that their size can change using `push!` and `append!`."
   ]
  },
  {
   "cell_type": "code",
   "execution_count": 13,
   "metadata": {},
   "outputs": [
    {
     "name": "stdout",
     "output_type": "stream",
     "text": [
      "list = Any[\"dynamic\", \"allocation\", \"is\", 1337]\n"
     ]
    },
    {
     "data": {
      "text/plain": [
       "2-element Array{Any,1}:\n",
       " \"dynamic\"                    \n",
       " Any[\"allocation\", \"is\", 1337]"
      ]
     },
     "execution_count": 13,
     "metadata": {},
     "output_type": "execute_result"
    }
   ],
   "source": [
    "list = []\n",
    "\n",
    "push!(list, \"dynamic\")\n",
    "append!(list, [\"allocation\", \"is\", 1337])\n",
    "\n",
    "@show list\n",
    "\n",
    "list = []\n",
    "\n",
    "push!(list, \"dynamic\")\n",
    "push!(list, [\"allocation\", \"is\", 1337])"
   ]
  },
  {
   "cell_type": "markdown",
   "metadata": {},
   "source": [
    "### Tuples\n",
    "\n",
    "Tuples are essentially immutable arrays.\n",
    "Once they are constructed their size and content never changes.\n",
    "Declare them by separating elements with commas and enclosing everything in parentheses."
   ]
  },
  {
   "cell_type": "code",
   "execution_count": 14,
   "metadata": {},
   "outputs": [
    {
     "name": "stdout",
     "output_type": "stream",
     "text": [
      "example = (1, 2, 3)\n",
      "typeof(example) = Tuple{Int64,Int64,Int64}\n",
      "gnu = ((\"gnu's\", (\"not\", (\"unix\",))),)\n",
      "typeof(gnu) = Tuple{Tuple{String,Tuple{String,Tuple{String}}}}\n"
     ]
    }
   ],
   "source": [
    "example = (1,2,3)\n",
    "\n",
    "@show example\n",
    "@show typeof(example);\n",
    "\n",
    "gnu = ((\"gnu's\", (\"not\", (\"unix\",),),),)\n",
    "\n",
    "@show gnu\n",
    "@show typeof(gnu);"
   ]
  },
  {
   "cell_type": "markdown",
   "metadata": {},
   "source": [
    "### Sets\n",
    "\n",
    "Collection where each member is unique.\n",
    "See the full interface for the `Set`-like objects [here](https://docs.julialang.org/en/v1/base/collections/#Set-Like-Collections-1).\n",
    "\n",
    "**Note**: You cannot index into a `Set`."
   ]
  },
  {
   "cell_type": "code",
   "execution_count": 7,
   "metadata": {},
   "outputs": [
    {
     "name": "stdout",
     "output_type": "stream",
     "text": [
      "myset = Set([3.14159, 6.28319])\n",
      "typeof(myset) = Set{Float64}\n"
     ]
    },
    {
     "data": {
      "text/plain": [
       "Set([0.0, 1.5708, 3.14159, 6.28319, 4.71239])"
      ]
     },
     "execution_count": 7,
     "metadata": {},
     "output_type": "execute_result"
    }
   ],
   "source": [
    "myset = Set([π, 2*π])\n",
    "\n",
    "@show myset\n",
    "@show typeof(myset)\n",
    "\n",
    "for θ in range(0.0, step = π/2, stop = 2*π)\n",
    "  push!(myset, θ)\n",
    "end\n",
    "\n",
    "@show myset"
   ]
  },
  {
   "cell_type": "markdown",
   "metadata": {},
   "source": [
    "### Dictionaries (Associative Maps)\n",
    "\n",
    "A dictionary, or `Dict` in Julia, is a collection of key-value pairs.\n",
    "Specifically, each key is unique and associated with a particular value.\n",
    "This is achieved using the `key => val` syntax."
   ]
  },
  {
   "cell_type": "code",
   "execution_count": 16,
   "metadata": {},
   "outputs": [
    {
     "data": {
      "text/plain": [
       "Dict{Int64,Char} with 5 entries:\n",
       "  4 => 'd'\n",
       "  2 => 'b'\n",
       "  3 => 'c'\n",
       "  5 => 'e'\n",
       "  1 => 'a'"
      ]
     },
     "execution_count": 16,
     "metadata": {},
     "output_type": "execute_result"
    }
   ],
   "source": [
    "alphabet = 'a':1:'e'\n",
    "dict = Dict(key => val for (key, val) in enumerate(alphabet))"
   ]
  },
  {
   "cell_type": "markdown",
   "metadata": {},
   "source": [
    "**Warning**: *Any* object can be used as a key, but you should avoid using mutable keys.\n",
    "\n",
    "You index into a set using keys (need not be integers):"
   ]
  },
  {
   "cell_type": "code",
   "execution_count": 17,
   "metadata": {},
   "outputs": [
    {
     "data": {
      "text/plain": [
       "'b': ASCII/Unicode U+0062 (category Ll: Letter, lowercase)"
      ]
     },
     "execution_count": 17,
     "metadata": {},
     "output_type": "execute_result"
    }
   ],
   "source": [
    "dict[2]"
   ]
  },
  {
   "cell_type": "markdown",
   "metadata": {},
   "source": [
    "### Functions\n",
    "\n",
    "There are three equivalent ways of defining functions:"
   ]
  },
  {
   "cell_type": "code",
   "execution_count": 9,
   "metadata": {},
   "outputs": [
    {
     "data": {
      "text/plain": [
       "(3//2, 3//2, 6)"
      ]
     },
     "execution_count": 9,
     "metadata": {},
     "output_type": "execute_result"
    }
   ],
   "source": [
    "function f1(x, y)\n",
    "  x = x * y\n",
    "end\n",
    "\n",
    "g1(x, y) = x * y\n",
    "\n",
    "h1(x, y) = begin\n",
    "  x * 2\n",
    "end\n",
    "\n",
    "x = 3\n",
    "y = 1//2\n",
    "\n",
    "f1(x, y), g1(x, y), h1(x, y)"
   ]
  },
  {
   "cell_type": "code",
   "execution_count": 11,
   "metadata": {},
   "outputs": [
    {
     "data": {
      "text/plain": [
       "f1 (generic function with 1 method)"
      ]
     },
     "execution_count": 11,
     "metadata": {},
     "output_type": "execute_result"
    }
   ],
   "source": [
    "variable_f = f1"
   ]
  },
  {
   "cell_type": "code",
   "execution_count": 13,
   "metadata": {},
   "outputs": [
    {
     "data": {
      "text/plain": [
       "true"
      ]
     },
     "execution_count": 13,
     "metadata": {},
     "output_type": "execute_result"
    }
   ],
   "source": [
    "p = f1(x, y)\n",
    "q = g1(x ,y)\n",
    "\n",
    "p == q"
   ]
  },
  {
   "cell_type": "code",
   "execution_count": null,
   "metadata": {},
   "outputs": [],
   "source": [
    "==="
   ]
  },
  {
   "cell_type": "markdown",
   "metadata": {},
   "source": [
    "The version you use should consider readability.\n",
    "The last line of a function's body is its value.\n",
    "In the `function ... end` style you can be explicit about the return value:"
   ]
  },
  {
   "cell_type": "code",
   "execution_count": 19,
   "metadata": {},
   "outputs": [
    {
     "data": {
      "text/plain": [
       "3//2"
      ]
     },
     "execution_count": 19,
     "metadata": {},
     "output_type": "execute_result"
    }
   ],
   "source": [
    "function f2(x, y)\n",
    "  return x * y\n",
    "\n",
    "  x + y\n",
    "end\n",
    "\n",
    "x = 3\n",
    "y = 1//2\n",
    "\n",
    "f2(x, y)"
   ]
  },
  {
   "cell_type": "markdown",
   "metadata": {},
   "source": [
    "Notice that everything after `return` is ignored.\n",
    "There's no need to be fussy about how many variables are defined.\n",
    "Again, emphasize readability; the Julia machinery will handle trite optimizations for you:"
   ]
  },
  {
   "cell_type": "code",
   "execution_count": 20,
   "metadata": {},
   "outputs": [
    {
     "name": "stdout",
     "output_type": "stream",
     "text": [
      "f3(x, y) == g3(x, y) = true\n"
     ]
    },
    {
     "data": {
      "text/plain": [
       "true"
      ]
     },
     "execution_count": 20,
     "metadata": {},
     "output_type": "execute_result"
    }
   ],
   "source": [
    "function f3(x, y)\n",
    "  step1 = x * y\n",
    "  step2 = step1 + 3\n",
    "  step3 = step2 + step1\n",
    "  result = step3 / 4\n",
    "\n",
    "  return result\n",
    "end\n",
    "\n",
    "function g3(x, y)\n",
    "  return ((x*y + 3) + (x*y)) / 4\n",
    "end\n",
    "\n",
    "x = rand()\n",
    "y = rand()\n",
    "\n",
    "@show f3(x,y) == g3(x,y)"
   ]
  },
  {
   "cell_type": "code",
   "execution_count": 21,
   "metadata": {},
   "outputs": [
    {
     "name": "stdout",
     "output_type": "stream",
     "text": [
      "\t.section\t__TEXT,__text,regular,pure_instructions\n",
      "; ┌ @ In[20]:2 within `f3'\n",
      "; │┌ @ In[20]:2 within `*'\n",
      "\tvmulsd\t%xmm1, %xmm0, %xmm0\n",
      "\tmovabsq\t$5056173040, %rax       ## imm = 0x12D5F13F0\n",
      "; │└\n",
      "; │ @ In[20]:3 within `f3'\n",
      "; │┌ @ promotion.jl:313 within `+' @ float.jl:395\n",
      "\tvaddsd\t(%rax), %xmm0, %xmm1\n",
      "; │└\n",
      "; │ @ In[20]:4 within `f3'\n",
      "; │┌ @ float.jl:395 within `+'\n",
      "\tvaddsd\t%xmm1, %xmm0, %xmm0\n",
      "\tmovabsq\t$5056173048, %rax       ## imm = 0x12D5F13F8\n",
      "; │└\n",
      "; │ @ In[20]:5 within `f3'\n",
      "; │┌ @ promotion.jl:316 within `/' @ float.jl:401\n",
      "\tvmulsd\t(%rax), %xmm0, %xmm0\n",
      "; │└\n",
      "; │ @ In[20]:7 within `f3'\n",
      "\tretq\n",
      "\tnopw\t%cs:(%rax,%rax)\n",
      "; └\n"
     ]
    }
   ],
   "source": [
    "@code_native f3(x,y)"
   ]
  },
  {
   "cell_type": "code",
   "execution_count": 22,
   "metadata": {},
   "outputs": [
    {
     "name": "stdout",
     "output_type": "stream",
     "text": [
      "\t.section\t__TEXT,__text,regular,pure_instructions\n",
      "; ┌ @ In[20]:11 within `g3'\n",
      "; │┌ @ In[20]:11 within `*'\n",
      "\tvmulsd\t%xmm1, %xmm0, %xmm0\n",
      "\tmovabsq\t$5056173608, %rax       ## imm = 0x12D5F1628\n",
      "; │└\n",
      "; │┌ @ promotion.jl:313 within `+' @ float.jl:395\n",
      "\tvaddsd\t(%rax), %xmm0, %xmm1\n",
      "; │└\n",
      "; │┌ @ float.jl:395 within `+'\n",
      "\tvaddsd\t%xmm1, %xmm0, %xmm0\n",
      "\tmovabsq\t$5056173616, %rax       ## imm = 0x12D5F1630\n",
      "; │└\n",
      "; │┌ @ promotion.jl:316 within `/' @ float.jl:401\n",
      "\tvmulsd\t(%rax), %xmm0, %xmm0\n",
      "; │└\n",
      "\tretq\n",
      "\tnopw\t%cs:(%rax,%rax)\n",
      "; └\n"
     ]
    }
   ],
   "source": [
    "@code_native g3(x,y)"
   ]
  },
  {
   "cell_type": "markdown",
   "metadata": {},
   "source": [
    "##### Type Declarations\n",
    "\n",
    "Every \"object\" in Julia has a type regardless of whether we declare it.\n",
    "You can annotate a function with *type declarations* in order to guarantee the function is called only with specific data types:"
   ]
  },
  {
   "cell_type": "code",
   "execution_count": 23,
   "metadata": {},
   "outputs": [],
   "source": [
    "f(x::Int, y::Int) = x + y\n",
    "g(x::T, y::T) where {T <: Number} = x + y\n",
    "h(x::Number, y::Number) = x + y\n",
    "💸(x, y) = x + y;"
   ]
  },
  {
   "cell_type": "code",
   "execution_count": 24,
   "metadata": {},
   "outputs": [],
   "source": [
    "x = 1; y = 2;"
   ]
  },
  {
   "cell_type": "code",
   "execution_count": 25,
   "metadata": {},
   "outputs": [
    {
     "data": {
      "text/plain": [
       "3"
      ]
     },
     "execution_count": 25,
     "metadata": {},
     "output_type": "execute_result"
    }
   ],
   "source": [
    "f(x,y)"
   ]
  },
  {
   "cell_type": "code",
   "execution_count": 26,
   "metadata": {},
   "outputs": [
    {
     "data": {
      "text/plain": [
       "3"
      ]
     },
     "execution_count": 26,
     "metadata": {},
     "output_type": "execute_result"
    }
   ],
   "source": [
    "g(x,y)"
   ]
  },
  {
   "cell_type": "code",
   "execution_count": 27,
   "metadata": {},
   "outputs": [
    {
     "data": {
      "text/plain": [
       "3"
      ]
     },
     "execution_count": 27,
     "metadata": {},
     "output_type": "execute_result"
    }
   ],
   "source": [
    "h(x,y)"
   ]
  },
  {
   "cell_type": "code",
   "execution_count": 28,
   "metadata": {},
   "outputs": [
    {
     "data": {
      "text/plain": [
       "3"
      ]
     },
     "execution_count": 28,
     "metadata": {},
     "output_type": "execute_result"
    }
   ],
   "source": [
    "💸(x,y)"
   ]
  },
  {
   "cell_type": "code",
   "execution_count": 29,
   "metadata": {},
   "outputs": [],
   "source": [
    "x = rand(); y = rand();"
   ]
  },
  {
   "cell_type": "code",
   "execution_count": 30,
   "metadata": {},
   "outputs": [
    {
     "ename": "MethodError",
     "evalue": "MethodError: no method matching f(::Float64, ::Float64)",
     "output_type": "error",
     "traceback": [
      "MethodError: no method matching f(::Float64, ::Float64)",
      "",
      "Stacktrace:",
      " [1] top-level scope at In[30]:1"
     ]
    }
   ],
   "source": [
    "f(x,y)"
   ]
  },
  {
   "cell_type": "code",
   "execution_count": 31,
   "metadata": {},
   "outputs": [
    {
     "data": {
      "text/plain": [
       "1.650002730569855"
      ]
     },
     "execution_count": 31,
     "metadata": {},
     "output_type": "execute_result"
    }
   ],
   "source": [
    "g(x,y)"
   ]
  },
  {
   "cell_type": "code",
   "execution_count": 32,
   "metadata": {},
   "outputs": [
    {
     "data": {
      "text/plain": [
       "1.650002730569855"
      ]
     },
     "execution_count": 32,
     "metadata": {},
     "output_type": "execute_result"
    }
   ],
   "source": [
    "h(x,y)"
   ]
  },
  {
   "cell_type": "code",
   "execution_count": 33,
   "metadata": {},
   "outputs": [
    {
     "data": {
      "text/plain": [
       "1.650002730569855"
      ]
     },
     "execution_count": 33,
     "metadata": {},
     "output_type": "execute_result"
    }
   ],
   "source": [
    "💸(x,y)"
   ]
  },
  {
   "cell_type": "code",
   "execution_count": 34,
   "metadata": {},
   "outputs": [],
   "source": [
    "x = rand(Complex{Float64}); y = 1//2;"
   ]
  },
  {
   "cell_type": "code",
   "execution_count": 35,
   "metadata": {},
   "outputs": [
    {
     "ename": "MethodError",
     "evalue": "MethodError: no method matching f(::Complex{Float64}, ::Rational{Int64})",
     "output_type": "error",
     "traceback": [
      "MethodError: no method matching f(::Complex{Float64}, ::Rational{Int64})",
      "",
      "Stacktrace:",
      " [1] top-level scope at In[35]:1"
     ]
    }
   ],
   "source": [
    "f(x,y)"
   ]
  },
  {
   "cell_type": "code",
   "execution_count": 36,
   "metadata": {},
   "outputs": [
    {
     "ename": "MethodError",
     "evalue": "MethodError: no method matching g(::Complex{Float64}, ::Rational{Int64})\nClosest candidates are:\n  g(::T<:Number, !Matched::T<:Number) where T<:Number at In[23]:2",
     "output_type": "error",
     "traceback": [
      "MethodError: no method matching g(::Complex{Float64}, ::Rational{Int64})\nClosest candidates are:\n  g(::T<:Number, !Matched::T<:Number) where T<:Number at In[23]:2",
      "",
      "Stacktrace:",
      " [1] top-level scope at In[36]:1"
     ]
    }
   ],
   "source": [
    "g(x,y)"
   ]
  },
  {
   "cell_type": "code",
   "execution_count": 37,
   "metadata": {},
   "outputs": [
    {
     "data": {
      "text/plain": [
       "1.3221469528891727 + 0.5046284860795895im"
      ]
     },
     "execution_count": 37,
     "metadata": {},
     "output_type": "execute_result"
    }
   ],
   "source": [
    "h(x,y)"
   ]
  },
  {
   "cell_type": "code",
   "execution_count": 38,
   "metadata": {},
   "outputs": [
    {
     "data": {
      "text/plain": [
       "1.3221469528891727 + 0.5046284860795895im"
      ]
     },
     "execution_count": 38,
     "metadata": {},
     "output_type": "execute_result"
    }
   ],
   "source": [
    "💸(x,y)"
   ]
  },
  {
   "cell_type": "markdown",
   "metadata": {},
   "source": [
    "There is nothing inherently wrong with `f` but its function signature is restrictive compared to the other versions. **There is no additional benefit to type annotations**:"
   ]
  },
  {
   "cell_type": "code",
   "execution_count": 39,
   "metadata": {},
   "outputs": [
    {
     "name": "stdout",
     "output_type": "stream",
     "text": [
      "  0.000002 seconds (4 allocations: 160 bytes)\n",
      "  0.000002 seconds (4 allocations: 160 bytes)\n",
      "  0.000002 seconds (4 allocations: 160 bytes)\n",
      "  0.000002 seconds (4 allocations: 160 bytes)\n"
     ]
    }
   ],
   "source": [
    "x = 1\n",
    "y = 1\n",
    "\n",
    "@time f(x,y);\n",
    "@time g(x,y);\n",
    "@time h(x,y);\n",
    "@time 💸(x,y);"
   ]
  },
  {
   "cell_type": "markdown",
   "metadata": {},
   "source": [
    "**Takeaway 1**: Use type annotations sparingly. **You should think about the context in which your functions will be used.** Be specific when the underlying algorithm (function body) specializes on type information. The [Julia style guide](https://docs.julialang.org/en/v1/manual/style-guide/index.html#Avoid-writing-overly-specific-types-1) is explicit on this matter. We'll discuss this more in the *Types* section.\n",
    "\n",
    "**Takeaway 2**: Understanding that many Julia functions are written using a form of pattern matching can be helpful in debugging code. *Always* check the the top of a stack trace for type information when a program fails:"
   ]
  },
  {
   "cell_type": "code",
   "execution_count": 40,
   "metadata": {},
   "outputs": [
    {
     "ename": "MethodError",
     "evalue": "MethodError: no method matching +(::String, ::Int64)\nClosest candidates are:\n  +(::Any, ::Any, !Matched::Any, !Matched::Any...) at operators.jl:502\n  +(!Matched::Complex{Bool}, ::Real) at complex.jl:292\n  +(!Matched::Missing, ::Number) at missing.jl:97\n  ...",
     "output_type": "error",
     "traceback": [
      "MethodError: no method matching +(::String, ::Int64)\nClosest candidates are:\n  +(::Any, ::Any, !Matched::Any, !Matched::Any...) at operators.jl:502\n  +(!Matched::Complex{Bool}, ::Real) at complex.jl:292\n  +(!Matched::Missing, ::Number) at missing.jl:97\n  ...",
      "",
      "Stacktrace:",
      " [1] +(::String, ::Int64, ::Complex{Int64}) at ./operators.jl:502",
      " [2] top-level scope at In[40]:1"
     ]
    }
   ],
   "source": [
    "\"a\" + 0+1im"
   ]
  },
  {
   "cell_type": "markdown",
   "metadata": {},
   "source": [
    "The `@which` macro is also useful in figuring out what version of a function gets called:"
   ]
  },
  {
   "cell_type": "code",
   "execution_count": 41,
   "metadata": {},
   "outputs": [],
   "source": [
    "using LinearAlgebra\n",
    "\n",
    "x = 2\n",
    "D = Diagonal(rand(3));"
   ]
  },
  {
   "cell_type": "code",
   "execution_count": 42,
   "metadata": {},
   "outputs": [
    {
     "data": {
      "text/html": [
       "inv(x::<b>Integer</b>) in Base at <a href=\"https://github.com/JuliaLang/julia/tree/80516ca20297a67b996caa08c38786332379b6a5/base/int.jl#L56\" target=\"_blank\">int.jl:56</a>"
      ],
      "text/plain": [
       "inv(x::Integer) in Base at int.jl:56"
      ]
     },
     "execution_count": 42,
     "metadata": {},
     "output_type": "execute_result"
    }
   ],
   "source": [
    "@which inv(x)"
   ]
  },
  {
   "cell_type": "code",
   "execution_count": 43,
   "metadata": {},
   "outputs": [
    {
     "data": {
      "text/html": [
       "inv<i>{T}</i>(D::<b>Diagonal{T,V} where V<:AbstractArray{T,1}</b>) in LinearAlgebra at <a href=\"https://github.com/JuliaLang/julia/tree/80516ca20297a67b996caa08c38786332379b6a5//julia-1.1/usr/share/julia/stdlib/v1.1/LinearAlgebra/src/diagonal.jl#L496\" target=\"_blank\">/Users/alanderos/julia/julia-1.1/usr/share/julia/stdlib/v1.1/LinearAlgebra/src/diagonal.jl:496</a>"
      ],
      "text/plain": [
       "inv(D::Diagonal{T,V} where V<:AbstractArray{T,1}) where T in LinearAlgebra at /Users/alanderos/julia/julia-1.1/usr/share/julia/stdlib/v1.1/LinearAlgebra/src/diagonal.jl:496"
      ]
     },
     "execution_count": 43,
     "metadata": {},
     "output_type": "execute_result"
    }
   ],
   "source": [
    "@which inv(D)"
   ]
  },
  {
   "cell_type": "markdown",
   "metadata": {},
   "source": [
    "##### Optional, Keyword, and Variable Arguments\n",
    "\n",
    "Julia functions allow for optional, keyword, and variable arguments. They are often useful in designing user interfaces.\n",
    "\n",
    "**Optional Arguments**\n",
    "\n",
    "Specify with `variable = value` syntax, where `value` is the default for `variable`. You can annotate optional arguments with type information."
   ]
  },
  {
   "cell_type": "code",
   "execution_count": 44,
   "metadata": {},
   "outputs": [
    {
     "data": {
      "text/plain": [
       "(0, 2)"
      ]
     },
     "execution_count": 44,
     "metadata": {},
     "output_type": "execute_result"
    }
   ],
   "source": [
    "f_optional(x, y = zero(x)) = x * y\n",
    "\n",
    "f_optional(1), f_optional(1,2)"
   ]
  },
  {
   "cell_type": "markdown",
   "metadata": {},
   "source": [
    "**Note**: Optional arguments are sensitive to position. See the definition for `rand`.\n",
    "\n",
    "**Keyword Arguments**\n",
    "\n",
    "Keyword arguments are optional arguments that require the caller to explicitly assign a variable name.\n",
    "These can also be annotated.\n",
    "The syntax relies on a colon `;` to separate regular and optional arguments from keyword arguments."
   ]
  },
  {
   "cell_type": "code",
   "execution_count": 45,
   "metadata": {},
   "outputs": [
    {
     "data": {
      "text/plain": [
       "(0, 2)"
      ]
     },
     "execution_count": 45,
     "metadata": {},
     "output_type": "execute_result"
    }
   ],
   "source": [
    "f_keyword(x; y = zero(x)) = x*y\n",
    "\n",
    "f_keyword(1), f_keyword(1, y=2)"
   ]
  },
  {
   "cell_type": "markdown",
   "metadata": {},
   "source": [
    "**Variable Arguments and Splicing**\n",
    "\n",
    "It is possible to define functions that accept a variable number of arguments using the \"splat\" operator `...`. In the following code, the expression `list...` is used to represent a sequence of arguments:"
   ]
  },
  {
   "cell_type": "code",
   "execution_count": 46,
   "metadata": {},
   "outputs": [
    {
     "name": "stdout",
     "output_type": "stream",
     "text": [
      "typeof(list) = Tuple{Int64,Int64,Int64}\n",
      "f_product(1, 2, 3) = 6\n",
      "typeof(list) = Tuple{Array{Int64,1}}\n",
      "f_product(x) = [1, 2, 3]\n",
      "typeof(list) = Tuple{Int64,Int64,Int64}\n",
      "f_product(x...) = 6\n"
     ]
    },
    {
     "data": {
      "text/plain": [
       "6"
      ]
     },
     "execution_count": 46,
     "metadata": {},
     "output_type": "execute_result"
    }
   ],
   "source": [
    "function f_product(list...)\n",
    "  accumulator = 1\n",
    "\n",
    "  @show typeof(list)\n",
    "\n",
    "  for item in list\n",
    "    accumulator *= item\n",
    "  end\n",
    "\n",
    "  return accumulator\n",
    "end\n",
    "\n",
    "x = [1, 2, 3]\n",
    "\n",
    "@show f_product(1, 2, 3)\n",
    "@show f_product(x)\n",
    "@show f_product(x...)"
   ]
  },
  {
   "cell_type": "markdown",
   "metadata": {},
   "source": [
    "Notice that simply calling `f_product(x)` does nothing when `x` is a vector. We have to *splice* the arguments into the function call with `...`.\n",
    "\n",
    "##### Adding methods and Multiple Dispatch\n",
    "\n",
    "In Julia, a *method* is a specific version of a function that specializes on the *types* of its inputs.\n",
    "For example, consider"
   ]
  },
  {
   "cell_type": "code",
   "execution_count": 47,
   "metadata": {},
   "outputs": [
    {
     "data": {
      "text/plain": [
       "strange_function (generic function with 2 methods)"
      ]
     },
     "execution_count": 47,
     "metadata": {},
     "output_type": "execute_result"
    }
   ],
   "source": [
    "strange_function(x, y) = x * y\n",
    "strange_function(x::Integer, y::Integer) = x + y"
   ]
  },
  {
   "cell_type": "code",
   "execution_count": 48,
   "metadata": {},
   "outputs": [
    {
     "name": "stdout",
     "output_type": "stream",
     "text": [
      "strange_function(1, 1) = 2\n",
      "strange_function(1, 1.0) = 1.0\n"
     ]
    }
   ],
   "source": [
    "@show strange_function(1, 1)\n",
    "@show strange_function(1, 1.0);"
   ]
  },
  {
   "cell_type": "code",
   "execution_count": 49,
   "metadata": {},
   "outputs": [
    {
     "data": {
      "text/html": [
       "2 methods for generic function <b>strange_function</b>:<ul><li> strange_function(x::<b>Integer</b>, y::<b>Integer</b>) in Main at In[47]:2</li> <li> strange_function(x, y) in Main at In[47]:1</li> </ul>"
      ],
      "text/plain": [
       "# 2 methods for generic function \"strange_function\":\n",
       "[1] strange_function(x::Integer, y::Integer) in Main at In[47]:2\n",
       "[2] strange_function(x, y) in Main at In[47]:1"
      ]
     },
     "execution_count": 49,
     "metadata": {},
     "output_type": "execute_result"
    }
   ],
   "source": [
    "methods(strange_function)"
   ]
  },
  {
   "cell_type": "markdown",
   "metadata": {},
   "source": [
    "The type information encoded in a function's signature implies a specific algorithm."
   ]
  },
  {
   "cell_type": "markdown",
   "metadata": {},
   "source": [
    "**Mutating functions**\n",
    "\n",
    "From the [manual](https://docs.julialang.org/en/v1/manual/arrays/):\n",
    "\n",
    "> In Julia, all arguments to functions are **passed by sharing** (i.e. by pointers).\n",
    "> Some technical computing languages pass arrays by value, and while this prevents accidental modification by callees of a value in the caller, it makes avoiding unwanted copying of arrays difficult.\n",
    "> By convention, a function name ending with a ! indicates that it will mutate or destroy the value of one or more of its arguments (compare, for example, sort and sort!)."
   ]
  },
  {
   "cell_type": "markdown",
   "metadata": {},
   "source": [
    "The `===` operator checks whether two variables point to the same object.\n",
    "Let's use this to check the assertion in the quote above."
   ]
  },
  {
   "cell_type": "code",
   "execution_count": 96,
   "metadata": {},
   "outputs": [
    {
     "name": "stdout",
     "output_type": "stream",
     "text": [
      "y === x = false\n",
      "z === x = true\n"
     ]
    }
   ],
   "source": [
    "x = rand(10)\n",
    "\n",
    "y = sort(x)  # this should create a new container to hold the sorted objects\n",
    "z = sort!(x) # this should sort the objects in-place\n",
    "\n",
    "@show y === x\n",
    "@show z === x;"
   ]
  },
  {
   "cell_type": "markdown",
   "metadata": {},
   "source": [
    "### Types\n",
    "\n",
    "*Everything* in Julia is a *type* of something.\n",
    "From the [manual](https://docs.julialang.org/en/v1/manual/types/):\n",
    "\n",
    "> Julia's type system is dynamic, but gains some of the advantages of static type systems by making it possible to indicate that certain values are of specific types.\n",
    "> This can be of great assistance in generating efficient code, but even more significantly, it allows method dispatch on the types of function arguments to be deeply integrated with the language.\n",
    "> Method dispatch is explored in detail in Methods, but is rooted in the type system presented here.\n",
    "\n",
    "> The default behavior in Julia when types are omitted is to allow values to be of any type.\n",
    "> **Thus, one can write many useful Julia functions without ever explicitly using types**.\n",
    "> When additional expressiveness is needed, however, it is easy to gradually introduce explicit type annotations into previously \"untyped\" code.\n",
    "> **Adding annotations serves three primary purposes: to take advantage of Julia's powerful multiple-dispatch mechanism, to improve human readability, and to catch programmer errors**.\n",
    "\n",
    "We've already seen how rich the type system is for different types of numbers:"
   ]
  },
  {
   "cell_type": "code",
   "execution_count": 80,
   "metadata": {},
   "outputs": [],
   "source": [
    "using GraphRecipes, Plots\n",
    "gr(format = :svg)\n",
    "\n",
    "fig = plot(AbstractFloat, method = :tree, size = (600, 400))\n",
    "savefig(joinpath(\"figures\", \"type-example.svg\"));"
   ]
  },
  {
   "cell_type": "markdown",
   "metadata": {},
   "source": [
    "![figures/type-example.svg](figures/type-example.svg)"
   ]
  },
  {
   "cell_type": "markdown",
   "metadata": {},
   "source": [
    "We know from before that `Float64` and other types at the bottom of the tree are primitives. In particular, they are *concrete* in the sense that one can create *instances* of them. This is in contrast to *abstract types* like *Real*:"
   ]
  },
  {
   "cell_type": "code",
   "execution_count": 51,
   "metadata": {},
   "outputs": [
    {
     "data": {
      "text/plain": [
       "Int64"
      ]
     },
     "execution_count": 51,
     "metadata": {},
     "output_type": "execute_result"
    }
   ],
   "source": [
    "x = Real(8)\n",
    "typeof(x)"
   ]
  },
  {
   "cell_type": "markdown",
   "metadata": {},
   "source": [
    "Typically, capitalized \"functions\" like `Real` are reserved for constructors of specific types.\n",
    "Yet we didn't receive a `Real` in return. How is this being done?"
   ]
  },
  {
   "cell_type": "code",
   "execution_count": 52,
   "metadata": {},
   "outputs": [
    {
     "data": {
      "text/html": [
       "(::<b>Type{T}</b>)<i>{T<:Number}</i>(x::<b>T</b>) in Core at boot.jl:741"
      ],
      "text/plain": [
       "(::Type{T})(x::T) where T<:Number in Core at boot.jl:741"
      ]
     },
     "execution_count": 52,
     "metadata": {},
     "output_type": "execute_result"
    }
   ],
   "source": [
    "@which(Real(8))"
   ]
  },
  {
   "cell_type": "code",
   "execution_count": 53,
   "metadata": {},
   "outputs": [
    {
     "name": "stdout",
     "output_type": "stream",
     "text": [
      "Body\u001b[36m::Int64\u001b[39m\n",
      "\u001b[90m1 ─\u001b[39m     return x\n"
     ]
    }
   ],
   "source": [
    "@code_warntype Real(8)"
   ]
  },
  {
   "cell_type": "markdown",
   "metadata": {},
   "source": [
    "Julia jumps deep into the core of the language at `boot.jl` but ultimately all it is doing is returning the input argument.\n",
    "This is in contrast to `real` which returns the real part of a number."
   ]
  },
  {
   "cell_type": "markdown",
   "metadata": {},
   "source": [
    "We have seen just about every kind of type in Julia:\n",
    "\n",
    "- Concrete types have instances and may be [composite](https://docs.julialang.org/en/v1/manual/types/index.html#Composite-Types-1), [primitive](https://docs.julialang.org/en/v1/manual/types/index.html#Primitive-Types-1), or [parametric](https://docs.julialang.org/en/v1/manual/types/index.html#Parametric-Composite-Types-1).\n",
    "- [Abstract](https://docs.julialang.org/en/v1/manual/types/index.html#Abstract-Types-1) types are just nodes in a type heirarchy which may be [parametric](https://docs.julialang.org/en/v1/manual/types/index.html#Parametric-Abstract-Types-1).\n",
    "\n",
    "Understanding the fine details of the type system is not necessary unless you're working on a large project with serious performance requirements.\n",
    "However, it is good to have some appreciation of how this part of the language works.\n",
    "There are two operators, `isa` and `<:` that are useful in studying Julia types.\n",
    "\n",
    "- `isa` is used to check if an object `x` is of type `T`; e.g. `isa(1, Int64)` or `1 isa Int64`.\n",
    "- `<:` is used to check if a type is a subtype; e.g. `Int <: Real`.\n",
    "\n",
    "**Composite** types are just as their name implies: they are composed of other types. This is how we might declare a type that represents points in Euclidean space:"
   ]
  },
  {
   "cell_type": "code",
   "execution_count": 55,
   "metadata": {},
   "outputs": [
    {
     "data": {
      "text/html": [
       "2 methods for generic function <b>Type</b>:<ul><li> NaivePoint2D(x::<b>Float64</b>, y::<b>Float64</b>) in Main at In[55]:2</li> <li> NaivePoint2D(x, y) in Main at In[55]:2</li> </ul>"
      ],
      "text/plain": [
       "# 2 methods for generic function \"(::Type)\":\n",
       "[1] NaivePoint2D(x::Float64, y::Float64) in Main at In[55]:2\n",
       "[2] NaivePoint2D(x, y) in Main at In[55]:2"
      ]
     },
     "execution_count": 55,
     "metadata": {},
     "output_type": "execute_result"
    }
   ],
   "source": [
    "struct NaivePoint2D\n",
    "  x::Float64\n",
    "  y::Float64\n",
    "end\n",
    "\n",
    "methods(NaivePoint2D)"
   ]
  },
  {
   "cell_type": "markdown",
   "metadata": {},
   "source": [
    "By default, Julia provides two default *inner* constructors.\n",
    "One accepts two arguments of any type and attempts to convert them into the appropriate types. For example, the second definition above is roughly equivalent to\n",
    "\n",
    "```julia\n",
    "NaivePoint2D(x::Any, y::Any) = NaivePoint2D(convert(Float64, x), convert(Float64, y))\n",
    "```\n",
    "\n",
    "The other constructor takes two floating point numbers `x` and `y` and sets the fields of the new object to their values.\n",
    "This object is *immutable* in the sense that once we create an instance, we cannot change the value of its fields:"
   ]
  },
  {
   "cell_type": "code",
   "execution_count": 82,
   "metadata": {},
   "outputs": [
    {
     "ename": "ErrorException",
     "evalue": "setfield! immutable struct of type NaivePoint2D cannot be changed",
     "output_type": "error",
     "traceback": [
      "setfield! immutable struct of type NaivePoint2D cannot be changed",
      "",
      "Stacktrace:",
      " [1] setproperty!(::NaivePoint2D, ::Symbol, ::Int64) at ./sysimg.jl:19",
      " [2] top-level scope at In[82]:2"
     ]
    }
   ],
   "source": [
    "point = NaivePoint2D(1, 1)\n",
    "point.x = 2"
   ]
  },
  {
   "cell_type": "markdown",
   "metadata": {},
   "source": [
    "Types can declare mutability using the `mutable` keyword:\n",
    "\n",
    "```julia\n",
    "mutable struct NaivePoint2D\n",
    "  x::Float64\n",
    "  y::Float64\n",
    "end\n",
    "```"
   ]
  },
  {
   "cell_type": "markdown",
   "metadata": {},
   "source": [
    "Using this definition, we would be able to both access the values of each field and update them using the `.` syntax.\n",
    "However, there are [trade-offs](https://docs.julialang.org/en/v1/manual/types/index.html#Mutable-Composite-Types-1).\n",
    "\n",
    "We can define additional *outer* constructors (as in outside the type declaration). For example,"
   ]
  },
  {
   "cell_type": "code",
   "execution_count": 83,
   "metadata": {},
   "outputs": [
    {
     "data": {
      "text/plain": [
       "NaivePoint2D(0.0, 0.0)"
      ]
     },
     "execution_count": 83,
     "metadata": {},
     "output_type": "execute_result"
    }
   ],
   "source": [
    "NaivePoint2D() = NaivePoint2D(0, 0)\n",
    "\n",
    "x = NaivePoint2D()"
   ]
  },
  {
   "cell_type": "markdown",
   "metadata": {},
   "source": [
    "Notice that our new type will only work with data that can be converted into floating point numbers, and all operations must assume floating numbers.\n",
    "What if we have special algorithms for points with only integer components? This is where *parametric* types shine:"
   ]
  },
  {
   "cell_type": "code",
   "execution_count": 60,
   "metadata": {},
   "outputs": [],
   "source": [
    "struct Point2D{T <: Number}\n",
    "  x::T\n",
    "  y::T\n",
    "end"
   ]
  },
  {
   "cell_type": "markdown",
   "metadata": {},
   "source": [
    "Here we are saying that the fields `x` and `y` of both of type `T` where `T` is a type parameter restricted to the `Number` heirarchy.\n",
    "So, `T` can be `Int64` or `Float64` because both satisfy the relation `T <: Number`. We can even represent numbers in $\\mathbb{C} \\times \\mathbb{C}$.\n",
    "Can you explain why the second line fails?"
   ]
  },
  {
   "cell_type": "code",
   "execution_count": 84,
   "metadata": {},
   "outputs": [
    {
     "data": {
      "text/plain": [
       "Point2D{Complex{Int64}}(0 + 0im, 0 + 0im)"
      ]
     },
     "execution_count": 84,
     "metadata": {},
     "output_type": "execute_result"
    }
   ],
   "source": [
    "Point2D(0+0im, 0+0im)"
   ]
  },
  {
   "cell_type": "code",
   "execution_count": 85,
   "metadata": {},
   "outputs": [
    {
     "ename": "MethodError",
     "evalue": "MethodError: no method matching Point2D(::Complex{Int64}, ::Complex{Float64})\nClosest candidates are:\n  Point2D(::T<:Number, !Matched::T<:Number) where T<:Number at In[60]:2",
     "output_type": "error",
     "traceback": [
      "MethodError: no method matching Point2D(::Complex{Int64}, ::Complex{Float64})\nClosest candidates are:\n  Point2D(::T<:Number, !Matched::T<:Number) where T<:Number at In[60]:2",
      "",
      "Stacktrace:",
      " [1] top-level scope at In[85]:1"
     ]
    }
   ],
   "source": [
    "Point2D(0+0im, 0.0+0.0im)"
   ]
  },
  {
   "cell_type": "markdown",
   "metadata": {},
   "source": [
    "Our types are pretty useless right now.\n",
    "We can use `Point2D` to store data and that's about it.\n",
    "Fortunately, we can define methods that operate on our types, *including overloading existing functions*:"
   ]
  },
  {
   "cell_type": "code",
   "execution_count": 63,
   "metadata": {},
   "outputs": [
    {
     "name": "stdout",
     "output_type": "stream",
     "text": [
      "p + q = Point2D{Float64}(0.0, 0.75)\n"
     ]
    },
    {
     "data": {
      "text/plain": [
       "Point2D{Float64}(0.0, 0.75)"
      ]
     },
     "execution_count": 63,
     "metadata": {},
     "output_type": "execute_result"
    }
   ],
   "source": [
    "import Base: +\n",
    "\n",
    "Base.:+(p::Point2D, q::Point2D) = Point2D(p.x + q.x, p.y + q.y)\n",
    "\n",
    "p = Point2D(1.0, 0.5)\n",
    "q = Point2D(-1.0, 0.25)\n",
    "\n",
    "@show p + q"
   ]
  },
  {
   "cell_type": "markdown",
   "metadata": {},
   "source": [
    "##### Functors: Function-like Objects\n",
    "\n",
    "Even functions are types. It is possible to define types can be made into *callable objects*, meaning a type behaves like a function. The [manual](https://docs.julialang.org/en/v1/manual/methods/#Function-like-objects-1) has an excellent example:"
   ]
  },
  {
   "cell_type": "code",
   "execution_count": 64,
   "metadata": {},
   "outputs": [
    {
     "data": {
      "text/plain": [
       "11"
      ]
     },
     "execution_count": 64,
     "metadata": {},
     "output_type": "execute_result"
    }
   ],
   "source": [
    "# define a polynomial of the form\n",
    "# a0 + a1*x + ... + an*x^n\n",
    "# where n is the length of the coefficient vector.\n",
    "struct Polynomial{R}\n",
    "  coeffs::Vector{R}\n",
    "end\n",
    "\n",
    "function (p::Polynomial)(x)\n",
    "  v = p.coeffs[end]\n",
    "  for i = (length(p.coeffs)-1):-1:1\n",
    "    v = v*x + p.coeffs[i]\n",
    "  end\n",
    "  return v\n",
    "end\n",
    "\n",
    "p = Polynomial([1, 1]) # 1 + x\n",
    "p(10) # 11"
   ]
  },
  {
   "cell_type": "markdown",
   "metadata": {},
   "source": [
    "**Anonymous Functions**\n",
    "\n",
    "These are functions without a name.\n",
    "They are useful if you want to avoid cluttering your namespace with simple functions used in highly-specific parts of your code.\n",
    "For example, `map` is used to apply a function `f` to the elements of a collection `x`.\n",
    "If you just want to square them, you could write"
   ]
  },
  {
   "cell_type": "code",
   "execution_count": 98,
   "metadata": {},
   "outputs": [
    {
     "data": {
      "text/plain": [
       "3-element Array{Int64,1}:\n",
       " 1\n",
       " 4\n",
       " 9"
      ]
     },
     "execution_count": 98,
     "metadata": {},
     "output_type": "execute_result"
    }
   ],
   "source": [
    "mylist = [1, 2, 3]\n",
    "\n",
    "map(x -> x*x, mylist)"
   ]
  },
  {
   "cell_type": "markdown",
   "metadata": {},
   "source": [
    "##### Why Types Matter\n",
    "\n",
    "Consider the following function which computes the sum of the entries in a vector"
   ]
  },
  {
   "cell_type": "code",
   "execution_count": 65,
   "metadata": {},
   "outputs": [
    {
     "name": "stdout",
     "output_type": "stream",
     "text": [
      "  0.007323 seconds (5.53 k allocations: 268.985 KiB)\n",
      "  0.000075 seconds (5 allocations: 176 bytes)\n",
      "  0.011803 seconds (14.72 k allocations: 785.655 KiB)\n",
      "  0.000111 seconds (5 allocations: 176 bytes)\n"
     ]
    }
   ],
   "source": [
    "function summation(x)\n",
    "  accumulator = 0\n",
    "\n",
    "  for i in eachindex(x)\n",
    "    accumulator += x[i]\n",
    "  end\n",
    "\n",
    "  return accumulator\n",
    "end\n",
    "\n",
    "N = 100_000\n",
    "x = rand(Int, N);\n",
    "y = rand(Float64, N);\n",
    "\n",
    "@time summation(x) # warm-up\n",
    "@time summation(x) # the real deal\n",
    "\n",
    "@time summation(y) # warm-up\n",
    "@time summation(y); # the real deal"
   ]
  },
  {
   "cell_type": "markdown",
   "metadata": {},
   "source": [
    "Our function is noticeably slower when it operates on floating point numbers.\n",
    "The answer lies in the *type-stability* of the function:"
   ]
  },
  {
   "cell_type": "code",
   "execution_count": 66,
   "metadata": {},
   "outputs": [
    {
     "name": "stdout",
     "output_type": "stream",
     "text": [
      "Body\u001b[36m::Int64\u001b[39m\n",
      "\u001b[90m1 ──\u001b[39m %1  = (Base.arraysize)(x, 1)\u001b[36m::Int64\u001b[39m\n",
      "\u001b[90m│   \u001b[39m %2  = (Base.slt_int)(%1, 0)\u001b[36m::Bool\u001b[39m\n",
      "\u001b[90m│   \u001b[39m %3  = (Base.ifelse)(%2, 0, %1)\u001b[36m::Int64\u001b[39m\n",
      "\u001b[90m│   \u001b[39m %4  = (Base.slt_int)(%3, 1)\u001b[36m::Bool\u001b[39m\n",
      "\u001b[90m└───\u001b[39m       goto #3 if not %4\n",
      "\u001b[90m2 ──\u001b[39m       goto #4\n",
      "\u001b[90m3 ──\u001b[39m       goto #4\n",
      "\u001b[90m4 ┄─\u001b[39m %8  = φ (#2 => true, #3 => false)\u001b[36m::Bool\u001b[39m\n",
      "\u001b[90m│   \u001b[39m %9  = φ (#3 => 1)\u001b[36m::Int64\u001b[39m\n",
      "\u001b[90m│   \u001b[39m %10 = φ (#3 => 1)\u001b[36m::Int64\u001b[39m\n",
      "\u001b[90m│   \u001b[39m %11 = (Base.not_int)(%8)\u001b[36m::Bool\u001b[39m\n",
      "\u001b[90m└───\u001b[39m       goto #10 if not %11\n",
      "\u001b[90m5 ┄─\u001b[39m %13 = φ (#4 => 0, #9 => %17)\u001b[36m::Int64\u001b[39m\n",
      "\u001b[90m│   \u001b[39m %14 = φ (#4 => %9, #9 => %23)\u001b[36m::Int64\u001b[39m\n",
      "\u001b[90m│   \u001b[39m %15 = φ (#4 => %10, #9 => %24)\u001b[36m::Int64\u001b[39m\n",
      "\u001b[90m│   \u001b[39m %16 = (Base.arrayref)(true, x, %14)\u001b[36m::Int64\u001b[39m\n",
      "\u001b[90m│   \u001b[39m %17 = (Base.add_int)(%13, %16)\u001b[36m::Int64\u001b[39m\n",
      "\u001b[90m│   \u001b[39m %18 = (%15 === %3)\u001b[36m::Bool\u001b[39m\n",
      "\u001b[90m└───\u001b[39m       goto #7 if not %18\n",
      "\u001b[90m6 ──\u001b[39m       goto #8\n",
      "\u001b[90m7 ──\u001b[39m %21 = (Base.add_int)(%15, 1)\u001b[36m::Int64\u001b[39m\n",
      "\u001b[90m└───\u001b[39m       goto #8\n",
      "\u001b[90m8 ┄─\u001b[39m %23 = φ (#7 => %21)\u001b[36m::Int64\u001b[39m\n",
      "\u001b[90m│   \u001b[39m %24 = φ (#7 => %21)\u001b[36m::Int64\u001b[39m\n",
      "\u001b[90m│   \u001b[39m %25 = φ (#6 => true, #7 => false)\u001b[36m::Bool\u001b[39m\n",
      "\u001b[90m│   \u001b[39m %26 = (Base.not_int)(%25)\u001b[36m::Bool\u001b[39m\n",
      "\u001b[90m└───\u001b[39m       goto #10 if not %26\n",
      "\u001b[90m9 ──\u001b[39m       goto #5\n",
      "\u001b[90m10 ┄\u001b[39m %29 = φ (#8 => %17, #4 => 0)\u001b[36m::Int64\u001b[39m\n",
      "\u001b[90m└───\u001b[39m       return %29\n"
     ]
    }
   ],
   "source": [
    "@code_warntype summation(x)"
   ]
  },
  {
   "cell_type": "code",
   "execution_count": 67,
   "metadata": {},
   "outputs": [
    {
     "name": "stdout",
     "output_type": "stream",
     "text": [
      "Body\u001b[91m\u001b[1m::Union{Float64, Int64}\u001b[22m\u001b[39m\n",
      "\u001b[90m1 ──\u001b[39m %1  = (Base.arraysize)(x, 1)\u001b[36m::Int64\u001b[39m\n",
      "\u001b[90m│   \u001b[39m %2  = (Base.slt_int)(%1, 0)\u001b[36m::Bool\u001b[39m\n",
      "\u001b[90m│   \u001b[39m %3  = (Base.ifelse)(%2, 0, %1)\u001b[36m::Int64\u001b[39m\n",
      "\u001b[90m│   \u001b[39m %4  = (Base.slt_int)(%3, 1)\u001b[36m::Bool\u001b[39m\n",
      "\u001b[90m└───\u001b[39m       goto #3 if not %4\n",
      "\u001b[90m2 ──\u001b[39m       goto #4\n",
      "\u001b[90m3 ──\u001b[39m       goto #4\n",
      "\u001b[90m4 ┄─\u001b[39m %8  = φ (#2 => true, #3 => false)\u001b[36m::Bool\u001b[39m\n",
      "\u001b[90m│   \u001b[39m %9  = φ (#3 => 1)\u001b[36m::Int64\u001b[39m\n",
      "\u001b[90m│   \u001b[39m %10 = φ (#3 => 1)\u001b[36m::Int64\u001b[39m\n",
      "\u001b[90m│   \u001b[39m %11 = (Base.not_int)(%8)\u001b[36m::Bool\u001b[39m\n",
      "\u001b[90m└───\u001b[39m       goto #15 if not %11\n",
      "\u001b[90m5 ┄─\u001b[39m %13 = φ (#4 => 0, #14 => %30)\u001b[91m\u001b[1m::Union{Float64, Int64}\u001b[22m\u001b[39m\n",
      "\u001b[90m│   \u001b[39m %14 = φ (#4 => %9, #14 => %36)\u001b[36m::Int64\u001b[39m\n",
      "\u001b[90m│   \u001b[39m %15 = φ (#4 => %10, #14 => %37)\u001b[36m::Int64\u001b[39m\n",
      "\u001b[90m│   \u001b[39m %16 = (Base.arrayref)(true, x, %14)\u001b[36m::Float64\u001b[39m\n",
      "\u001b[90m│   \u001b[39m %17 = (isa)(%13, Float64)\u001b[36m::Bool\u001b[39m\n",
      "\u001b[90m└───\u001b[39m       goto #7 if not %17\n",
      "\u001b[90m6 ──\u001b[39m %19 = π (%13, \u001b[36mFloat64\u001b[39m)\n",
      "\u001b[90m│   \u001b[39m %20 = (Base.add_float)(%19, %16)\u001b[36m::Float64\u001b[39m\n",
      "\u001b[90m└───\u001b[39m       goto #10\n",
      "\u001b[90m7 ──\u001b[39m %22 = (isa)(%13, Int64)\u001b[36m::Bool\u001b[39m\n",
      "\u001b[90m└───\u001b[39m       goto #9 if not %22\n",
      "\u001b[90m8 ──\u001b[39m %24 = π (%13, \u001b[36mInt64\u001b[39m)\n",
      "\u001b[90m│   \u001b[39m %25 = (Base.sitofp)(Float64, %24)\u001b[36m::Float64\u001b[39m\n",
      "\u001b[90m│   \u001b[39m %26 = (Base.add_float)(%25, %16)\u001b[36m::Float64\u001b[39m\n",
      "\u001b[90m└───\u001b[39m       goto #10\n",
      "\u001b[90m9 ──\u001b[39m       (Core.throw)(ErrorException(\"fatal error in type inference (type bound)\"))\n",
      "\u001b[90m└───\u001b[39m       $(Expr(:unreachable))\n",
      "\u001b[90m10 ┄\u001b[39m %30 = φ (#6 => %20, #8 => %26)\u001b[36m::Float64\u001b[39m\n",
      "\u001b[90m│   \u001b[39m %31 = (%15 === %3)\u001b[36m::Bool\u001b[39m\n",
      "\u001b[90m└───\u001b[39m       goto #12 if not %31\n",
      "\u001b[90m11 ─\u001b[39m       goto #13\n",
      "\u001b[90m12 ─\u001b[39m %34 = (Base.add_int)(%15, 1)\u001b[36m::Int64\u001b[39m\n",
      "\u001b[90m└───\u001b[39m       goto #13\n",
      "\u001b[90m13 ┄\u001b[39m %36 = φ (#12 => %34)\u001b[36m::Int64\u001b[39m\n",
      "\u001b[90m│   \u001b[39m %37 = φ (#12 => %34)\u001b[36m::Int64\u001b[39m\n",
      "\u001b[90m│   \u001b[39m %38 = φ (#11 => true, #12 => false)\u001b[36m::Bool\u001b[39m\n",
      "\u001b[90m│   \u001b[39m %39 = (Base.not_int)(%38)\u001b[36m::Bool\u001b[39m\n",
      "\u001b[90m└───\u001b[39m       goto #15 if not %39\n",
      "\u001b[90m14 ─\u001b[39m       goto #5\n",
      "\u001b[90m15 ┄\u001b[39m %42 = φ (#13 => %30, #4 => 0)\u001b[91m\u001b[1m::Union{Float64, Int64}\u001b[22m\u001b[39m\n",
      "\u001b[90m└───\u001b[39m       return %42\n"
     ]
    }
   ],
   "source": [
    "@code_warntype summation(y)"
   ]
  },
  {
   "cell_type": "markdown",
   "metadata": {},
   "source": [
    "The macro `@code_warntype` shows us the type information of each variable throughout a function's body.\n",
    "The very first line tells us the return type of the function.\n",
    "Here we see that it is `Int` when operating on integers, but `Union{Float64, Int64}` when using floating point numbers.\n",
    "The reason is that `accumulator` is initialized to `0`, which is of type `Int`. However, once we add a floating point number `accumulator` must undergo type promotion in order to store the result.\n",
    "**This means that Julia cannot \"prove\" that the result is a floating point number *or* an integer.**\n",
    "Can you explain why this ambiguity exists?\n",
    "\n",
    "Type instability is not necessarily a bad thing. Ambiguity can be useful inside intermediate steps, such as in determining what kind of algorithm to run based on input data. However, any code that sits inside a \"hot\" loop should be type-stable in order for Julia's compiler to make use of special optimizations.\n",
    "\n",
    "**Takeaway**:\n",
    "\n",
    "Julia's types are flexible and fast. Use them to make code in large projects readable, to define interfaces, to make **you** more productive. If you want to get the best performance out of Julia, make sure performance-critical code is type-stable.\n",
    "\n",
    "### (Lazy) Iteration and Generators\n",
    "\n",
    "Julia supports range-like objects that define a collection without evaluating every member.\n",
    "For example, the `OneTo` type in Base defines a range from `1` to `n`:"
   ]
  },
  {
   "cell_type": "code",
   "execution_count": 68,
   "metadata": {},
   "outputs": [
    {
     "name": "stdout",
     "output_type": "stream",
     "text": [
      "myrange = 1:10\n",
      "typeof(myrange) = UnitRange{Int64}\n",
      "fieldnames(typeof(myrange)) = (:start, :stop)\n",
      "anotherone = 0:2:10\n",
      "typeof(anotherone) = StepRange{Int64,Int64}\n",
      "fieldnames(typeof(anotherone)) = (:start, :step, :stop)\n"
     ]
    }
   ],
   "source": [
    "myrange = 1:10\n",
    "\n",
    "@show myrange\n",
    "@show typeof(myrange)\n",
    "@show fieldnames(typeof(myrange));\n",
    "\n",
    "anotherone = 0:2:10\n",
    "\n",
    "@show anotherone\n",
    "@show typeof(anotherone)\n",
    "@show fieldnames(typeof(anotherone));"
   ]
  },
  {
   "cell_type": "markdown",
   "metadata": {},
   "source": [
    "There are analogues for floating point numbers and even characters.\n",
    "The benefit of using such types is that they use a minimal amount of memory to enumerate the members of a sequence; they are often faster for repeated evaluation."
   ]
  },
  {
   "cell_type": "markdown",
   "metadata": {},
   "source": [
    "Julia's emphasis on *generic* code and *multiple-dispatch* makes it possible to do the following:"
   ]
  },
  {
   "cell_type": "code",
   "execution_count": 70,
   "metadata": {},
   "outputs": [
    {
     "data": {
      "text/plain": [
       "1717"
      ]
     },
     "execution_count": 70,
     "metadata": {},
     "output_type": "execute_result"
    }
   ],
   "source": [
    "sum(i for i in 1:3:100)"
   ]
  },
  {
   "cell_type": "markdown",
   "metadata": {},
   "source": [
    "See the *methods* available to the `sum` function:"
   ]
  },
  {
   "cell_type": "code",
   "execution_count": 71,
   "metadata": {},
   "outputs": [
    {
     "data": {
      "text/html": [
       "24 methods for generic function <b>sum</b>:<ul><li> sum(::<b>typeof(abs)</b>, x::<b>SparseArrays.AbstractSparseArray{Tv,Ti,1} where Ti where Tv</b>) in SparseArrays at <a href=\"https://github.com/JuliaLang/julia/tree/80516ca20297a67b996caa08c38786332379b6a5//julia-1.1/usr/share/julia/stdlib/v1.1/SparseArrays/src/sparsevector.jl#L1329\" target=\"_blank\">/Users/alanderos/julia/julia-1.1/usr/share/julia/stdlib/v1.1/SparseArrays/src/sparsevector.jl:1329</a></li> <li> sum(::<b>typeof(abs2)</b>, x::<b>SparseArrays.AbstractSparseArray{Tv,Ti,1} where Ti where Tv</b>) in SparseArrays at <a href=\"https://github.com/JuliaLang/julia/tree/80516ca20297a67b996caa08c38786332379b6a5//julia-1.1/usr/share/julia/stdlib/v1.1/SparseArrays/src/sparsevector.jl#L1329\" target=\"_blank\">/Users/alanderos/julia/julia-1.1/usr/share/julia/stdlib/v1.1/SparseArrays/src/sparsevector.jl:1329</a></li> <li> sum(x::<b>Tuple{Any,Vararg{Any,N} where N}</b>) in Base at <a href=\"https://github.com/JuliaLang/julia/tree/80516ca20297a67b996caa08c38786332379b6a5/base/tuple.jl#L395\" target=\"_blank\">tuple.jl:395</a></li> <li> sum(r::<b>StepRangeLen</b>) in Base at <a href=\"https://github.com/JuliaLang/julia/tree/80516ca20297a67b996caa08c38786332379b6a5/base/twiceprecision.jl#L536\" target=\"_blank\">twiceprecision.jl:536</a></li> <li> sum(r::<b>AbstractRange{#s72} where #s72<:Real</b>) in Base at <a href=\"https://github.com/JuliaLang/julia/tree/80516ca20297a67b996caa08c38786332379b6a5/base/range.jl#L970\" target=\"_blank\">range.jl:970</a></li> <li> sum(v::<b>SparseArrays.SparseMatrixCSC</b>, w::<b>StatsBase.AbstractWeights</b>) in StatsBase at <a href=\"file:///Users/alanderos/.julia/packages/StatsBase/DyWPR/src/weights.jl\" target=\"_blank\">/Users/alanderos/.julia/packages/StatsBase/DyWPR/src/weights.jl:279</a></li> <li> sum(x::<b>SparseArrays.AbstractSparseArray{Tv,Ti,1} where Ti where Tv</b>) in SparseArrays at <a href=\"https://github.com/JuliaLang/julia/tree/80516ca20297a67b996caa08c38786332379b6a5//julia-1.1/usr/share/julia/stdlib/v1.1/SparseArrays/src/sparsevector.jl#L1304\" target=\"_blank\">/Users/alanderos/julia/julia-1.1/usr/share/julia/stdlib/v1.1/SparseArrays/src/sparsevector.jl:1304</a></li> <li> sum<i>{T}</i>(a::<b>StaticArrays.StaticArray{#s160,T,N} where N where #s160<:Tuple</b>; <i>dims</i>) in StaticArrays at <a href=\"file:///Users/alanderos/.julia/packages/StaticArrays/3KEjZ/src/mapreduce.jl\" target=\"_blank\">/Users/alanderos/.julia/packages/StaticArrays/3KEjZ/src/mapreduce.jl:189</a></li> <li> sum(wv::<b>StatsBase.AbstractWeights</b>) in StatsBase at <a href=\"file:///Users/alanderos/.julia/packages/StatsBase/DyWPR/src/weights.jl\" target=\"_blank\">/Users/alanderos/.julia/packages/StatsBase/DyWPR/src/weights.jl:23</a></li> <li> sum(v::<b>BitArray</b>, w::<b>StatsBase.AbstractWeights</b>) in StatsBase at <a href=\"file:///Users/alanderos/.julia/packages/StatsBase/DyWPR/src/weights.jl\" target=\"_blank\">/Users/alanderos/.julia/packages/StatsBase/DyWPR/src/weights.jl:278</a></li> <li> sum(a::<b>AbstractArray{Bool,N} where N</b>) in Base at <a href=\"https://github.com/JuliaLang/julia/tree/80516ca20297a67b996caa08c38786332379b6a5/base/reduce.jl#L417\" target=\"_blank\">reduce.jl:417</a></li> <li> sum(arr::<b>AbstractArray{BigInt,N} where N</b>) in Base.GMP at <a href=\"https://github.com/JuliaLang/julia/tree/80516ca20297a67b996caa08c38786332379b6a5/base/gmp.jl#L547\" target=\"_blank\">gmp.jl:547</a></li> <li> sum(arr::<b>AbstractArray{BigFloat,N} where N</b>) in Base.MPFR at <a href=\"https://github.com/JuliaLang/julia/tree/80516ca20297a67b996caa08c38786332379b6a5/base/mpfr.jl#L724\" target=\"_blank\">mpfr.jl:724</a></li> <li> sum(A::<b>AbstractArray{#s35,N} where N where #s35<:Number</b>, w::<b>StatsBase.AbstractWeights{#s34,T,V} where V<:AbstractArray{T,1} where T<:Real where #s34<:Real</b>, dim::<b>Int64</b>) in StatsBase at <a href=\"file:///Users/alanderos/.julia/packages/StatsBase/DyWPR/src/weights.jl\" target=\"_blank\">/Users/alanderos/.julia/packages/StatsBase/DyWPR/src/weights.jl:483</a></li> <li> sum(a::<b>AbstractArray</b>; <i>dims</i>) in Base at <a href=\"https://github.com/JuliaLang/julia/tree/80516ca20297a67b996caa08c38786332379b6a5/base/reducedim.jl#L648\" target=\"_blank\">reducedim.jl:648</a></li> <li> sum<i>{T}</i>(f::<b>Union{Function, Type}</b>, a::<b>StaticArrays.StaticArray{#s160,T,N} where N where #s160<:Tuple</b>; <i>dims</i>) in StaticArrays at <a href=\"file:///Users/alanderos/.julia/packages/StaticArrays/3KEjZ/src/mapreduce.jl\" target=\"_blank\">/Users/alanderos/.julia/packages/StaticArrays/3KEjZ/src/mapreduce.jl:191</a></li> <li> sum(ct::<b>DataStructures.Accumulator</b>) in DataStructures at <a href=\"file:///Users/alanderos/.julia/packages/DataStructures/6r6kb/src/accumulator.jl\" target=\"_blank\">/Users/alanderos/.julia/packages/DataStructures/6r6kb/src/accumulator.jl:57</a></li> <li> sum(g::<b>LightGraphs.AbstractGraph</b>) in LightGraphs at <a href=\"file:///Users/alanderos/.julia/packages/LightGraphs/HsNig/src/operators.jl\" target=\"_blank\">/Users/alanderos/.julia/packages/LightGraphs/HsNig/src/operators.jl:488</a></li> <li> sum(g::<b>LightGraphs.AbstractGraph</b>, dim::<b>Int64</b>) in LightGraphs at <a href=\"file:///Users/alanderos/.julia/packages/LightGraphs/HsNig/src/operators.jl\" target=\"_blank\">/Users/alanderos/.julia/packages/LightGraphs/HsNig/src/operators.jl:445</a></li> <li> sum(v::<b>AbstractArray</b>, w::<b>StatsBase.AbstractWeights</b>) in StatsBase at <a href=\"file:///Users/alanderos/.julia/packages/StatsBase/DyWPR/src/weights.jl\" target=\"_blank\">/Users/alanderos/.julia/packages/StatsBase/DyWPR/src/weights.jl:280</a></li> <li> sum(a) in Base at <a href=\"https://github.com/JuliaLang/julia/tree/80516ca20297a67b996caa08c38786332379b6a5/base/reduce.jl#L416\" target=\"_blank\">reduce.jl:416</a></li> <li> sum<i>{T}</i>(f, a::<b>StaticArrays.StaticArray{#s160,T,N} where N where #s160<:Tuple</b>; <i>dims</i>) in StaticArrays at <a href=\"file:///Users/alanderos/.julia/packages/StaticArrays/3KEjZ/src/mapreduce.jl\" target=\"_blank\">/Users/alanderos/.julia/packages/StaticArrays/3KEjZ/src/mapreduce.jl:190</a></li> <li> sum(f, a::<b>AbstractArray</b>; <i>dims</i>) in Base at <a href=\"https://github.com/JuliaLang/julia/tree/80516ca20297a67b996caa08c38786332379b6a5/base/reducedim.jl#L649\" target=\"_blank\">reducedim.jl:649</a></li> <li> sum(f, a) in Base at <a href=\"https://github.com/JuliaLang/julia/tree/80516ca20297a67b996caa08c38786332379b6a5/base/reduce.jl#L399\" target=\"_blank\">reduce.jl:399</a></li> </ul>"
      ],
      "text/plain": [
       "# 24 methods for generic function \"sum\":\n",
       "[1] sum(::typeof(abs), x::SparseArrays.AbstractSparseArray{Tv,Ti,1} where Ti where Tv) in SparseArrays at /Users/alanderos/julia/julia-1.1/usr/share/julia/stdlib/v1.1/SparseArrays/src/sparsevector.jl:1329\n",
       "[2] sum(::typeof(abs2), x::SparseArrays.AbstractSparseArray{Tv,Ti,1} where Ti where Tv) in SparseArrays at /Users/alanderos/julia/julia-1.1/usr/share/julia/stdlib/v1.1/SparseArrays/src/sparsevector.jl:1329\n",
       "[3] sum(x::Tuple{Any,Vararg{Any,N} where N}) in Base at tuple.jl:395\n",
       "[4] sum(r::StepRangeLen) in Base at twiceprecision.jl:536\n",
       "[5] sum(r::AbstractRange{#s72} where #s72<:Real) in Base at range.jl:970\n",
       "[6] sum(v::SparseArrays.SparseMatrixCSC, w::StatsBase.AbstractWeights) in StatsBase at /Users/alanderos/.julia/packages/StatsBase/DyWPR/src/weights.jl:279\n",
       "[7] sum(x::SparseArrays.AbstractSparseArray{Tv,Ti,1} where Ti where Tv) in SparseArrays at /Users/alanderos/julia/julia-1.1/usr/share/julia/stdlib/v1.1/SparseArrays/src/sparsevector.jl:1304\n",
       "[8] sum(a::StaticArrays.StaticArray{#s160,T,N} where N where #s160<:Tuple; dims) where T in StaticArrays at /Users/alanderos/.julia/packages/StaticArrays/3KEjZ/src/mapreduce.jl:189\n",
       "[9] sum(wv::StatsBase.AbstractWeights) in StatsBase at /Users/alanderos/.julia/packages/StatsBase/DyWPR/src/weights.jl:23\n",
       "[10] sum(v::BitArray, w::StatsBase.AbstractWeights) in StatsBase at /Users/alanderos/.julia/packages/StatsBase/DyWPR/src/weights.jl:278\n",
       "[11] sum(a::AbstractArray{Bool,N} where N) in Base at reduce.jl:417\n",
       "[12] sum(arr::AbstractArray{BigInt,N} where N) in Base.GMP at gmp.jl:547\n",
       "[13] sum(arr::AbstractArray{BigFloat,N} where N) in Base.MPFR at mpfr.jl:724\n",
       "[14] sum(A::AbstractArray{#s35,N} where N where #s35<:Number, w::StatsBase.AbstractWeights{#s34,T,V} where V<:AbstractArray{T,1} where T<:Real where #s34<:Real, dim::Int64) in StatsBase at /Users/alanderos/.julia/packages/StatsBase/DyWPR/src/weights.jl:483\n",
       "[15] sum(a::AbstractArray; dims) in Base at reducedim.jl:648\n",
       "[16] sum(f::Union{Function, Type}, a::StaticArrays.StaticArray{#s160,T,N} where N where #s160<:Tuple; dims) where T in StaticArrays at /Users/alanderos/.julia/packages/StaticArrays/3KEjZ/src/mapreduce.jl:191\n",
       "[17] sum(ct::DataStructures.Accumulator) in DataStructures at /Users/alanderos/.julia/packages/DataStructures/6r6kb/src/accumulator.jl:57\n",
       "[18] sum(g::LightGraphs.AbstractGraph) in LightGraphs at /Users/alanderos/.julia/packages/LightGraphs/HsNig/src/operators.jl:488\n",
       "[19] sum(g::LightGraphs.AbstractGraph, dim::Int64) in LightGraphs at /Users/alanderos/.julia/packages/LightGraphs/HsNig/src/operators.jl:445\n",
       "[20] sum(v::AbstractArray, w::StatsBase.AbstractWeights) in StatsBase at /Users/alanderos/.julia/packages/StatsBase/DyWPR/src/weights.jl:280\n",
       "[21] sum(a) in Base at reduce.jl:416\n",
       "[22] sum(f, a::StaticArrays.StaticArray{#s160,T,N} where N where #s160<:Tuple; dims) where T in StaticArrays at /Users/alanderos/.julia/packages/StaticArrays/3KEjZ/src/mapreduce.jl:190\n",
       "[23] sum(f, a::AbstractArray; dims) in Base at reducedim.jl:649\n",
       "[24] sum(f, a) in Base at reduce.jl:399"
      ]
     },
     "execution_count": 71,
     "metadata": {},
     "output_type": "execute_result"
    }
   ],
   "source": [
    "methods(sum)"
   ]
  },
  {
   "cell_type": "markdown",
   "metadata": {},
   "source": [
    "The idea of a `sum` is a very general idea, yet specific data *types* often have a special structure that can be exploited.\n",
    "**Notice that the 12th and 14th definitions (located in reduce.jl) do not specify any types for their arguments**.\n",
    "We can even define a sequence of random numbers to be evaluated later.\n",
    "This is achieved using *generators*.\n",
    "The syntax for generators is `(f(x) for x in iterable)`, where\n",
    "\n",
    "- `f(x)` is an expression that may depend on the element `x`, and\n",
    "- `iterable` is an object that supports iteration (e.g. range or array).\n",
    "\n",
    "The following code evaluates the mean of a random sequence of numbers.\n",
    "We use the uniform distribution in this case (`rand` returns a number between 0 and 1).\n",
    "The function definitions are unecessary but we do it for the purpose of benchmarking.\n",
    "\n",
    "- Which of the following do you think is more readable?\n",
    "- Easier to maintain over time?\n",
    "- Generalizeable? Think about the assumptions being made in each approach.\n",
    "- Is one approach always the best?"
   ]
  },
  {
   "cell_type": "code",
   "execution_count": 72,
   "metadata": {},
   "outputs": [],
   "source": [
    "using Statistics\n",
    "\n",
    "function generator_mean(n)\n",
    "  random_sequence = (rand() for i in 1:n)\n",
    "\n",
    "  return mean(random_sequence)\n",
    "end\n",
    "\n",
    "function enumeration_mean(n)\n",
    "  random_sequence = [rand() for i in 1:n]\n",
    "\n",
    "  return mean(random_sequence)\n",
    "end\n",
    "\n",
    "function loop_mean(n)\n",
    "  accumulator = 0.0\n",
    "\n",
    "  for i in 1:n\n",
    "    accumulator += rand()\n",
    "  end\n",
    "\n",
    "  return accumulator / n\n",
    "end\n",
    "\n",
    "n = 1_000;"
   ]
  },
  {
   "cell_type": "markdown",
   "metadata": {},
   "source": [
    "**Generator**"
   ]
  },
  {
   "cell_type": "code",
   "execution_count": 73,
   "metadata": {},
   "outputs": [
    {
     "name": "stdout",
     "output_type": "stream",
     "text": [
      "  0.025339 seconds (54.77 k allocations: 2.762 MiB)\n",
      "  0.000004 seconds (5 allocations: 176 bytes)\n"
     ]
    }
   ],
   "source": [
    "@time generator_mean(n)\n",
    "@time generator_mean(n);"
   ]
  },
  {
   "cell_type": "markdown",
   "metadata": {},
   "source": [
    "**Explicit enumeration with an array**"
   ]
  },
  {
   "cell_type": "code",
   "execution_count": 74,
   "metadata": {},
   "outputs": [
    {
     "name": "stdout",
     "output_type": "stream",
     "text": [
      "  0.050890 seconds (71.39 k allocations: 3.521 MiB, 22.16% gc time)\n",
      "  0.000006 seconds (6 allocations: 8.109 KiB)\n"
     ]
    }
   ],
   "source": [
    "@time enumeration_mean(n)\n",
    "@time enumeration_mean(n);"
   ]
  },
  {
   "cell_type": "markdown",
   "metadata": {},
   "source": [
    "**Using a for loop**"
   ]
  },
  {
   "cell_type": "code",
   "execution_count": 75,
   "metadata": {},
   "outputs": [
    {
     "name": "stdout",
     "output_type": "stream",
     "text": [
      "  0.010480 seconds (14.79 k allocations: 769.446 KiB)\n",
      "  0.000004 seconds (5 allocations: 176 bytes)\n"
     ]
    }
   ],
   "source": [
    "@time loop_mean(n)\n",
    "@time loop_mean(n);"
   ]
  },
  {
   "cell_type": "markdown",
   "metadata": {},
   "source": [
    "**Note**: Generators do not support indexing:"
   ]
  },
  {
   "cell_type": "code",
   "execution_count": 76,
   "metadata": {},
   "outputs": [
    {
     "name": "stdout",
     "output_type": "stream",
     "text": [
      "typeof(itr) = Base.Generator{UnitRange{Int64},getfield(Main, Symbol(\"##16#17\"))}\n"
     ]
    },
    {
     "ename": "MethodError",
     "evalue": "MethodError: no method matching getindex(::Base.Generator{UnitRange{Int64},getfield(Main, Symbol(\"##16#17\"))}, ::Int64)",
     "output_type": "error",
     "traceback": [
      "MethodError: no method matching getindex(::Base.Generator{UnitRange{Int64},getfield(Main, Symbol(\"##16#17\"))}, ::Int64)",
      "",
      "Stacktrace:",
      " [1] top-level scope at show.jl:555",
      " [2] top-level scope at In[76]:4"
     ]
    }
   ],
   "source": [
    "itr = (i^2 for i in 1:10)\n",
    "\n",
    "@show typeof(itr)\n",
    "@show itr[3]"
   ]
  },
  {
   "cell_type": "markdown",
   "metadata": {},
   "source": [
    "Here's a more interesting example from the manual:"
   ]
  },
  {
   "cell_type": "code",
   "execution_count": 77,
   "metadata": {},
   "outputs": [
    {
     "name": "stdout",
     "output_type": "stream",
     "text": [
      "mean(iterable) = 38.5\n",
      "std(iterable) = 34.17357653704589\n",
      "sum(iterable) = 385\n",
      "25 in iterable = true\n",
      "the 1th square is 1\n",
      "the 2th square is 4\n",
      "the 3th square is 9\n",
      "the 4th square is 16\n",
      "the 5th square is 25\n",
      "the 6th square is 36\n",
      "the 7th square is 49\n",
      "the 8th square is 64\n",
      "the 9th square is 81\n",
      "the 10th square is 100\n"
     ]
    }
   ],
   "source": [
    "# define our own type:\n",
    "# a lazy iterator for the first few square integers, starting from 1.\n",
    "struct Squares\n",
    "  count::Int\n",
    "end\n",
    "\n",
    "# overload `iterate` in Base to work with our data type\n",
    "function Base.iterate(S::Squares, state=1)\n",
    "  state > S.count ? nothing : (state*state, state+1)\n",
    "end\n",
    "\n",
    "# many functions and control flow constructs \"just work\" now\n",
    "iterable = Squares(10)\n",
    "\n",
    "@show mean(iterable)\n",
    "@show std(iterable)\n",
    "@show sum(iterable)\n",
    "@show 25 in iterable\n",
    "\n",
    "for (i, square) in enumerate(iterable)\n",
    "  println(\"the $(i)th square is $(square)\")\n",
    "end"
   ]
  },
  {
   "cell_type": "markdown",
   "metadata": {},
   "source": [
    "**Takeaway**: The Base package defines a lot of [common and useful interfaces](https://docs.julialang.org/en/v1/manual/interfaces/).\n",
    "Many fundamental data types \"play nicely\" with these interfaces and they are generally highly optimized.\n",
    "User-defined types are treated just like the built-in ones, so you can always implement interfaces in your own work."
   ]
  }
 ],
 "metadata": {
  "kernelspec": {
   "display_name": "Julia 1.1.0",
   "language": "julia",
   "name": "julia-1.1"
  },
  "language_info": {
   "file_extension": ".jl",
   "mimetype": "application/julia",
   "name": "julia",
   "version": "1.1.0"
  }
 },
 "nbformat": 4,
 "nbformat_minor": 2
}
