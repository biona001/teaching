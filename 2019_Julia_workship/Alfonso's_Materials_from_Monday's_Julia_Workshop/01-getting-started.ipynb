{
  "cells": [
    {
      "cell_type": "markdown",
      "source": [
        "# Getting Started\n\n![julia-intro](figures/julia-intro.png)\n\n### Option 1: Installing a local copy of Julia\n\n1. Direct your browser to [https://julialang.org/downloads/](https://julialang.org/downloads/)\n2. Download the appropriate installer for your operating system.\n  - v1.2.0 stable release (recommended)\n  - v1.0.5 long term support\n\n3. Run the installer.\n4. Open the Julia application to make sure everything works.\n5. (Optional) Make Julia on your terminal:\n  - **macOS**: Add the following to your .bash_profile:\n  ```alias julia='/path/to/julia.app/Contents/Resources/julia/bin/julia'```\n  - **Windows 10**: See [the last post here](https://discourse.julialang.org/t/what-is-the-best-way-to-set-the-path-to-julia-on-windows-10/16467/11).\n\n\n### Option 2: Using JuliaBox (requires an e-mail)\n\n1. Navigate to [https://juliabox.com](https://juliabox.com).\n2. (for adblock users) Temporarily disable your adblocker and reload the page; you should now see the login buttons.\n3. Follow the instructions and you're done."
      ],
      "metadata": {}
    }
  ],
  "nbformat_minor": 2,
  "metadata": {
    "language_info": {
      "file_extension": ".jl",
      "mimetype": "application/julia",
      "name": "julia",
      "version": "1.1.0"
    },
    "kernelspec": {
      "name": "julia-1.1",
      "display_name": "Julia 1.1.0",
      "language": "julia"
    }
  },
  "nbformat": 4
}
