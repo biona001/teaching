{
 "cells": [
  {
   "cell_type": "markdown",
   "metadata": {},
   "source": [
    "# Useful References for Independent Study\n",
    "\n",
    "There are tons of [free, online materials](https://julialang.org/learning/).\n",
    "Some highlights:\n",
    "\n",
    "**Complete Beginner**\n",
    "\n",
    "- [Intro to Julia](https://www.youtube.com/watch?v=8h8rQyEpiZA&t=)\n",
    "- [Introducing Julia](https://en.wikibooks.org/wiki/Introducing_Julia)\n",
    "- [Think Julia](https://benlauwens.github.io/ThinkJulia.jl/latest/book.html)\n",
    "\n",
    "**Prior Programming Experience**\n",
    "\n",
    "- [UCLA Biostatistics M280](http://hua-zhou.github.io/teaching/biostatm280-2017spring/)\n",
    "- [A Deep Introduction to Julia for Data Science and Scientific Computing](https://github.com/UCIDataScienceInitiative/IntroToJulia)\n",
    "\n",
    "**Other Materials**\n",
    "- [MATLAB-Python-Julia Cheatsheet](https://cheatsheets.quantecon.org/)\n",
    "- [7 Julia \"Gotchas\" and How to Handle Them](http://www.stochasticlifestyle.com/7-julia-gotchas-handle/)"
   ]
  }
 ],
 "metadata": {
  "kernelspec": {
   "display_name": "Julia 1.1.0",
   "language": "julia",
   "name": "julia-1.1"
  },
  "language_info": {
   "file_extension": ".jl",
   "mimetype": "application/julia",
   "name": "julia",
   "version": "1.1.0"
  }
 },
 "nbformat": 4,
 "nbformat_minor": 2
}
