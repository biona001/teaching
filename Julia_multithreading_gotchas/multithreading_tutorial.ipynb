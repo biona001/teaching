{
 "cells": [
  {
   "cell_type": "markdown",
   "metadata": {},
   "source": [
    "# Julia Multithreading Gotchas\n",
    "\n",
    "This notebook compiles a list of example code to illustrate Julia's [multithreading](https://docs.julialang.org/en/v1/manual/multi-threading/) feature. We focus on \"performance gotchas\" which are not well-documented (as of 2020). Note multithreading parallelism is different than Julia's [distributed parallelism](https://docs.julialang.org/en/v1/stdlib/Distributed/) in that the former always assume all data are present on a single computer. "
   ]
  },
  {
   "cell_type": "code",
   "execution_count": 1,
   "metadata": {
    "collapsed": true
   },
   "outputs": [],
   "source": [
    "using Random\n",
    "using BenchmarkTools\n",
    "using LinearAlgebra"
   ]
  },
  {
   "cell_type": "markdown",
   "metadata": {},
   "source": [
    "## How to access multithreading feature\n",
    "\n",
    "Before starting Julia (REPL or notebook), type \n",
    "\n",
    "    `export JULIA_NUM_THREADS=8`\n",
    "\n",
    "then verify you indeed have multiple active threads:"
   ]
  },
  {
   "cell_type": "code",
   "execution_count": 2,
   "metadata": {
    "collapsed": false,
    "scrolled": true
   },
   "outputs": [
    {
     "data": {
      "text/plain": [
       "8"
      ]
     },
     "execution_count": 2,
     "metadata": {},
     "output_type": "execute_result"
    }
   ],
   "source": [
    "Threads.nthreads()"
   ]
  },
  {
   "cell_type": "markdown",
   "metadata": {},
   "source": [
    "## Gotcha 1: Race Conditions - Wrong Answers!\n",
    "\n",
    "+ A race condiion is when 2 or more threads modify the same variable simultaneously, giving you the wrong answer. \n",
    "+ Julia makes no effort to check if your code is thread-safe\n",
    "+ There is no good way to debug one!! "
   ]
  },
  {
   "cell_type": "code",
   "execution_count": 12,
   "metadata": {
    "collapsed": false
   },
   "outputs": [
    {
     "name": "stdout",
     "output_type": "stream",
     "text": [
      "unsafe_sum(x) = 6559.801414594502\n",
      "unsafe_sum(x) = 6271.334128542942\n"
     ]
    }
   ],
   "source": [
    "function unsafe_sum(x::AbstractVector)\n",
    "    s = 0.0\n",
    "    Threads.@threads for i in eachindex(x)\n",
    "        s += x[i]\n",
    "    end\n",
    "    return s\n",
    "end\n",
    "\n",
    "Random.seed!(2020)\n",
    "x = rand(100000)\n",
    "@show unsafe_sum(x)\n",
    "@show unsafe_sum(x);"
   ]
  },
  {
   "cell_type": "markdown",
   "metadata": {},
   "source": [
    "Answers don't match! There is a race condition! To debug race conditions, I suggest using [Threads.SpinLock()](https://docs.julialang.org/en/v1/base/multi-threading/#Base.Threads.SpinLock). "
   ]
  },
  {
   "cell_type": "code",
   "execution_count": 11,
   "metadata": {
    "collapsed": false
   },
   "outputs": [
    {
     "name": "stdout",
     "output_type": "stream",
     "text": [
      "debug_unsafe_sum(x) = 49938.49784564638\n",
      "debug_unsafe_sum(x) = 49938.49784564645\n"
     ]
    }
   ],
   "source": [
    "function debug_unsafe_sum(x::AbstractVector)\n",
    "    s = 0.0\n",
    "    m = Threads.SpinLock() # mutex object\n",
    "    Threads.@threads for i in eachindex(x)\n",
    "        lock(m)\n",
    "        s += x[i] # surround possible race condition with locks\n",
    "        unlock(m)\n",
    "    end\n",
    "    return s\n",
    "end\n",
    "\n",
    "@show debug_unsafe_sum(x)\n",
    "@show debug_unsafe_sum(x);"
   ]
  },
  {
   "cell_type": "markdown",
   "metadata": {},
   "source": [
    "**Conclusion:** `s += x[i]` is causing the race condition! This is obvious: if 2 threads are *simultaneously* updating `s`, only one thread's result will be recorded. Since we have 8 threads, only ~1/8 of all operations are updated and the rest is lost. That's why our `unsafe_sum` returned a value that's about $1/8$ of the correct answer. \n",
    "\n",
    "To fix this, force each thread to modify a different value. "
   ]
  },
  {
   "cell_type": "code",
   "execution_count": 10,
   "metadata": {
    "collapsed": false
   },
   "outputs": [
    {
     "name": "stdout",
     "output_type": "stream",
     "text": [
      "safe_sum(x) = 49938.49784564629\n",
      "safe_sum(x) = 49938.49784564629\n"
     ]
    }
   ],
   "source": [
    "function safe_sum(x::AbstractVector)\n",
    "    threads = Threads.nthreads()\n",
    "    s = zeros(threads)\n",
    "    Threads.@threads for i in eachindex(x)\n",
    "        s[Threads.threadid()] += x[i] # each thread adds to a different location\n",
    "    end\n",
    "    return sum(s) # return sum of each thread\n",
    "end\n",
    "\n",
    "@show safe_sum(x)\n",
    "@show safe_sum(x);"
   ]
  },
  {
   "cell_type": "markdown",
   "metadata": {},
   "source": [
    "Finally we resolved the race condition. Let's check timings:"
   ]
  },
  {
   "cell_type": "code",
   "execution_count": 13,
   "metadata": {
    "collapsed": false
   },
   "outputs": [
    {
     "name": "stdout",
     "output_type": "stream",
     "text": [
      "  36.357 μs (42 allocations: 5.66 KiB)\n",
      "  5.950 ms (200043 allocations: 3.06 MiB)\n",
      "  12.471 μs (0 allocations: 0 bytes)\n"
     ]
    }
   ],
   "source": [
    "@btime safe_sum($x)\n",
    "@btime debug_unsafe_sum($x)\n",
    "@btime sum($x);"
   ]
  },
  {
   "cell_type": "markdown",
   "metadata": {},
   "source": [
    "We are faster than using locks (which is single threaded and requires extra bookkeeping), but slower than Julia's built-in `sum` command. That is because Julia's built-in `sum` uses many [performance annotations](https://docs.julialang.org/en/v1/manual/performance-tips/#man-performance-annotations) like `@inbounds` and `@simd`. The latter stands for single-instruction multiple data, which is more suitable parallel mechanism for calculating sum of vectors.\n",
    "\n",
    "## Gotcha 2: False sharing - Not-actually-parallel parallel code"
   ]
  },
  {
   "cell_type": "code",
   "execution_count": null,
   "metadata": {
    "collapsed": true
   },
   "outputs": [],
   "source": [
    "# see post https://discourse.julialang.org/t/editing-an-array-with-multiple-threads/25364/9\n",
    "function f(spacing)\n",
    "    n = 1000000\n",
    "    x = rand(n)\n",
    "\n",
    "    s = zeros(Threads.nthreads()*spacing) # sum of x\n",
    "    c = zeros(Threads.nthreads()*spacing) # count additions in each thread\n",
    "\n",
    "    Threads.@threads for i = 1:n\n",
    "        s[Threads.threadid()*spacing] += x[i] # thread i adds to s[i]\n",
    "        c[Threads.threadid()*spacing] += 1    # thread i adds to c[i]\n",
    "    end\n",
    "    return sum(s), c\n",
    "end\n",
    "\n",
    "@btime f(1);\n",
    "@btime f(8);"
   ]
  },
  {
   "cell_type": "markdown",
   "metadata": {},
   "source": [
    "## Gotcha 3: Oversubscription - parallelism on top of parallelism\n",
    "\n",
    "This can happen when\n",
    "\n",
    "+ When code performs parallel operations which themselves call other parallel operations (e.g. BLAS + multithreading).\n",
    "+ You start Julia with more threads than the number of physical cores on your CPU\n",
    "\n",
    "**Note:** Not all oversubscriptions are bad. For instance, intensive I/O operations can benefit with more threads than CPU cores because loading/writing data to/from disk is so slow that the CPU is basically idle most of the time. In my experience, oversubscription is *bad* for tasks where everything is loaded in memory, and good otherwise. "
   ]
  },
  {
   "cell_type": "code",
   "execution_count": 31,
   "metadata": {
    "collapsed": false
   },
   "outputs": [],
   "source": [
    "# Performs C[i] = A[i] * B[i] where A[i], B[i], C[i] are matrices\n",
    "function test_multiply!(C, A, B)\n",
    "    Threads.@threads for i in eachindex(C)\n",
    "        id = Threads.threadid()\n",
    "        mul!(C[id], A[id], B[id])\n",
    "    end\n",
    "end\n",
    "\n",
    "# simulate data\n",
    "Random.seed!(2020)\n",
    "A = [rand(100, 100) for _ in 1:100]\n",
    "B = [rand(100, 100) for _ in 1:100]\n",
    "C = [rand(100, 100) for _ in 1:100];"
   ]
  },
  {
   "cell_type": "code",
   "execution_count": 32,
   "metadata": {
    "collapsed": false
   },
   "outputs": [
    {
     "name": "stdout",
     "output_type": "stream",
     "text": [
      "  3.023 ms (41 allocations: 5.53 KiB)\n",
      "  753.820 μs (41 allocations: 5.53 KiB)\n"
     ]
    }
   ],
   "source": [
    "# 8 BLAS threads (default)\n",
    "BLAS.set_num_threads(8)\n",
    "@btime test_multiply!($C, $A, $B)\n",
    "\n",
    "# 1 BLAS thread\n",
    "BLAS.set_num_threads(1)\n",
    "@btime test_multiply!($C, $A, $B);"
   ]
  },
  {
   "cell_type": "markdown",
   "metadata": {},
   "source": [
    "**Conclusion:** If you forgot to change BLAS threads (8 by default), your for loop is automatically **4 times** slower!"
   ]
  },
  {
   "cell_type": "markdown",
   "metadata": {},
   "source": [
    "## Gotcha 4: Non-uniform tasks - bottleneck is singlethreaded"
   ]
  },
  {
   "cell_type": "markdown",
   "metadata": {},
   "source": [
    "## Gotcha 5: Memory allocation\n",
    "\n",
    "ANY extra allocation memory are completely detrimental to performance. Even a few KB which takes no time at all for single-threaded programs can completely kill performance once you use `@threads`. Apparently this is because GC is single-threaded (not sure) so you really don't want to trigger it."
   ]
  },
  {
   "cell_type": "code",
   "execution_count": null,
   "metadata": {
    "collapsed": true
   },
   "outputs": [],
   "source": [
    "function test_multiply()\n",
    "    threads = Threads.nthreads()\n",
    "    A = [rand(1000, 1000) for _ in 1:threads]\n",
    "    B = [rand(1000, 1000) for _ in 1:threads]\n",
    "    C = [rand(1001, 1001) for _ in 1:threads]\n",
    "    Threads.@threads for i in 1:10000\n",
    "        id = Threads.threadid()\n",
    "        mul!(view(C[id], 1:1000, 1:1000), A[id], B[id])\n",
    "    end\n",
    "    return C\n",
    "end\n",
    "test_multiply();"
   ]
  },
  {
   "cell_type": "code",
   "execution_count": null,
   "metadata": {
    "collapsed": true
   },
   "outputs": [],
   "source": []
  }
 ],
 "metadata": {
  "kernelspec": {
   "display_name": "Julia 1.5.0",
   "language": "julia",
   "name": "julia-1.5"
  },
  "language_info": {
   "file_extension": ".jl",
   "mimetype": "application/julia",
   "name": "julia",
   "version": "1.5.0"
  }
 },
 "nbformat": 4,
 "nbformat_minor": 2
}
