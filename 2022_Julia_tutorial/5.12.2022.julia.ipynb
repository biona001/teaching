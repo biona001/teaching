{
 "cells": [
  {
   "cell_type": "markdown",
   "metadata": {
    "slideshow": {
     "slide_type": "slide"
    }
   },
   "source": [
    "# An introduction to\n",
    "\n",
    "<img src=\"img/Julia_Programming_Language_Logo.png\" alt=\"Drawing\" style=\"width: 400px;\"/>\n",
    "\n",
    "# .... with lots of Statistics Examples"
   ]
  },
  {
   "cell_type": "markdown",
   "metadata": {
    "slideshow": {
     "slide_type": "slide"
    }
   },
   "source": [
    "> Statistics is partly empirical and partly mathematical. It is now almost **entirely** computational.\n",
    "\n",
    "> -- Kenneth Lange\n",
    "\n",
    "\n",
    "Further reading: \n",
    "+ [UCLA biostats 257](https://ucla-biostat-257-2021spring.github.io/schedule/schedule.html): statistical computing with Julia \n",
    "+ [Why we created Julia?](https://julialang.org/blog/2012/02/why-we-created-julia/) blog post by the authors of Julia\n",
    "+ [Tim Holy 2021 talk](https://youtu.be/x4oi0IKf52w) \"Why Julia?\" A high level description of the features and benefits of programming in Julia.\""
   ]
  },
  {
   "cell_type": "markdown",
   "metadata": {
    "slideshow": {
     "slide_type": "slide"
    }
   },
   "source": [
    "# Types of computer languages\n",
    "\n",
    "+ **Compiled languages** (low-level languages): C/C++, Fortran, ...\n",
    "    + Codes are directly compiled to machine code that is executed by CPU\n",
    "    + Pros: fast, memory efficient\n",
    "    + Cons: longer development time, hard to debug, hard to profile\n",
    "+ **Interpreted language** (high-level languages): R, Matlab, Python, SAS IML, JavaScript, ...\n",
    "    + Codes are interpreted by an interpreter\n",
    "    + Pros: fast prototyping\n",
    "    + Cons: excruciatingly slow for loops\n",
    "+ Mixed (dynamic) languages: Matlab (JIT), R (compiler package), Julia, Cython, JAVA, ...\n",
    "    + Pros and cons: between the compiled and interpreted languages\n",
    "+ Script languages: Linux shell scripts, Perl, ...\n",
    "    + Extremely useful for some data preprocessing and manipulation\n",
    "+ Database languages: SQL, Hive (Hadoop).\n",
    "    + Data analysis never happens if we do not know how to retrieve data from databases\n",
    "    \n",
    "For statistical computing, each language is perfect for some aspects of the work and terrible for others. Each one is a trade-off.\n",
    "\n",
    "This creates a famous problem."
   ]
  },
  {
   "cell_type": "markdown",
   "metadata": {
    "slideshow": {
     "slide_type": "slide"
    }
   },
   "source": [
    "# The \"Two Language\" problem\n",
    "\n",
    "+ To improve efficiency of interpreted languages such as R or Matlab, conventional wisdom is to avoid \"loops\" as much as possible. Aka, vectorize code\n",
    "\n",
    "> The only loop you are allowed to have is that for an iterative algorithm\n",
    "\n",
    "> -- Hua Zhou\n",
    "\n",
    "+ When looping is unavoidable, need to code in C, C++, or Fortran. This creates the notorious **two language problem**: \n",
    "    \n",
    "    1. **Prototype code** goes into high-level (easy but slow) languages like R/Python\n",
    "    2. **Production code** goes into low-level (hard but fast) language like C/C++.\n",
    "\n",
    "\n",
    "+ Developers program the same thing twice!! Future contributers must *understand and then program in* 2 languages.\n",
    "\n",
    "\n",
    "+ Success stories:\n",
    "    + `glmnet` package in R is coded in Fortran\n",
    "    + `tidyverse` and `data.table` packages use a lot RCpp/C++.\n",
    "\n",
    "<img src=\"img/two_language_problem.jpg\" alt=\"Drawing\" style=\"width: 800px;\"/>\n",
    "\n",
    "+ Modern languages such as Julia tries to solve the two language problem. That is to achieve **efficiency without vectorizing code**. \n",
    "\n",
    "+ **Take away:** If what you need is common (e.g. matrix algebra, sorting...etc), *someone* has written an efficient low level version which you can use in your language of choice. Most people eventually need something that nobody has written in a fast language: *it is up to you now*."
   ]
  },
  {
   "cell_type": "markdown",
   "metadata": {
    "slideshow": {
     "slide_type": "slide"
    }
   },
   "source": [
    "# Peek at Julia's \"for loop\" performance\n",
    "\n",
    "Source: [Julia for R Programmers](https://pages.stat.wisc.edu/~bates/JuliaForRProgrammers.pdf)\n",
    "\n",
    "+ Example by Douglas Bates (member of R-Core, author of popular R packages `lme4`, `Matrix`, `RcppEigen`, etc)\n",
    "\n",
    "> As some of you may know, I have had a (rather late) mid-life crisis and run off with another language called Julia.\n",
    "\n",
    "> -- Doug Bates (on the `knitr` Google Group)\n",
    "\n",
    "+ The task is to create a Gibbs sampler for the density\n",
    "$$f(x, y) = kx^2\\exp(-xy^2-y^2+2y−4x), \\quad x>0$$\n",
    " \n",
    "using the conditional distributions\n",
    "$$X | Y \\sim \\Gamma\\left(3, \\frac{1}{y^2+4}\\right)$$\n",
    "$$Y | X \\sim N\\left(\\frac{1}{1+x}, \\frac{1}{2(1+x)}\\right)$$"
   ]
  },
  {
   "cell_type": "markdown",
   "metadata": {
    "slideshow": {
     "slide_type": "slide"
    }
   },
   "source": [
    "### R solution\n",
    "\n",
    "The `RCall.jl` package allows us to execute R code without leaving the Julia environment. \n",
    "\n",
    "Lets generate 10000 samples with 500 thinning factor. How long does it take?\n"
   ]
  },
  {
   "cell_type": "code",
   "execution_count": 32,
   "metadata": {
    "collapsed": false,
    "slideshow": {
     "slide_type": "subslide"
    }
   },
   "outputs": [
    {
     "data": {
      "text/plain": [
       "RObject{RealSxp}\n",
       "   user  system elapsed \n",
       " 18.800   1.252  20.097 \n"
      ]
     },
     "execution_count": 32,
     "metadata": {},
     "output_type": "execute_result"
    }
   ],
   "source": [
    "using RCall\n",
    "R\"\"\"\n",
    "library(Matrix)\n",
    "\n",
    "Rgibbs <- function(N, thin) {\n",
    "  mat <- matrix(0, nrow=N, ncol=2)\n",
    "  x <- y <- 0\n",
    "  for (i in 1:N) {\n",
    "    for (j in 1:thin) {\n",
    "      x <- rgamma(1, 3, y * y + 4) # 3rd arg is rate\n",
    "      y <- rnorm(1, 1 / (x + 1), 1 / sqrt(2 * (x + 1)))\n",
    "    }\n",
    "    mat[i,] <- c(x, y)\n",
    "  }\n",
    "  mat\n",
    "}\n",
    "\n",
    "system.time(Rgibbs(10000, 500)) \n",
    "\"\"\""
   ]
  },
  {
   "cell_type": "markdown",
   "metadata": {
    "slideshow": {
     "slide_type": "slide"
    }
   },
   "source": [
    "### Julia version"
   ]
  },
  {
   "cell_type": "code",
   "execution_count": 33,
   "metadata": {
    "collapsed": false,
    "slideshow": {
     "slide_type": "subslide"
    }
   },
   "outputs": [
    {
     "name": "stdout",
     "output_type": "stream",
     "text": [
      "  0.245500 seconds (2 allocations: 156.297 KiB)\n"
     ]
    }
   ],
   "source": [
    "using Distributions\n",
    "\n",
    "function jgibbs(N, thin)\n",
    "    mat = zeros(N, 2)\n",
    "    x = y = 0.0\n",
    "    for i in 1:N\n",
    "        for j in 1:thin\n",
    "            x = rand(Gamma(3, 1 / (y * y + 4)))\n",
    "            y = rand(Normal(1 / (x + 1), 1 / sqrt(2(x + 1))))\n",
    "        end\n",
    "        mat[i, 1] = x\n",
    "        mat[i, 2] = y\n",
    "    end\n",
    "    mat\n",
    "end\n",
    "\n",
    "jgibbs(100, 5); # warm-up aka compile the code\n",
    "@time jgibbs(10000, 500);"
   ]
  },
  {
   "cell_type": "markdown",
   "metadata": {
    "slideshow": {
     "slide_type": "subslide"
    }
   },
   "source": [
    "Julia is ~70 times faster than R, with essentially the same coding effort."
   ]
  },
  {
   "cell_type": "markdown",
   "metadata": {
    "slideshow": {
     "slide_type": "slide"
    }
   },
   "source": [
    "# Julia package system\n",
    "\n",
    "+ Each Julia package is a Git repository. Julia package name ends with `.jl`. E.g., `Distributions.jl` package lives at https://github.com/JuliaStats/Distributions.jl. \n",
    "\n",
    "\n",
    "+ All Julia packages are open source and almost always 100% written in Julia. \n",
    "\n",
    "\n",
    "+ To add packages, type `]add Distributions`. Here `]` tells Julia to enter **package manager mode**\n",
    "\n",
    "\n",
    "```julia\n",
    "# in Pkg mode\n",
    "(@v1.6) pkg> add Distributions\n",
    "```\n",
    "to remove, type\n",
    "```julia\n",
    "(@v1.6) pkg> rm Distributions\n",
    "```\n",
    "to update package versions, type\n",
    "```julia\n",
    "(@v1.6) pkg> update\n",
    "```\n",
    "\n",
    "+ **Package dependencies** are specified in `Project.toml` file (included in all Julia repo), thus all dependent packages will automatically be installed.\n",
    "\n",
    "    + When combined with `Manifest.toml`, exact computing environments can be reproduced by `]activate .`\n",
    "\n",
    "    + `Artifacts.toml` will enable Julia to automatically download of binaries/datasets hosted anywhere."
   ]
  },
  {
   "cell_type": "markdown",
   "metadata": {
    "slideshow": {
     "slide_type": "slide"
    }
   },
   "source": [
    "# Some basic Julia code"
   ]
  },
  {
   "cell_type": "code",
   "execution_count": 34,
   "metadata": {
    "collapsed": false,
    "scrolled": true,
    "slideshow": {
     "slide_type": "subslide"
    }
   },
   "outputs": [
    {
     "data": {
      "text/plain": [
       "2"
      ]
     },
     "execution_count": 34,
     "metadata": {},
     "output_type": "execute_result"
    }
   ],
   "source": [
    "1 + 1"
   ]
  },
  {
   "cell_type": "code",
   "execution_count": 35,
   "metadata": {
    "collapsed": false,
    "slideshow": {
     "slide_type": "subslide"
    }
   },
   "outputs": [
    {
     "data": {
      "text/plain": [
       "Float64"
      ]
     },
     "execution_count": 35,
     "metadata": {},
     "output_type": "execute_result"
    }
   ],
   "source": [
    "# Float64 is same as double in R\n",
    "typeof(1.0)"
   ]
  },
  {
   "cell_type": "code",
   "execution_count": 36,
   "metadata": {
    "collapsed": false,
    "slideshow": {
     "slide_type": "subslide"
    }
   },
   "outputs": [
    {
     "data": {
      "text/plain": [
       "6.283185307179586"
      ]
     },
     "execution_count": 36,
     "metadata": {},
     "output_type": "execute_result"
    }
   ],
   "source": [
    "# function definition and greek letters\n",
    "function f(x)\n",
    "    return π*x   # π = \\pi<tab>\n",
    "end\n",
    "function ∇f(x)\n",
    "    return π     # ∇ = \\nabla<tab>\n",
    "end\n",
    "function ∇²f(x)\n",
    "    return 0     # ∇² = \\nabla\\^2<tab>\n",
    "end\n",
    "\n",
    "θ̂ = f(1) + ∇f(1) + ∇²f(1) # θ̂ = \\theta<tab>\\hat<tab>"
   ]
  },
  {
   "cell_type": "code",
   "execution_count": 37,
   "metadata": {
    "collapsed": false,
    "slideshow": {
     "slide_type": "subslide"
    }
   },
   "outputs": [
    {
     "data": {
      "text/plain": [
       "6.0"
      ]
     },
     "execution_count": 37,
     "metadata": {},
     "output_type": "execute_result"
    }
   ],
   "source": [
    "# emoji! `\\:kissing_cat:<tab>`\n",
    "😽 = 5.0\n",
    "嗨 = 1.0\n",
    "😽 + 嗨"
   ]
  },
  {
   "cell_type": "markdown",
   "metadata": {
    "slideshow": {
     "slide_type": "subslide"
    }
   },
   "source": [
    "View [full list of support unicode characters](https://docs.julialang.org/en/v1/manual/unicode-input/)"
   ]
  },
  {
   "cell_type": "markdown",
   "metadata": {
    "slideshow": {
     "slide_type": "slide"
    }
   },
   "source": [
    "## Multi-dimensional arrays\n",
    "\n",
    "Julia supports efficient multidimensional arrays"
   ]
  },
  {
   "cell_type": "code",
   "execution_count": 38,
   "metadata": {
    "collapsed": false,
    "slideshow": {
     "slide_type": "subslide"
    }
   },
   "outputs": [
    {
     "data": {
      "text/plain": [
       "5×2 Matrix{Float64}:\n",
       " 0.0  0.0\n",
       " 0.0  0.0\n",
       " 0.0  0.0\n",
       " 0.0  0.0\n",
       " 0.0  0.0"
      ]
     },
     "execution_count": 38,
     "metadata": {},
     "output_type": "execute_result"
    }
   ],
   "source": [
    "# matrices\n",
    "x = zeros(5, 2)"
   ]
  },
  {
   "cell_type": "code",
   "execution_count": 39,
   "metadata": {
    "collapsed": false,
    "slideshow": {
     "slide_type": "subslide"
    }
   },
   "outputs": [
    {
     "data": {
      "text/plain": [
       "5-element Vector{Float64}:\n",
       " 0.0\n",
       " 0.0\n",
       " 0.0\n",
       " 0.0\n",
       " 0.0"
      ]
     },
     "execution_count": 39,
     "metadata": {},
     "output_type": "execute_result"
    }
   ],
   "source": [
    "# copy 1st column of x (note: 1-based indexing)\n",
    "x[:, 1]"
   ]
  },
  {
   "cell_type": "code",
   "execution_count": 40,
   "metadata": {
    "collapsed": false,
    "slideshow": {
     "slide_type": "subslide"
    }
   },
   "outputs": [
    {
     "data": {
      "text/plain": [
       "5×2 Matrix{Float64}:\n",
       " 13.0  0.0\n",
       "  0.0  0.0\n",
       "  0.0  0.0\n",
       "  0.0  0.0\n",
       "  0.0  0.0"
      ]
     },
     "execution_count": 40,
     "metadata": {},
     "output_type": "execute_result"
    }
   ],
   "source": [
    "# \"view\" 1st column of x without allocating memory\n",
    "z = @view(x[:, 1])\n",
    "z[1] = 13\n",
    "x"
   ]
  },
  {
   "cell_type": "markdown",
   "metadata": {
    "slideshow": {
     "slide_type": "slide"
    }
   },
   "source": [
    "## Linear algebra\n",
    "\n",
    "\n",
    "> Over the past 30 years I have worked with many different linear algebra packages in Fortran, C, C++, and Python. I even had a hand in designing and writing the Matrix package for R. None of them come close to the coverage, flexibility, and efficiency of the LinearAlgebra standard library for Julia.\n",
    "\n",
    "> --Doug Bates on Julia Discourse"
   ]
  },
  {
   "cell_type": "code",
   "execution_count": 41,
   "metadata": {
    "collapsed": false,
    "slideshow": {
     "slide_type": "subslide"
    }
   },
   "outputs": [
    {
     "data": {
      "text/plain": [
       "(0.2294342627077997, 0.2294342627077997, 0.2294342627077997)"
      ]
     },
     "execution_count": 41,
     "metadata": {},
     "output_type": "execute_result"
    }
   ],
   "source": [
    "using LinearAlgebra\n",
    "x = randn(10) # x[i] ~ N(0, 1)\n",
    "y = rand(10)  # y[i] ~ Uniform(0, 1)\n",
    "\n",
    "# multiple \"intuitive\" ways to compute dot products\n",
    "dot(x, y), Transpose(x)*y, x'y"
   ]
  },
  {
   "cell_type": "markdown",
   "metadata": {},
   "source": [
    "Transposing matrix is an expensive memory operation. In R, the command\n",
    "```R\n",
    "t(A) %*% x\n",
    "```\n",
    "will first transpose A then perform matrix multiplication, causing unnecessary memory allocation. Julia is smart to avoid transposing matrix if possible."
   ]
  },
  {
   "cell_type": "code",
   "execution_count": 42,
   "metadata": {
    "collapsed": false
   },
   "outputs": [
    {
     "data": {
      "text/plain": [
       "(Ptr{Float64} @0x00000001076e4740, Ptr{Float64} @0x00000001076e4740)"
      ]
     },
     "execution_count": 42,
     "metadata": {},
     "output_type": "execute_result"
    }
   ],
   "source": [
    "# same data in tranpose(x) and original matrix A\n",
    "A = rand(10, 10)\n",
    "pointer(Transpose(A).parent), pointer(A)"
   ]
  },
  {
   "cell_type": "markdown",
   "metadata": {
    "slideshow": {
     "slide_type": "slide"
    }
   },
   "source": [
    "## BLAS - Basic Linear Algebra Subroutine\n",
    "\n",
    "BLAS are *very efficient* libraries for computing\n",
    "\n",
    "+ Dot products (BLAS 1)\n",
    "+ Matrix-Vector multiplication (BLAS 2)\n",
    "+ Matrix-matrix multiplication (BLAS 3)\n",
    "\n",
    "OpenBLAS is automatically shipped within Julia and are used whenever possible. "
   ]
  },
  {
   "cell_type": "code",
   "execution_count": 43,
   "metadata": {
    "collapsed": false,
    "slideshow": {
     "slide_type": "subslide"
    }
   },
   "outputs": [
    {
     "data": {
      "text/plain": [
       "5×5 Matrix{Float64}:\n",
       " -1.65467    0.0817453  -0.342741  -1.2351     1.59056\n",
       "  0.683025   8.71869    -0.550223  -0.453495  -1.44121\n",
       " -0.194894   1.99144    -0.20761    0.599753   1.45288\n",
       " -1.22923    2.13921     0.896925   0.599878  -2.39992\n",
       " -2.94833   -1.93842     0.300229   1.60076    3.60858"
      ]
     },
     "execution_count": 43,
     "metadata": {},
     "output_type": "execute_result"
    }
   ],
   "source": [
    "# matrix multiplication calls BLAS internally\n",
    "x, y = randn(5, 5), randn(5, 5)\n",
    "x * y"
   ]
  },
  {
   "cell_type": "code",
   "execution_count": 44,
   "metadata": {
    "collapsed": false,
    "slideshow": {
     "slide_type": "subslide"
    }
   },
   "outputs": [
    {
     "data": {
      "text/plain": [
       "5×5 Matrix{Float64}:\n",
       " -1.65467    0.0817453  -0.342741  -1.2351     1.59056\n",
       "  0.683025   8.71869    -0.550223  -0.453495  -1.44121\n",
       " -0.194894   1.99144    -0.20761    0.599753   1.45288\n",
       " -1.22923    2.13921     0.896925   0.599878  -2.39992\n",
       " -2.94833   -1.93842     0.300229   1.60076    3.60858"
      ]
     },
     "execution_count": 44,
     "metadata": {},
     "output_type": "execute_result"
    }
   ],
   "source": [
    "# in-place matrix multiplication\n",
    "z = zeros(5, 5)\n",
    "mul!(z, x, y)\n",
    "z"
   ]
  },
  {
   "cell_type": "markdown",
   "metadata": {
    "slideshow": {
     "slide_type": "slide"
    }
   },
   "source": [
    "## LAPACK (Linear Algebra Package)\n",
    "\n",
    "LAPACK routines are automatically available as well"
   ]
  },
  {
   "cell_type": "code",
   "execution_count": 45,
   "metadata": {
    "collapsed": false,
    "slideshow": {
     "slide_type": "subslide"
    }
   },
   "outputs": [
    {
     "data": {
      "text/plain": [
       "LinearAlgebra.QRCompactWY{Float64, Matrix{Float64}}\n",
       "Q factor:\n",
       "5×5 LinearAlgebra.QRCompactWYQ{Float64, Matrix{Float64}}:\n",
       " -0.211177   0.464872   -0.0203552  -0.494496    0.703106\n",
       " -0.640069  -0.614752    0.42064    -0.0786246   0.171091\n",
       "  0.224125  -0.552035   -0.642528    0.0859209   0.474131\n",
       " -0.297105  -0.0824806  -0.488945   -0.643666   -0.501549\n",
       "  0.638132  -0.307293    0.413204   -0.572366    0.00425096\n",
       "R factor:\n",
       "5×5 Matrix{Float64}:\n",
       " -1.63146  2.31755  -0.142046   1.10349   -1.00645\n",
       "  0.0      2.45563  -1.19657    0.725667   0.564366\n",
       "  0.0      0.0       0.186884  -0.16862   -0.803436\n",
       "  0.0      0.0       0.0       -2.23837    0.531749\n",
       "  0.0      0.0       0.0        0.0       -1.9513"
      ]
     },
     "execution_count": 45,
     "metadata": {},
     "output_type": "execute_result"
    }
   ],
   "source": [
    "# QR factorization\n",
    "qr(x)"
   ]
  },
  {
   "cell_type": "code",
   "execution_count": 46,
   "metadata": {
    "collapsed": false,
    "slideshow": {
     "slide_type": "subslide"
    }
   },
   "outputs": [
    {
     "data": {
      "text/plain": [
       "5-element Vector{Float64}:\n",
       " -0.9322599319812565\n",
       "  0.4769418951918883\n",
       "  0.8868257619396387\n",
       "  0.3735977385411867\n",
       "  0.3831933336704221"
      ]
     },
     "execution_count": 46,
     "metadata": {},
     "output_type": "execute_result"
    }
   ],
   "source": [
    "# least squares\n",
    "A = rand(5, 5)\n",
    "b = rand(5)\n",
    "x = A \\ b"
   ]
  },
  {
   "cell_type": "markdown",
   "metadata": {},
   "source": [
    "**Tip for R user**. Standard R distribution from CRAN uses a very out-dated BLAS/LAPACK library. Re-build R from source using OpenBLAS or MKL will immediately boost linear algebra performance in R. Google `build R using MKL` to get started. Similarly we can build Julia using MKL."
   ]
  },
  {
   "cell_type": "markdown",
   "metadata": {
    "slideshow": {
     "slide_type": "slide"
    }
   },
   "source": [
    "## Help\n",
    "\n",
    "What is `\\` doing? Type `?\\` to pull up the documentation"
   ]
  },
  {
   "cell_type": "code",
   "execution_count": 47,
   "metadata": {
    "collapsed": false,
    "slideshow": {
     "slide_type": "subslide"
    }
   },
   "outputs": [
    {
     "name": "stdout",
     "output_type": "stream",
     "text": [
      "search: \u001b[0m\u001b[1m\\\u001b[22m\n",
      "\n"
     ]
    },
    {
     "data": {
      "text/latex": [
       "\\begin{verbatim}\n",
       "\\(x, y)\n",
       "\\end{verbatim}\n",
       "Left division operator: multiplication of \\texttt{y} by the inverse of \\texttt{x} on the left. Gives floating-point results for integer arguments.\n",
       "\n",
       "\\section{Examples}\n",
       "\\begin{verbatim}\n",
       "julia> 3 \\ 6\n",
       "2.0\n",
       "\n",
       "julia> inv(3) * 6\n",
       "2.0\n",
       "\n",
       "julia> A = [4 3; 2 1]; x = [5, 6];\n",
       "\n",
       "julia> A \\ x\n",
       "2-element Vector{Float64}:\n",
       "  6.5\n",
       " -7.0\n",
       "\n",
       "julia> inv(A) * x\n",
       "2-element Vector{Float64}:\n",
       "  6.5\n",
       " -7.0\n",
       "\\end{verbatim}\n",
       "\\rule{\\textwidth}{1pt}\n",
       "\\begin{verbatim}\n",
       "\\(A, B)\n",
       "\\end{verbatim}\n",
       "Matrix division using a polyalgorithm. For input matrices \\texttt{A} and \\texttt{B}, the result \\texttt{X} is such that \\texttt{A*X == B} when \\texttt{A} is square. The solver that is used depends upon the structure of \\texttt{A}.  If \\texttt{A} is upper or lower triangular (or diagonal), no factorization of \\texttt{A} is required and the system is solved with either forward or backward substitution. For non-triangular square matrices, an LU factorization is used.\n",
       "\n",
       "For rectangular \\texttt{A} the result is the minimum-norm least squares solution computed by a pivoted QR factorization of \\texttt{A} and a rank estimate of \\texttt{A} based on the R factor.\n",
       "\n",
       "When \\texttt{A} is sparse, a similar polyalgorithm is used. For indefinite matrices, the \\texttt{LDLt} factorization does not use pivoting during the numerical factorization and therefore the procedure can fail even for invertible matrices.\n",
       "\n",
       "See also: \\href{@ref}{\\texttt{factorize}}, \\href{@ref}{\\texttt{pinv}}.\n",
       "\n",
       "\\section{Examples}\n",
       "\\begin{verbatim}\n",
       "julia> A = [1 0; 1 -2]; B = [32; -4];\n",
       "\n",
       "julia> X = A \\ B\n",
       "2-element Vector{Float64}:\n",
       " 32.0\n",
       " 18.0\n",
       "\n",
       "julia> A * X == B\n",
       "true\n",
       "\\end{verbatim}\n",
       "\\rule{\\textwidth}{1pt}\n",
       "\\begin{verbatim}\n",
       "(\\)(F::QRSparse, B::StridedVecOrMat)\n",
       "\\end{verbatim}\n",
       "Solve the least squares problem $\\min\\|Ax - b\\|^2$ or the linear system of equations $Ax=b$ when \\texttt{F} is the sparse QR factorization of $A$. A basic solution is returned when the problem is underdetermined.\n",
       "\n",
       "\\section{Examples}\n",
       "\\begin{verbatim}\n",
       "julia> A = sparse([1,2,4], [1,1,1], [1.0,1.0,1.0], 4, 2)\n",
       "4×2 SparseMatrixCSC{Float64, Int64} with 3 stored entries:\n",
       " 1.0   ⋅\n",
       " 1.0   ⋅\n",
       "  ⋅    ⋅\n",
       " 1.0   ⋅\n",
       "\n",
       "julia> qr(A)\\fill(1.0, 4)\n",
       "2-element Vector{Float64}:\n",
       " 1.0\n",
       " 0.0\n",
       "\\end{verbatim}\n"
      ],
      "text/markdown": [
       "```\n",
       "\\(x, y)\n",
       "```\n",
       "\n",
       "Left division operator: multiplication of `y` by the inverse of `x` on the left. Gives floating-point results for integer arguments.\n",
       "\n",
       "# Examples\n",
       "\n",
       "```jldoctest\n",
       "julia> 3 \\ 6\n",
       "2.0\n",
       "\n",
       "julia> inv(3) * 6\n",
       "2.0\n",
       "\n",
       "julia> A = [4 3; 2 1]; x = [5, 6];\n",
       "\n",
       "julia> A \\ x\n",
       "2-element Vector{Float64}:\n",
       "  6.5\n",
       " -7.0\n",
       "\n",
       "julia> inv(A) * x\n",
       "2-element Vector{Float64}:\n",
       "  6.5\n",
       " -7.0\n",
       "```\n",
       "\n",
       "---\n",
       "\n",
       "```\n",
       "\\(A, B)\n",
       "```\n",
       "\n",
       "Matrix division using a polyalgorithm. For input matrices `A` and `B`, the result `X` is such that `A*X == B` when `A` is square. The solver that is used depends upon the structure of `A`.  If `A` is upper or lower triangular (or diagonal), no factorization of `A` is required and the system is solved with either forward or backward substitution. For non-triangular square matrices, an LU factorization is used.\n",
       "\n",
       "For rectangular `A` the result is the minimum-norm least squares solution computed by a pivoted QR factorization of `A` and a rank estimate of `A` based on the R factor.\n",
       "\n",
       "When `A` is sparse, a similar polyalgorithm is used. For indefinite matrices, the `LDLt` factorization does not use pivoting during the numerical factorization and therefore the procedure can fail even for invertible matrices.\n",
       "\n",
       "See also: [`factorize`](@ref), [`pinv`](@ref).\n",
       "\n",
       "# Examples\n",
       "\n",
       "```jldoctest\n",
       "julia> A = [1 0; 1 -2]; B = [32; -4];\n",
       "\n",
       "julia> X = A \\ B\n",
       "2-element Vector{Float64}:\n",
       " 32.0\n",
       " 18.0\n",
       "\n",
       "julia> A * X == B\n",
       "true\n",
       "```\n",
       "\n",
       "---\n",
       "\n",
       "```\n",
       "(\\)(F::QRSparse, B::StridedVecOrMat)\n",
       "```\n",
       "\n",
       "Solve the least squares problem $\\min\\|Ax - b\\|^2$ or the linear system of equations $Ax=b$ when `F` is the sparse QR factorization of $A$. A basic solution is returned when the problem is underdetermined.\n",
       "\n",
       "# Examples\n",
       "\n",
       "```jldoctest\n",
       "julia> A = sparse([1,2,4], [1,1,1], [1.0,1.0,1.0], 4, 2)\n",
       "4×2 SparseMatrixCSC{Float64, Int64} with 3 stored entries:\n",
       " 1.0   ⋅\n",
       " 1.0   ⋅\n",
       "  ⋅    ⋅\n",
       " 1.0   ⋅\n",
       "\n",
       "julia> qr(A)\\fill(1.0, 4)\n",
       "2-element Vector{Float64}:\n",
       " 1.0\n",
       " 0.0\n",
       "```\n"
      ],
      "text/plain": [
       "\u001b[36m  \\(x, y)\u001b[39m\n",
       "\n",
       "  Left division operator: multiplication of \u001b[36my\u001b[39m by the inverse of \u001b[36mx\u001b[39m on the left.\n",
       "  Gives floating-point results for integer arguments.\n",
       "\n",
       "\u001b[1m  Examples\u001b[22m\n",
       "\u001b[1m  ≡≡≡≡≡≡≡≡≡≡\u001b[22m\n",
       "\n",
       "\u001b[36m  julia> 3 \\ 6\u001b[39m\n",
       "\u001b[36m  2.0\u001b[39m\n",
       "\u001b[36m  \u001b[39m\n",
       "\u001b[36m  julia> inv(3) * 6\u001b[39m\n",
       "\u001b[36m  2.0\u001b[39m\n",
       "\u001b[36m  \u001b[39m\n",
       "\u001b[36m  julia> A = [4 3; 2 1]; x = [5, 6];\u001b[39m\n",
       "\u001b[36m  \u001b[39m\n",
       "\u001b[36m  julia> A \\ x\u001b[39m\n",
       "\u001b[36m  2-element Vector{Float64}:\u001b[39m\n",
       "\u001b[36m    6.5\u001b[39m\n",
       "\u001b[36m   -7.0\u001b[39m\n",
       "\u001b[36m  \u001b[39m\n",
       "\u001b[36m  julia> inv(A) * x\u001b[39m\n",
       "\u001b[36m  2-element Vector{Float64}:\u001b[39m\n",
       "\u001b[36m    6.5\u001b[39m\n",
       "\u001b[36m   -7.0\u001b[39m\n",
       "\n",
       "  ────────────────────────────────────────────────────────────────────────────\n",
       "\n",
       "\u001b[36m  \\(A, B)\u001b[39m\n",
       "\n",
       "  Matrix division using a polyalgorithm. For input matrices \u001b[36mA\u001b[39m and \u001b[36mB\u001b[39m, the\n",
       "  result \u001b[36mX\u001b[39m is such that \u001b[36mA*X == B\u001b[39m when \u001b[36mA\u001b[39m is square. The solver that is used\n",
       "  depends upon the structure of \u001b[36mA\u001b[39m. If \u001b[36mA\u001b[39m is upper or lower triangular (or\n",
       "  diagonal), no factorization of \u001b[36mA\u001b[39m is required and the system is solved with\n",
       "  either forward or backward substitution. For non-triangular square matrices,\n",
       "  an LU factorization is used.\n",
       "\n",
       "  For rectangular \u001b[36mA\u001b[39m the result is the minimum-norm least squares solution\n",
       "  computed by a pivoted QR factorization of \u001b[36mA\u001b[39m and a rank estimate of \u001b[36mA\u001b[39m based\n",
       "  on the R factor.\n",
       "\n",
       "  When \u001b[36mA\u001b[39m is sparse, a similar polyalgorithm is used. For indefinite matrices,\n",
       "  the \u001b[36mLDLt\u001b[39m factorization does not use pivoting during the numerical\n",
       "  factorization and therefore the procedure can fail even for invertible\n",
       "  matrices.\n",
       "\n",
       "  See also: \u001b[36mfactorize\u001b[39m, \u001b[36mpinv\u001b[39m.\n",
       "\n",
       "\u001b[1m  Examples\u001b[22m\n",
       "\u001b[1m  ≡≡≡≡≡≡≡≡≡≡\u001b[22m\n",
       "\n",
       "\u001b[36m  julia> A = [1 0; 1 -2]; B = [32; -4];\u001b[39m\n",
       "\u001b[36m  \u001b[39m\n",
       "\u001b[36m  julia> X = A \\ B\u001b[39m\n",
       "\u001b[36m  2-element Vector{Float64}:\u001b[39m\n",
       "\u001b[36m   32.0\u001b[39m\n",
       "\u001b[36m   18.0\u001b[39m\n",
       "\u001b[36m  \u001b[39m\n",
       "\u001b[36m  julia> A * X == B\u001b[39m\n",
       "\u001b[36m  true\u001b[39m\n",
       "\n",
       "  ────────────────────────────────────────────────────────────────────────────\n",
       "\n",
       "\u001b[36m  (\\)(F::QRSparse, B::StridedVecOrMat)\u001b[39m\n",
       "\n",
       "  Solve the least squares problem \u001b[35m\\min\\|Ax - b\\|^2\u001b[39m or the linear system of\n",
       "  equations \u001b[35mAx=b\u001b[39m when \u001b[36mF\u001b[39m is the sparse QR factorization of \u001b[35mA\u001b[39m. A basic solution\n",
       "  is returned when the problem is underdetermined.\n",
       "\n",
       "\u001b[1m  Examples\u001b[22m\n",
       "\u001b[1m  ≡≡≡≡≡≡≡≡≡≡\u001b[22m\n",
       "\n",
       "\u001b[36m  julia> A = sparse([1,2,4], [1,1,1], [1.0,1.0,1.0], 4, 2)\u001b[39m\n",
       "\u001b[36m  4×2 SparseMatrixCSC{Float64, Int64} with 3 stored entries:\u001b[39m\n",
       "\u001b[36m   1.0   ⋅\u001b[39m\n",
       "\u001b[36m   1.0   ⋅\u001b[39m\n",
       "\u001b[36m    ⋅    ⋅\u001b[39m\n",
       "\u001b[36m   1.0   ⋅\u001b[39m\n",
       "\u001b[36m  \u001b[39m\n",
       "\u001b[36m  julia> qr(A)\\fill(1.0, 4)\u001b[39m\n",
       "\u001b[36m  2-element Vector{Float64}:\u001b[39m\n",
       "\u001b[36m   1.0\u001b[39m\n",
       "\u001b[36m   0.0\u001b[39m"
      ]
     },
     "execution_count": 47,
     "metadata": {},
     "output_type": "execute_result"
    }
   ],
   "source": [
    "?\\"
   ]
  },
  {
   "cell_type": "code",
   "execution_count": 48,
   "metadata": {
    "collapsed": false
   },
   "outputs": [
    {
     "data": {
      "text/html": [
       "\\(A::<b>AbstractMatrix</b>, B::<b>AbstractVecOrMat</b>) in LinearAlgebra at <a href=\"file:///Users/julia/buildbot/worker/package_macos64/build/usr/share/julia/stdlib/v1.7/LinearAlgebra/src/generic.jl\" target=\"_blank\">/Applications/Julia-1.7.app/Contents/Resources/julia/share/julia/stdlib/v1.7/LinearAlgebra/src/generic.jl:1128</a>"
      ],
      "text/plain": [
       "\\(A::AbstractMatrix, B::AbstractVecOrMat) in LinearAlgebra at /Applications/Julia-1.7.app/Contents/Resources/julia/share/julia/stdlib/v1.7/LinearAlgebra/src/generic.jl:1128"
      ]
     },
     "execution_count": 48,
     "metadata": {},
     "output_type": "execute_result"
    }
   ],
   "source": [
    "# use @which to see source code of \\\n",
    "@which A \\ b"
   ]
  },
  {
   "cell_type": "code",
   "execution_count": 18,
   "metadata": {
    "collapsed": false
   },
   "outputs": [
    {
     "data": {
      "text/plain": [
       "(-0.0009135994480359265, 2.0733614611315265, 5)"
      ]
     },
     "execution_count": 18,
     "metadata": {},
     "output_type": "execute_result"
    }
   ],
   "source": [
    "# determinant, trace, rank, ...etc\n",
    "x = rand(5, 5)\n",
    "det(x), tr(x), rank(x)"
   ]
  },
  {
   "cell_type": "markdown",
   "metadata": {},
   "source": [
    "# Julia for statistical genetics\n",
    "\n",
    "+ JuliaStats (https://github.com/JuliaStats): 40 repositories for general statistic packages\n",
    "+ OpenMendel (https://github.com/OpenMendel): 36 repositories for genetic analysis, most notably the \"gateway packages\"\n",
    "    + SnpArrays.jl: https://github.com/OpenMendel/SnpArrays.jl\n",
    "    + VCFTools.jl: https://github.com/OpenMendel/VCFTools.jl\n",
    "    + BGEN.jl: https://github.com/OpenMendel/BGEN.jl\n",
    "    + PGEN.jl: https://github.com/OpenMendel/PGEN.jl\n",
    "    \n",
    "These packages are similar to PLINK and VCFTools...etc, the only difference is they exist in the **high-level** programming environment, which allows for plotting and custom-defined operations"
   ]
  },
  {
   "cell_type": "markdown",
   "metadata": {},
   "source": [
    "## SnpArrays.jl instead of PLINK\n",
    "\n",
    "SnpArrays.jl (https://github.com/OpenMendel/SnpArrays.jl) contain Julia utilities to read, summarize, filter, merge, and perform compressed linear algebra on binary PLINK (.bed/.bim/.fam) files"
   ]
  },
  {
   "cell_type": "code",
   "execution_count": 49,
   "metadata": {
    "collapsed": false
   },
   "outputs": [
    {
     "data": {
      "text/plain": [
       "\"/Users/biona001/.julia/dev/SnpArrays/data\""
      ]
     },
     "execution_count": 49,
     "metadata": {},
     "output_type": "execute_result"
    }
   ],
   "source": [
    "# example data\n",
    "using SnpArrays, Plots\n",
    "datapath = normpath(SnpArrays.datadir())"
   ]
  },
  {
   "cell_type": "markdown",
   "metadata": {},
   "source": [
    "The ; will bring up bash-shell within Julia REPL or jupyter notebook."
   ]
  },
  {
   "cell_type": "code",
   "execution_count": 50,
   "metadata": {
    "collapsed": false
   },
   "outputs": [
    {
     "name": "stdout",
     "output_type": "stream",
     "text": [
      "EUR_subset.bed\n",
      "EUR_subset.bim\n",
      "EUR_subset.fam\n",
      "mouse\n",
      "mouse.bed\n",
      "mouse.bim\n",
      "mouse.fam\n"
     ]
    }
   ],
   "source": [
    ";ls /Users/biona001/.julia/dev/SnpArrays/data"
   ]
  },
  {
   "cell_type": "code",
   "execution_count": 51,
   "metadata": {
    "collapsed": false
   },
   "outputs": [
    {
     "data": {
      "text/plain": [
       "SnpData(people: 1940, snps: 10150,\n",
       "snp_info: \n",
       " Row │ chromosome  snpid       genetic_distance  position  allele1  allele2\n",
       "     │ String      String      Float64           Int64     String   String\n",
       "─────┼──────────────────────────────────────────────────────────────────────\n",
       "   1 │ 1           rs3683945           0.0              0  A        G\n",
       "   2 │ 1           rs3707673           0.1              1  G        A\n",
       "   3 │ 1           rs6269442           0.11751          2  A        G\n",
       "   4 │ 1           rs6336442           0.135771         3  A        G\n",
       "   5 │ 1           rs13475700          0.24268          5  A        C\n",
       "   6 │ 1           rs3658242           0.251925         6  A        T\n",
       "…,\n",
       "person_info: \n",
       " Row │ fid        iid         father        mother        sex        phenotype\n",
       "     │ Abstract…  Abstract…   Abstract…     Abstract…     Abstract…  Abstract…\n",
       "─────┼─────────────────────────────────────────────────────────────────────────\n",
       "   1 │ 1_3        A048005080  H2.3:C5.2(3)  H2.3:G2.2(3)  2          -9\n",
       "   2 │ 1_5        A048006063  E5.2:H5.1(4)  E5.2:D4.1(4)  1          -9\n",
       "   3 │ 1_1        A048006555  E1.3:H1.2(3)  E1.3:D1.2(3)  1          -9\n",
       "   4 │ 1_1        A048007096  D3.2:G2.1(5)  D3.2:C5.1(5)  1          -9\n",
       "   5 │ 1_3        A048010273  G5.2:B5.1(4)  G5.2:F5.1(2)  2          -9\n",
       "   6 │ 1_1        A048010371  H4.2:C5.1(4)  H4.2:G1.1(7)  1          -9\n",
       "…,\n",
       "srcbed: /Users/biona001/.julia/dev/SnpArrays/data/mouse.bed\n",
       "srcbim: /Users/biona001/.julia/dev/SnpArrays/data/mouse.bim\n",
       "srcfam: /Users/biona001/.julia/dev/SnpArrays/data/mouse.fam\n",
       ")"
      ]
     },
     "execution_count": 51,
     "metadata": {},
     "output_type": "execute_result"
    }
   ],
   "source": [
    "# read PLINK file\n",
    "xdata = SnpData(\"/Users/biona001/.julia/dev/SnpArrays/data/mouse\")"
   ]
  },
  {
   "cell_type": "code",
   "execution_count": 52,
   "metadata": {
    "collapsed": false
   },
   "outputs": [
    {
     "data": {
      "text/plain": [
       "1940×10150 SnpArray:\n",
       " 0x02  0x02  0x02  0x02  0x03  0x02  …  0x03  0x03  0x03  0x03  0x03  0x03\n",
       " 0x02  0x02  0x03  0x02  0x02  0x02     0x03  0x03  0x03  0x03  0x03  0x03\n",
       " 0x03  0x03  0x03  0x03  0x03  0x03     0x03  0x03  0x03  0x03  0x03  0x03\n",
       " 0x02  0x02  0x02  0x02  0x02  0x02     0x03  0x03  0x03  0x03  0x03  0x03\n",
       " 0x03  0x03  0x03  0x03  0x03  0x03     0x02  0x02  0x02  0x02  0x02  0x02\n",
       " 0x02  0x02  0x02  0x02  0x03  0x02  …  0x03  0x03  0x03  0x03  0x03  0x03\n",
       " 0x02  0x02  0x02  0x02  0x03  0x02     0x03  0x03  0x03  0x03  0x03  0x03\n",
       " 0x02  0x02  0x03  0x02  0x02  0x02     0x03  0x03  0x03  0x03  0x03  0x03\n",
       " 0x02  0x02  0x03  0x02  0x02  0x02     0x03  0x03  0x03  0x03  0x03  0x03\n",
       " 0x03  0x03  0x03  0x03  0x03  0x03     0x02  0x02  0x02  0x02  0x02  0x02\n",
       " 0x03  0x03  0x03  0x03  0x03  0x03  …  0x00  0x00  0x00  0x00  0x00  0x00\n",
       " 0x02  0x02  0x02  0x02  0x03  0x02     0x03  0x03  0x03  0x03  0x03  0x03\n",
       " 0x03  0x03  0x03  0x03  0x03  0x03     0x00  0x00  0x00  0x00  0x00  0x00\n",
       "    ⋮                             ⋮  ⋱           ⋮                    \n",
       " 0x03  0x03  0x03  0x03  0x03  0x03     0x03  0x03  0x03  0x03  0x03  0x03\n",
       " 0x03  0x03  0x03  0x03  0x03  0x03     0x03  0x03  0x03  0x03  0x03  0x03\n",
       " 0x02  0x02  0x02  0x02  0x02  0x02  …  0x03  0x03  0x03  0x03  0x03  0x03\n",
       " 0x02  0x02  0x02  0x02  0x03  0x02     0x03  0x03  0x03  0x03  0x03  0x03\n",
       " 0x03  0x03  0x03  0x03  0x03  0x03     0x03  0x03  0x03  0x03  0x03  0x03\n",
       " 0x02  0x02  0x02  0x02  0x03  0x02     0x03  0x03  0x03  0x03  0x03  0x03\n",
       " 0x03  0x03  0x03  0x03  0x03  0x03     0x03  0x03  0x03  0x03  0x03  0x03\n",
       " 0x02  0x02  0x02  0x02  0x03  0x02  …  0x03  0x03  0x03  0x03  0x03  0x03\n",
       " 0x02  0x02  0x03  0x02  0x02  0x02     0x03  0x03  0x03  0x03  0x03  0x03\n",
       " 0x02  0x02  0x03  0x02  0x02  0x02     0x03  0x03  0x03  0x03  0x03  0x03\n",
       " 0x02  0x02  0x02  0x02  0x02  0x02     0x01  0x01  0x01  0x01  0x01  0x01\n",
       " 0x00  0x00  0x00  0x00  0x03  0x00     0x03  0x03  0x03  0x03  0x03  0x03"
      ]
     },
     "execution_count": 52,
     "metadata": {},
     "output_type": "execute_result"
    }
   ],
   "source": [
    "# compressed genotypes (2 bit per entry)\n",
    "x = xdata.snparray"
   ]
  },
  {
   "cell_type": "markdown",
   "metadata": {},
   "source": [
    "### Translating genotypes to numbers\n",
    "\n",
    "| Genotype | `SnpArray` | `model=ADDITIVE_MODEL` | `model=DOMINANT_MODEL` | `model=RECESSIVE_MODEL` |    \n",
    "|:---:|:---:|:---:|:---:|:---:|  \n",
    "| A1,A1 | 0x00 | 0 | 0 | 0 |  \n",
    "| missing | 0x01 | NaN | NaN | NaN |\n",
    "| A1,A2 | 0x02 | 1 | 1 | 0 |  \n",
    "| A2,A2 | 0x03 | 2 | 1 | 1 |  \n",
    "\n",
    "`convert` and `copyto!` are main functions that will perform this conversion"
   ]
  },
  {
   "cell_type": "code",
   "execution_count": 53,
   "metadata": {
    "collapsed": false
   },
   "outputs": [
    {
     "data": {
      "text/plain": [
       "1940×10150 Matrix{Float64}:\n",
       " 1.0  1.0  1.0  1.0  2.0  1.0  2.0  1.0  …    2.0    2.0    2.0    2.0    2.0\n",
       " 1.0  1.0  2.0  1.0  1.0  1.0  1.0  2.0       2.0    2.0    2.0    2.0    2.0\n",
       " 2.0  2.0  2.0  2.0  2.0  2.0  2.0  2.0       2.0    2.0    2.0    2.0    2.0\n",
       " 1.0  1.0  1.0  1.0  1.0  1.0  1.0  2.0       2.0    2.0    2.0    2.0    2.0\n",
       " 2.0  2.0  2.0  2.0  2.0  2.0  2.0  2.0       1.0    1.0    1.0    1.0    1.0\n",
       " 1.0  1.0  1.0  1.0  2.0  1.0  2.0  1.0  …    2.0    2.0    2.0    2.0    2.0\n",
       " 1.0  1.0  1.0  1.0  2.0  1.0  2.0  1.0       2.0    2.0    2.0    2.0    2.0\n",
       " 1.0  1.0  2.0  1.0  1.0  1.0  1.0  2.0       2.0    2.0    2.0    2.0    2.0\n",
       " 1.0  1.0  2.0  1.0  1.0  1.0  1.0  2.0       2.0    2.0    2.0    2.0    2.0\n",
       " 2.0  2.0  2.0  2.0  2.0  2.0  2.0  2.0       1.0    1.0    1.0    1.0    1.0\n",
       " 2.0  2.0  2.0  2.0  2.0  2.0  2.0  2.0  …    0.0    0.0    0.0    0.0    0.0\n",
       " 1.0  1.0  1.0  1.0  2.0  1.0  2.0  1.0       2.0    2.0    2.0    2.0    2.0\n",
       " 2.0  2.0  2.0  2.0  2.0  2.0  2.0  2.0       0.0    0.0    0.0    0.0    0.0\n",
       " ⋮                        ⋮              ⋱    ⋮                         \n",
       " 2.0  2.0  2.0  2.0  2.0  2.0  2.0  2.0       2.0    2.0    2.0    2.0    2.0\n",
       " 2.0  2.0  2.0  2.0  2.0  2.0  2.0  2.0       2.0    2.0    2.0    2.0    2.0\n",
       " 1.0  1.0  1.0  1.0  1.0  1.0  1.0  2.0  …    2.0    2.0    2.0    2.0    2.0\n",
       " 1.0  1.0  1.0  1.0  2.0  1.0  2.0  1.0       2.0    2.0    2.0    2.0    2.0\n",
       " 2.0  2.0  2.0  2.0  2.0  2.0  2.0  2.0       2.0    2.0    2.0    2.0    2.0\n",
       " 1.0  1.0  1.0  1.0  2.0  1.0  2.0  1.0       2.0    2.0    2.0    2.0    2.0\n",
       " 2.0  2.0  2.0  2.0  2.0  2.0  2.0  2.0       2.0    2.0    2.0    2.0    2.0\n",
       " 1.0  1.0  1.0  1.0  2.0  1.0  2.0  1.0  …    2.0    2.0    2.0    2.0    2.0\n",
       " 1.0  1.0  2.0  1.0  1.0  1.0  1.0  2.0       2.0    2.0    2.0    2.0    2.0\n",
       " 1.0  1.0  2.0  1.0  1.0  1.0  1.0  2.0       2.0    2.0    2.0    2.0    2.0\n",
       " 1.0  1.0  1.0  1.0  1.0  1.0  1.0  2.0     NaN    NaN    NaN    NaN    NaN\n",
       " 0.0  0.0  0.0  0.0  2.0  0.0  2.0  0.0       2.0    2.0    2.0    2.0    2.0"
      ]
     },
     "execution_count": 53,
     "metadata": {},
     "output_type": "execute_result"
    }
   ],
   "source": [
    "# convert genotypes to numeric matrix\n",
    "xfloat = convert(Matrix{Float64}, x, model=ADDITIVE_MODEL,\n",
    "    center=false, scale=false, impute=false)"
   ]
  },
  {
   "cell_type": "code",
   "execution_count": 24,
   "metadata": {
    "collapsed": true
   },
   "outputs": [],
   "source": [
    "# to save memory, use `copyto!` to convert SNP by SNP\n",
    "n, p = size(xdata)\n",
    "storage = zeros(n)\n",
    "for i in 1:p\n",
    "    copyto!(storage, @view(x[:, i]), center=true, scale=true, impute=true)\n",
    "    # do something with `storage`\n",
    "end"
   ]
  },
  {
   "cell_type": "markdown",
   "metadata": {},
   "source": [
    "### Minor allele frequency"
   ]
  },
  {
   "cell_type": "code",
   "execution_count": 54,
   "metadata": {
    "collapsed": false
   },
   "outputs": [
    {
     "data": {
      "image/svg+xml": [
       "<?xml version=\"1.0\" encoding=\"utf-8\"?>\n",
       "<svg xmlns=\"http://www.w3.org/2000/svg\" xmlns:xlink=\"http://www.w3.org/1999/xlink\" width=\"600\" height=\"400\" viewBox=\"0 0 2400 1600\">\n",
       "<defs>\n",
       "  <clipPath id=\"clip420\">\n",
       "    <rect x=\"0\" y=\"0\" width=\"2400\" height=\"1600\"/>\n",
       "  </clipPath>\n",
       "</defs>\n",
       "<path clip-path=\"url(#clip420)\" d=\"\n",
       "M0 1600 L2400 1600 L2400 0 L0 0  Z\n",
       "  \" fill=\"#ffffff\" fill-rule=\"evenodd\" fill-opacity=\"1\"/>\n",
       "<defs>\n",
       "  <clipPath id=\"clip421\">\n",
       "    <rect x=\"480\" y=\"0\" width=\"1681\" height=\"1600\"/>\n",
       "  </clipPath>\n",
       "</defs>\n",
       "<path clip-path=\"url(#clip420)\" d=\"\n",
       "M235.283 1423.18 L2352.76 1423.18 L2352.76 47.2441 L235.283 47.2441  Z\n",
       "  \" fill=\"#ffffff\" fill-rule=\"evenodd\" fill-opacity=\"1\"/>\n",
       "<defs>\n",
       "  <clipPath id=\"clip422\">\n",
       "    <rect x=\"235\" y=\"47\" width=\"2118\" height=\"1377\"/>\n",
       "  </clipPath>\n",
       "</defs>\n",
       "<polyline clip-path=\"url(#clip422)\" style=\"stroke:#000000; stroke-linecap:butt; stroke-linejoin:round; stroke-width:2; stroke-opacity:0.1; fill:none\" points=\"\n",
       "  587.316,1423.18 587.316,47.2441 \n",
       "  \"/>\n",
       "<polyline clip-path=\"url(#clip422)\" style=\"stroke:#000000; stroke-linecap:butt; stroke-linejoin:round; stroke-width:2; stroke-opacity:0.1; fill:none\" points=\"\n",
       "  979.929,1423.18 979.929,47.2441 \n",
       "  \"/>\n",
       "<polyline clip-path=\"url(#clip422)\" style=\"stroke:#000000; stroke-linecap:butt; stroke-linejoin:round; stroke-width:2; stroke-opacity:0.1; fill:none\" points=\"\n",
       "  1372.54,1423.18 1372.54,47.2441 \n",
       "  \"/>\n",
       "<polyline clip-path=\"url(#clip422)\" style=\"stroke:#000000; stroke-linecap:butt; stroke-linejoin:round; stroke-width:2; stroke-opacity:0.1; fill:none\" points=\"\n",
       "  1765.16,1423.18 1765.16,47.2441 \n",
       "  \"/>\n",
       "<polyline clip-path=\"url(#clip422)\" style=\"stroke:#000000; stroke-linecap:butt; stroke-linejoin:round; stroke-width:2; stroke-opacity:0.1; fill:none\" points=\"\n",
       "  2157.77,1423.18 2157.77,47.2441 \n",
       "  \"/>\n",
       "<polyline clip-path=\"url(#clip420)\" style=\"stroke:#000000; stroke-linecap:butt; stroke-linejoin:round; stroke-width:4; stroke-opacity:1; fill:none\" points=\"\n",
       "  235.283,1423.18 2352.76,1423.18 \n",
       "  \"/>\n",
       "<polyline clip-path=\"url(#clip420)\" style=\"stroke:#000000; stroke-linecap:butt; stroke-linejoin:round; stroke-width:4; stroke-opacity:1; fill:none\" points=\"\n",
       "  587.316,1423.18 587.316,1404.28 \n",
       "  \"/>\n",
       "<polyline clip-path=\"url(#clip420)\" style=\"stroke:#000000; stroke-linecap:butt; stroke-linejoin:round; stroke-width:4; stroke-opacity:1; fill:none\" points=\"\n",
       "  979.929,1423.18 979.929,1404.28 \n",
       "  \"/>\n",
       "<polyline clip-path=\"url(#clip420)\" style=\"stroke:#000000; stroke-linecap:butt; stroke-linejoin:round; stroke-width:4; stroke-opacity:1; fill:none\" points=\"\n",
       "  1372.54,1423.18 1372.54,1404.28 \n",
       "  \"/>\n",
       "<polyline clip-path=\"url(#clip420)\" style=\"stroke:#000000; stroke-linecap:butt; stroke-linejoin:round; stroke-width:4; stroke-opacity:1; fill:none\" points=\"\n",
       "  1765.16,1423.18 1765.16,1404.28 \n",
       "  \"/>\n",
       "<polyline clip-path=\"url(#clip420)\" style=\"stroke:#000000; stroke-linecap:butt; stroke-linejoin:round; stroke-width:4; stroke-opacity:1; fill:none\" points=\"\n",
       "  2157.77,1423.18 2157.77,1404.28 \n",
       "  \"/>\n",
       "<path clip-path=\"url(#clip420)\" d=\"M565.313 1454.1 Q561.702 1454.1 559.874 1457.66 Q558.068 1461.2 558.068 1468.33 Q558.068 1475.44 559.874 1479.01 Q561.702 1482.55 565.313 1482.55 Q568.948 1482.55 570.753 1479.01 Q572.582 1475.44 572.582 1468.33 Q572.582 1461.2 570.753 1457.66 Q568.948 1454.1 565.313 1454.1 M565.313 1450.39 Q571.124 1450.39 574.179 1455 Q577.258 1459.58 577.258 1468.33 Q577.258 1477.06 574.179 1481.67 Q571.124 1486.25 565.313 1486.25 Q559.503 1486.25 556.425 1481.67 Q553.369 1477.06 553.369 1468.33 Q553.369 1459.58 556.425 1455 Q559.503 1450.39 565.313 1450.39 Z\" fill=\"#000000\" fill-rule=\"evenodd\" fill-opacity=\"1\" /><path clip-path=\"url(#clip420)\" d=\"M585.475 1479.7 L590.36 1479.7 L590.36 1485.58 L585.475 1485.58 L585.475 1479.7 Z\" fill=\"#000000\" fill-rule=\"evenodd\" fill-opacity=\"1\" /><path clip-path=\"url(#clip420)\" d=\"M601.355 1481.64 L608.994 1481.64 L608.994 1455.28 L600.684 1456.95 L600.684 1452.69 L608.947 1451.02 L613.623 1451.02 L613.623 1481.64 L621.262 1481.64 L621.262 1485.58 L601.355 1485.58 L601.355 1481.64 Z\" fill=\"#000000\" fill-rule=\"evenodd\" fill-opacity=\"1\" /><path clip-path=\"url(#clip420)\" d=\"M958.112 1454.1 Q954.501 1454.1 952.672 1457.66 Q950.866 1461.2 950.866 1468.33 Q950.866 1475.44 952.672 1479.01 Q954.501 1482.55 958.112 1482.55 Q961.746 1482.55 963.552 1479.01 Q965.38 1475.44 965.38 1468.33 Q965.38 1461.2 963.552 1457.66 Q961.746 1454.1 958.112 1454.1 M958.112 1450.39 Q963.922 1450.39 966.977 1455 Q970.056 1459.58 970.056 1468.33 Q970.056 1477.06 966.977 1481.67 Q963.922 1486.25 958.112 1486.25 Q952.302 1486.25 949.223 1481.67 Q946.167 1477.06 946.167 1468.33 Q946.167 1459.58 949.223 1455 Q952.302 1450.39 958.112 1450.39 Z\" fill=\"#000000\" fill-rule=\"evenodd\" fill-opacity=\"1\" /><path clip-path=\"url(#clip420)\" d=\"M978.274 1479.7 L983.158 1479.7 L983.158 1485.58 L978.274 1485.58 L978.274 1479.7 Z\" fill=\"#000000\" fill-rule=\"evenodd\" fill-opacity=\"1\" /><path clip-path=\"url(#clip420)\" d=\"M997.371 1481.64 L1013.69 1481.64 L1013.69 1485.58 L991.746 1485.58 L991.746 1481.64 Q994.408 1478.89 998.991 1474.26 Q1003.6 1469.61 1004.78 1468.27 Q1007.02 1465.74 1007.9 1464.01 Q1008.81 1462.25 1008.81 1460.56 Q1008.81 1457.8 1006.86 1456.07 Q1004.94 1454.33 1001.84 1454.33 Q999.639 1454.33 997.186 1455.09 Q994.755 1455.86 991.977 1457.41 L991.977 1452.69 Q994.801 1451.55 997.255 1450.97 Q999.709 1450.39 1001.75 1450.39 Q1007.12 1450.39 1010.31 1453.08 Q1013.51 1455.77 1013.51 1460.26 Q1013.51 1462.39 1012.69 1464.31 Q1011.91 1466.2 1009.8 1468.8 Q1009.22 1469.47 1006.12 1472.69 Q1003.02 1475.88 997.371 1481.64 Z\" fill=\"#000000\" fill-rule=\"evenodd\" fill-opacity=\"1\" /><path clip-path=\"url(#clip420)\" d=\"M1350.25 1454.1 Q1346.64 1454.1 1344.81 1457.66 Q1343.01 1461.2 1343.01 1468.33 Q1343.01 1475.44 1344.81 1479.01 Q1346.64 1482.55 1350.25 1482.55 Q1353.88 1482.55 1355.69 1479.01 Q1357.52 1475.44 1357.52 1468.33 Q1357.52 1461.2 1355.69 1457.66 Q1353.88 1454.1 1350.25 1454.1 M1350.25 1450.39 Q1356.06 1450.39 1359.12 1455 Q1362.19 1459.58 1362.19 1468.33 Q1362.19 1477.06 1359.12 1481.67 Q1356.06 1486.25 1350.25 1486.25 Q1344.44 1486.25 1341.36 1481.67 Q1338.31 1477.06 1338.31 1468.33 Q1338.31 1459.58 1341.36 1455 Q1344.44 1450.39 1350.25 1450.39 Z\" fill=\"#000000\" fill-rule=\"evenodd\" fill-opacity=\"1\" /><path clip-path=\"url(#clip420)\" d=\"M1370.41 1479.7 L1375.3 1479.7 L1375.3 1485.58 L1370.41 1485.58 L1370.41 1479.7 Z\" fill=\"#000000\" fill-rule=\"evenodd\" fill-opacity=\"1\" /><path clip-path=\"url(#clip420)\" d=\"M1399.65 1466.95 Q1403 1467.66 1404.88 1469.93 Q1406.78 1472.2 1406.78 1475.53 Q1406.78 1480.65 1403.26 1483.45 Q1399.74 1486.25 1393.26 1486.25 Q1391.08 1486.25 1388.77 1485.81 Q1386.48 1485.39 1384.02 1484.54 L1384.02 1480.02 Q1385.97 1481.16 1388.28 1481.74 Q1390.6 1482.32 1393.12 1482.32 Q1397.52 1482.32 1399.81 1480.58 Q1402.13 1478.84 1402.13 1475.53 Q1402.13 1472.48 1399.97 1470.77 Q1397.84 1469.03 1394.02 1469.03 L1390 1469.03 L1390 1465.19 L1394.21 1465.19 Q1397.66 1465.19 1399.49 1463.82 Q1401.32 1462.43 1401.32 1459.84 Q1401.32 1457.18 1399.42 1455.77 Q1397.54 1454.33 1394.02 1454.33 Q1392.1 1454.33 1389.9 1454.75 Q1387.7 1455.16 1385.07 1456.04 L1385.07 1451.88 Q1387.73 1451.14 1390.04 1450.77 Q1392.38 1450.39 1394.44 1450.39 Q1399.76 1450.39 1402.87 1452.83 Q1405.97 1455.23 1405.97 1459.35 Q1405.97 1462.22 1404.32 1464.21 Q1402.68 1466.18 1399.65 1466.95 Z\" fill=\"#000000\" fill-rule=\"evenodd\" fill-opacity=\"1\" /><path clip-path=\"url(#clip420)\" d=\"M1742.3 1454.1 Q1738.69 1454.1 1736.86 1457.66 Q1735.05 1461.2 1735.05 1468.33 Q1735.05 1475.44 1736.86 1479.01 Q1738.69 1482.55 1742.3 1482.55 Q1745.93 1482.55 1747.74 1479.01 Q1749.57 1475.44 1749.57 1468.33 Q1749.57 1461.2 1747.74 1457.66 Q1745.93 1454.1 1742.3 1454.1 M1742.3 1450.39 Q1748.11 1450.39 1751.16 1455 Q1754.24 1459.58 1754.24 1468.33 Q1754.24 1477.06 1751.16 1481.67 Q1748.11 1486.25 1742.3 1486.25 Q1736.49 1486.25 1733.41 1481.67 Q1730.35 1477.06 1730.35 1468.33 Q1730.35 1459.58 1733.41 1455 Q1736.49 1450.39 1742.3 1450.39 Z\" fill=\"#000000\" fill-rule=\"evenodd\" fill-opacity=\"1\" /><path clip-path=\"url(#clip420)\" d=\"M1762.46 1479.7 L1767.34 1479.7 L1767.34 1485.58 L1762.46 1485.58 L1762.46 1479.7 Z\" fill=\"#000000\" fill-rule=\"evenodd\" fill-opacity=\"1\" /><path clip-path=\"url(#clip420)\" d=\"M1790.38 1455.09 L1778.57 1473.54 L1790.38 1473.54 L1790.38 1455.09 M1789.15 1451.02 L1795.03 1451.02 L1795.03 1473.54 L1799.96 1473.54 L1799.96 1477.43 L1795.03 1477.43 L1795.03 1485.58 L1790.38 1485.58 L1790.38 1477.43 L1774.77 1477.43 L1774.77 1472.92 L1789.15 1451.02 Z\" fill=\"#000000\" fill-rule=\"evenodd\" fill-opacity=\"1\" /><path clip-path=\"url(#clip420)\" d=\"M2135.65 1454.1 Q2132.04 1454.1 2130.21 1457.66 Q2128.41 1461.2 2128.41 1468.33 Q2128.41 1475.44 2130.21 1479.01 Q2132.04 1482.55 2135.65 1482.55 Q2139.28 1482.55 2141.09 1479.01 Q2142.92 1475.44 2142.92 1468.33 Q2142.92 1461.2 2141.09 1457.66 Q2139.28 1454.1 2135.65 1454.1 M2135.65 1450.39 Q2141.46 1450.39 2144.52 1455 Q2147.59 1459.58 2147.59 1468.33 Q2147.59 1477.06 2144.52 1481.67 Q2141.46 1486.25 2135.65 1486.25 Q2129.84 1486.25 2126.76 1481.67 Q2123.71 1477.06 2123.71 1468.33 Q2123.71 1459.58 2126.76 1455 Q2129.84 1450.39 2135.65 1450.39 Z\" fill=\"#000000\" fill-rule=\"evenodd\" fill-opacity=\"1\" /><path clip-path=\"url(#clip420)\" d=\"M2155.81 1479.7 L2160.7 1479.7 L2160.7 1485.58 L2155.81 1485.58 L2155.81 1479.7 Z\" fill=\"#000000\" fill-rule=\"evenodd\" fill-opacity=\"1\" /><path clip-path=\"url(#clip420)\" d=\"M2170.93 1451.02 L2189.28 1451.02 L2189.28 1454.96 L2175.21 1454.96 L2175.21 1463.43 Q2176.23 1463.08 2177.25 1462.92 Q2178.27 1462.73 2179.28 1462.73 Q2185.07 1462.73 2188.45 1465.9 Q2191.83 1469.08 2191.83 1474.49 Q2191.83 1480.07 2188.36 1483.17 Q2184.89 1486.25 2178.57 1486.25 Q2176.39 1486.25 2174.12 1485.88 Q2171.88 1485.51 2169.47 1484.77 L2169.47 1480.07 Q2171.55 1481.2 2173.78 1481.76 Q2176 1482.32 2178.47 1482.32 Q2182.48 1482.32 2184.82 1480.21 Q2187.15 1478.1 2187.15 1474.49 Q2187.15 1470.88 2184.82 1468.77 Q2182.48 1466.67 2178.47 1466.67 Q2176.6 1466.67 2174.72 1467.08 Q2172.87 1467.5 2170.93 1468.38 L2170.93 1451.02 Z\" fill=\"#000000\" fill-rule=\"evenodd\" fill-opacity=\"1\" /><path clip-path=\"url(#clip420)\" d=\"M959.692 1539.24 Q961.889 1535.29 964.944 1533.41 Q968 1531.54 972.137 1531.54 Q977.707 1531.54 980.731 1535.45 Q983.755 1539.33 983.755 1546.53 L983.755 1568.04 L977.867 1568.04 L977.867 1546.72 Q977.867 1541.59 976.052 1539.11 Q974.238 1536.63 970.514 1536.63 Q965.963 1536.63 963.321 1539.65 Q960.679 1542.68 960.679 1547.9 L960.679 1568.04 L954.791 1568.04 L954.791 1546.72 Q954.791 1541.56 952.977 1539.11 Q951.162 1536.63 947.375 1536.63 Q942.887 1536.63 940.245 1539.68 Q937.603 1542.71 937.603 1547.9 L937.603 1568.04 L931.715 1568.04 L931.715 1532.4 L937.603 1532.4 L937.603 1537.93 Q939.609 1534.66 942.41 1533.1 Q945.21 1531.54 949.062 1531.54 Q952.945 1531.54 955.65 1533.51 Q958.387 1535.48 959.692 1539.24 Z\" fill=\"#000000\" fill-rule=\"evenodd\" fill-opacity=\"1\" /><path clip-path=\"url(#clip420)\" d=\"M995.436 1532.4 L1001.29 1532.4 L1001.29 1568.04 L995.436 1568.04 L995.436 1532.4 M995.436 1518.52 L1001.29 1518.52 L1001.29 1525.93 L995.436 1525.93 L995.436 1518.52 Z\" fill=\"#000000\" fill-rule=\"evenodd\" fill-opacity=\"1\" /><path clip-path=\"url(#clip420)\" d=\"M1043.18 1546.53 L1043.18 1568.04 L1037.32 1568.04 L1037.32 1546.72 Q1037.32 1541.66 1035.35 1539.14 Q1033.38 1536.63 1029.43 1536.63 Q1024.69 1536.63 1021.95 1539.65 Q1019.21 1542.68 1019.21 1547.9 L1019.21 1568.04 L1013.32 1568.04 L1013.32 1532.4 L1019.21 1532.4 L1019.21 1537.93 Q1021.31 1534.72 1024.15 1533.13 Q1027.01 1531.54 1030.73 1531.54 Q1036.88 1531.54 1040.03 1535.36 Q1043.18 1539.14 1043.18 1546.53 Z\" fill=\"#000000\" fill-rule=\"evenodd\" fill-opacity=\"1\" /><path clip-path=\"url(#clip420)\" d=\"M1068.67 1536.5 Q1063.96 1536.5 1061.23 1540.19 Q1058.49 1543.85 1058.49 1550.25 Q1058.49 1556.65 1061.19 1560.34 Q1063.93 1564 1068.67 1564 Q1073.35 1564 1076.09 1560.31 Q1078.83 1556.62 1078.83 1550.25 Q1078.83 1543.92 1076.09 1540.23 Q1073.35 1536.5 1068.67 1536.5 M1068.67 1531.54 Q1076.31 1531.54 1080.67 1536.5 Q1085.03 1541.47 1085.03 1550.25 Q1085.03 1559 1080.67 1564 Q1076.31 1568.97 1068.67 1568.97 Q1061 1568.97 1056.64 1564 Q1052.31 1559 1052.31 1550.25 Q1052.31 1541.47 1056.64 1536.5 Q1061 1531.54 1068.67 1531.54 Z\" fill=\"#000000\" fill-rule=\"evenodd\" fill-opacity=\"1\" /><path clip-path=\"url(#clip420)\" d=\"M1115.4 1537.87 Q1114.41 1537.3 1113.23 1537.04 Q1112.09 1536.76 1110.69 1536.76 Q1105.72 1536.76 1103.05 1540 Q1100.41 1543.22 1100.41 1549.27 L1100.41 1568.04 L1094.52 1568.04 L1094.52 1532.4 L1100.41 1532.4 L1100.41 1537.93 Q1102.25 1534.69 1105.21 1533.13 Q1108.17 1531.54 1112.41 1531.54 Q1113.01 1531.54 1113.74 1531.63 Q1114.47 1531.7 1115.37 1531.85 L1115.4 1537.87 Z\" fill=\"#000000\" fill-rule=\"evenodd\" fill-opacity=\"1\" /><path clip-path=\"url(#clip420)\" d=\"M1158.46 1550.12 Q1151.36 1550.12 1148.63 1551.75 Q1145.89 1553.37 1145.89 1557.29 Q1145.89 1560.4 1147.93 1562.25 Q1150 1564.07 1153.53 1564.07 Q1158.4 1564.07 1161.33 1560.63 Q1164.29 1557.16 1164.29 1551.43 L1164.29 1550.12 L1158.46 1550.12 M1170.14 1547.71 L1170.14 1568.04 L1164.29 1568.04 L1164.29 1562.63 Q1162.28 1565.88 1159.29 1567.44 Q1156.3 1568.97 1151.97 1568.97 Q1146.49 1568.97 1143.25 1565.91 Q1140.03 1562.82 1140.03 1557.67 Q1140.03 1551.65 1144.04 1548.6 Q1148.09 1545.54 1156.07 1545.54 L1164.29 1545.54 L1164.29 1544.97 Q1164.29 1540.93 1161.61 1538.73 Q1158.97 1536.5 1154.16 1536.5 Q1151.11 1536.5 1148.21 1537.23 Q1145.32 1537.97 1142.64 1539.43 L1142.64 1534.02 Q1145.86 1532.78 1148.88 1532.17 Q1151.9 1531.54 1154.77 1531.54 Q1162.5 1531.54 1166.32 1535.55 Q1170.14 1539.56 1170.14 1547.71 Z\" fill=\"#000000\" fill-rule=\"evenodd\" fill-opacity=\"1\" /><path clip-path=\"url(#clip420)\" d=\"M1182.21 1518.52 L1188.06 1518.52 L1188.06 1568.04 L1182.21 1568.04 L1182.21 1518.52 Z\" fill=\"#000000\" fill-rule=\"evenodd\" fill-opacity=\"1\" /><path clip-path=\"url(#clip420)\" d=\"M1200.32 1518.52 L1206.17 1518.52 L1206.17 1568.04 L1200.32 1568.04 L1200.32 1518.52 Z\" fill=\"#000000\" fill-rule=\"evenodd\" fill-opacity=\"1\" /><path clip-path=\"url(#clip420)\" d=\"M1248.92 1548.76 L1248.92 1551.62 L1221.99 1551.62 Q1222.37 1557.67 1225.62 1560.85 Q1228.9 1564 1234.72 1564 Q1238.1 1564 1241.25 1563.17 Q1244.43 1562.35 1247.55 1560.69 L1247.55 1566.23 Q1244.4 1567.57 1241.09 1568.27 Q1237.78 1568.97 1234.37 1568.97 Q1225.84 1568.97 1220.85 1564 Q1215.88 1559.04 1215.88 1550.57 Q1215.88 1541.82 1220.59 1536.69 Q1225.33 1531.54 1233.35 1531.54 Q1240.55 1531.54 1244.72 1536.18 Q1248.92 1540.8 1248.92 1548.76 M1243.06 1547.04 Q1243 1542.23 1240.36 1539.37 Q1237.75 1536.5 1233.42 1536.5 Q1228.52 1536.5 1225.56 1539.27 Q1222.63 1542.04 1222.18 1547.07 L1243.06 1547.04 Z\" fill=\"#000000\" fill-rule=\"evenodd\" fill-opacity=\"1\" /><path clip-path=\"url(#clip420)\" d=\"M1258.53 1518.52 L1264.39 1518.52 L1264.39 1568.04 L1258.53 1568.04 L1258.53 1518.52 Z\" fill=\"#000000\" fill-rule=\"evenodd\" fill-opacity=\"1\" /><path clip-path=\"url(#clip420)\" d=\"M1307.13 1548.76 L1307.13 1551.62 L1280.21 1551.62 Q1280.59 1557.67 1283.83 1560.85 Q1287.11 1564 1292.94 1564 Q1296.31 1564 1299.46 1563.17 Q1302.64 1562.35 1305.76 1560.69 L1305.76 1566.23 Q1302.61 1567.57 1299.3 1568.27 Q1295.99 1568.97 1292.59 1568.97 Q1284.06 1568.97 1279.06 1564 Q1274.09 1559.04 1274.09 1550.57 Q1274.09 1541.82 1278.81 1536.69 Q1283.55 1531.54 1291.57 1531.54 Q1298.76 1531.54 1302.93 1536.18 Q1307.13 1540.8 1307.13 1548.76 M1301.28 1547.04 Q1301.21 1542.23 1298.57 1539.37 Q1295.96 1536.5 1291.63 1536.5 Q1286.73 1536.5 1283.77 1539.27 Q1280.84 1542.04 1280.4 1547.07 L1301.28 1547.04 Z\" fill=\"#000000\" fill-rule=\"evenodd\" fill-opacity=\"1\" /><path clip-path=\"url(#clip420)\" d=\"M1355.51 1518.52 L1355.51 1523.39 L1349.91 1523.39 Q1346.76 1523.39 1345.52 1524.66 Q1344.31 1525.93 1344.31 1529.24 L1344.31 1532.4 L1353.95 1532.4 L1353.95 1536.95 L1344.31 1536.95 L1344.31 1568.04 L1338.42 1568.04 L1338.42 1536.95 L1332.82 1536.95 L1332.82 1532.4 L1338.42 1532.4 L1338.42 1529.91 Q1338.42 1523.96 1341.19 1521.26 Q1343.96 1518.52 1349.97 1518.52 L1355.51 1518.52 Z\" fill=\"#000000\" fill-rule=\"evenodd\" fill-opacity=\"1\" /><path clip-path=\"url(#clip420)\" d=\"M1381.07 1537.87 Q1380.08 1537.3 1378.91 1537.04 Q1377.76 1536.76 1376.36 1536.76 Q1371.39 1536.76 1368.72 1540 Q1366.08 1543.22 1366.08 1549.27 L1366.08 1568.04 L1360.19 1568.04 L1360.19 1532.4 L1366.08 1532.4 L1366.08 1537.93 Q1367.93 1534.69 1370.89 1533.13 Q1373.85 1531.54 1378.08 1531.54 Q1378.68 1531.54 1379.42 1531.63 Q1380.15 1531.7 1381.04 1531.85 L1381.07 1537.87 Z\" fill=\"#000000\" fill-rule=\"evenodd\" fill-opacity=\"1\" /><path clip-path=\"url(#clip420)\" d=\"M1416.27 1548.76 L1416.27 1551.62 L1389.35 1551.62 Q1389.73 1557.67 1392.97 1560.85 Q1396.25 1564 1402.08 1564 Q1405.45 1564 1408.6 1563.17 Q1411.78 1562.35 1414.9 1560.69 L1414.9 1566.23 Q1411.75 1567.57 1408.44 1568.27 Q1405.13 1568.97 1401.73 1568.97 Q1393.2 1568.97 1388.2 1564 Q1383.23 1559.04 1383.23 1550.57 Q1383.23 1541.82 1387.95 1536.69 Q1392.69 1531.54 1400.71 1531.54 Q1407.9 1531.54 1412.07 1536.18 Q1416.27 1540.8 1416.27 1548.76 M1410.42 1547.04 Q1410.35 1542.23 1407.71 1539.37 Q1405.1 1536.5 1400.77 1536.5 Q1395.87 1536.5 1392.91 1539.27 Q1389.98 1542.04 1389.54 1547.07 L1410.42 1547.04 Z\" fill=\"#000000\" fill-rule=\"evenodd\" fill-opacity=\"1\" /><path clip-path=\"url(#clip420)\" d=\"M1429.39 1550.25 Q1429.39 1556.71 1432.03 1560.4 Q1434.7 1564.07 1439.35 1564.07 Q1444 1564.07 1446.67 1560.4 Q1449.34 1556.71 1449.34 1550.25 Q1449.34 1543.79 1446.67 1540.13 Q1444 1536.44 1439.35 1536.44 Q1434.7 1536.44 1432.03 1540.13 Q1429.39 1543.79 1429.39 1550.25 M1449.34 1562.7 Q1447.5 1565.88 1444.66 1567.44 Q1441.86 1568.97 1437.92 1568.97 Q1431.45 1568.97 1427.38 1563.81 Q1423.34 1558.65 1423.34 1550.25 Q1423.34 1541.85 1427.38 1536.69 Q1431.45 1531.54 1437.92 1531.54 Q1441.86 1531.54 1444.66 1533.1 Q1447.5 1534.62 1449.34 1537.81 L1449.34 1532.4 L1455.2 1532.4 L1455.2 1581.6 L1449.34 1581.6 L1449.34 1562.7 Z\" fill=\"#000000\" fill-rule=\"evenodd\" fill-opacity=\"1\" /><path clip-path=\"url(#clip420)\" d=\"M1466.66 1553.98 L1466.66 1532.4 L1472.51 1532.4 L1472.51 1553.75 Q1472.51 1558.81 1474.49 1561.36 Q1476.46 1563.87 1480.41 1563.87 Q1485.15 1563.87 1487.89 1560.85 Q1490.66 1557.83 1490.66 1552.61 L1490.66 1532.4 L1496.51 1532.4 L1496.51 1568.04 L1490.66 1568.04 L1490.66 1562.57 Q1488.52 1565.82 1485.69 1567.41 Q1482.89 1568.97 1479.17 1568.97 Q1473.02 1568.97 1469.84 1565.15 Q1466.66 1561.33 1466.66 1553.98 M1481.39 1531.54 L1481.39 1531.54 Z\" fill=\"#000000\" fill-rule=\"evenodd\" fill-opacity=\"1\" /><path clip-path=\"url(#clip420)\" d=\"M1539.07 1548.76 L1539.07 1551.62 L1512.14 1551.62 Q1512.52 1557.67 1515.77 1560.85 Q1519.05 1564 1524.87 1564 Q1528.25 1564 1531.4 1563.17 Q1534.58 1562.35 1537.7 1560.69 L1537.7 1566.23 Q1534.55 1567.57 1531.24 1568.27 Q1527.93 1568.97 1524.52 1568.97 Q1515.99 1568.97 1510.99 1564 Q1506.03 1559.04 1506.03 1550.57 Q1506.03 1541.82 1510.74 1536.69 Q1515.48 1531.54 1523.5 1531.54 Q1530.7 1531.54 1534.87 1536.18 Q1539.07 1540.8 1539.07 1548.76 M1533.21 1547.04 Q1533.15 1542.23 1530.51 1539.37 Q1527.9 1536.5 1523.57 1536.5 Q1518.67 1536.5 1515.71 1539.27 Q1512.78 1542.04 1512.33 1547.07 L1533.21 1547.04 Z\" fill=\"#000000\" fill-rule=\"evenodd\" fill-opacity=\"1\" /><path clip-path=\"url(#clip420)\" d=\"M1578.31 1546.53 L1578.31 1568.04 L1572.46 1568.04 L1572.46 1546.72 Q1572.46 1541.66 1570.48 1539.14 Q1568.51 1536.63 1564.56 1536.63 Q1559.82 1536.63 1557.08 1539.65 Q1554.34 1542.68 1554.34 1547.9 L1554.34 1568.04 L1548.46 1568.04 L1548.46 1532.4 L1554.34 1532.4 L1554.34 1537.93 Q1556.45 1534.72 1559.28 1533.13 Q1562.14 1531.54 1565.87 1531.54 Q1572.01 1531.54 1575.16 1535.36 Q1578.31 1539.14 1578.31 1546.53 Z\" fill=\"#000000\" fill-rule=\"evenodd\" fill-opacity=\"1\" /><path clip-path=\"url(#clip420)\" d=\"M1615.65 1533.76 L1615.65 1539.24 Q1613.16 1537.87 1610.65 1537.2 Q1608.17 1536.5 1605.62 1536.5 Q1599.92 1536.5 1596.77 1540.13 Q1593.62 1543.73 1593.62 1550.25 Q1593.62 1556.78 1596.77 1560.4 Q1599.92 1564 1605.62 1564 Q1608.17 1564 1610.65 1563.33 Q1613.16 1562.63 1615.65 1561.26 L1615.65 1566.68 Q1613.2 1567.82 1610.55 1568.39 Q1607.94 1568.97 1604.98 1568.97 Q1596.93 1568.97 1592.19 1563.91 Q1587.45 1558.85 1587.45 1550.25 Q1587.45 1541.53 1592.22 1536.53 Q1597.03 1531.54 1605.37 1531.54 Q1608.07 1531.54 1610.65 1532.11 Q1613.23 1532.65 1615.65 1533.76 Z\" fill=\"#000000\" fill-rule=\"evenodd\" fill-opacity=\"1\" /><path clip-path=\"url(#clip420)\" d=\"M1640.66 1571.35 Q1638.18 1577.72 1635.83 1579.66 Q1633.47 1581.6 1629.52 1581.6 L1624.85 1581.6 L1624.85 1576.7 L1628.28 1576.7 Q1630.7 1576.7 1632.04 1575.56 Q1633.38 1574.41 1635 1570.14 L1636.05 1567.47 L1621.63 1532.4 L1627.84 1532.4 L1638.98 1560.28 L1650.12 1532.4 L1656.32 1532.4 L1640.66 1571.35 Z\" fill=\"#000000\" fill-rule=\"evenodd\" fill-opacity=\"1\" /><polyline clip-path=\"url(#clip422)\" style=\"stroke:#000000; stroke-linecap:butt; stroke-linejoin:round; stroke-width:2; stroke-opacity:0.1; fill:none\" points=\"\n",
       "  235.283,1384.24 2352.76,1384.24 \n",
       "  \"/>\n",
       "<polyline clip-path=\"url(#clip422)\" style=\"stroke:#000000; stroke-linecap:butt; stroke-linejoin:round; stroke-width:2; stroke-opacity:0.1; fill:none\" points=\"\n",
       "  235.283,1154.49 2352.76,1154.49 \n",
       "  \"/>\n",
       "<polyline clip-path=\"url(#clip422)\" style=\"stroke:#000000; stroke-linecap:butt; stroke-linejoin:round; stroke-width:2; stroke-opacity:0.1; fill:none\" points=\"\n",
       "  235.283,924.751 2352.76,924.751 \n",
       "  \"/>\n",
       "<polyline clip-path=\"url(#clip422)\" style=\"stroke:#000000; stroke-linecap:butt; stroke-linejoin:round; stroke-width:2; stroke-opacity:0.1; fill:none\" points=\"\n",
       "  235.283,695.007 2352.76,695.007 \n",
       "  \"/>\n",
       "<polyline clip-path=\"url(#clip422)\" style=\"stroke:#000000; stroke-linecap:butt; stroke-linejoin:round; stroke-width:2; stroke-opacity:0.1; fill:none\" points=\"\n",
       "  235.283,465.263 2352.76,465.263 \n",
       "  \"/>\n",
       "<polyline clip-path=\"url(#clip422)\" style=\"stroke:#000000; stroke-linecap:butt; stroke-linejoin:round; stroke-width:2; stroke-opacity:0.1; fill:none\" points=\"\n",
       "  235.283,235.519 2352.76,235.519 \n",
       "  \"/>\n",
       "<polyline clip-path=\"url(#clip420)\" style=\"stroke:#000000; stroke-linecap:butt; stroke-linejoin:round; stroke-width:4; stroke-opacity:1; fill:none\" points=\"\n",
       "  235.283,1423.18 235.283,47.2441 \n",
       "  \"/>\n",
       "<polyline clip-path=\"url(#clip420)\" style=\"stroke:#000000; stroke-linecap:butt; stroke-linejoin:round; stroke-width:4; stroke-opacity:1; fill:none\" points=\"\n",
       "  235.283,1384.24 254.18,1384.24 \n",
       "  \"/>\n",
       "<polyline clip-path=\"url(#clip420)\" style=\"stroke:#000000; stroke-linecap:butt; stroke-linejoin:round; stroke-width:4; stroke-opacity:1; fill:none\" points=\"\n",
       "  235.283,1154.49 254.18,1154.49 \n",
       "  \"/>\n",
       "<polyline clip-path=\"url(#clip420)\" style=\"stroke:#000000; stroke-linecap:butt; stroke-linejoin:round; stroke-width:4; stroke-opacity:1; fill:none\" points=\"\n",
       "  235.283,924.751 254.18,924.751 \n",
       "  \"/>\n",
       "<polyline clip-path=\"url(#clip420)\" style=\"stroke:#000000; stroke-linecap:butt; stroke-linejoin:round; stroke-width:4; stroke-opacity:1; fill:none\" points=\"\n",
       "  235.283,695.007 254.18,695.007 \n",
       "  \"/>\n",
       "<polyline clip-path=\"url(#clip420)\" style=\"stroke:#000000; stroke-linecap:butt; stroke-linejoin:round; stroke-width:4; stroke-opacity:1; fill:none\" points=\"\n",
       "  235.283,465.263 254.18,465.263 \n",
       "  \"/>\n",
       "<polyline clip-path=\"url(#clip420)\" style=\"stroke:#000000; stroke-linecap:butt; stroke-linejoin:round; stroke-width:4; stroke-opacity:1; fill:none\" points=\"\n",
       "  235.283,235.519 254.18,235.519 \n",
       "  \"/>\n",
       "<path clip-path=\"url(#clip420)\" d=\"M187.338 1370.04 Q183.727 1370.04 181.899 1373.6 Q180.093 1377.14 180.093 1384.27 Q180.093 1391.38 181.899 1394.94 Q183.727 1398.49 187.338 1398.49 Q190.973 1398.49 192.778 1394.94 Q194.607 1391.38 194.607 1384.27 Q194.607 1377.14 192.778 1373.6 Q190.973 1370.04 187.338 1370.04 M187.338 1366.33 Q193.149 1366.33 196.204 1370.94 Q199.283 1375.52 199.283 1384.27 Q199.283 1393 196.204 1397.61 Q193.149 1402.19 187.338 1402.19 Q181.528 1402.19 178.45 1397.61 Q175.394 1393 175.394 1384.27 Q175.394 1375.52 178.45 1370.94 Q181.528 1366.33 187.338 1366.33 Z\" fill=\"#000000\" fill-rule=\"evenodd\" fill-opacity=\"1\" /><path clip-path=\"url(#clip420)\" d=\"M117.825 1167.84 L125.464 1167.84 L125.464 1141.47 L117.154 1143.14 L117.154 1138.88 L125.418 1137.21 L130.093 1137.21 L130.093 1167.84 L137.732 1167.84 L137.732 1171.77 L117.825 1171.77 L117.825 1167.84 Z\" fill=\"#000000\" fill-rule=\"evenodd\" fill-opacity=\"1\" /><path clip-path=\"url(#clip420)\" d=\"M157.177 1140.29 Q153.566 1140.29 151.737 1143.86 Q149.931 1147.4 149.931 1154.53 Q149.931 1161.64 151.737 1165.2 Q153.566 1168.74 157.177 1168.74 Q160.811 1168.74 162.616 1165.2 Q164.445 1161.64 164.445 1154.53 Q164.445 1147.4 162.616 1143.86 Q160.811 1140.29 157.177 1140.29 M157.177 1136.59 Q162.987 1136.59 166.042 1141.2 Q169.121 1145.78 169.121 1154.53 Q169.121 1163.26 166.042 1167.86 Q162.987 1172.45 157.177 1172.45 Q151.366 1172.45 148.288 1167.86 Q145.232 1163.26 145.232 1154.53 Q145.232 1145.78 148.288 1141.2 Q151.366 1136.59 157.177 1136.59 Z\" fill=\"#000000\" fill-rule=\"evenodd\" fill-opacity=\"1\" /><path clip-path=\"url(#clip420)\" d=\"M187.338 1140.29 Q183.727 1140.29 181.899 1143.86 Q180.093 1147.4 180.093 1154.53 Q180.093 1161.64 181.899 1165.2 Q183.727 1168.74 187.338 1168.74 Q190.973 1168.74 192.778 1165.2 Q194.607 1161.64 194.607 1154.53 Q194.607 1147.4 192.778 1143.86 Q190.973 1140.29 187.338 1140.29 M187.338 1136.59 Q193.149 1136.59 196.204 1141.2 Q199.283 1145.78 199.283 1154.53 Q199.283 1163.26 196.204 1167.86 Q193.149 1172.45 187.338 1172.45 Q181.528 1172.45 178.45 1167.86 Q175.394 1163.26 175.394 1154.53 Q175.394 1145.78 178.45 1141.2 Q181.528 1136.59 187.338 1136.59 Z\" fill=\"#000000\" fill-rule=\"evenodd\" fill-opacity=\"1\" /><path clip-path=\"url(#clip420)\" d=\"M121.043 938.095 L137.362 938.095 L137.362 942.031 L115.418 942.031 L115.418 938.095 Q118.08 935.341 122.663 930.711 Q127.269 926.058 128.45 924.716 Q130.695 922.193 131.575 920.457 Q132.478 918.697 132.478 917.008 Q132.478 914.253 130.533 912.517 Q128.612 910.781 125.51 910.781 Q123.311 910.781 120.857 911.545 Q118.427 912.309 115.649 913.859 L115.649 909.137 Q118.473 908.003 120.927 907.424 Q123.38 906.846 125.418 906.846 Q130.788 906.846 133.982 909.531 Q137.177 912.216 137.177 916.707 Q137.177 918.836 136.367 920.758 Q135.579 922.656 133.473 925.248 Q132.894 925.92 129.792 929.137 Q126.691 932.332 121.043 938.095 Z\" fill=\"#000000\" fill-rule=\"evenodd\" fill-opacity=\"1\" /><path clip-path=\"url(#clip420)\" d=\"M157.177 910.549 Q153.566 910.549 151.737 914.114 Q149.931 917.656 149.931 924.785 Q149.931 931.892 151.737 935.457 Q153.566 938.998 157.177 938.998 Q160.811 938.998 162.616 935.457 Q164.445 931.892 164.445 924.785 Q164.445 917.656 162.616 914.114 Q160.811 910.549 157.177 910.549 M157.177 906.846 Q162.987 906.846 166.042 911.452 Q169.121 916.035 169.121 924.785 Q169.121 933.512 166.042 938.119 Q162.987 942.702 157.177 942.702 Q151.366 942.702 148.288 938.119 Q145.232 933.512 145.232 924.785 Q145.232 916.035 148.288 911.452 Q151.366 906.846 157.177 906.846 Z\" fill=\"#000000\" fill-rule=\"evenodd\" fill-opacity=\"1\" /><path clip-path=\"url(#clip420)\" d=\"M187.338 910.549 Q183.727 910.549 181.899 914.114 Q180.093 917.656 180.093 924.785 Q180.093 931.892 181.899 935.457 Q183.727 938.998 187.338 938.998 Q190.973 938.998 192.778 935.457 Q194.607 931.892 194.607 924.785 Q194.607 917.656 192.778 914.114 Q190.973 910.549 187.338 910.549 M187.338 906.846 Q193.149 906.846 196.204 911.452 Q199.283 916.035 199.283 924.785 Q199.283 933.512 196.204 938.119 Q193.149 942.702 187.338 942.702 Q181.528 942.702 178.45 938.119 Q175.394 933.512 175.394 924.785 Q175.394 916.035 178.45 911.452 Q181.528 906.846 187.338 906.846 Z\" fill=\"#000000\" fill-rule=\"evenodd\" fill-opacity=\"1\" /><path clip-path=\"url(#clip420)\" d=\"M131.181 693.653 Q134.538 694.37 136.413 696.639 Q138.311 698.907 138.311 702.241 Q138.311 707.356 134.792 710.157 Q131.274 712.958 124.793 712.958 Q122.617 712.958 120.302 712.518 Q118.01 712.102 115.556 711.245 L115.556 706.731 Q117.501 707.866 119.816 708.444 Q122.13 709.023 124.654 709.023 Q129.052 709.023 131.343 707.287 Q133.658 705.551 133.658 702.241 Q133.658 699.185 131.505 697.472 Q129.376 695.736 125.556 695.736 L121.529 695.736 L121.529 691.893 L125.742 691.893 Q129.191 691.893 131.019 690.528 Q132.848 689.139 132.848 686.546 Q132.848 683.884 130.95 682.472 Q129.075 681.037 125.556 681.037 Q123.635 681.037 121.436 681.454 Q119.237 681.87 116.598 682.75 L116.598 678.583 Q119.26 677.843 121.575 677.472 Q123.913 677.102 125.973 677.102 Q131.297 677.102 134.399 679.532 Q137.501 681.94 137.501 686.06 Q137.501 688.93 135.857 690.921 Q134.214 692.889 131.181 693.653 Z\" fill=\"#000000\" fill-rule=\"evenodd\" fill-opacity=\"1\" /><path clip-path=\"url(#clip420)\" d=\"M157.177 680.805 Q153.566 680.805 151.737 684.37 Q149.931 687.912 149.931 695.042 Q149.931 702.148 151.737 705.713 Q153.566 709.254 157.177 709.254 Q160.811 709.254 162.616 705.713 Q164.445 702.148 164.445 695.042 Q164.445 687.912 162.616 684.37 Q160.811 680.805 157.177 680.805 M157.177 677.102 Q162.987 677.102 166.042 681.708 Q169.121 686.292 169.121 695.042 Q169.121 703.768 166.042 708.375 Q162.987 712.958 157.177 712.958 Q151.366 712.958 148.288 708.375 Q145.232 703.768 145.232 695.042 Q145.232 686.292 148.288 681.708 Q151.366 677.102 157.177 677.102 Z\" fill=\"#000000\" fill-rule=\"evenodd\" fill-opacity=\"1\" /><path clip-path=\"url(#clip420)\" d=\"M187.338 680.805 Q183.727 680.805 181.899 684.37 Q180.093 687.912 180.093 695.042 Q180.093 702.148 181.899 705.713 Q183.727 709.254 187.338 709.254 Q190.973 709.254 192.778 705.713 Q194.607 702.148 194.607 695.042 Q194.607 687.912 192.778 684.37 Q190.973 680.805 187.338 680.805 M187.338 677.102 Q193.149 677.102 196.204 681.708 Q199.283 686.292 199.283 695.042 Q199.283 703.768 196.204 708.375 Q193.149 712.958 187.338 712.958 Q181.528 712.958 178.45 708.375 Q175.394 703.768 175.394 695.042 Q175.394 686.292 178.45 681.708 Q181.528 677.102 187.338 677.102 Z\" fill=\"#000000\" fill-rule=\"evenodd\" fill-opacity=\"1\" /><path clip-path=\"url(#clip420)\" d=\"M129.862 452.057 L118.056 470.506 L129.862 470.506 L129.862 452.057 M128.635 447.983 L134.515 447.983 L134.515 470.506 L139.445 470.506 L139.445 474.395 L134.515 474.395 L134.515 482.543 L129.862 482.543 L129.862 474.395 L114.26 474.395 L114.26 469.881 L128.635 447.983 Z\" fill=\"#000000\" fill-rule=\"evenodd\" fill-opacity=\"1\" /><path clip-path=\"url(#clip420)\" d=\"M157.177 451.062 Q153.566 451.062 151.737 454.626 Q149.931 458.168 149.931 465.298 Q149.931 472.404 151.737 475.969 Q153.566 479.511 157.177 479.511 Q160.811 479.511 162.616 475.969 Q164.445 472.404 164.445 465.298 Q164.445 458.168 162.616 454.626 Q160.811 451.062 157.177 451.062 M157.177 447.358 Q162.987 447.358 166.042 451.964 Q169.121 456.548 169.121 465.298 Q169.121 474.025 166.042 478.631 Q162.987 483.214 157.177 483.214 Q151.366 483.214 148.288 478.631 Q145.232 474.025 145.232 465.298 Q145.232 456.548 148.288 451.964 Q151.366 447.358 157.177 447.358 Z\" fill=\"#000000\" fill-rule=\"evenodd\" fill-opacity=\"1\" /><path clip-path=\"url(#clip420)\" d=\"M187.338 451.062 Q183.727 451.062 181.899 454.626 Q180.093 458.168 180.093 465.298 Q180.093 472.404 181.899 475.969 Q183.727 479.511 187.338 479.511 Q190.973 479.511 192.778 475.969 Q194.607 472.404 194.607 465.298 Q194.607 458.168 192.778 454.626 Q190.973 451.062 187.338 451.062 M187.338 447.358 Q193.149 447.358 196.204 451.964 Q199.283 456.548 199.283 465.298 Q199.283 474.025 196.204 478.631 Q193.149 483.214 187.338 483.214 Q181.528 483.214 178.45 478.631 Q175.394 474.025 175.394 465.298 Q175.394 456.548 178.45 451.964 Q181.528 447.358 187.338 447.358 Z\" fill=\"#000000\" fill-rule=\"evenodd\" fill-opacity=\"1\" /><path clip-path=\"url(#clip420)\" d=\"M117.061 218.239 L135.417 218.239 L135.417 222.174 L121.343 222.174 L121.343 230.646 Q122.362 230.299 123.38 230.137 Q124.399 229.952 125.418 229.952 Q131.205 229.952 134.584 233.123 Q137.964 236.295 137.964 241.711 Q137.964 247.29 134.492 250.392 Q131.019 253.47 124.7 253.47 Q122.524 253.47 120.255 253.1 Q118.01 252.73 115.603 251.989 L115.603 247.29 Q117.686 248.424 119.908 248.98 Q122.13 249.535 124.607 249.535 Q128.612 249.535 130.95 247.429 Q133.288 245.322 133.288 241.711 Q133.288 238.1 130.95 235.994 Q128.612 233.887 124.607 233.887 Q122.732 233.887 120.857 234.304 Q119.006 234.721 117.061 235.6 L117.061 218.239 Z\" fill=\"#000000\" fill-rule=\"evenodd\" fill-opacity=\"1\" /><path clip-path=\"url(#clip420)\" d=\"M157.177 221.318 Q153.566 221.318 151.737 224.883 Q149.931 228.424 149.931 235.554 Q149.931 242.66 151.737 246.225 Q153.566 249.767 157.177 249.767 Q160.811 249.767 162.616 246.225 Q164.445 242.66 164.445 235.554 Q164.445 228.424 162.616 224.883 Q160.811 221.318 157.177 221.318 M157.177 217.614 Q162.987 217.614 166.042 222.221 Q169.121 226.804 169.121 235.554 Q169.121 244.281 166.042 248.887 Q162.987 253.47 157.177 253.47 Q151.366 253.47 148.288 248.887 Q145.232 244.281 145.232 235.554 Q145.232 226.804 148.288 222.221 Q151.366 217.614 157.177 217.614 Z\" fill=\"#000000\" fill-rule=\"evenodd\" fill-opacity=\"1\" /><path clip-path=\"url(#clip420)\" d=\"M187.338 221.318 Q183.727 221.318 181.899 224.883 Q180.093 228.424 180.093 235.554 Q180.093 242.66 181.899 246.225 Q183.727 249.767 187.338 249.767 Q190.973 249.767 192.778 246.225 Q194.607 242.66 194.607 235.554 Q194.607 228.424 192.778 224.883 Q190.973 221.318 187.338 221.318 M187.338 217.614 Q193.149 217.614 196.204 222.221 Q199.283 226.804 199.283 235.554 Q199.283 244.281 196.204 248.887 Q193.149 253.47 187.338 253.47 Q181.528 253.47 178.45 248.887 Q175.394 244.281 175.394 235.554 Q175.394 226.804 178.45 222.221 Q181.528 217.614 187.338 217.614 Z\" fill=\"#000000\" fill-rule=\"evenodd\" fill-opacity=\"1\" /><path clip-path=\"url(#clip420)\" d=\"M29.7248 812.555 L35.1993 812.555 Q33.8307 815.038 33.1623 817.552 Q32.4621 820.035 32.4621 822.581 Q32.4621 828.279 36.0905 831.43 Q39.6872 834.581 46.212 834.581 Q52.7369 834.581 56.3653 831.43 Q59.9619 828.279 59.9619 822.581 Q59.9619 820.035 59.2935 817.552 Q58.5933 815.038 57.2247 812.555 L62.6355 812.555 Q63.7814 815.006 64.3543 817.648 Q64.9272 820.258 64.9272 823.218 Q64.9272 831.27 59.8664 836.013 Q54.8057 840.755 46.212 840.755 Q37.491 840.755 32.4939 835.981 Q27.4968 831.175 27.4968 822.836 Q27.4968 820.13 28.0697 817.552 Q28.6108 814.974 29.7248 812.555 Z\" fill=\"#000000\" fill-rule=\"evenodd\" fill-opacity=\"1\" /><path clip-path=\"url(#clip420)\" d=\"M32.4621 788.557 Q32.4621 793.267 36.1542 796.004 Q39.8145 798.742 46.212 798.742 Q52.6095 798.742 56.3017 796.036 Q59.9619 793.299 59.9619 788.557 Q59.9619 783.878 56.2698 781.141 Q52.5777 778.403 46.212 778.403 Q39.8781 778.403 36.186 781.141 Q32.4621 783.878 32.4621 788.557 M27.4968 788.557 Q27.4968 780.918 32.4621 776.557 Q37.4273 772.197 46.212 772.197 Q54.9649 772.197 59.9619 776.557 Q64.9272 780.918 64.9272 788.557 Q64.9272 796.227 59.9619 800.588 Q54.9649 804.916 46.212 804.916 Q37.4273 804.916 32.4621 800.588 Q27.4968 796.227 27.4968 788.557 Z\" fill=\"#000000\" fill-rule=\"evenodd\" fill-opacity=\"1\" /><path clip-path=\"url(#clip420)\" d=\"M49.9359 763.094 L28.3562 763.094 L28.3562 757.237 L49.7131 757.237 Q54.7739 757.237 57.3202 755.264 Q59.8346 753.291 59.8346 749.344 Q59.8346 744.601 56.8109 741.864 Q53.7872 739.095 48.5673 739.095 L28.3562 739.095 L28.3562 733.239 L64.0042 733.239 L64.0042 739.095 L58.5296 739.095 Q61.7762 741.228 63.3676 744.06 Q64.9272 746.861 64.9272 750.585 Q64.9272 756.728 61.1078 759.911 Q57.2883 763.094 49.9359 763.094 M27.4968 748.357 L27.4968 748.357 Z\" fill=\"#000000\" fill-rule=\"evenodd\" fill-opacity=\"1\" /><path clip-path=\"url(#clip420)\" d=\"M42.4881 691.543 L64.0042 691.543 L64.0042 697.4 L42.679 697.4 Q37.6183 697.4 35.1038 699.373 Q32.5894 701.346 32.5894 705.293 Q32.5894 710.036 35.6131 712.773 Q38.6368 715.51 43.8567 715.51 L64.0042 715.51 L64.0042 721.398 L28.3562 721.398 L28.3562 715.51 L33.8944 715.51 Q30.6797 713.409 29.0883 710.577 Q27.4968 707.712 27.4968 703.988 Q27.4968 697.845 31.3163 694.694 Q35.1038 691.543 42.4881 691.543 Z\" fill=\"#000000\" fill-rule=\"evenodd\" fill-opacity=\"1\" /><path clip-path=\"url(#clip420)\" d=\"M18.2347 674.069 L28.3562 674.069 L28.3562 662.006 L32.9077 662.006 L32.9077 674.069 L52.2594 674.069 Q56.6199 674.069 57.8613 672.892 Q59.1026 671.682 59.1026 668.022 L59.1026 662.006 L64.0042 662.006 L64.0042 668.022 Q64.0042 674.801 61.4897 677.38 Q58.9434 679.958 52.2594 679.958 L32.9077 679.958 L32.9077 684.254 L28.3562 684.254 L28.3562 679.958 L18.2347 679.958 L18.2347 674.069 Z\" fill=\"#000000\" fill-rule=\"evenodd\" fill-opacity=\"1\" /><path clip-path=\"url(#clip420)\" d=\"M29.4065 631.578 L34.9447 631.578 Q33.6716 634.061 33.035 636.734 Q32.3984 639.408 32.3984 642.273 Q32.3984 646.633 33.7352 648.829 Q35.072 650.994 37.7456 650.994 Q39.7826 650.994 40.9603 649.434 Q42.1061 647.874 43.1565 643.164 L43.6021 641.159 Q44.9389 634.92 47.3897 632.31 Q49.8086 629.669 54.1691 629.669 Q59.1344 629.669 62.0308 633.615 Q64.9272 637.53 64.9272 644.405 Q64.9272 647.27 64.3543 650.389 Q63.8132 653.476 62.6992 656.914 L56.6518 656.914 Q58.3387 653.667 59.198 650.516 Q60.0256 647.365 60.0256 644.278 Q60.0256 640.14 58.6251 637.912 Q57.1929 635.684 54.6147 635.684 Q52.2276 635.684 50.9545 637.307 Q49.6813 638.899 48.5037 644.342 L48.0262 646.379 Q46.8804 651.821 44.5251 654.24 Q42.138 656.659 38.0002 656.659 Q32.9713 656.659 30.2341 653.094 Q27.4968 649.53 27.4968 642.973 Q27.4968 639.726 27.9743 636.862 Q28.4517 633.997 29.4065 631.578 Z\" fill=\"#000000\" fill-rule=\"evenodd\" fill-opacity=\"1\" /><path clip-path=\"url(#clip422)\" d=\"\n",
       "M351.748 1058 L351.748 1384.24 L430.27 1384.24 L430.27 1058 L351.748 1058 L351.748 1058  Z\n",
       "  \" fill=\"#009af9\" fill-rule=\"evenodd\" fill-opacity=\"1\"/>\n",
       "<polyline clip-path=\"url(#clip422)\" style=\"stroke:#000000; stroke-linecap:butt; stroke-linejoin:round; stroke-width:4; stroke-opacity:1; fill:none\" points=\"\n",
       "  351.748,1058 351.748,1384.24 430.27,1384.24 430.27,1058 351.748,1058 \n",
       "  \"/>\n",
       "<path clip-path=\"url(#clip422)\" d=\"\n",
       "M430.27 456.073 L430.27 1384.24 L508.793 1384.24 L508.793 456.073 L430.27 456.073 L430.27 456.073  Z\n",
       "  \" fill=\"#009af9\" fill-rule=\"evenodd\" fill-opacity=\"1\"/>\n",
       "<polyline clip-path=\"url(#clip422)\" style=\"stroke:#000000; stroke-linecap:butt; stroke-linejoin:round; stroke-width:4; stroke-opacity:1; fill:none\" points=\"\n",
       "  430.27,456.073 430.27,1384.24 508.793,1384.24 508.793,456.073 430.27,456.073 \n",
       "  \"/>\n",
       "<path clip-path=\"url(#clip422)\" d=\"\n",
       "M508.793 382.555 L508.793 1384.24 L587.316 1384.24 L587.316 382.555 L508.793 382.555 L508.793 382.555  Z\n",
       "  \" fill=\"#009af9\" fill-rule=\"evenodd\" fill-opacity=\"1\"/>\n",
       "<polyline clip-path=\"url(#clip422)\" style=\"stroke:#000000; stroke-linecap:butt; stroke-linejoin:round; stroke-width:4; stroke-opacity:1; fill:none\" points=\"\n",
       "  508.793,382.555 508.793,1384.24 587.316,1384.24 587.316,382.555 508.793,382.555 \n",
       "  \"/>\n",
       "<path clip-path=\"url(#clip422)\" d=\"\n",
       "M587.316 325.119 L587.316 1384.24 L665.838 1384.24 L665.838 325.119 L587.316 325.119 L587.316 325.119  Z\n",
       "  \" fill=\"#009af9\" fill-rule=\"evenodd\" fill-opacity=\"1\"/>\n",
       "<polyline clip-path=\"url(#clip422)\" style=\"stroke:#000000; stroke-linecap:butt; stroke-linejoin:round; stroke-width:4; stroke-opacity:1; fill:none\" points=\"\n",
       "  587.316,325.119 587.316,1384.24 665.838,1384.24 665.838,325.119 587.316,325.119 \n",
       "  \"/>\n",
       "<path clip-path=\"url(#clip422)\" d=\"\n",
       "M665.838 568.648 L665.838 1384.24 L744.361 1384.24 L744.361 568.648 L665.838 568.648 L665.838 568.648  Z\n",
       "  \" fill=\"#009af9\" fill-rule=\"evenodd\" fill-opacity=\"1\"/>\n",
       "<polyline clip-path=\"url(#clip422)\" style=\"stroke:#000000; stroke-linecap:butt; stroke-linejoin:round; stroke-width:4; stroke-opacity:1; fill:none\" points=\"\n",
       "  665.838,568.648 665.838,1384.24 744.361,1384.24 744.361,568.648 665.838,568.648 \n",
       "  \"/>\n",
       "<path clip-path=\"url(#clip422)\" d=\"\n",
       "M744.361 423.909 L744.361 1384.24 L822.884 1384.24 L822.884 423.909 L744.361 423.909 L744.361 423.909  Z\n",
       "  \" fill=\"#009af9\" fill-rule=\"evenodd\" fill-opacity=\"1\"/>\n",
       "<polyline clip-path=\"url(#clip422)\" style=\"stroke:#000000; stroke-linecap:butt; stroke-linejoin:round; stroke-width:4; stroke-opacity:1; fill:none\" points=\"\n",
       "  744.361,423.909 744.361,1384.24 822.884,1384.24 822.884,423.909 744.361,423.909 \n",
       "  \"/>\n",
       "<path clip-path=\"url(#clip422)\" d=\"\n",
       "M822.884 125.242 L822.884 1384.24 L901.406 1384.24 L901.406 125.242 L822.884 125.242 L822.884 125.242  Z\n",
       "  \" fill=\"#009af9\" fill-rule=\"evenodd\" fill-opacity=\"1\"/>\n",
       "<polyline clip-path=\"url(#clip422)\" style=\"stroke:#000000; stroke-linecap:butt; stroke-linejoin:round; stroke-width:4; stroke-opacity:1; fill:none\" points=\"\n",
       "  822.884,125.242 822.884,1384.24 901.406,1384.24 901.406,125.242 822.884,125.242 \n",
       "  \"/>\n",
       "<path clip-path=\"url(#clip422)\" d=\"\n",
       "M901.406 382.555 L901.406 1384.24 L979.929 1384.24 L979.929 382.555 L901.406 382.555 L901.406 382.555  Z\n",
       "  \" fill=\"#009af9\" fill-rule=\"evenodd\" fill-opacity=\"1\"/>\n",
       "<polyline clip-path=\"url(#clip422)\" style=\"stroke:#000000; stroke-linecap:butt; stroke-linejoin:round; stroke-width:4; stroke-opacity:1; fill:none\" points=\"\n",
       "  901.406,382.555 901.406,1384.24 979.929,1384.24 979.929,382.555 901.406,382.555 \n",
       "  \"/>\n",
       "<path clip-path=\"url(#clip422)\" d=\"\n",
       "M979.929 235.519 L979.929 1384.24 L1058.45 1384.24 L1058.45 235.519 L979.929 235.519 L979.929 235.519  Z\n",
       "  \" fill=\"#009af9\" fill-rule=\"evenodd\" fill-opacity=\"1\"/>\n",
       "<polyline clip-path=\"url(#clip422)\" style=\"stroke:#000000; stroke-linecap:butt; stroke-linejoin:round; stroke-width:4; stroke-opacity:1; fill:none\" points=\"\n",
       "  979.929,235.519 979.929,1384.24 1058.45,1384.24 1058.45,235.519 979.929,235.519 \n",
       "  \"/>\n",
       "<path clip-path=\"url(#clip422)\" d=\"\n",
       "M1058.45 573.243 L1058.45 1384.24 L1136.97 1384.24 L1136.97 573.243 L1058.45 573.243 L1058.45 573.243  Z\n",
       "  \" fill=\"#009af9\" fill-rule=\"evenodd\" fill-opacity=\"1\"/>\n",
       "<polyline clip-path=\"url(#clip422)\" style=\"stroke:#000000; stroke-linecap:butt; stroke-linejoin:round; stroke-width:4; stroke-opacity:1; fill:none\" points=\"\n",
       "  1058.45,573.243 1058.45,1384.24 1136.97,1384.24 1136.97,573.243 1058.45,573.243 \n",
       "  \"/>\n",
       "<path clip-path=\"url(#clip422)\" d=\"\n",
       "M1136.97 203.355 L1136.97 1384.24 L1215.5 1384.24 L1215.5 203.355 L1136.97 203.355 L1136.97 203.355  Z\n",
       "  \" fill=\"#009af9\" fill-rule=\"evenodd\" fill-opacity=\"1\"/>\n",
       "<polyline clip-path=\"url(#clip422)\" style=\"stroke:#000000; stroke-linecap:butt; stroke-linejoin:round; stroke-width:4; stroke-opacity:1; fill:none\" points=\"\n",
       "  1136.97,203.355 1136.97,1384.24 1215.5,1384.24 1215.5,203.355 1136.97,203.355 \n",
       "  \"/>\n",
       "<path clip-path=\"url(#clip422)\" d=\"\n",
       "M1215.5 405.53 L1215.5 1384.24 L1294.02 1384.24 L1294.02 405.53 L1215.5 405.53 L1215.5 405.53  Z\n",
       "  \" fill=\"#009af9\" fill-rule=\"evenodd\" fill-opacity=\"1\"/>\n",
       "<polyline clip-path=\"url(#clip422)\" style=\"stroke:#000000; stroke-linecap:butt; stroke-linejoin:round; stroke-width:4; stroke-opacity:1; fill:none\" points=\"\n",
       "  1215.5,405.53 1215.5,1384.24 1294.02,1384.24 1294.02,405.53 1215.5,405.53 \n",
       "  \"/>\n",
       "<path clip-path=\"url(#clip422)\" d=\"\n",
       "M1294.02 329.714 L1294.02 1384.24 L1372.54 1384.24 L1372.54 329.714 L1294.02 329.714 L1294.02 329.714  Z\n",
       "  \" fill=\"#009af9\" fill-rule=\"evenodd\" fill-opacity=\"1\"/>\n",
       "<polyline clip-path=\"url(#clip422)\" style=\"stroke:#000000; stroke-linecap:butt; stroke-linejoin:round; stroke-width:4; stroke-opacity:1; fill:none\" points=\"\n",
       "  1294.02,329.714 1294.02,1384.24 1372.54,1384.24 1372.54,329.714 1294.02,329.714 \n",
       "  \"/>\n",
       "<path clip-path=\"url(#clip422)\" d=\"\n",
       "M1372.54 547.971 L1372.54 1384.24 L1451.06 1384.24 L1451.06 547.971 L1372.54 547.971 L1372.54 547.971  Z\n",
       "  \" fill=\"#009af9\" fill-rule=\"evenodd\" fill-opacity=\"1\"/>\n",
       "<polyline clip-path=\"url(#clip422)\" style=\"stroke:#000000; stroke-linecap:butt; stroke-linejoin:round; stroke-width:4; stroke-opacity:1; fill:none\" points=\"\n",
       "  1372.54,547.971 1372.54,1384.24 1451.06,1384.24 1451.06,547.971 1372.54,547.971 \n",
       "  \"/>\n",
       "<path clip-path=\"url(#clip422)\" d=\"\n",
       "M1451.06 345.796 L1451.06 1384.24 L1529.59 1384.24 L1529.59 345.796 L1451.06 345.796 L1451.06 345.796  Z\n",
       "  \" fill=\"#009af9\" fill-rule=\"evenodd\" fill-opacity=\"1\"/>\n",
       "<polyline clip-path=\"url(#clip422)\" style=\"stroke:#000000; stroke-linecap:butt; stroke-linejoin:round; stroke-width:4; stroke-opacity:1; fill:none\" points=\"\n",
       "  1451.06,345.796 1451.06,1384.24 1529.59,1384.24 1529.59,345.796 1451.06,345.796 \n",
       "  \"/>\n",
       "<path clip-path=\"url(#clip422)\" d=\"\n",
       "M1529.59 481.345 L1529.59 1384.24 L1608.11 1384.24 L1608.11 481.345 L1529.59 481.345 L1529.59 481.345  Z\n",
       "  \" fill=\"#009af9\" fill-rule=\"evenodd\" fill-opacity=\"1\"/>\n",
       "<polyline clip-path=\"url(#clip422)\" style=\"stroke:#000000; stroke-linecap:butt; stroke-linejoin:round; stroke-width:4; stroke-opacity:1; fill:none\" points=\"\n",
       "  1529.59,481.345 1529.59,1384.24 1608.11,1384.24 1608.11,481.345 1529.59,481.345 \n",
       "  \"/>\n",
       "<path clip-path=\"url(#clip422)\" d=\"\n",
       "M1608.11 210.247 L1608.11 1384.24 L1686.63 1384.24 L1686.63 210.247 L1608.11 210.247 L1608.11 210.247  Z\n",
       "  \" fill=\"#009af9\" fill-rule=\"evenodd\" fill-opacity=\"1\"/>\n",
       "<polyline clip-path=\"url(#clip422)\" style=\"stroke:#000000; stroke-linecap:butt; stroke-linejoin:round; stroke-width:4; stroke-opacity:1; fill:none\" points=\"\n",
       "  1608.11,210.247 1608.11,1384.24 1686.63,1384.24 1686.63,210.247 1608.11,210.247 \n",
       "  \"/>\n",
       "<path clip-path=\"url(#clip422)\" d=\"\n",
       "M1686.63 359.581 L1686.63 1384.24 L1765.16 1384.24 L1765.16 359.581 L1686.63 359.581 L1686.63 359.581  Z\n",
       "  \" fill=\"#009af9\" fill-rule=\"evenodd\" fill-opacity=\"1\"/>\n",
       "<polyline clip-path=\"url(#clip422)\" style=\"stroke:#000000; stroke-linecap:butt; stroke-linejoin:round; stroke-width:4; stroke-opacity:1; fill:none\" points=\"\n",
       "  1686.63,359.581 1686.63,1384.24 1765.16,1384.24 1765.16,359.581 1686.63,359.581 \n",
       "  \"/>\n",
       "<path clip-path=\"url(#clip422)\" d=\"\n",
       "M1765.16 86.1857 L1765.16 1384.24 L1843.68 1384.24 L1843.68 86.1857 L1765.16 86.1857 L1765.16 86.1857  Z\n",
       "  \" fill=\"#009af9\" fill-rule=\"evenodd\" fill-opacity=\"1\"/>\n",
       "<polyline clip-path=\"url(#clip422)\" style=\"stroke:#000000; stroke-linecap:butt; stroke-linejoin:round; stroke-width:4; stroke-opacity:1; fill:none\" points=\"\n",
       "  1765.16,86.1857 1765.16,1384.24 1843.68,1384.24 1843.68,86.1857 1765.16,86.1857 \n",
       "  \"/>\n",
       "<path clip-path=\"url(#clip422)\" d=\"\n",
       "M1843.68 219.437 L1843.68 1384.24 L1922.2 1384.24 L1922.2 219.437 L1843.68 219.437 L1843.68 219.437  Z\n",
       "  \" fill=\"#009af9\" fill-rule=\"evenodd\" fill-opacity=\"1\"/>\n",
       "<polyline clip-path=\"url(#clip422)\" style=\"stroke:#000000; stroke-linecap:butt; stroke-linejoin:round; stroke-width:4; stroke-opacity:1; fill:none\" points=\"\n",
       "  1843.68,219.437 1843.68,1384.24 1922.2,1384.24 1922.2,219.437 1843.68,219.437 \n",
       "  \"/>\n",
       "<path clip-path=\"url(#clip422)\" d=\"\n",
       "M1922.2 205.652 L1922.2 1384.24 L2000.72 1384.24 L2000.72 205.652 L1922.2 205.652 L1922.2 205.652  Z\n",
       "  \" fill=\"#009af9\" fill-rule=\"evenodd\" fill-opacity=\"1\"/>\n",
       "<polyline clip-path=\"url(#clip422)\" style=\"stroke:#000000; stroke-linecap:butt; stroke-linejoin:round; stroke-width:4; stroke-opacity:1; fill:none\" points=\"\n",
       "  1922.2,205.652 1922.2,1384.24 2000.72,1384.24 2000.72,205.652 1922.2,205.652 \n",
       "  \"/>\n",
       "<path clip-path=\"url(#clip422)\" d=\"\n",
       "M2000.72 134.432 L2000.72 1384.24 L2079.25 1384.24 L2079.25 134.432 L2000.72 134.432 L2000.72 134.432  Z\n",
       "  \" fill=\"#009af9\" fill-rule=\"evenodd\" fill-opacity=\"1\"/>\n",
       "<polyline clip-path=\"url(#clip422)\" style=\"stroke:#000000; stroke-linecap:butt; stroke-linejoin:round; stroke-width:4; stroke-opacity:1; fill:none\" points=\"\n",
       "  2000.72,134.432 2000.72,1384.24 2079.25,1384.24 2079.25,134.432 2000.72,134.432 \n",
       "  \"/>\n",
       "<path clip-path=\"url(#clip422)\" d=\"\n",
       "M2079.25 460.668 L2079.25 1384.24 L2157.77 1384.24 L2157.77 460.668 L2079.25 460.668 L2079.25 460.668  Z\n",
       "  \" fill=\"#009af9\" fill-rule=\"evenodd\" fill-opacity=\"1\"/>\n",
       "<polyline clip-path=\"url(#clip422)\" style=\"stroke:#000000; stroke-linecap:butt; stroke-linejoin:round; stroke-width:4; stroke-opacity:1; fill:none\" points=\"\n",
       "  2079.25,460.668 2079.25,1384.24 2157.77,1384.24 2157.77,460.668 2079.25,460.668 \n",
       "  \"/>\n",
       "<path clip-path=\"url(#clip422)\" d=\"\n",
       "M2157.77 1381.94 L2157.77 1384.24 L2236.29 1384.24 L2236.29 1381.94 L2157.77 1381.94 L2157.77 1381.94  Z\n",
       "  \" fill=\"#009af9\" fill-rule=\"evenodd\" fill-opacity=\"1\"/>\n",
       "<polyline clip-path=\"url(#clip422)\" style=\"stroke:#000000; stroke-linecap:butt; stroke-linejoin:round; stroke-width:4; stroke-opacity:1; fill:none\" points=\"\n",
       "  2157.77,1381.94 2157.77,1384.24 2236.29,1384.24 2236.29,1381.94 2157.77,1381.94 \n",
       "  \"/>\n",
       "<circle clip-path=\"url(#clip422)\" style=\"fill:#009af9; stroke:none; fill-opacity:0\" cx=\"391.009\" cy=\"1058\" r=\"2\"/>\n",
       "<circle clip-path=\"url(#clip422)\" style=\"fill:#009af9; stroke:none; fill-opacity:0\" cx=\"469.532\" cy=\"456.073\" r=\"2\"/>\n",
       "<circle clip-path=\"url(#clip422)\" style=\"fill:#009af9; stroke:none; fill-opacity:0\" cx=\"548.054\" cy=\"382.555\" r=\"2\"/>\n",
       "<circle clip-path=\"url(#clip422)\" style=\"fill:#009af9; stroke:none; fill-opacity:0\" cx=\"626.577\" cy=\"325.119\" r=\"2\"/>\n",
       "<circle clip-path=\"url(#clip422)\" style=\"fill:#009af9; stroke:none; fill-opacity:0\" cx=\"705.1\" cy=\"568.648\" r=\"2\"/>\n",
       "<circle clip-path=\"url(#clip422)\" style=\"fill:#009af9; stroke:none; fill-opacity:0\" cx=\"783.622\" cy=\"423.909\" r=\"2\"/>\n",
       "<circle clip-path=\"url(#clip422)\" style=\"fill:#009af9; stroke:none; fill-opacity:0\" cx=\"862.145\" cy=\"125.242\" r=\"2\"/>\n",
       "<circle clip-path=\"url(#clip422)\" style=\"fill:#009af9; stroke:none; fill-opacity:0\" cx=\"940.667\" cy=\"382.555\" r=\"2\"/>\n",
       "<circle clip-path=\"url(#clip422)\" style=\"fill:#009af9; stroke:none; fill-opacity:0\" cx=\"1019.19\" cy=\"235.519\" r=\"2\"/>\n",
       "<circle clip-path=\"url(#clip422)\" style=\"fill:#009af9; stroke:none; fill-opacity:0\" cx=\"1097.71\" cy=\"573.243\" r=\"2\"/>\n",
       "<circle clip-path=\"url(#clip422)\" style=\"fill:#009af9; stroke:none; fill-opacity:0\" cx=\"1176.24\" cy=\"203.355\" r=\"2\"/>\n",
       "<circle clip-path=\"url(#clip422)\" style=\"fill:#009af9; stroke:none; fill-opacity:0\" cx=\"1254.76\" cy=\"405.53\" r=\"2\"/>\n",
       "<circle clip-path=\"url(#clip422)\" style=\"fill:#009af9; stroke:none; fill-opacity:0\" cx=\"1333.28\" cy=\"329.714\" r=\"2\"/>\n",
       "<circle clip-path=\"url(#clip422)\" style=\"fill:#009af9; stroke:none; fill-opacity:0\" cx=\"1411.8\" cy=\"547.971\" r=\"2\"/>\n",
       "<circle clip-path=\"url(#clip422)\" style=\"fill:#009af9; stroke:none; fill-opacity:0\" cx=\"1490.33\" cy=\"345.796\" r=\"2\"/>\n",
       "<circle clip-path=\"url(#clip422)\" style=\"fill:#009af9; stroke:none; fill-opacity:0\" cx=\"1568.85\" cy=\"481.345\" r=\"2\"/>\n",
       "<circle clip-path=\"url(#clip422)\" style=\"fill:#009af9; stroke:none; fill-opacity:0\" cx=\"1647.37\" cy=\"210.247\" r=\"2\"/>\n",
       "<circle clip-path=\"url(#clip422)\" style=\"fill:#009af9; stroke:none; fill-opacity:0\" cx=\"1725.89\" cy=\"359.581\" r=\"2\"/>\n",
       "<circle clip-path=\"url(#clip422)\" style=\"fill:#009af9; stroke:none; fill-opacity:0\" cx=\"1804.42\" cy=\"86.1857\" r=\"2\"/>\n",
       "<circle clip-path=\"url(#clip422)\" style=\"fill:#009af9; stroke:none; fill-opacity:0\" cx=\"1882.94\" cy=\"219.437\" r=\"2\"/>\n",
       "<circle clip-path=\"url(#clip422)\" style=\"fill:#009af9; stroke:none; fill-opacity:0\" cx=\"1961.46\" cy=\"205.652\" r=\"2\"/>\n",
       "<circle clip-path=\"url(#clip422)\" style=\"fill:#009af9; stroke:none; fill-opacity:0\" cx=\"2039.98\" cy=\"134.432\" r=\"2\"/>\n",
       "<circle clip-path=\"url(#clip422)\" style=\"fill:#009af9; stroke:none; fill-opacity:0\" cx=\"2118.51\" cy=\"460.668\" r=\"2\"/>\n",
       "<circle clip-path=\"url(#clip422)\" style=\"fill:#009af9; stroke:none; fill-opacity:0\" cx=\"2197.03\" cy=\"1381.94\" r=\"2\"/>\n",
       "</svg>\n"
      ]
     },
     "execution_count": 54,
     "metadata": {},
     "output_type": "execute_result"
    }
   ],
   "source": [
    "mafs = maf(x)\n",
    "histogram(mafs, xlabel=\"minor allele frequency\", ylabel=\"counts\", legend=false)"
   ]
  },
  {
   "cell_type": "markdown",
   "metadata": {},
   "source": [
    "### Not covered\n",
    "\n",
    "+ Split, concatenate, filter, merge, reordering, summarize, ...etc\n",
    "+ Genetic relationship matrix\n",
    "+ Linear Algebra on PLINK without converting to numeric matrix\n",
    "+ Linear Algebra on PLINK directly on GPU"
   ]
  },
  {
   "cell_type": "markdown",
   "metadata": {},
   "source": [
    "# Tips to writing performant code\n",
    "\n",
    "General tips:\n",
    "\n",
    "+ Inner for loops should access array elements in \"memory order\", aka write **cache aware** code. For example, assuming cache lines are column oriented (as in Julia, Fortran, Matlab, R,...etc). Which function below is faster for summing matrix entries? "
   ]
  },
  {
   "cell_type": "code",
   "execution_count": 62,
   "metadata": {
    "collapsed": false
   },
   "outputs": [
    {
     "data": {
      "text/plain": [
       "true"
      ]
     },
     "execution_count": 62,
     "metadata": {},
     "output_type": "execute_result"
    }
   ],
   "source": [
    "function matrix_sum(x) # sum along rows first\n",
    "    n, p = size(x)\n",
    "    s = 0.0\n",
    "    for i in 1:n\n",
    "        for j in 1:p\n",
    "            s += x[i, j]\n",
    "        end\n",
    "    end\n",
    "    return s\n",
    "end\n",
    "\n",
    "function matrix_sum2(x) # sum along columns first\n",
    "    n, p = size(x)\n",
    "    s = 0.0\n",
    "    for j in 1:p\n",
    "        for i in 1:n\n",
    "            s += x[i, j]\n",
    "        end\n",
    "    end\n",
    "    return s\n",
    "end\n",
    "\n",
    "x = rand(10000, 10000)\n",
    "matrix_sum(x) ≈ matrix_sum2(x) ≈ sum(x)"
   ]
  },
  {
   "cell_type": "code",
   "execution_count": 63,
   "metadata": {
    "collapsed": false
   },
   "outputs": [
    {
     "data": {
      "text/plain": [
       "BenchmarkTools.Trial: 6 samples with 1 evaluation.\n",
       " Range \u001b[90m(\u001b[39m\u001b[36m\u001b[1mmin\u001b[22m\u001b[39m … \u001b[35mmax\u001b[39m\u001b[90m):  \u001b[39m\u001b[36m\u001b[1m855.467 ms\u001b[22m\u001b[39m … \u001b[35m895.854 ms\u001b[39m  \u001b[90m┊\u001b[39m GC \u001b[90m(\u001b[39mmin … max\u001b[90m): \u001b[39m0.00% … 0.00%\n",
       " Time  \u001b[90m(\u001b[39m\u001b[34m\u001b[1mmedian\u001b[22m\u001b[39m\u001b[90m):     \u001b[39m\u001b[34m\u001b[1m872.643 ms               \u001b[22m\u001b[39m\u001b[90m┊\u001b[39m GC \u001b[90m(\u001b[39mmedian\u001b[90m):    \u001b[39m0.00%\n",
       " Time  \u001b[90m(\u001b[39m\u001b[32m\u001b[1mmean\u001b[22m\u001b[39m ± \u001b[32mσ\u001b[39m\u001b[90m):   \u001b[39m\u001b[32m\u001b[1m873.113 ms\u001b[22m\u001b[39m ± \u001b[32m 15.216 ms\u001b[39m  \u001b[90m┊\u001b[39m GC \u001b[90m(\u001b[39mmean ± σ\u001b[90m):  \u001b[39m0.00% ± 0.00%\n",
       "\n",
       "  \u001b[39m█\u001b[39m \u001b[39m \u001b[39m \u001b[39m \u001b[39m \u001b[39m \u001b[39m█\u001b[39m \u001b[39m \u001b[39m \u001b[39m \u001b[39m \u001b[39m \u001b[39m \u001b[39m█\u001b[34m \u001b[39m\u001b[39m \u001b[39m \u001b[39m \u001b[39m \u001b[39m \u001b[39m \u001b[39m \u001b[39m \u001b[39m \u001b[39m \u001b[32m \u001b[39m\u001b[39m \u001b[39m \u001b[39m \u001b[39m \u001b[39m \u001b[39m \u001b[39m \u001b[39m \u001b[39m█\u001b[39m \u001b[39m \u001b[39m█\u001b[39m \u001b[39m \u001b[39m \u001b[39m \u001b[39m \u001b[39m \u001b[39m \u001b[39m \u001b[39m \u001b[39m \u001b[39m \u001b[39m \u001b[39m \u001b[39m \u001b[39m \u001b[39m \u001b[39m \u001b[39m \u001b[39m \u001b[39m \u001b[39m█\u001b[39m \u001b[39m \n",
       "  \u001b[39m█\u001b[39m▁\u001b[39m▁\u001b[39m▁\u001b[39m▁\u001b[39m▁\u001b[39m▁\u001b[39m█\u001b[39m▁\u001b[39m▁\u001b[39m▁\u001b[39m▁\u001b[39m▁\u001b[39m▁\u001b[39m▁\u001b[39m█\u001b[34m▁\u001b[39m\u001b[39m▁\u001b[39m▁\u001b[39m▁\u001b[39m▁\u001b[39m▁\u001b[39m▁\u001b[39m▁\u001b[39m▁\u001b[39m▁\u001b[39m▁\u001b[32m▁\u001b[39m\u001b[39m▁\u001b[39m▁\u001b[39m▁\u001b[39m▁\u001b[39m▁\u001b[39m▁\u001b[39m▁\u001b[39m▁\u001b[39m█\u001b[39m▁\u001b[39m▁\u001b[39m█\u001b[39m▁\u001b[39m▁\u001b[39m▁\u001b[39m▁\u001b[39m▁\u001b[39m▁\u001b[39m▁\u001b[39m▁\u001b[39m▁\u001b[39m▁\u001b[39m▁\u001b[39m▁\u001b[39m▁\u001b[39m▁\u001b[39m▁\u001b[39m▁\u001b[39m▁\u001b[39m▁\u001b[39m▁\u001b[39m▁\u001b[39m█\u001b[39m \u001b[39m▁\n",
       "  855 ms\u001b[90m           Histogram: frequency by time\u001b[39m          896 ms \u001b[0m\u001b[1m<\u001b[22m\n",
       "\n",
       " Memory estimate\u001b[90m: \u001b[39m\u001b[33m16 bytes\u001b[39m, allocs estimate\u001b[90m: \u001b[39m\u001b[33m1\u001b[39m."
      ]
     },
     "execution_count": 63,
     "metadata": {},
     "output_type": "execute_result"
    }
   ],
   "source": [
    "using BenchmarkTools\n",
    "@benchmark matrix_sum(x)"
   ]
  },
  {
   "cell_type": "code",
   "execution_count": 64,
   "metadata": {
    "collapsed": false
   },
   "outputs": [
    {
     "data": {
      "text/plain": [
       "BenchmarkTools.Trial: 95 samples with 1 evaluation.\n",
       " Range \u001b[90m(\u001b[39m\u001b[36m\u001b[1mmin\u001b[22m\u001b[39m … \u001b[35mmax\u001b[39m\u001b[90m):  \u001b[39m\u001b[36m\u001b[1m47.381 ms\u001b[22m\u001b[39m … \u001b[35m55.191 ms\u001b[39m  \u001b[90m┊\u001b[39m GC \u001b[90m(\u001b[39mmin … max\u001b[90m): \u001b[39m0.00% … 0.00%\n",
       " Time  \u001b[90m(\u001b[39m\u001b[34m\u001b[1mmedian\u001b[22m\u001b[39m\u001b[90m):     \u001b[39m\u001b[34m\u001b[1m53.381 ms              \u001b[22m\u001b[39m\u001b[90m┊\u001b[39m GC \u001b[90m(\u001b[39mmedian\u001b[90m):    \u001b[39m0.00%\n",
       " Time  \u001b[90m(\u001b[39m\u001b[32m\u001b[1mmean\u001b[22m\u001b[39m ± \u001b[32mσ\u001b[39m\u001b[90m):   \u001b[39m\u001b[32m\u001b[1m53.058 ms\u001b[22m\u001b[39m ± \u001b[32m 1.355 ms\u001b[39m  \u001b[90m┊\u001b[39m GC \u001b[90m(\u001b[39mmean ± σ\u001b[90m):  \u001b[39m0.00% ± 0.00%\n",
       "\n",
       "  \u001b[39m \u001b[39m \u001b[39m \u001b[39m \u001b[39m \u001b[39m \u001b[39m \u001b[39m \u001b[39m \u001b[39m \u001b[39m \u001b[39m \u001b[39m \u001b[39m \u001b[39m \u001b[39m \u001b[39m \u001b[39m \u001b[39m \u001b[39m \u001b[39m \u001b[39m \u001b[39m \u001b[39m \u001b[39m \u001b[39m \u001b[39m \u001b[39m \u001b[39m \u001b[39m \u001b[39m \u001b[39m \u001b[39m \u001b[39m \u001b[39m \u001b[39m \u001b[39m \u001b[39m \u001b[39m▆\u001b[39m▅\u001b[39m \u001b[39m▂\u001b[39m \u001b[39m \u001b[39m \u001b[32m \u001b[39m\u001b[39m \u001b[34m▃\u001b[39m\u001b[39m▃\u001b[39m \u001b[39m█\u001b[39m \u001b[39m▂\u001b[39m \u001b[39m▂\u001b[39m \u001b[39m \u001b[39m \u001b[39m \u001b[39m \u001b[39m \n",
       "  \u001b[39m▄\u001b[39m▁\u001b[39m▁\u001b[39m▁\u001b[39m▁\u001b[39m▁\u001b[39m▁\u001b[39m▄\u001b[39m▁\u001b[39m▄\u001b[39m▁\u001b[39m▁\u001b[39m▁\u001b[39m▁\u001b[39m▁\u001b[39m▁\u001b[39m▄\u001b[39m▁\u001b[39m▄\u001b[39m▁\u001b[39m▁\u001b[39m▁\u001b[39m▁\u001b[39m▁\u001b[39m▁\u001b[39m▄\u001b[39m▁\u001b[39m▁\u001b[39m▁\u001b[39m▄\u001b[39m▁\u001b[39m▁\u001b[39m▄\u001b[39m▁\u001b[39m▄\u001b[39m▁\u001b[39m▄\u001b[39m▁\u001b[39m█\u001b[39m█\u001b[39m▅\u001b[39m█\u001b[39m▅\u001b[39m█\u001b[39m▇\u001b[32m█\u001b[39m\u001b[39m▅\u001b[34m█\u001b[39m\u001b[39m█\u001b[39m█\u001b[39m█\u001b[39m▇\u001b[39m█\u001b[39m▅\u001b[39m█\u001b[39m▄\u001b[39m▇\u001b[39m▄\u001b[39m▅\u001b[39m \u001b[39m▁\n",
       "  47.4 ms\u001b[90m         Histogram: frequency by time\u001b[39m        54.9 ms \u001b[0m\u001b[1m<\u001b[22m\n",
       "\n",
       " Memory estimate\u001b[90m: \u001b[39m\u001b[33m16 bytes\u001b[39m, allocs estimate\u001b[90m: \u001b[39m\u001b[33m1\u001b[39m."
      ]
     },
     "execution_count": 64,
     "metadata": {},
     "output_type": "execute_result"
    }
   ],
   "source": [
    "@benchmark matrix_sum2(x)"
   ]
  },
  {
   "cell_type": "markdown",
   "metadata": {},
   "source": [
    "+ Monitor time and memory allocations using `@time f(x)` and `@benchmark f(x)` from [BenchmarkTools.jl](https://github.com/JuliaCI/BenchmarkTools.jl). As a rule of thumb, computationally intensive routines should have **0** memory allocations\n",
    "+ Use efficient libraries like BLAS/LAPACK as much as possible \n",
    "    + **note:** even this is becoming \"obsolete\" thinking with packages like [LoopVectorization.jl](https://github.com/JuliaSIMD/LoopVectorization.jl) and [Tullio.jl](https://github.com/mcabbott/Tullio.jl) (see last example below)\n",
    "+ Annotate `for` loops with @inbounds, @simd, @fastmath...etc\n",
    "+ Check for type stability via `@code_warntype`\n",
    "\n",
    "Advanced tips:\n",
    "1. Find bottlenecks by **rigorously profiling** your code\n",
    "    + [How long it takes your code to run line-by-line](https://docs.julialang.org/en/v1/manual/profile/#Profiling)\n",
    "    + [How much memory your code allocates line-by-line](https://docs.julialang.org/en/v1/manual/profile/#Memory-allocation-analysis)\n",
    "2. Develop a [mental model](https://biojulia.net/post/hardware/) for how computers work\n",
    "3. Learn different levels of [parallel programming](https://docs.julialang.org/en/v1/manual/parallel-computing/): SIMD, multithreading, distributed computing, GPUs\n",
    "4. `@code_lowered`, `@code_llvm`, `@code_native`,...etc"
   ]
  },
  {
   "cell_type": "markdown",
   "metadata": {},
   "source": [
    "# Interested in Julia?\n",
    "\n",
    "I'm developing a Julia package for generating Knockoffs - [Knockoffs.jl](https://github.com/biona001/Knockoffs.jl)\n",
    "\n",
    "Existing/work-in-progress features: \n",
    "\n",
    "+ Fixed-X knockoffs (SDP and equi correlated)\n",
    "+ Model-X knockoffs (SDP and equi correlated)\n",
    "+ (single SNP) fastPHASE HMM knockoffs \n",
    "+ SHAPEIT HMM knockoffs (wrapper code only)\n",
    "+ KnockoffScreen knockoffs\n",
    "+ Support for PLINK binary files\n",
    "\n",
    "Desired features:\n",
    "+ MRC minimizing knockoffs ([ref](https://arxiv.org/abs/2011.14625))\n",
    "+ Linear-time model-X knockoffs ([ref](https://epubs.siam.org/doi/abs/10.1137/20M1363698))\n",
    "+ (Parallelized) ASDP knockoffs\n",
    "+ Support for VCF, BGEN, PGEN file formats (which are all commonly used genetic data formats)\n",
    "+ (Grouped) fastPHASE HMM knockoffs\n",
    "+ Packages RaPID.jl and SNPKNOCK2.jl to better wrap SHAPEIT HMM knockoffs\n",
    "\n",
    "There are also a list of [existing issues](https://github.com/biona001/Knockoffs.jl/issues), e.g.\n",
    "+ SDP solver slower than Matlab/R equivalent\n",
    "+ HMM normalizing constant sometimes overflows"
   ]
  },
  {
   "cell_type": "markdown",
   "metadata": {},
   "source": [
    "# Short history of Julia\n",
    "\n",
    "+ 2012: Julia first appearance along with [famous blog post](https://julialang.org/blog/2012/02/why-we-created-julia/)\n",
    "+ 2013-2015 (around): Kenneth Lange hears about Julia, begins converting Mendel (75k+ lines of closed-source Fortran code) to [OpenMendel](https://github.com/OpenMendel) (pure Julia)\n",
    "+ 2017: Julia becomes [the 4th language to break 1 peta-flop barrier](https://www.youtube.com/watch?v=uecdcADM3hY) using 9000+ machines, 650k cores, and 1.3 million threads  (the other 3 are C, C++, Fortran) \n",
    "+ 2018: Julia v1.0 is released, enters \"top 50 programming languages\"\n",
    "+ 2020-2021: \n",
    "    + Usually 20-30th place in top 50 programming languages\n",
    "    + +87% more downloads\n",
    "    + 1000+ contributors to Julia language itself, 3-8 new packages and 50-60 new package versions per day\n",
    "    + World wide usage estimated ~50% of Matlab"
   ]
  },
  {
   "cell_type": "markdown",
   "metadata": {},
   "source": [
    "# Extra time (motivating example 2): matrix-matrix multiplication"
   ]
  },
  {
   "cell_type": "markdown",
   "metadata": {},
   "source": [
    "<img src=\"img/bench_AmulB_v2.svg\" alt=\"Drawing\" style=\"width: 900px;\"/>"
   ]
  },
  {
   "cell_type": "code",
   "execution_count": 29,
   "metadata": {
    "collapsed": false
   },
   "outputs": [],
   "source": [
    "using LoopVectorization, BenchmarkTools\n",
    "function mygemmavx!(C, A, B)\n",
    "   @turbo for m ∈ axes(A,1), n ∈ axes(B,2)\n",
    "       Cmn = zero(eltype(C))\n",
    "       for k ∈ axes(A,2)\n",
    "           Cmn += A[m,k] * B[k,n]\n",
    "       end\n",
    "       C[m,n] = Cmn\n",
    "   end\n",
    "end\n",
    "M, K, N = 191, 189, 171\n",
    "C = Matrix{Float64}(undef, M, N)\n",
    "A = randn(M, K)\n",
    "B = randn(K, N);"
   ]
  },
  {
   "cell_type": "code",
   "execution_count": 30,
   "metadata": {
    "collapsed": false
   },
   "outputs": [
    {
     "data": {
      "text/plain": [
       "BenchmarkTools.Trial: 10000 samples with 1 evaluation.\n",
       " Range \u001b[90m(\u001b[39m\u001b[36m\u001b[1mmin\u001b[22m\u001b[39m … \u001b[35mmax\u001b[39m\u001b[90m):  \u001b[39m\u001b[36m\u001b[1m276.981 μs\u001b[22m\u001b[39m … \u001b[35m927.553 μs\u001b[39m  \u001b[90m┊\u001b[39m GC \u001b[90m(\u001b[39mmin … max\u001b[90m): \u001b[39m0.00% … 0.00%\n",
       " Time  \u001b[90m(\u001b[39m\u001b[34m\u001b[1mmedian\u001b[22m\u001b[39m\u001b[90m):     \u001b[39m\u001b[34m\u001b[1m328.379 μs               \u001b[22m\u001b[39m\u001b[90m┊\u001b[39m GC \u001b[90m(\u001b[39mmedian\u001b[90m):    \u001b[39m0.00%\n",
       " Time  \u001b[90m(\u001b[39m\u001b[32m\u001b[1mmean\u001b[22m\u001b[39m ± \u001b[32mσ\u001b[39m\u001b[90m):   \u001b[39m\u001b[32m\u001b[1m344.160 μs\u001b[22m\u001b[39m ± \u001b[32m 69.237 μs\u001b[39m  \u001b[90m┊\u001b[39m GC \u001b[90m(\u001b[39mmean ± σ\u001b[90m):  \u001b[39m0.00% ± 0.00%\n",
       "\n",
       "  \u001b[39m \u001b[39m \u001b[39m \u001b[39m█\u001b[39m▅\u001b[39m▁\u001b[39m \u001b[39m \u001b[34m \u001b[39m\u001b[39m▄\u001b[39m \u001b[32m \u001b[39m\u001b[39m \u001b[39m \u001b[39m \u001b[39m \u001b[39m \u001b[39m \u001b[39m \u001b[39m \u001b[39m \u001b[39m \u001b[39m \u001b[39m \u001b[39m \u001b[39m \u001b[39m \u001b[39m \u001b[39m \u001b[39m \u001b[39m \u001b[39m \u001b[39m \u001b[39m \u001b[39m \u001b[39m \u001b[39m \u001b[39m \u001b[39m \u001b[39m \u001b[39m \u001b[39m \u001b[39m \u001b[39m \u001b[39m \u001b[39m \u001b[39m \u001b[39m \u001b[39m \u001b[39m \u001b[39m \u001b[39m \u001b[39m \u001b[39m \u001b[39m \u001b[39m \u001b[39m \u001b[39m \u001b[39m \u001b[39m \u001b[39m \u001b[39m \u001b[39m \n",
       "  \u001b[39m▁\u001b[39m▃\u001b[39m█\u001b[39m█\u001b[39m█\u001b[39m█\u001b[39m▅\u001b[39m▄\u001b[34m▆\u001b[39m\u001b[39m█\u001b[39m▆\u001b[32m▃\u001b[39m\u001b[39m▃\u001b[39m▄\u001b[39m▃\u001b[39m▆\u001b[39m▃\u001b[39m▄\u001b[39m▂\u001b[39m▂\u001b[39m▂\u001b[39m▂\u001b[39m▁\u001b[39m▁\u001b[39m▁\u001b[39m▁\u001b[39m▁\u001b[39m▂\u001b[39m▁\u001b[39m▁\u001b[39m▁\u001b[39m▁\u001b[39m▁\u001b[39m▁\u001b[39m▁\u001b[39m▁\u001b[39m▁\u001b[39m▁\u001b[39m▁\u001b[39m▁\u001b[39m▁\u001b[39m▁\u001b[39m▁\u001b[39m▁\u001b[39m▁\u001b[39m▁\u001b[39m▁\u001b[39m▁\u001b[39m▁\u001b[39m▁\u001b[39m▁\u001b[39m▁\u001b[39m▁\u001b[39m▁\u001b[39m▁\u001b[39m▁\u001b[39m▁\u001b[39m▁\u001b[39m▁\u001b[39m▁\u001b[39m▁\u001b[39m \u001b[39m▂\n",
       "  277 μs\u001b[90m           Histogram: frequency by time\u001b[39m          654 μs \u001b[0m\u001b[1m<\u001b[22m\n",
       "\n",
       " Memory estimate\u001b[90m: \u001b[39m\u001b[33m0 bytes\u001b[39m, allocs estimate\u001b[90m: \u001b[39m\u001b[33m0\u001b[39m."
      ]
     },
     "execution_count": 30,
     "metadata": {},
     "output_type": "execute_result"
    }
   ],
   "source": [
    "@benchmark mygemmavx!($C, $A, $B)"
   ]
  },
  {
   "cell_type": "code",
   "execution_count": 31,
   "metadata": {
    "collapsed": false
   },
   "outputs": [
    {
     "name": "stdout",
     "output_type": "stream",
     "text": [
      "BLAS.vendor() = :openblas64\n"
     ]
    },
    {
     "name": "stderr",
     "output_type": "stream",
     "text": [
      "┌ Warning: `vendor()` is deprecated, use `BLAS.get_config()` and inspect the output instead\n",
      "│   caller = top-level scope at show.jl:1047\n",
      "└ @ Core show.jl:1047\n"
     ]
    },
    {
     "data": {
      "text/plain": [
       "BenchmarkTools.Trial: 10000 samples with 1 evaluation.\n",
       " Range \u001b[90m(\u001b[39m\u001b[36m\u001b[1mmin\u001b[22m\u001b[39m … \u001b[35mmax\u001b[39m\u001b[90m):  \u001b[39m\u001b[36m\u001b[1m265.348 μs\u001b[22m\u001b[39m … \u001b[35m713.928 μs\u001b[39m  \u001b[90m┊\u001b[39m GC \u001b[90m(\u001b[39mmin … max\u001b[90m): \u001b[39m0.00% … 0.00%\n",
       " Time  \u001b[90m(\u001b[39m\u001b[34m\u001b[1mmedian\u001b[22m\u001b[39m\u001b[90m):     \u001b[39m\u001b[34m\u001b[1m282.417 μs               \u001b[22m\u001b[39m\u001b[90m┊\u001b[39m GC \u001b[90m(\u001b[39mmedian\u001b[90m):    \u001b[39m0.00%\n",
       " Time  \u001b[90m(\u001b[39m\u001b[32m\u001b[1mmean\u001b[22m\u001b[39m ± \u001b[32mσ\u001b[39m\u001b[90m):   \u001b[39m\u001b[32m\u001b[1m292.151 μs\u001b[22m\u001b[39m ± \u001b[32m 27.277 μs\u001b[39m  \u001b[90m┊\u001b[39m GC \u001b[90m(\u001b[39mmean ± σ\u001b[90m):  \u001b[39m0.00% ± 0.00%\n",
       "\n",
       "  \u001b[39m \u001b[39m \u001b[39m▄\u001b[39m▃\u001b[39m▁\u001b[39m▇\u001b[39m█\u001b[34m▆\u001b[39m\u001b[39m▅\u001b[39m▅\u001b[39m▂\u001b[32m▁\u001b[39m\u001b[39m▆\u001b[39m▄\u001b[39m▅\u001b[39m▂\u001b[39m▃\u001b[39m \u001b[39m \u001b[39m \u001b[39m \u001b[39m \u001b[39m \u001b[39m \u001b[39m \u001b[39m▁\u001b[39m▁\u001b[39m \u001b[39m \u001b[39m \u001b[39m \u001b[39m \u001b[39m \u001b[39m \u001b[39m \u001b[39m \u001b[39m \u001b[39m \u001b[39m \u001b[39m \u001b[39m \u001b[39m \u001b[39m \u001b[39m \u001b[39m \u001b[39m \u001b[39m \u001b[39m \u001b[39m \u001b[39m \u001b[39m \u001b[39m \u001b[39m \u001b[39m \u001b[39m \u001b[39m \u001b[39m \u001b[39m \u001b[39m \u001b[39m \u001b[39m \u001b[39m \u001b[39m▂\n",
       "  \u001b[39m█\u001b[39m▂\u001b[39m█\u001b[39m█\u001b[39m█\u001b[39m█\u001b[39m█\u001b[34m█\u001b[39m\u001b[39m█\u001b[39m█\u001b[39m█\u001b[32m█\u001b[39m\u001b[39m█\u001b[39m█\u001b[39m█\u001b[39m█\u001b[39m█\u001b[39m█\u001b[39m▇\u001b[39m▇\u001b[39m▆\u001b[39m▄\u001b[39m▆\u001b[39m▆\u001b[39m█\u001b[39m█\u001b[39m█\u001b[39m█\u001b[39m█\u001b[39m▇\u001b[39m▇\u001b[39m█\u001b[39m█\u001b[39m█\u001b[39m█\u001b[39m▇\u001b[39m▇\u001b[39m▆\u001b[39m▆\u001b[39m█\u001b[39m▆\u001b[39m▇\u001b[39m▆\u001b[39m▇\u001b[39m▆\u001b[39m▆\u001b[39m▆\u001b[39m▅\u001b[39m▅\u001b[39m▆\u001b[39m▄\u001b[39m▆\u001b[39m▅\u001b[39m▅\u001b[39m▅\u001b[39m▄\u001b[39m▅\u001b[39m▆\u001b[39m▅\u001b[39m▅\u001b[39m▆\u001b[39m \u001b[39m█\n",
       "  265 μs\u001b[90m        \u001b[39m\u001b[90mHistogram: \u001b[39m\u001b[90m\u001b[1mlog(\u001b[22m\u001b[39m\u001b[90mfrequency\u001b[39m\u001b[90m\u001b[1m)\u001b[22m\u001b[39m\u001b[90m by time\u001b[39m        414 μs \u001b[0m\u001b[1m<\u001b[22m\n",
       "\n",
       " Memory estimate\u001b[90m: \u001b[39m\u001b[33m0 bytes\u001b[39m, allocs estimate\u001b[90m: \u001b[39m\u001b[33m0\u001b[39m."
      ]
     },
     "execution_count": 31,
     "metadata": {},
     "output_type": "execute_result"
    }
   ],
   "source": [
    "BLAS.set_num_threads(1)\n",
    "@show BLAS.vendor()\n",
    "@benchmark mul!($C, $A, $B)"
   ]
  },
  {
   "cell_type": "code",
   "execution_count": null,
   "metadata": {
    "collapsed": true
   },
   "outputs": [],
   "source": []
  }
 ],
 "metadata": {
  "@webio": {
   "lastCommId": null,
   "lastKernelId": null
  },
  "kernelspec": {
   "display_name": "Julia 1.7.1",
   "language": "julia",
   "name": "julia-1.7"
  },
  "language_info": {
   "file_extension": ".jl",
   "mimetype": "application/julia",
   "name": "julia",
   "version": "1.7.1"
  }
 },
 "nbformat": 4,
 "nbformat_minor": 2
}
