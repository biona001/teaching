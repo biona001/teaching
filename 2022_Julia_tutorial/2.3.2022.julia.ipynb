{
 "cells": [
  {
   "cell_type": "markdown",
   "metadata": {},
   "source": [
    "# An introduction to"
   ]
  },
  {
   "cell_type": "markdown",
   "metadata": {},
   "source": [
    "<img src=\"img/Julia_Programming_Language_Logo.png\" alt=\"Drawing\" style=\"width: 400px;\"/>"
   ]
  },
  {
   "cell_type": "markdown",
   "metadata": {},
   "source": [
    "Further reading: \n",
    "+ [UCLA biostats 257](https://ucla-biostat-257-2021spring.github.io/schedule/schedule.html): statistical computing with Julia \n",
    "+ [Why we created Julia?](https://julialang.org/blog/2012/02/why-we-created-julia/) blog post by the authors of Julia\n",
    "+ [Tim Holy 2021 talk](https://youtu.be/x4oi0IKf52w) \"Why Julia?\" A high level description of the features and benefits of programming in Julia.\""
   ]
  },
  {
   "cell_type": "markdown",
   "metadata": {},
   "source": [
    "# Types of computer languages\n",
    "\n",
    "+ **Compiled languages** (low-level languages): C/C++, Fortran, ...\n",
    "    + Codes are directly compiled to machine code that is executed by CPU\n",
    "    + Pros: fast, memory efficient\n",
    "    + Cons: longer development time, hard to debug, hard to profile\n",
    "+ **Interpreted language** (high-level languages): R, Matlab, Python, SAS IML, JavaScript, ...\n",
    "    + Codes are interpreted by an interpreter\n",
    "    + Pros: fast prototyping\n",
    "    + Cons: excruciatingly slow for loops\n",
    "+ Mixed (dynamic) languages: Matlab (JIT), R (compiler package), Julia, Cython, JAVA, ...\n",
    "    + Pros and cons: between the compiled and interpreted languages\n",
    "+ Script languages: Linux shell scripts, Perl, ...\n",
    "    + Extremely useful for some data preprocessing and manipulation\n",
    "+ Database languages: SQL, Hive (Hadoop).\n",
    "    + Data analysis never happens if we do not know how to retrieve data from databases\n",
    "    \n",
    "> For the work we do — scientific computing, machine learning, data mining, large-scale linear algebra, distributed and parallel computing — each one is perfect for some aspects of the work and terrible for others.\n",
    "\n",
    "> 2012 blog \"Why we created Julia\" by Jeff Bezanson, Stefan Karpinski, Viral B. Shah, Alan Edelman"
   ]
  },
  {
   "cell_type": "markdown",
   "metadata": {},
   "source": [
    "# The \"Two Language\" problem"
   ]
  },
  {
   "cell_type": "markdown",
   "metadata": {},
   "source": [
    "+ To improve efficiency of interpreted languages such as R or Matlab, conventional wisdom is to avoid \"loops\" as much as possible. Aka, vectorize code\n",
    "\n",
    "> The only loop you are allowed to have is that for an iterative algorithm\n",
    "\n",
    "> -- Hua Zhou\n",
    "\n",
    "+ When looping is unavoidable, need to code in C, C++, or Fortran. This creates the notorious **two language problem**: \n",
    "    \n",
    "    1. **Prototype code** goes into high-level (easy but slow) languages like R/Python\n",
    "    2. **Production code** goes into low-level (hard but fast) language like C/C++.\n",
    "\n",
    "\n",
    "+ Developers program the same thing twice!! Future contributers must *understand and then program in* 2 languages.\n",
    "\n",
    "\n",
    "+ Success stories:\n",
    "    + `glmnet` package in R is coded in Fortran\n",
    "    + `tidyverse` and `data.table` packages use a lot RCpp/C++.\n",
    "\n",
    "<img src=\"img/two_language_problem.jpg\" alt=\"Drawing\" style=\"width: 800px;\"/>\n",
    "\n",
    "+ Modern languages such as Julia tries to solve the two language problem. That is to achieve **efficiency without vectorizing code**. \n",
    "\n",
    "+ **Take away:** If what you need is common (e.g. matrix algebra, sorting...etc), *someone* has written an efficient low level version which you can use in your language of choice. Most people eventually need something that nobody has written in a fast language: *it is up to you now*."
   ]
  },
  {
   "cell_type": "markdown",
   "metadata": {},
   "source": [
    "# Peek at Julia's \"for loop\" performance\n",
    "\n",
    "+ Example by Douglas Bates (member of R-Core, author of popular R packages `lme4`, `Matrix`, `RcppEigen`, etc)\n",
    "\n",
    "> As some of you may know, I have had a (rather late) mid-life crisis and run off with another language called Julia.\n",
    "\n",
    "> -- Doug Bates (on the `knitr` Google Group)\n",
    "\n",
    "+ The task is to create a Gibbs sampler for the density\n",
    "$$f(x, y) = kx^2\\exp(-xy^2-y^2+2y−4x), \\quad x>0$$\n",
    " \n",
    "using the conditional distributions\n",
    "$$X | Y \\sim \\Gamma\\left(3, \\frac{1}{y^2+4}\\right)$$\n",
    "$$Y | X \\sim N\\left(\\frac{1}{1+x}, \\frac{1}{2(1+x)}\\right)$$\n",
    " \n",
    "### R solution\n",
    "\n",
    "The `RCall.jl` package allows us to execute R code without leaving the Julia environment. \n",
    "\n",
    "Lets generate 10000 samples with 500 thinning factor. How long does it take?\n"
   ]
  },
  {
   "cell_type": "code",
   "execution_count": 1,
   "metadata": {
    "collapsed": false
   },
   "outputs": [
    {
     "data": {
      "text/plain": [
       "RObject{RealSxp}\n",
       "   user  system elapsed \n",
       " 18.785   1.909  20.700 \n"
      ]
     },
     "execution_count": 1,
     "metadata": {},
     "output_type": "execute_result"
    }
   ],
   "source": [
    "using RCall\n",
    "R\"\"\"\n",
    "library(Matrix)\n",
    "\n",
    "Rgibbs <- function(N, thin) {\n",
    "  mat <- matrix(0, nrow=N, ncol=2)\n",
    "  x <- y <- 0\n",
    "  for (i in 1:N) {\n",
    "    for (j in 1:thin) {\n",
    "      x <- rgamma(1, 3, y * y + 4) # 3rd arg is rate\n",
    "      y <- rnorm(1, 1 / (x + 1), 1 / sqrt(2 * (x + 1)))\n",
    "    }\n",
    "    mat[i,] <- c(x, y)\n",
    "  }\n",
    "  mat\n",
    "}\n",
    "\n",
    "system.time(Rgibbs(10000, 500)) \n",
    "\"\"\""
   ]
  },
  {
   "cell_type": "markdown",
   "metadata": {},
   "source": [
    "### Julia version"
   ]
  },
  {
   "cell_type": "code",
   "execution_count": 2,
   "metadata": {
    "collapsed": false
   },
   "outputs": [
    {
     "name": "stdout",
     "output_type": "stream",
     "text": [
      "  0.289195 seconds (2 allocations: 156.328 KiB)\n"
     ]
    }
   ],
   "source": [
    "using Distributions\n",
    "\n",
    "function jgibbs(N, thin)\n",
    "    mat = zeros(N, 2)\n",
    "    x = y = 0.0\n",
    "    for i in 1:N\n",
    "        for j in 1:thin\n",
    "            x = rand(Gamma(3, 1 / (y * y + 4)))\n",
    "            y = rand(Normal(1 / (x + 1), 1 / sqrt(2(x + 1))))\n",
    "        end\n",
    "        mat[i, 1] = x\n",
    "        mat[i, 2] = y\n",
    "    end\n",
    "    mat\n",
    "end\n",
    "\n",
    "jgibbs(100, 5); # warm-up aka compile the code\n",
    "@time jgibbs(10000, 500);"
   ]
  },
  {
   "cell_type": "code",
   "execution_count": 3,
   "metadata": {
    "collapsed": false
   },
   "outputs": [
    {
     "data": {
      "text/plain": [
       "76.19940861870226"
      ]
     },
     "execution_count": 3,
     "metadata": {},
     "output_type": "execute_result"
    }
   ],
   "source": [
    "# compare speeds\n",
    "21.286 / 0.279346"
   ]
  },
  {
   "cell_type": "markdown",
   "metadata": {},
   "source": [
    "Julia is ~70 times faster than R, with essentially the same coding effort."
   ]
  },
  {
   "cell_type": "markdown",
   "metadata": {},
   "source": [
    "# Julia package system\n",
    "\n",
    "+ Each Julia package is a Git repository. Julia package name ends with `.jl`. E.g., `Distributions.jl` package lives at https://github.com/JuliaStats/Distributions.jl. \n",
    "\n",
    "\n",
    "+ All Julia packages are open source and almost always 100% written in Julia. \n",
    "\n",
    "\n",
    "+ To add packages, type `]add Distributions`. Here `]` tells Julia to enter **package manager mode**\n",
    "\n",
    "\n",
    "```julia\n",
    "# in Pkg mode\n",
    "(@v1.6) pkg> add Distributions\n",
    "```\n",
    "to remove, type\n",
    "```julia\n",
    "(@v1.6) pkg> rm Distributions\n",
    "```\n",
    "to update package versions, type\n",
    "```julia\n",
    "(@v1.6) pkg> update\n",
    "```\n",
    "\n",
    "+ **Package dependencies** are specified in `Project.toml` file (included in all Julia repo), thus all dependent packages will automatically be installed.\n",
    "\n",
    "    + When combined with `Manifest.toml`, exact computing environments can be reproduced by `]activate .`\n",
    "\n",
    "    + `Artifacts.toml` will enable Julia to automatically download of binaries/datasets hosted anywhere."
   ]
  },
  {
   "cell_type": "markdown",
   "metadata": {},
   "source": [
    "# Some basic Julia code"
   ]
  },
  {
   "cell_type": "code",
   "execution_count": 4,
   "metadata": {
    "collapsed": false,
    "scrolled": true
   },
   "outputs": [
    {
     "data": {
      "text/plain": [
       "2"
      ]
     },
     "execution_count": 4,
     "metadata": {},
     "output_type": "execute_result"
    }
   ],
   "source": [
    "1 + 1"
   ]
  },
  {
   "cell_type": "code",
   "execution_count": 5,
   "metadata": {
    "collapsed": false
   },
   "outputs": [
    {
     "data": {
      "text/plain": [
       "Float64"
      ]
     },
     "execution_count": 5,
     "metadata": {},
     "output_type": "execute_result"
    }
   ],
   "source": [
    "# Float64 is same as double in R\n",
    "typeof(1.0)"
   ]
  },
  {
   "cell_type": "code",
   "execution_count": 6,
   "metadata": {
    "collapsed": false
   },
   "outputs": [
    {
     "data": {
      "text/plain": [
       "6.283185307179586"
      ]
     },
     "execution_count": 6,
     "metadata": {},
     "output_type": "execute_result"
    }
   ],
   "source": [
    "# function definition and greek letters\n",
    "function f(x)\n",
    "    return π*x   # π = \\pi<tab>\n",
    "end\n",
    "function ∇f(x)\n",
    "    return π     # ∇ = \\nabla<tab>\n",
    "end\n",
    "function ∇²f(x)\n",
    "    return 0     # ∇² = \\nabla\\^2<tab>\n",
    "end\n",
    "\n",
    "θ̂ = f(1) + ∇f(1) + ∇²f(1) # θ̂ = \\theta<tab>\\hat<tab>"
   ]
  },
  {
   "cell_type": "code",
   "execution_count": 7,
   "metadata": {
    "collapsed": false
   },
   "outputs": [
    {
     "data": {
      "text/plain": [
       "6.0"
      ]
     },
     "execution_count": 7,
     "metadata": {},
     "output_type": "execute_result"
    }
   ],
   "source": [
    "# emoji! `\\:kissing_cat:<tab>`\n",
    "😽 = 5.0\n",
    "嗨 = 1.0\n",
    "😽 + 嗨"
   ]
  },
  {
   "cell_type": "markdown",
   "metadata": {},
   "source": [
    "View [full list of support unicode characters](https://docs.julialang.org/en/v1/manual/unicode-input/)"
   ]
  },
  {
   "cell_type": "markdown",
   "metadata": {},
   "source": [
    "## Multi-dimensional arrays\n",
    "\n",
    "Julia supports efficient multidimensional arrays"
   ]
  },
  {
   "cell_type": "code",
   "execution_count": 8,
   "metadata": {
    "collapsed": false
   },
   "outputs": [
    {
     "data": {
      "text/plain": [
       "5×2 Matrix{Float64}:\n",
       " 0.0  0.0\n",
       " 0.0  0.0\n",
       " 0.0  0.0\n",
       " 0.0  0.0\n",
       " 0.0  0.0"
      ]
     },
     "execution_count": 8,
     "metadata": {},
     "output_type": "execute_result"
    }
   ],
   "source": [
    "# matrices\n",
    "x = zeros(5, 2)"
   ]
  },
  {
   "cell_type": "code",
   "execution_count": 9,
   "metadata": {
    "collapsed": false
   },
   "outputs": [
    {
     "data": {
      "text/plain": [
       "5-element Vector{Float64}:\n",
       " 0.0\n",
       " 0.0\n",
       " 0.0\n",
       " 0.0\n",
       " 0.0"
      ]
     },
     "execution_count": 9,
     "metadata": {},
     "output_type": "execute_result"
    }
   ],
   "source": [
    "# copy 1st column of x (note: 1-based indexing)\n",
    "x[:, 1]"
   ]
  },
  {
   "cell_type": "code",
   "execution_count": 10,
   "metadata": {
    "collapsed": false
   },
   "outputs": [
    {
     "data": {
      "text/plain": [
       "5×2 Matrix{Float64}:\n",
       " 13.0  0.0\n",
       "  0.0  0.0\n",
       "  0.0  0.0\n",
       "  0.0  0.0\n",
       "  0.0  0.0"
      ]
     },
     "execution_count": 10,
     "metadata": {},
     "output_type": "execute_result"
    }
   ],
   "source": [
    "# \"view\" 1st column of x without allocating memory\n",
    "z = @view(x[:, 1])\n",
    "z[1] = 13\n",
    "x"
   ]
  },
  {
   "cell_type": "markdown",
   "metadata": {},
   "source": [
    "## Linear algebra\n",
    "\n",
    "\n",
    "> Over the past 30 years I have worked with many different linear algebra packages in Fortran, C, C++, and Python. I even had a hand in designing and writing the Matrix package for R. None of them come close to the coverage, flexibility, and efficiency of the LinearAlgebra standard library for Julia.\n",
    "\n",
    "> --Doug Bates on Julia Discourse"
   ]
  },
  {
   "cell_type": "code",
   "execution_count": 11,
   "metadata": {
    "collapsed": true
   },
   "outputs": [],
   "source": [
    "using LinearAlgebra"
   ]
  },
  {
   "cell_type": "code",
   "execution_count": 12,
   "metadata": {
    "collapsed": false
   },
   "outputs": [
    {
     "data": {
      "text/plain": [
       "(0.0849965806808427, 0.0849965806808427, 0.0849965806808427)"
      ]
     },
     "execution_count": 12,
     "metadata": {},
     "output_type": "execute_result"
    }
   ],
   "source": [
    "x = randn(10) # x[i] ~ N(0, 1)\n",
    "y = rand(10)  # y[i] ~ Uniform(0, 1)\n",
    "\n",
    "# 3 ways to compute dot products\n",
    "dot(x, y), Transpose(x)*y, x'y"
   ]
  },
  {
   "cell_type": "markdown",
   "metadata": {},
   "source": [
    "BLAS are automatically shipped within Julia and are used whenever possible. "
   ]
  },
  {
   "cell_type": "code",
   "execution_count": 13,
   "metadata": {
    "collapsed": false
   },
   "outputs": [
    {
     "data": {
      "text/plain": [
       "5×5 Matrix{Float64}:\n",
       "  2.73437    0.585094   3.0745     2.28415   -1.76277\n",
       "  0.760372  -0.499806   0.696196   1.70439   -1.83535\n",
       " -1.36333    0.239634  -1.28511   -1.42765    0.311762\n",
       " -1.1433     0.2333    -2.02939   -2.07237   -0.541425\n",
       "  1.96202   -0.483426   1.63835   -0.431835  -0.658567"
      ]
     },
     "execution_count": 13,
     "metadata": {},
     "output_type": "execute_result"
    }
   ],
   "source": [
    "# matrix multiplication calls BLAS internally\n",
    "x, y = randn(5, 5), randn(5, 5)\n",
    "x * y"
   ]
  },
  {
   "cell_type": "code",
   "execution_count": 14,
   "metadata": {
    "collapsed": false
   },
   "outputs": [
    {
     "data": {
      "text/plain": [
       "5×5 Matrix{Float64}:\n",
       "  2.73437    0.585094   3.0745     2.28415   -1.76277\n",
       "  0.760372  -0.499806   0.696196   1.70439   -1.83535\n",
       " -1.36333    0.239634  -1.28511   -1.42765    0.311762\n",
       " -1.1433     0.2333    -2.02939   -2.07237   -0.541425\n",
       "  1.96202   -0.483426   1.63835   -0.431835  -0.658567"
      ]
     },
     "execution_count": 14,
     "metadata": {},
     "output_type": "execute_result"
    }
   ],
   "source": [
    "# in-place matrix multiplication\n",
    "z = zeros(5, 5)\n",
    "mul!(z, x, y)\n",
    "z"
   ]
  },
  {
   "cell_type": "markdown",
   "metadata": {},
   "source": [
    "LAPACK routines are automatically available as well"
   ]
  },
  {
   "cell_type": "code",
   "execution_count": 15,
   "metadata": {
    "collapsed": false
   },
   "outputs": [
    {
     "data": {
      "text/plain": [
       "LinearAlgebra.QRCompactWY{Float64, Matrix{Float64}}\n",
       "Q factor:\n",
       "5×5 LinearAlgebra.QRCompactWYQ{Float64, Matrix{Float64}}:\n",
       " -0.0978138  -0.724234  -0.232573    0.243954  -0.593561\n",
       " -0.184921   -0.578072  -0.0917851  -0.583179   0.532085\n",
       " -0.485669    0.184706  -0.730171    0.342819   0.281664\n",
       " -0.699172    0.261501   0.136632   -0.470156  -0.450623\n",
       " -0.481166   -0.197027   0.621022    0.51168    0.286662\n",
       "R factor:\n",
       "5×5 Matrix{Float64}:\n",
       " -2.20166   0.223775   1.52539   -0.151719   0.869364\n",
       "  0.0      -3.49918   -0.154972   0.398774  -1.20301\n",
       "  0.0       0.0        0.787754  -0.318685   1.14899\n",
       "  0.0       0.0        0.0       -1.03924    0.687319\n",
       "  0.0       0.0        0.0        0.0       -1.46095"
      ]
     },
     "execution_count": 15,
     "metadata": {},
     "output_type": "execute_result"
    }
   ],
   "source": [
    "# QR factorization\n",
    "qr(x)"
   ]
  },
  {
   "cell_type": "code",
   "execution_count": 16,
   "metadata": {
    "collapsed": false
   },
   "outputs": [
    {
     "data": {
      "text/plain": [
       "5-element Vector{Float64}:\n",
       "  0.6494074719248015\n",
       "  0.9515101712693981\n",
       "  0.2663230587631103\n",
       " -0.6757680457007442\n",
       "  0.004484057103363915"
      ]
     },
     "execution_count": 16,
     "metadata": {},
     "output_type": "execute_result"
    }
   ],
   "source": [
    "# least squares\n",
    "A = rand(5, 5)\n",
    "b = rand(5)\n",
    "x = A \\ b"
   ]
  },
  {
   "cell_type": "markdown",
   "metadata": {},
   "source": [
    "What is `\\` doing? Type `?\\` to pull up the documentation"
   ]
  },
  {
   "cell_type": "code",
   "execution_count": 17,
   "metadata": {
    "collapsed": false
   },
   "outputs": [
    {
     "name": "stdout",
     "output_type": "stream",
     "text": [
      "search: \u001b[0m\u001b[1m\\\u001b[22m\n",
      "\n"
     ]
    },
    {
     "data": {
      "text/latex": [
       "\\begin{verbatim}\n",
       "\\(x, y)\n",
       "\\end{verbatim}\n",
       "Left division operator: multiplication of \\texttt{y} by the inverse of \\texttt{x} on the left. Gives floating-point results for integer arguments.\n",
       "\n",
       "\\section{Examples}\n",
       "\\begin{verbatim}\n",
       "julia> 3 \\ 6\n",
       "2.0\n",
       "\n",
       "julia> inv(3) * 6\n",
       "2.0\n",
       "\n",
       "julia> A = [4 3; 2 1]; x = [5, 6];\n",
       "\n",
       "julia> A \\ x\n",
       "2-element Vector{Float64}:\n",
       "  6.5\n",
       " -7.0\n",
       "\n",
       "julia> inv(A) * x\n",
       "2-element Vector{Float64}:\n",
       "  6.5\n",
       " -7.0\n",
       "\\end{verbatim}\n",
       "\\rule{\\textwidth}{1pt}\n",
       "\\begin{verbatim}\n",
       "\\(A, B)\n",
       "\\end{verbatim}\n",
       "Matrix division using a polyalgorithm. For input matrices \\texttt{A} and \\texttt{B}, the result \\texttt{X} is such that \\texttt{A*X == B} when \\texttt{A} is square. The solver that is used depends upon the structure of \\texttt{A}.  If \\texttt{A} is upper or lower triangular (or diagonal), no factorization of \\texttt{A} is required and the system is solved with either forward or backward substitution. For non-triangular square matrices, an LU factorization is used.\n",
       "\n",
       "For rectangular \\texttt{A} the result is the minimum-norm least squares solution computed by a pivoted QR factorization of \\texttt{A} and a rank estimate of \\texttt{A} based on the R factor.\n",
       "\n",
       "When \\texttt{A} is sparse, a similar polyalgorithm is used. For indefinite matrices, the \\texttt{LDLt} factorization does not use pivoting during the numerical factorization and therefore the procedure can fail even for invertible matrices.\n",
       "\n",
       "\\section{Examples}\n",
       "\\begin{verbatim}\n",
       "julia> A = [1 0; 1 -2]; B = [32; -4];\n",
       "\n",
       "julia> X = A \\ B\n",
       "2-element Vector{Float64}:\n",
       " 32.0\n",
       " 18.0\n",
       "\n",
       "julia> A * X == B\n",
       "true\n",
       "\\end{verbatim}\n",
       "\\rule{\\textwidth}{1pt}\n",
       "\\begin{verbatim}\n",
       "(\\)(F::QRSparse, B::StridedVecOrMat)\n",
       "\\end{verbatim}\n",
       "Solve the least squares problem $\\min\\|Ax - b\\|^2$ or the linear system of equations $Ax=b$ when \\texttt{F} is the sparse QR factorization of $A$. A basic solution is returned when the problem is underdetermined.\n",
       "\n",
       "\\section{Examples}\n",
       "\\begin{verbatim}\n",
       "julia> A = sparse([1,2,4], [1,1,1], [1.0,1.0,1.0], 4, 2)\n",
       "4×2 SparseMatrixCSC{Float64, Int64} with 3 stored entries:\n",
       " 1.0   ⋅\n",
       " 1.0   ⋅\n",
       "  ⋅    ⋅\n",
       " 1.0   ⋅\n",
       "\n",
       "julia> qr(A)\\fill(1.0, 4)\n",
       "2-element Vector{Float64}:\n",
       " 1.0\n",
       " 0.0\n",
       "\\end{verbatim}\n"
      ],
      "text/markdown": [
       "```\n",
       "\\(x, y)\n",
       "```\n",
       "\n",
       "Left division operator: multiplication of `y` by the inverse of `x` on the left. Gives floating-point results for integer arguments.\n",
       "\n",
       "# Examples\n",
       "\n",
       "```jldoctest\n",
       "julia> 3 \\ 6\n",
       "2.0\n",
       "\n",
       "julia> inv(3) * 6\n",
       "2.0\n",
       "\n",
       "julia> A = [4 3; 2 1]; x = [5, 6];\n",
       "\n",
       "julia> A \\ x\n",
       "2-element Vector{Float64}:\n",
       "  6.5\n",
       " -7.0\n",
       "\n",
       "julia> inv(A) * x\n",
       "2-element Vector{Float64}:\n",
       "  6.5\n",
       " -7.0\n",
       "```\n",
       "\n",
       "---\n",
       "\n",
       "```\n",
       "\\(A, B)\n",
       "```\n",
       "\n",
       "Matrix division using a polyalgorithm. For input matrices `A` and `B`, the result `X` is such that `A*X == B` when `A` is square. The solver that is used depends upon the structure of `A`.  If `A` is upper or lower triangular (or diagonal), no factorization of `A` is required and the system is solved with either forward or backward substitution. For non-triangular square matrices, an LU factorization is used.\n",
       "\n",
       "For rectangular `A` the result is the minimum-norm least squares solution computed by a pivoted QR factorization of `A` and a rank estimate of `A` based on the R factor.\n",
       "\n",
       "When `A` is sparse, a similar polyalgorithm is used. For indefinite matrices, the `LDLt` factorization does not use pivoting during the numerical factorization and therefore the procedure can fail even for invertible matrices.\n",
       "\n",
       "# Examples\n",
       "\n",
       "```jldoctest\n",
       "julia> A = [1 0; 1 -2]; B = [32; -4];\n",
       "\n",
       "julia> X = A \\ B\n",
       "2-element Vector{Float64}:\n",
       " 32.0\n",
       " 18.0\n",
       "\n",
       "julia> A * X == B\n",
       "true\n",
       "```\n",
       "\n",
       "---\n",
       "\n",
       "```\n",
       "(\\)(F::QRSparse, B::StridedVecOrMat)\n",
       "```\n",
       "\n",
       "Solve the least squares problem $\\min\\|Ax - b\\|^2$ or the linear system of equations $Ax=b$ when `F` is the sparse QR factorization of $A$. A basic solution is returned when the problem is underdetermined.\n",
       "\n",
       "# Examples\n",
       "\n",
       "```jldoctest\n",
       "julia> A = sparse([1,2,4], [1,1,1], [1.0,1.0,1.0], 4, 2)\n",
       "4×2 SparseMatrixCSC{Float64, Int64} with 3 stored entries:\n",
       " 1.0   ⋅\n",
       " 1.0   ⋅\n",
       "  ⋅    ⋅\n",
       " 1.0   ⋅\n",
       "\n",
       "julia> qr(A)\\fill(1.0, 4)\n",
       "2-element Vector{Float64}:\n",
       " 1.0\n",
       " 0.0\n",
       "```\n"
      ],
      "text/plain": [
       "\u001b[36m  \\(x, y)\u001b[39m\n",
       "\n",
       "  Left division operator: multiplication of \u001b[36my\u001b[39m by the inverse of \u001b[36mx\u001b[39m on the left.\n",
       "  Gives floating-point results for integer arguments.\n",
       "\n",
       "\u001b[1m  Examples\u001b[22m\n",
       "\u001b[1m  ≡≡≡≡≡≡≡≡≡≡\u001b[22m\n",
       "\n",
       "\u001b[36m  julia> 3 \\ 6\u001b[39m\n",
       "\u001b[36m  2.0\u001b[39m\n",
       "\u001b[36m  \u001b[39m\n",
       "\u001b[36m  julia> inv(3) * 6\u001b[39m\n",
       "\u001b[36m  2.0\u001b[39m\n",
       "\u001b[36m  \u001b[39m\n",
       "\u001b[36m  julia> A = [4 3; 2 1]; x = [5, 6];\u001b[39m\n",
       "\u001b[36m  \u001b[39m\n",
       "\u001b[36m  julia> A \\ x\u001b[39m\n",
       "\u001b[36m  2-element Vector{Float64}:\u001b[39m\n",
       "\u001b[36m    6.5\u001b[39m\n",
       "\u001b[36m   -7.0\u001b[39m\n",
       "\u001b[36m  \u001b[39m\n",
       "\u001b[36m  julia> inv(A) * x\u001b[39m\n",
       "\u001b[36m  2-element Vector{Float64}:\u001b[39m\n",
       "\u001b[36m    6.5\u001b[39m\n",
       "\u001b[36m   -7.0\u001b[39m\n",
       "\n",
       "  ────────────────────────────────────────────────────────────────────────────\n",
       "\n",
       "\u001b[36m  \\(A, B)\u001b[39m\n",
       "\n",
       "  Matrix division using a polyalgorithm. For input matrices \u001b[36mA\u001b[39m and \u001b[36mB\u001b[39m, the\n",
       "  result \u001b[36mX\u001b[39m is such that \u001b[36mA*X == B\u001b[39m when \u001b[36mA\u001b[39m is square. The solver that is used\n",
       "  depends upon the structure of \u001b[36mA\u001b[39m. If \u001b[36mA\u001b[39m is upper or lower triangular (or\n",
       "  diagonal), no factorization of \u001b[36mA\u001b[39m is required and the system is solved with\n",
       "  either forward or backward substitution. For non-triangular square matrices,\n",
       "  an LU factorization is used.\n",
       "\n",
       "  For rectangular \u001b[36mA\u001b[39m the result is the minimum-norm least squares solution\n",
       "  computed by a pivoted QR factorization of \u001b[36mA\u001b[39m and a rank estimate of \u001b[36mA\u001b[39m based\n",
       "  on the R factor.\n",
       "\n",
       "  When \u001b[36mA\u001b[39m is sparse, a similar polyalgorithm is used. For indefinite matrices,\n",
       "  the \u001b[36mLDLt\u001b[39m factorization does not use pivoting during the numerical\n",
       "  factorization and therefore the procedure can fail even for invertible\n",
       "  matrices.\n",
       "\n",
       "\u001b[1m  Examples\u001b[22m\n",
       "\u001b[1m  ≡≡≡≡≡≡≡≡≡≡\u001b[22m\n",
       "\n",
       "\u001b[36m  julia> A = [1 0; 1 -2]; B = [32; -4];\u001b[39m\n",
       "\u001b[36m  \u001b[39m\n",
       "\u001b[36m  julia> X = A \\ B\u001b[39m\n",
       "\u001b[36m  2-element Vector{Float64}:\u001b[39m\n",
       "\u001b[36m   32.0\u001b[39m\n",
       "\u001b[36m   18.0\u001b[39m\n",
       "\u001b[36m  \u001b[39m\n",
       "\u001b[36m  julia> A * X == B\u001b[39m\n",
       "\u001b[36m  true\u001b[39m\n",
       "\n",
       "  ────────────────────────────────────────────────────────────────────────────\n",
       "\n",
       "\u001b[36m  (\\)(F::QRSparse, B::StridedVecOrMat)\u001b[39m\n",
       "\n",
       "  Solve the least squares problem \u001b[35m\\min\\|Ax - b\\|^2\u001b[39m or the linear system of\n",
       "  equations \u001b[35mAx=b\u001b[39m when \u001b[36mF\u001b[39m is the sparse QR factorization of \u001b[35mA\u001b[39m. A basic solution\n",
       "  is returned when the problem is underdetermined.\n",
       "\n",
       "\u001b[1m  Examples\u001b[22m\n",
       "\u001b[1m  ≡≡≡≡≡≡≡≡≡≡\u001b[22m\n",
       "\n",
       "\u001b[36m  julia> A = sparse([1,2,4], [1,1,1], [1.0,1.0,1.0], 4, 2)\u001b[39m\n",
       "\u001b[36m  4×2 SparseMatrixCSC{Float64, Int64} with 3 stored entries:\u001b[39m\n",
       "\u001b[36m   1.0   ⋅\u001b[39m\n",
       "\u001b[36m   1.0   ⋅\u001b[39m\n",
       "\u001b[36m    ⋅    ⋅\u001b[39m\n",
       "\u001b[36m   1.0   ⋅\u001b[39m\n",
       "\u001b[36m  \u001b[39m\n",
       "\u001b[36m  julia> qr(A)\\fill(1.0, 4)\u001b[39m\n",
       "\u001b[36m  2-element Vector{Float64}:\u001b[39m\n",
       "\u001b[36m   1.0\u001b[39m\n",
       "\u001b[36m   0.0\u001b[39m"
      ]
     },
     "execution_count": 17,
     "metadata": {},
     "output_type": "execute_result"
    }
   ],
   "source": [
    "?\\"
   ]
  },
  {
   "cell_type": "code",
   "execution_count": 18,
   "metadata": {
    "collapsed": false
   },
   "outputs": [
    {
     "data": {
      "text/html": [
       "\\(A::<b>AbstractMatrix{T} where T</b>, B::<b>AbstractVecOrMat{T} where T</b>) in LinearAlgebra at <a href=\"file:///Users/julia/buildbot/worker/package_macos64/build/usr/share/julia/stdlib/v1.6/LinearAlgebra/src/generic.jl\" target=\"_blank\">/Applications/Julia-1.6.app/Contents/Resources/julia/share/julia/stdlib/v1.6/LinearAlgebra/src/generic.jl:1122</a>"
      ],
      "text/plain": [
       "\\(A::AbstractMatrix{T} where T, B::AbstractVecOrMat{T} where T) in LinearAlgebra at /Applications/Julia-1.6.app/Contents/Resources/julia/share/julia/stdlib/v1.6/LinearAlgebra/src/generic.jl:1122"
      ]
     },
     "execution_count": 18,
     "metadata": {},
     "output_type": "execute_result"
    }
   ],
   "source": [
    "# use @which to see source code of \\\n",
    "@which A \\ b"
   ]
  },
  {
   "cell_type": "code",
   "execution_count": 19,
   "metadata": {
    "collapsed": false
   },
   "outputs": [
    {
     "data": {
      "text/plain": [
       "(-0.04549859096387846, 3.0247683946542265, 5)"
      ]
     },
     "execution_count": 19,
     "metadata": {},
     "output_type": "execute_result"
    }
   ],
   "source": [
    "# determinant, trace, rank, ...etc\n",
    "x = rand(5, 5)\n",
    "det(x), tr(x), rank(x)"
   ]
  },
  {
   "cell_type": "markdown",
   "metadata": {},
   "source": [
    "# Julia for statistical genetics\n",
    "\n",
    "+ JuliaStats (https://github.com/JuliaStats): 40 repositories for general statistic packages\n",
    "+ OpenMendel (https://github.com/OpenMendel): 35 repositories for genetic analysis, most notably the \"gateway packages\"\n",
    "    + SnpArrays.jl: https://github.com/OpenMendel/SnpArrays.jl\n",
    "    + VCFTools.jl: https://github.com/OpenMendel/VCFTools.jl\n",
    "    + BGEN.jl: https://github.com/OpenMendel/BGEN.jl\n",
    "    + PGEN.jl: https://github.com/OpenMendel/PGEN.jl\n",
    "    \n",
    "These packages are similar to PLINK and VCFTools...etc, the only difference is they exist in the **high-level** programming environment, which allows for plotting and custom-defined operations"
   ]
  },
  {
   "cell_type": "markdown",
   "metadata": {},
   "source": [
    "## SnpArrays.jl instead of PLINK\n",
    "\n",
    "SnpArrays.jl (https://github.com/OpenMendel/SnpArrays.jl) contain Julia utilities to read, summarize, filter, merge, and perform compressed linear algebra on binary PLINK (.bed/.bim/.fam) files"
   ]
  },
  {
   "cell_type": "code",
   "execution_count": 20,
   "metadata": {
    "collapsed": false
   },
   "outputs": [
    {
     "data": {
      "text/plain": [
       "\"/Users/biona001/.julia/packages/SnpArrays/jKl4x/data\""
      ]
     },
     "execution_count": 20,
     "metadata": {},
     "output_type": "execute_result"
    }
   ],
   "source": [
    "# example data\n",
    "using SnpArrays, Plots\n",
    "datapath = normpath(SnpArrays.datadir())"
   ]
  },
  {
   "cell_type": "markdown",
   "metadata": {},
   "source": [
    "The ; will bring up bash-shell within Julia REPL or jupyter notebook."
   ]
  },
  {
   "cell_type": "code",
   "execution_count": 21,
   "metadata": {
    "collapsed": false
   },
   "outputs": [
    {
     "name": "stdout",
     "output_type": "stream",
     "text": [
      "EUR_subset.bed\n",
      "EUR_subset.bim\n",
      "EUR_subset.fam\n",
      "mouse\n",
      "mouse.bed\n",
      "mouse.bim\n",
      "mouse.fam\n"
     ]
    }
   ],
   "source": [
    ";ls /Users/biona001/.julia/packages/SnpArrays/jKl4x/data"
   ]
  },
  {
   "cell_type": "code",
   "execution_count": 22,
   "metadata": {
    "collapsed": false
   },
   "outputs": [
    {
     "data": {
      "text/plain": [
       "SnpData(people: 1940, snps: 10150,\n",
       "snp_info: \n",
       " Row │ chromosome  snpid       genetic_distance  position  allele1  allele2\n",
       "     │ String      String      Float64           Int64     String   String\n",
       "─────┼──────────────────────────────────────────────────────────────────────\n",
       "   1 │ 1           rs3683945           0.0              0  A        G\n",
       "   2 │ 1           rs3707673           0.1              1  G        A\n",
       "   3 │ 1           rs6269442           0.11751          2  A        G\n",
       "   4 │ 1           rs6336442           0.135771         3  A        G\n",
       "   5 │ 1           rs13475700          0.24268          5  A        C\n",
       "   6 │ 1           rs3658242           0.251925         6  A        T\n",
       "…,\n",
       "person_info: \n",
       " Row │ fid        iid         father        mother        sex        phenotype\n",
       "     │ Abstract…  Abstract…   Abstract…     Abstract…     Abstract…  Abstract…\n",
       "─────┼─────────────────────────────────────────────────────────────────────────\n",
       "   1 │ 1_3        A048005080  H2.3:C5.2(3)  H2.3:G2.2(3)  2          -9\n",
       "   2 │ 1_5        A048006063  E5.2:H5.1(4)  E5.2:D4.1(4)  1          -9\n",
       "   3 │ 1_1        A048006555  E1.3:H1.2(3)  E1.3:D1.2(3)  1          -9\n",
       "   4 │ 1_1        A048007096  D3.2:G2.1(5)  D3.2:C5.1(5)  1          -9\n",
       "   5 │ 1_3        A048010273  G5.2:B5.1(4)  G5.2:F5.1(2)  2          -9\n",
       "   6 │ 1_1        A048010371  H4.2:C5.1(4)  H4.2:G1.1(7)  1          -9\n",
       "…,\n",
       "srcbed: /Users/biona001/.julia/packages/SnpArrays/jKl4x/data/mouse.bed\n",
       "srcbim: /Users/biona001/.julia/packages/SnpArrays/jKl4x/data/mouse.bim\n",
       "srcfam: /Users/biona001/.julia/packages/SnpArrays/jKl4x/data/mouse.fam\n",
       ")"
      ]
     },
     "execution_count": 22,
     "metadata": {},
     "output_type": "execute_result"
    }
   ],
   "source": [
    "# read PLINK file\n",
    "xdata = SnpData(\"/Users/biona001/.julia/packages/SnpArrays/jKl4x/data/mouse\")"
   ]
  },
  {
   "cell_type": "code",
   "execution_count": 23,
   "metadata": {
    "collapsed": false
   },
   "outputs": [
    {
     "data": {
      "text/plain": [
       "1940×10150 SnpArray:\n",
       " 0x02  0x02  0x02  0x02  0x03  0x02  …  0x03  0x03  0x03  0x03  0x03  0x03\n",
       " 0x02  0x02  0x03  0x02  0x02  0x02     0x03  0x03  0x03  0x03  0x03  0x03\n",
       " 0x03  0x03  0x03  0x03  0x03  0x03     0x03  0x03  0x03  0x03  0x03  0x03\n",
       " 0x02  0x02  0x02  0x02  0x02  0x02     0x03  0x03  0x03  0x03  0x03  0x03\n",
       " 0x03  0x03  0x03  0x03  0x03  0x03     0x02  0x02  0x02  0x02  0x02  0x02\n",
       " 0x02  0x02  0x02  0x02  0x03  0x02  …  0x03  0x03  0x03  0x03  0x03  0x03\n",
       " 0x02  0x02  0x02  0x02  0x03  0x02     0x03  0x03  0x03  0x03  0x03  0x03\n",
       " 0x02  0x02  0x03  0x02  0x02  0x02     0x03  0x03  0x03  0x03  0x03  0x03\n",
       " 0x02  0x02  0x03  0x02  0x02  0x02     0x03  0x03  0x03  0x03  0x03  0x03\n",
       " 0x03  0x03  0x03  0x03  0x03  0x03     0x02  0x02  0x02  0x02  0x02  0x02\n",
       " 0x03  0x03  0x03  0x03  0x03  0x03  …  0x00  0x00  0x00  0x00  0x00  0x00\n",
       " 0x02  0x02  0x02  0x02  0x03  0x02     0x03  0x03  0x03  0x03  0x03  0x03\n",
       " 0x03  0x03  0x03  0x03  0x03  0x03     0x00  0x00  0x00  0x00  0x00  0x00\n",
       "    ⋮                             ⋮  ⋱           ⋮                    \n",
       " 0x03  0x03  0x03  0x03  0x03  0x03     0x03  0x03  0x03  0x03  0x03  0x03\n",
       " 0x03  0x03  0x03  0x03  0x03  0x03     0x03  0x03  0x03  0x03  0x03  0x03\n",
       " 0x02  0x02  0x02  0x02  0x02  0x02  …  0x03  0x03  0x03  0x03  0x03  0x03\n",
       " 0x02  0x02  0x02  0x02  0x03  0x02     0x03  0x03  0x03  0x03  0x03  0x03\n",
       " 0x03  0x03  0x03  0x03  0x03  0x03     0x03  0x03  0x03  0x03  0x03  0x03\n",
       " 0x02  0x02  0x02  0x02  0x03  0x02     0x03  0x03  0x03  0x03  0x03  0x03\n",
       " 0x03  0x03  0x03  0x03  0x03  0x03     0x03  0x03  0x03  0x03  0x03  0x03\n",
       " 0x02  0x02  0x02  0x02  0x03  0x02  …  0x03  0x03  0x03  0x03  0x03  0x03\n",
       " 0x02  0x02  0x03  0x02  0x02  0x02     0x03  0x03  0x03  0x03  0x03  0x03\n",
       " 0x02  0x02  0x03  0x02  0x02  0x02     0x03  0x03  0x03  0x03  0x03  0x03\n",
       " 0x02  0x02  0x02  0x02  0x02  0x02     0x01  0x01  0x01  0x01  0x01  0x01\n",
       " 0x00  0x00  0x00  0x00  0x03  0x00     0x03  0x03  0x03  0x03  0x03  0x03"
      ]
     },
     "execution_count": 23,
     "metadata": {},
     "output_type": "execute_result"
    }
   ],
   "source": [
    "# compressed genotypes (2 bit per entry)\n",
    "x = xdata.snparray"
   ]
  },
  {
   "cell_type": "markdown",
   "metadata": {},
   "source": [
    "### Translating genotypes to numbers\n",
    "\n",
    "| Genotype | `SnpArray` | `model=ADDITIVE_MODEL` | `model=DOMINANT_MODEL` | `model=RECESSIVE_MODEL` |    \n",
    "|:---:|:---:|:---:|:---:|:---:|  \n",
    "| A1,A1 | 0x00 | 0 | 0 | 0 |  \n",
    "| missing | 0x01 | NaN | NaN | NaN |\n",
    "| A1,A2 | 0x02 | 1 | 1 | 0 |  \n",
    "| A2,A2 | 0x03 | 2 | 1 | 1 |  \n",
    "\n",
    "`convert` and `copyto!` are main functions that will perform this conversion"
   ]
  },
  {
   "cell_type": "code",
   "execution_count": 24,
   "metadata": {
    "collapsed": false
   },
   "outputs": [
    {
     "data": {
      "text/plain": [
       "1940×10150 Matrix{Float64}:\n",
       " 1.0  1.0  1.0  1.0  2.0  1.0  2.0  1.0  …    2.0    2.0    2.0    2.0    2.0\n",
       " 1.0  1.0  2.0  1.0  1.0  1.0  1.0  2.0       2.0    2.0    2.0    2.0    2.0\n",
       " 2.0  2.0  2.0  2.0  2.0  2.0  2.0  2.0       2.0    2.0    2.0    2.0    2.0\n",
       " 1.0  1.0  1.0  1.0  1.0  1.0  1.0  2.0       2.0    2.0    2.0    2.0    2.0\n",
       " 2.0  2.0  2.0  2.0  2.0  2.0  2.0  2.0       1.0    1.0    1.0    1.0    1.0\n",
       " 1.0  1.0  1.0  1.0  2.0  1.0  2.0  1.0  …    2.0    2.0    2.0    2.0    2.0\n",
       " 1.0  1.0  1.0  1.0  2.0  1.0  2.0  1.0       2.0    2.0    2.0    2.0    2.0\n",
       " 1.0  1.0  2.0  1.0  1.0  1.0  1.0  2.0       2.0    2.0    2.0    2.0    2.0\n",
       " 1.0  1.0  2.0  1.0  1.0  1.0  1.0  2.0       2.0    2.0    2.0    2.0    2.0\n",
       " 2.0  2.0  2.0  2.0  2.0  2.0  2.0  2.0       1.0    1.0    1.0    1.0    1.0\n",
       " 2.0  2.0  2.0  2.0  2.0  2.0  2.0  2.0  …    0.0    0.0    0.0    0.0    0.0\n",
       " 1.0  1.0  1.0  1.0  2.0  1.0  2.0  1.0       2.0    2.0    2.0    2.0    2.0\n",
       " 2.0  2.0  2.0  2.0  2.0  2.0  2.0  2.0       0.0    0.0    0.0    0.0    0.0\n",
       " ⋮                        ⋮              ⋱    ⋮                         \n",
       " 2.0  2.0  2.0  2.0  2.0  2.0  2.0  2.0       2.0    2.0    2.0    2.0    2.0\n",
       " 2.0  2.0  2.0  2.0  2.0  2.0  2.0  2.0       2.0    2.0    2.0    2.0    2.0\n",
       " 1.0  1.0  1.0  1.0  1.0  1.0  1.0  2.0  …    2.0    2.0    2.0    2.0    2.0\n",
       " 1.0  1.0  1.0  1.0  2.0  1.0  2.0  1.0       2.0    2.0    2.0    2.0    2.0\n",
       " 2.0  2.0  2.0  2.0  2.0  2.0  2.0  2.0       2.0    2.0    2.0    2.0    2.0\n",
       " 1.0  1.0  1.0  1.0  2.0  1.0  2.0  1.0       2.0    2.0    2.0    2.0    2.0\n",
       " 2.0  2.0  2.0  2.0  2.0  2.0  2.0  2.0       2.0    2.0    2.0    2.0    2.0\n",
       " 1.0  1.0  1.0  1.0  2.0  1.0  2.0  1.0  …    2.0    2.0    2.0    2.0    2.0\n",
       " 1.0  1.0  2.0  1.0  1.0  1.0  1.0  2.0       2.0    2.0    2.0    2.0    2.0\n",
       " 1.0  1.0  2.0  1.0  1.0  1.0  1.0  2.0       2.0    2.0    2.0    2.0    2.0\n",
       " 1.0  1.0  1.0  1.0  1.0  1.0  1.0  2.0     NaN    NaN    NaN    NaN    NaN\n",
       " 0.0  0.0  0.0  0.0  2.0  0.0  2.0  0.0       2.0    2.0    2.0    2.0    2.0"
      ]
     },
     "execution_count": 24,
     "metadata": {},
     "output_type": "execute_result"
    }
   ],
   "source": [
    "# convert genotypes to numeric matrix\n",
    "xfloat = convert(Matrix{Float64}, x, model=ADDITIVE_MODEL,\n",
    "    center=false, scale=false, impute=false)"
   ]
  },
  {
   "cell_type": "code",
   "execution_count": 25,
   "metadata": {
    "collapsed": true
   },
   "outputs": [],
   "source": [
    "# to save memory, use `copyto!` to convert SNP by SNP\n",
    "n, p = size(xdata)\n",
    "storage = zeros(p)\n",
    "for i in 1:p\n",
    "    copyto!(storage, @view(x[:, i]), center=true, scale=true, impute=true)\n",
    "    # do something with `storage`\n",
    "end"
   ]
  },
  {
   "cell_type": "markdown",
   "metadata": {},
   "source": [
    "### Minor allele frequency"
   ]
  },
  {
   "cell_type": "code",
   "execution_count": 26,
   "metadata": {
    "collapsed": false
   },
   "outputs": [
    {
     "data": {
      "image/svg+xml": [
       "<?xml version=\"1.0\" encoding=\"utf-8\"?>\n",
       "<svg xmlns=\"http://www.w3.org/2000/svg\" xmlns:xlink=\"http://www.w3.org/1999/xlink\" width=\"600\" height=\"400\" viewBox=\"0 0 2400 1600\">\n",
       "<defs>\n",
       "  <clipPath id=\"clip990\">\n",
       "    <rect x=\"0\" y=\"0\" width=\"2400\" height=\"1600\"/>\n",
       "  </clipPath>\n",
       "</defs>\n",
       "<path clip-path=\"url(#clip990)\" d=\"\n",
       "M0 1600 L2400 1600 L2400 0 L0 0  Z\n",
       "  \" fill=\"#ffffff\" fill-rule=\"evenodd\" fill-opacity=\"1\"/>\n",
       "<defs>\n",
       "  <clipPath id=\"clip991\">\n",
       "    <rect x=\"480\" y=\"0\" width=\"1681\" height=\"1600\"/>\n",
       "  </clipPath>\n",
       "</defs>\n",
       "<path clip-path=\"url(#clip990)\" d=\"\n",
       "M235.283 1423.18 L2352.76 1423.18 L2352.76 47.2441 L235.283 47.2441  Z\n",
       "  \" fill=\"#ffffff\" fill-rule=\"evenodd\" fill-opacity=\"1\"/>\n",
       "<defs>\n",
       "  <clipPath id=\"clip992\">\n",
       "    <rect x=\"235\" y=\"47\" width=\"2118\" height=\"1377\"/>\n",
       "  </clipPath>\n",
       "</defs>\n",
       "<polyline clip-path=\"url(#clip992)\" style=\"stroke:#000000; stroke-linecap:butt; stroke-linejoin:round; stroke-width:2; stroke-opacity:0.1; fill:none\" points=\"\n",
       "  587.316,1423.18 587.316,47.2441 \n",
       "  \"/>\n",
       "<polyline clip-path=\"url(#clip992)\" style=\"stroke:#000000; stroke-linecap:butt; stroke-linejoin:round; stroke-width:2; stroke-opacity:0.1; fill:none\" points=\"\n",
       "  979.929,1423.18 979.929,47.2441 \n",
       "  \"/>\n",
       "<polyline clip-path=\"url(#clip992)\" style=\"stroke:#000000; stroke-linecap:butt; stroke-linejoin:round; stroke-width:2; stroke-opacity:0.1; fill:none\" points=\"\n",
       "  1372.54,1423.18 1372.54,47.2441 \n",
       "  \"/>\n",
       "<polyline clip-path=\"url(#clip992)\" style=\"stroke:#000000; stroke-linecap:butt; stroke-linejoin:round; stroke-width:2; stroke-opacity:0.1; fill:none\" points=\"\n",
       "  1765.16,1423.18 1765.16,47.2441 \n",
       "  \"/>\n",
       "<polyline clip-path=\"url(#clip992)\" style=\"stroke:#000000; stroke-linecap:butt; stroke-linejoin:round; stroke-width:2; stroke-opacity:0.1; fill:none\" points=\"\n",
       "  2157.77,1423.18 2157.77,47.2441 \n",
       "  \"/>\n",
       "<polyline clip-path=\"url(#clip990)\" style=\"stroke:#000000; stroke-linecap:butt; stroke-linejoin:round; stroke-width:4; stroke-opacity:1; fill:none\" points=\"\n",
       "  235.283,1423.18 2352.76,1423.18 \n",
       "  \"/>\n",
       "<polyline clip-path=\"url(#clip990)\" style=\"stroke:#000000; stroke-linecap:butt; stroke-linejoin:round; stroke-width:4; stroke-opacity:1; fill:none\" points=\"\n",
       "  587.316,1423.18 587.316,1406.67 \n",
       "  \"/>\n",
       "<polyline clip-path=\"url(#clip990)\" style=\"stroke:#000000; stroke-linecap:butt; stroke-linejoin:round; stroke-width:4; stroke-opacity:1; fill:none\" points=\"\n",
       "  979.929,1423.18 979.929,1406.67 \n",
       "  \"/>\n",
       "<polyline clip-path=\"url(#clip990)\" style=\"stroke:#000000; stroke-linecap:butt; stroke-linejoin:round; stroke-width:4; stroke-opacity:1; fill:none\" points=\"\n",
       "  1372.54,1423.18 1372.54,1406.67 \n",
       "  \"/>\n",
       "<polyline clip-path=\"url(#clip990)\" style=\"stroke:#000000; stroke-linecap:butt; stroke-linejoin:round; stroke-width:4; stroke-opacity:1; fill:none\" points=\"\n",
       "  1765.16,1423.18 1765.16,1406.67 \n",
       "  \"/>\n",
       "<polyline clip-path=\"url(#clip990)\" style=\"stroke:#000000; stroke-linecap:butt; stroke-linejoin:round; stroke-width:4; stroke-opacity:1; fill:none\" points=\"\n",
       "  2157.77,1423.18 2157.77,1406.67 \n",
       "  \"/>\n",
       "<path clip-path=\"url(#clip990)\" d=\"M565.313 1452.37 Q561.702 1452.37 559.874 1455.94 Q558.068 1459.48 558.068 1466.61 Q558.068 1473.71 559.874 1477.28 Q561.702 1480.82 565.313 1480.82 Q568.948 1480.82 570.753 1477.28 Q572.582 1473.71 572.582 1466.61 Q572.582 1459.48 570.753 1455.94 Q568.948 1452.37 565.313 1452.37 M565.313 1448.67 Q571.124 1448.67 574.179 1453.27 Q577.258 1457.86 577.258 1466.61 Q577.258 1475.33 574.179 1479.94 Q571.124 1484.52 565.313 1484.52 Q559.503 1484.52 556.425 1479.94 Q553.369 1475.33 553.369 1466.61 Q553.369 1457.86 556.425 1453.27 Q559.503 1448.67 565.313 1448.67 Z\" fill=\"#000000\" fill-rule=\"evenodd\" fill-opacity=\"1\" /><path clip-path=\"url(#clip990)\" d=\"M585.475 1477.97 L590.36 1477.97 L590.36 1483.85 L585.475 1483.85 L585.475 1477.97 Z\" fill=\"#000000\" fill-rule=\"evenodd\" fill-opacity=\"1\" /><path clip-path=\"url(#clip990)\" d=\"M601.355 1479.92 L608.994 1479.92 L608.994 1453.55 L600.684 1455.22 L600.684 1450.96 L608.947 1449.29 L613.623 1449.29 L613.623 1479.92 L621.262 1479.92 L621.262 1483.85 L601.355 1483.85 L601.355 1479.92 Z\" fill=\"#000000\" fill-rule=\"evenodd\" fill-opacity=\"1\" /><path clip-path=\"url(#clip990)\" d=\"M958.112 1452.37 Q954.501 1452.37 952.672 1455.94 Q950.866 1459.48 950.866 1466.61 Q950.866 1473.71 952.672 1477.28 Q954.501 1480.82 958.112 1480.82 Q961.746 1480.82 963.552 1477.28 Q965.38 1473.71 965.38 1466.61 Q965.38 1459.48 963.552 1455.94 Q961.746 1452.37 958.112 1452.37 M958.112 1448.67 Q963.922 1448.67 966.977 1453.27 Q970.056 1457.86 970.056 1466.61 Q970.056 1475.33 966.977 1479.94 Q963.922 1484.52 958.112 1484.52 Q952.302 1484.52 949.223 1479.94 Q946.167 1475.33 946.167 1466.61 Q946.167 1457.86 949.223 1453.27 Q952.302 1448.67 958.112 1448.67 Z\" fill=\"#000000\" fill-rule=\"evenodd\" fill-opacity=\"1\" /><path clip-path=\"url(#clip990)\" d=\"M978.274 1477.97 L983.158 1477.97 L983.158 1483.85 L978.274 1483.85 L978.274 1477.97 Z\" fill=\"#000000\" fill-rule=\"evenodd\" fill-opacity=\"1\" /><path clip-path=\"url(#clip990)\" d=\"M997.371 1479.92 L1013.69 1479.92 L1013.69 1483.85 L991.746 1483.85 L991.746 1479.92 Q994.408 1477.16 998.991 1472.53 Q1003.6 1467.88 1004.78 1466.54 Q1007.02 1464.01 1007.9 1462.28 Q1008.81 1460.52 1008.81 1458.83 Q1008.81 1456.07 1006.86 1454.34 Q1004.94 1452.6 1001.84 1452.6 Q999.639 1452.6 997.186 1453.37 Q994.755 1454.13 991.977 1455.68 L991.977 1450.96 Q994.801 1449.82 997.255 1449.25 Q999.709 1448.67 1001.75 1448.67 Q1007.12 1448.67 1010.31 1451.35 Q1013.51 1454.04 1013.51 1458.53 Q1013.51 1460.66 1012.69 1462.58 Q1011.91 1464.48 1009.8 1467.07 Q1009.22 1467.74 1006.12 1470.96 Q1003.02 1474.15 997.371 1479.92 Z\" fill=\"#000000\" fill-rule=\"evenodd\" fill-opacity=\"1\" /><path clip-path=\"url(#clip990)\" d=\"M1350.25 1452.37 Q1346.64 1452.37 1344.81 1455.94 Q1343.01 1459.48 1343.01 1466.61 Q1343.01 1473.71 1344.81 1477.28 Q1346.64 1480.82 1350.25 1480.82 Q1353.88 1480.82 1355.69 1477.28 Q1357.52 1473.71 1357.52 1466.61 Q1357.52 1459.48 1355.69 1455.94 Q1353.88 1452.37 1350.25 1452.37 M1350.25 1448.67 Q1356.06 1448.67 1359.12 1453.27 Q1362.19 1457.86 1362.19 1466.61 Q1362.19 1475.33 1359.12 1479.94 Q1356.06 1484.52 1350.25 1484.52 Q1344.44 1484.52 1341.36 1479.94 Q1338.31 1475.33 1338.31 1466.61 Q1338.31 1457.86 1341.36 1453.27 Q1344.44 1448.67 1350.25 1448.67 Z\" fill=\"#000000\" fill-rule=\"evenodd\" fill-opacity=\"1\" /><path clip-path=\"url(#clip990)\" d=\"M1370.41 1477.97 L1375.3 1477.97 L1375.3 1483.85 L1370.41 1483.85 L1370.41 1477.97 Z\" fill=\"#000000\" fill-rule=\"evenodd\" fill-opacity=\"1\" /><path clip-path=\"url(#clip990)\" d=\"M1399.65 1465.22 Q1403 1465.94 1404.88 1468.2 Q1406.78 1470.47 1406.78 1473.81 Q1406.78 1478.92 1403.26 1481.72 Q1399.74 1484.52 1393.26 1484.52 Q1391.08 1484.52 1388.77 1484.08 Q1386.48 1483.67 1384.02 1482.81 L1384.02 1478.3 Q1385.97 1479.43 1388.28 1480.01 Q1390.6 1480.59 1393.12 1480.59 Q1397.52 1480.59 1399.81 1478.85 Q1402.13 1477.12 1402.13 1473.81 Q1402.13 1470.75 1399.97 1469.04 Q1397.84 1467.3 1394.02 1467.3 L1390 1467.3 L1390 1463.46 L1394.21 1463.46 Q1397.66 1463.46 1399.49 1462.09 Q1401.32 1460.7 1401.32 1458.11 Q1401.32 1455.45 1399.42 1454.04 Q1397.54 1452.6 1394.02 1452.6 Q1392.1 1452.6 1389.9 1453.02 Q1387.7 1453.44 1385.07 1454.31 L1385.07 1450.15 Q1387.73 1449.41 1390.04 1449.04 Q1392.38 1448.67 1394.44 1448.67 Q1399.76 1448.67 1402.87 1451.1 Q1405.97 1453.5 1405.97 1457.63 Q1405.97 1460.5 1404.32 1462.49 Q1402.68 1464.45 1399.65 1465.22 Z\" fill=\"#000000\" fill-rule=\"evenodd\" fill-opacity=\"1\" /><path clip-path=\"url(#clip990)\" d=\"M1742.3 1452.37 Q1738.69 1452.37 1736.86 1455.94 Q1735.05 1459.48 1735.05 1466.61 Q1735.05 1473.71 1736.86 1477.28 Q1738.69 1480.82 1742.3 1480.82 Q1745.93 1480.82 1747.74 1477.28 Q1749.57 1473.71 1749.57 1466.61 Q1749.57 1459.48 1747.74 1455.94 Q1745.93 1452.37 1742.3 1452.37 M1742.3 1448.67 Q1748.11 1448.67 1751.16 1453.27 Q1754.24 1457.86 1754.24 1466.61 Q1754.24 1475.33 1751.16 1479.94 Q1748.11 1484.52 1742.3 1484.52 Q1736.49 1484.52 1733.41 1479.94 Q1730.35 1475.33 1730.35 1466.61 Q1730.35 1457.86 1733.41 1453.27 Q1736.49 1448.67 1742.3 1448.67 Z\" fill=\"#000000\" fill-rule=\"evenodd\" fill-opacity=\"1\" /><path clip-path=\"url(#clip990)\" d=\"M1762.46 1477.97 L1767.34 1477.97 L1767.34 1483.85 L1762.46 1483.85 L1762.46 1477.97 Z\" fill=\"#000000\" fill-rule=\"evenodd\" fill-opacity=\"1\" /><path clip-path=\"url(#clip990)\" d=\"M1790.38 1453.37 L1778.57 1471.81 L1790.38 1471.81 L1790.38 1453.37 M1789.15 1449.29 L1795.03 1449.29 L1795.03 1471.81 L1799.96 1471.81 L1799.96 1475.7 L1795.03 1475.7 L1795.03 1483.85 L1790.38 1483.85 L1790.38 1475.7 L1774.77 1475.7 L1774.77 1471.19 L1789.15 1449.29 Z\" fill=\"#000000\" fill-rule=\"evenodd\" fill-opacity=\"1\" /><path clip-path=\"url(#clip990)\" d=\"M2135.65 1452.37 Q2132.04 1452.37 2130.21 1455.94 Q2128.41 1459.48 2128.41 1466.61 Q2128.41 1473.71 2130.21 1477.28 Q2132.04 1480.82 2135.65 1480.82 Q2139.28 1480.82 2141.09 1477.28 Q2142.92 1473.71 2142.92 1466.61 Q2142.92 1459.48 2141.09 1455.94 Q2139.28 1452.37 2135.65 1452.37 M2135.65 1448.67 Q2141.46 1448.67 2144.52 1453.27 Q2147.59 1457.86 2147.59 1466.61 Q2147.59 1475.33 2144.52 1479.94 Q2141.46 1484.52 2135.65 1484.52 Q2129.84 1484.52 2126.76 1479.94 Q2123.71 1475.33 2123.71 1466.61 Q2123.71 1457.86 2126.76 1453.27 Q2129.84 1448.67 2135.65 1448.67 Z\" fill=\"#000000\" fill-rule=\"evenodd\" fill-opacity=\"1\" /><path clip-path=\"url(#clip990)\" d=\"M2155.81 1477.97 L2160.7 1477.97 L2160.7 1483.85 L2155.81 1483.85 L2155.81 1477.97 Z\" fill=\"#000000\" fill-rule=\"evenodd\" fill-opacity=\"1\" /><path clip-path=\"url(#clip990)\" d=\"M2170.93 1449.29 L2189.28 1449.29 L2189.28 1453.23 L2175.21 1453.23 L2175.21 1461.7 Q2176.23 1461.35 2177.25 1461.19 Q2178.27 1461 2179.28 1461 Q2185.07 1461 2188.45 1464.18 Q2191.83 1467.35 2191.83 1472.76 Q2191.83 1478.34 2188.36 1481.44 Q2184.89 1484.52 2178.57 1484.52 Q2176.39 1484.52 2174.12 1484.15 Q2171.88 1483.78 2169.47 1483.04 L2169.47 1478.34 Q2171.55 1479.48 2173.78 1480.03 Q2176 1480.59 2178.47 1480.59 Q2182.48 1480.59 2184.82 1478.48 Q2187.15 1476.38 2187.15 1472.76 Q2187.15 1469.15 2184.82 1467.05 Q2182.48 1464.94 2178.47 1464.94 Q2176.6 1464.94 2174.72 1465.36 Q2172.87 1465.77 2170.93 1466.65 L2170.93 1449.29 Z\" fill=\"#000000\" fill-rule=\"evenodd\" fill-opacity=\"1\" /><path clip-path=\"url(#clip990)\" d=\"M959.692 1539.24 Q961.889 1535.29 964.944 1533.41 Q968 1531.54 972.137 1531.54 Q977.707 1531.54 980.731 1535.45 Q983.755 1539.33 983.755 1546.53 L983.755 1568.04 L977.867 1568.04 L977.867 1546.72 Q977.867 1541.59 976.052 1539.11 Q974.238 1536.63 970.514 1536.63 Q965.963 1536.63 963.321 1539.65 Q960.679 1542.68 960.679 1547.9 L960.679 1568.04 L954.791 1568.04 L954.791 1546.72 Q954.791 1541.56 952.977 1539.11 Q951.162 1536.63 947.375 1536.63 Q942.887 1536.63 940.245 1539.68 Q937.603 1542.71 937.603 1547.9 L937.603 1568.04 L931.715 1568.04 L931.715 1532.4 L937.603 1532.4 L937.603 1537.93 Q939.609 1534.66 942.41 1533.1 Q945.21 1531.54 949.062 1531.54 Q952.945 1531.54 955.65 1533.51 Q958.387 1535.48 959.692 1539.24 Z\" fill=\"#000000\" fill-rule=\"evenodd\" fill-opacity=\"1\" /><path clip-path=\"url(#clip990)\" d=\"M995.436 1532.4 L1001.29 1532.4 L1001.29 1568.04 L995.436 1568.04 L995.436 1532.4 M995.436 1518.52 L1001.29 1518.52 L1001.29 1525.93 L995.436 1525.93 L995.436 1518.52 Z\" fill=\"#000000\" fill-rule=\"evenodd\" fill-opacity=\"1\" /><path clip-path=\"url(#clip990)\" d=\"M1043.18 1546.53 L1043.18 1568.04 L1037.32 1568.04 L1037.32 1546.72 Q1037.32 1541.66 1035.35 1539.14 Q1033.38 1536.63 1029.43 1536.63 Q1024.69 1536.63 1021.95 1539.65 Q1019.21 1542.68 1019.21 1547.9 L1019.21 1568.04 L1013.32 1568.04 L1013.32 1532.4 L1019.21 1532.4 L1019.21 1537.93 Q1021.31 1534.72 1024.15 1533.13 Q1027.01 1531.54 1030.73 1531.54 Q1036.88 1531.54 1040.03 1535.36 Q1043.18 1539.14 1043.18 1546.53 Z\" fill=\"#000000\" fill-rule=\"evenodd\" fill-opacity=\"1\" /><path clip-path=\"url(#clip990)\" d=\"M1068.67 1536.5 Q1063.96 1536.5 1061.23 1540.19 Q1058.49 1543.85 1058.49 1550.25 Q1058.49 1556.65 1061.19 1560.34 Q1063.93 1564 1068.67 1564 Q1073.35 1564 1076.09 1560.31 Q1078.83 1556.62 1078.83 1550.25 Q1078.83 1543.92 1076.09 1540.23 Q1073.35 1536.5 1068.67 1536.5 M1068.67 1531.54 Q1076.31 1531.54 1080.67 1536.5 Q1085.03 1541.47 1085.03 1550.25 Q1085.03 1559 1080.67 1564 Q1076.31 1568.97 1068.67 1568.97 Q1061 1568.97 1056.64 1564 Q1052.31 1559 1052.31 1550.25 Q1052.31 1541.47 1056.64 1536.5 Q1061 1531.54 1068.67 1531.54 Z\" fill=\"#000000\" fill-rule=\"evenodd\" fill-opacity=\"1\" /><path clip-path=\"url(#clip990)\" d=\"M1115.4 1537.87 Q1114.41 1537.3 1113.23 1537.04 Q1112.09 1536.76 1110.69 1536.76 Q1105.72 1536.76 1103.05 1540 Q1100.41 1543.22 1100.41 1549.27 L1100.41 1568.04 L1094.52 1568.04 L1094.52 1532.4 L1100.41 1532.4 L1100.41 1537.93 Q1102.25 1534.69 1105.21 1533.13 Q1108.17 1531.54 1112.41 1531.54 Q1113.01 1531.54 1113.74 1531.63 Q1114.47 1531.7 1115.37 1531.85 L1115.4 1537.87 Z\" fill=\"#000000\" fill-rule=\"evenodd\" fill-opacity=\"1\" /><path clip-path=\"url(#clip990)\" d=\"M1158.46 1550.12 Q1151.36 1550.12 1148.63 1551.75 Q1145.89 1553.37 1145.89 1557.29 Q1145.89 1560.4 1147.93 1562.25 Q1150 1564.07 1153.53 1564.07 Q1158.4 1564.07 1161.33 1560.63 Q1164.29 1557.16 1164.29 1551.43 L1164.29 1550.12 L1158.46 1550.12 M1170.14 1547.71 L1170.14 1568.04 L1164.29 1568.04 L1164.29 1562.63 Q1162.28 1565.88 1159.29 1567.44 Q1156.3 1568.97 1151.97 1568.97 Q1146.49 1568.97 1143.25 1565.91 Q1140.03 1562.82 1140.03 1557.67 Q1140.03 1551.65 1144.04 1548.6 Q1148.09 1545.54 1156.07 1545.54 L1164.29 1545.54 L1164.29 1544.97 Q1164.29 1540.93 1161.61 1538.73 Q1158.97 1536.5 1154.16 1536.5 Q1151.11 1536.5 1148.21 1537.23 Q1145.32 1537.97 1142.64 1539.43 L1142.64 1534.02 Q1145.86 1532.78 1148.88 1532.17 Q1151.9 1531.54 1154.77 1531.54 Q1162.5 1531.54 1166.32 1535.55 Q1170.14 1539.56 1170.14 1547.71 Z\" fill=\"#000000\" fill-rule=\"evenodd\" fill-opacity=\"1\" /><path clip-path=\"url(#clip990)\" d=\"M1182.21 1518.52 L1188.06 1518.52 L1188.06 1568.04 L1182.21 1568.04 L1182.21 1518.52 Z\" fill=\"#000000\" fill-rule=\"evenodd\" fill-opacity=\"1\" /><path clip-path=\"url(#clip990)\" d=\"M1200.32 1518.52 L1206.17 1518.52 L1206.17 1568.04 L1200.32 1568.04 L1200.32 1518.52 Z\" fill=\"#000000\" fill-rule=\"evenodd\" fill-opacity=\"1\" /><path clip-path=\"url(#clip990)\" d=\"M1248.92 1548.76 L1248.92 1551.62 L1221.99 1551.62 Q1222.37 1557.67 1225.62 1560.85 Q1228.9 1564 1234.72 1564 Q1238.1 1564 1241.25 1563.17 Q1244.43 1562.35 1247.55 1560.69 L1247.55 1566.23 Q1244.4 1567.57 1241.09 1568.27 Q1237.78 1568.97 1234.37 1568.97 Q1225.84 1568.97 1220.85 1564 Q1215.88 1559.04 1215.88 1550.57 Q1215.88 1541.82 1220.59 1536.69 Q1225.33 1531.54 1233.35 1531.54 Q1240.55 1531.54 1244.72 1536.18 Q1248.92 1540.8 1248.92 1548.76 M1243.06 1547.04 Q1243 1542.23 1240.36 1539.37 Q1237.75 1536.5 1233.42 1536.5 Q1228.52 1536.5 1225.56 1539.27 Q1222.63 1542.04 1222.18 1547.07 L1243.06 1547.04 Z\" fill=\"#000000\" fill-rule=\"evenodd\" fill-opacity=\"1\" /><path clip-path=\"url(#clip990)\" d=\"M1258.53 1518.52 L1264.39 1518.52 L1264.39 1568.04 L1258.53 1568.04 L1258.53 1518.52 Z\" fill=\"#000000\" fill-rule=\"evenodd\" fill-opacity=\"1\" /><path clip-path=\"url(#clip990)\" d=\"M1307.13 1548.76 L1307.13 1551.62 L1280.21 1551.62 Q1280.59 1557.67 1283.83 1560.85 Q1287.11 1564 1292.94 1564 Q1296.31 1564 1299.46 1563.17 Q1302.64 1562.35 1305.76 1560.69 L1305.76 1566.23 Q1302.61 1567.57 1299.3 1568.27 Q1295.99 1568.97 1292.59 1568.97 Q1284.06 1568.97 1279.06 1564 Q1274.09 1559.04 1274.09 1550.57 Q1274.09 1541.82 1278.81 1536.69 Q1283.55 1531.54 1291.57 1531.54 Q1298.76 1531.54 1302.93 1536.18 Q1307.13 1540.8 1307.13 1548.76 M1301.28 1547.04 Q1301.21 1542.23 1298.57 1539.37 Q1295.96 1536.5 1291.63 1536.5 Q1286.73 1536.5 1283.77 1539.27 Q1280.84 1542.04 1280.4 1547.07 L1301.28 1547.04 Z\" fill=\"#000000\" fill-rule=\"evenodd\" fill-opacity=\"1\" /><path clip-path=\"url(#clip990)\" d=\"M1355.51 1518.52 L1355.51 1523.39 L1349.91 1523.39 Q1346.76 1523.39 1345.52 1524.66 Q1344.31 1525.93 1344.31 1529.24 L1344.31 1532.4 L1353.95 1532.4 L1353.95 1536.95 L1344.31 1536.95 L1344.31 1568.04 L1338.42 1568.04 L1338.42 1536.95 L1332.82 1536.95 L1332.82 1532.4 L1338.42 1532.4 L1338.42 1529.91 Q1338.42 1523.96 1341.19 1521.26 Q1343.96 1518.52 1349.97 1518.52 L1355.51 1518.52 Z\" fill=\"#000000\" fill-rule=\"evenodd\" fill-opacity=\"1\" /><path clip-path=\"url(#clip990)\" d=\"M1381.07 1537.87 Q1380.08 1537.3 1378.91 1537.04 Q1377.76 1536.76 1376.36 1536.76 Q1371.39 1536.76 1368.72 1540 Q1366.08 1543.22 1366.08 1549.27 L1366.08 1568.04 L1360.19 1568.04 L1360.19 1532.4 L1366.08 1532.4 L1366.08 1537.93 Q1367.93 1534.69 1370.89 1533.13 Q1373.85 1531.54 1378.08 1531.54 Q1378.68 1531.54 1379.42 1531.63 Q1380.15 1531.7 1381.04 1531.85 L1381.07 1537.87 Z\" fill=\"#000000\" fill-rule=\"evenodd\" fill-opacity=\"1\" /><path clip-path=\"url(#clip990)\" d=\"M1416.27 1548.76 L1416.27 1551.62 L1389.35 1551.62 Q1389.73 1557.67 1392.97 1560.85 Q1396.25 1564 1402.08 1564 Q1405.45 1564 1408.6 1563.17 Q1411.78 1562.35 1414.9 1560.69 L1414.9 1566.23 Q1411.75 1567.57 1408.44 1568.27 Q1405.13 1568.97 1401.73 1568.97 Q1393.2 1568.97 1388.2 1564 Q1383.23 1559.04 1383.23 1550.57 Q1383.23 1541.82 1387.95 1536.69 Q1392.69 1531.54 1400.71 1531.54 Q1407.9 1531.54 1412.07 1536.18 Q1416.27 1540.8 1416.27 1548.76 M1410.42 1547.04 Q1410.35 1542.23 1407.71 1539.37 Q1405.1 1536.5 1400.77 1536.5 Q1395.87 1536.5 1392.91 1539.27 Q1389.98 1542.04 1389.54 1547.07 L1410.42 1547.04 Z\" fill=\"#000000\" fill-rule=\"evenodd\" fill-opacity=\"1\" /><path clip-path=\"url(#clip990)\" d=\"M1429.39 1550.25 Q1429.39 1556.71 1432.03 1560.4 Q1434.7 1564.07 1439.35 1564.07 Q1444 1564.07 1446.67 1560.4 Q1449.34 1556.71 1449.34 1550.25 Q1449.34 1543.79 1446.67 1540.13 Q1444 1536.44 1439.35 1536.44 Q1434.7 1536.44 1432.03 1540.13 Q1429.39 1543.79 1429.39 1550.25 M1449.34 1562.7 Q1447.5 1565.88 1444.66 1567.44 Q1441.86 1568.97 1437.92 1568.97 Q1431.45 1568.97 1427.38 1563.81 Q1423.34 1558.65 1423.34 1550.25 Q1423.34 1541.85 1427.38 1536.69 Q1431.45 1531.54 1437.92 1531.54 Q1441.86 1531.54 1444.66 1533.1 Q1447.5 1534.62 1449.34 1537.81 L1449.34 1532.4 L1455.2 1532.4 L1455.2 1581.6 L1449.34 1581.6 L1449.34 1562.7 Z\" fill=\"#000000\" fill-rule=\"evenodd\" fill-opacity=\"1\" /><path clip-path=\"url(#clip990)\" d=\"M1466.66 1553.98 L1466.66 1532.4 L1472.51 1532.4 L1472.51 1553.75 Q1472.51 1558.81 1474.49 1561.36 Q1476.46 1563.87 1480.41 1563.87 Q1485.15 1563.87 1487.89 1560.85 Q1490.66 1557.83 1490.66 1552.61 L1490.66 1532.4 L1496.51 1532.4 L1496.51 1568.04 L1490.66 1568.04 L1490.66 1562.57 Q1488.52 1565.82 1485.69 1567.41 Q1482.89 1568.97 1479.17 1568.97 Q1473.02 1568.97 1469.84 1565.15 Q1466.66 1561.33 1466.66 1553.98 M1481.39 1531.54 L1481.39 1531.54 Z\" fill=\"#000000\" fill-rule=\"evenodd\" fill-opacity=\"1\" /><path clip-path=\"url(#clip990)\" d=\"M1539.07 1548.76 L1539.07 1551.62 L1512.14 1551.62 Q1512.52 1557.67 1515.77 1560.85 Q1519.05 1564 1524.87 1564 Q1528.25 1564 1531.4 1563.17 Q1534.58 1562.35 1537.7 1560.69 L1537.7 1566.23 Q1534.55 1567.57 1531.24 1568.27 Q1527.93 1568.97 1524.52 1568.97 Q1515.99 1568.97 1510.99 1564 Q1506.03 1559.04 1506.03 1550.57 Q1506.03 1541.82 1510.74 1536.69 Q1515.48 1531.54 1523.5 1531.54 Q1530.7 1531.54 1534.87 1536.18 Q1539.07 1540.8 1539.07 1548.76 M1533.21 1547.04 Q1533.15 1542.23 1530.51 1539.37 Q1527.9 1536.5 1523.57 1536.5 Q1518.67 1536.5 1515.71 1539.27 Q1512.78 1542.04 1512.33 1547.07 L1533.21 1547.04 Z\" fill=\"#000000\" fill-rule=\"evenodd\" fill-opacity=\"1\" /><path clip-path=\"url(#clip990)\" d=\"M1578.31 1546.53 L1578.31 1568.04 L1572.46 1568.04 L1572.46 1546.72 Q1572.46 1541.66 1570.48 1539.14 Q1568.51 1536.63 1564.56 1536.63 Q1559.82 1536.63 1557.08 1539.65 Q1554.34 1542.68 1554.34 1547.9 L1554.34 1568.04 L1548.46 1568.04 L1548.46 1532.4 L1554.34 1532.4 L1554.34 1537.93 Q1556.45 1534.72 1559.28 1533.13 Q1562.14 1531.54 1565.87 1531.54 Q1572.01 1531.54 1575.16 1535.36 Q1578.31 1539.14 1578.31 1546.53 Z\" fill=\"#000000\" fill-rule=\"evenodd\" fill-opacity=\"1\" /><path clip-path=\"url(#clip990)\" d=\"M1615.65 1533.76 L1615.65 1539.24 Q1613.16 1537.87 1610.65 1537.2 Q1608.17 1536.5 1605.62 1536.5 Q1599.92 1536.5 1596.77 1540.13 Q1593.62 1543.73 1593.62 1550.25 Q1593.62 1556.78 1596.77 1560.4 Q1599.92 1564 1605.62 1564 Q1608.17 1564 1610.65 1563.33 Q1613.16 1562.63 1615.65 1561.26 L1615.65 1566.68 Q1613.2 1567.82 1610.55 1568.39 Q1607.94 1568.97 1604.98 1568.97 Q1596.93 1568.97 1592.19 1563.91 Q1587.45 1558.85 1587.45 1550.25 Q1587.45 1541.53 1592.22 1536.53 Q1597.03 1531.54 1605.37 1531.54 Q1608.07 1531.54 1610.65 1532.11 Q1613.23 1532.65 1615.65 1533.76 Z\" fill=\"#000000\" fill-rule=\"evenodd\" fill-opacity=\"1\" /><path clip-path=\"url(#clip990)\" d=\"M1640.66 1571.35 Q1638.18 1577.72 1635.83 1579.66 Q1633.47 1581.6 1629.52 1581.6 L1624.85 1581.6 L1624.85 1576.7 L1628.28 1576.7 Q1630.7 1576.7 1632.04 1575.56 Q1633.38 1574.41 1635 1570.14 L1636.05 1567.47 L1621.63 1532.4 L1627.84 1532.4 L1638.98 1560.28 L1650.12 1532.4 L1656.32 1532.4 L1640.66 1571.35 Z\" fill=\"#000000\" fill-rule=\"evenodd\" fill-opacity=\"1\" /><polyline clip-path=\"url(#clip992)\" style=\"stroke:#000000; stroke-linecap:butt; stroke-linejoin:round; stroke-width:2; stroke-opacity:0.1; fill:none\" points=\"\n",
       "  235.283,1384.24 2352.76,1384.24 \n",
       "  \"/>\n",
       "<polyline clip-path=\"url(#clip992)\" style=\"stroke:#000000; stroke-linecap:butt; stroke-linejoin:round; stroke-width:2; stroke-opacity:0.1; fill:none\" points=\"\n",
       "  235.283,1154.49 2352.76,1154.49 \n",
       "  \"/>\n",
       "<polyline clip-path=\"url(#clip992)\" style=\"stroke:#000000; stroke-linecap:butt; stroke-linejoin:round; stroke-width:2; stroke-opacity:0.1; fill:none\" points=\"\n",
       "  235.283,924.751 2352.76,924.751 \n",
       "  \"/>\n",
       "<polyline clip-path=\"url(#clip992)\" style=\"stroke:#000000; stroke-linecap:butt; stroke-linejoin:round; stroke-width:2; stroke-opacity:0.1; fill:none\" points=\"\n",
       "  235.283,695.007 2352.76,695.007 \n",
       "  \"/>\n",
       "<polyline clip-path=\"url(#clip992)\" style=\"stroke:#000000; stroke-linecap:butt; stroke-linejoin:round; stroke-width:2; stroke-opacity:0.1; fill:none\" points=\"\n",
       "  235.283,465.263 2352.76,465.263 \n",
       "  \"/>\n",
       "<polyline clip-path=\"url(#clip992)\" style=\"stroke:#000000; stroke-linecap:butt; stroke-linejoin:round; stroke-width:2; stroke-opacity:0.1; fill:none\" points=\"\n",
       "  235.283,235.519 2352.76,235.519 \n",
       "  \"/>\n",
       "<polyline clip-path=\"url(#clip990)\" style=\"stroke:#000000; stroke-linecap:butt; stroke-linejoin:round; stroke-width:4; stroke-opacity:1; fill:none\" points=\"\n",
       "  235.283,1423.18 235.283,47.2441 \n",
       "  \"/>\n",
       "<polyline clip-path=\"url(#clip990)\" style=\"stroke:#000000; stroke-linecap:butt; stroke-linejoin:round; stroke-width:4; stroke-opacity:1; fill:none\" points=\"\n",
       "  235.283,1384.24 260.693,1384.24 \n",
       "  \"/>\n",
       "<polyline clip-path=\"url(#clip990)\" style=\"stroke:#000000; stroke-linecap:butt; stroke-linejoin:round; stroke-width:4; stroke-opacity:1; fill:none\" points=\"\n",
       "  235.283,1154.49 260.693,1154.49 \n",
       "  \"/>\n",
       "<polyline clip-path=\"url(#clip990)\" style=\"stroke:#000000; stroke-linecap:butt; stroke-linejoin:round; stroke-width:4; stroke-opacity:1; fill:none\" points=\"\n",
       "  235.283,924.751 260.693,924.751 \n",
       "  \"/>\n",
       "<polyline clip-path=\"url(#clip990)\" style=\"stroke:#000000; stroke-linecap:butt; stroke-linejoin:round; stroke-width:4; stroke-opacity:1; fill:none\" points=\"\n",
       "  235.283,695.007 260.693,695.007 \n",
       "  \"/>\n",
       "<polyline clip-path=\"url(#clip990)\" style=\"stroke:#000000; stroke-linecap:butt; stroke-linejoin:round; stroke-width:4; stroke-opacity:1; fill:none\" points=\"\n",
       "  235.283,465.263 260.693,465.263 \n",
       "  \"/>\n",
       "<polyline clip-path=\"url(#clip990)\" style=\"stroke:#000000; stroke-linecap:butt; stroke-linejoin:round; stroke-width:4; stroke-opacity:1; fill:none\" points=\"\n",
       "  235.283,235.519 260.693,235.519 \n",
       "  \"/>\n",
       "<path clip-path=\"url(#clip990)\" d=\"M187.338 1370.04 Q183.727 1370.04 181.899 1373.6 Q180.093 1377.14 180.093 1384.27 Q180.093 1391.38 181.899 1394.94 Q183.727 1398.49 187.338 1398.49 Q190.973 1398.49 192.778 1394.94 Q194.607 1391.38 194.607 1384.27 Q194.607 1377.14 192.778 1373.6 Q190.973 1370.04 187.338 1370.04 M187.338 1366.33 Q193.149 1366.33 196.204 1370.94 Q199.283 1375.52 199.283 1384.27 Q199.283 1393 196.204 1397.61 Q193.149 1402.19 187.338 1402.19 Q181.528 1402.19 178.45 1397.61 Q175.394 1393 175.394 1384.27 Q175.394 1375.52 178.45 1370.94 Q181.528 1366.33 187.338 1366.33 Z\" fill=\"#000000\" fill-rule=\"evenodd\" fill-opacity=\"1\" /><path clip-path=\"url(#clip990)\" d=\"M117.825 1167.84 L125.464 1167.84 L125.464 1141.47 L117.154 1143.14 L117.154 1138.88 L125.418 1137.21 L130.093 1137.21 L130.093 1167.84 L137.732 1167.84 L137.732 1171.77 L117.825 1171.77 L117.825 1167.84 Z\" fill=\"#000000\" fill-rule=\"evenodd\" fill-opacity=\"1\" /><path clip-path=\"url(#clip990)\" d=\"M157.177 1140.29 Q153.566 1140.29 151.737 1143.86 Q149.931 1147.4 149.931 1154.53 Q149.931 1161.64 151.737 1165.2 Q153.566 1168.74 157.177 1168.74 Q160.811 1168.74 162.616 1165.2 Q164.445 1161.64 164.445 1154.53 Q164.445 1147.4 162.616 1143.86 Q160.811 1140.29 157.177 1140.29 M157.177 1136.59 Q162.987 1136.59 166.042 1141.2 Q169.121 1145.78 169.121 1154.53 Q169.121 1163.26 166.042 1167.86 Q162.987 1172.45 157.177 1172.45 Q151.366 1172.45 148.288 1167.86 Q145.232 1163.26 145.232 1154.53 Q145.232 1145.78 148.288 1141.2 Q151.366 1136.59 157.177 1136.59 Z\" fill=\"#000000\" fill-rule=\"evenodd\" fill-opacity=\"1\" /><path clip-path=\"url(#clip990)\" d=\"M187.338 1140.29 Q183.727 1140.29 181.899 1143.86 Q180.093 1147.4 180.093 1154.53 Q180.093 1161.64 181.899 1165.2 Q183.727 1168.74 187.338 1168.74 Q190.973 1168.74 192.778 1165.2 Q194.607 1161.64 194.607 1154.53 Q194.607 1147.4 192.778 1143.86 Q190.973 1140.29 187.338 1140.29 M187.338 1136.59 Q193.149 1136.59 196.204 1141.2 Q199.283 1145.78 199.283 1154.53 Q199.283 1163.26 196.204 1167.86 Q193.149 1172.45 187.338 1172.45 Q181.528 1172.45 178.45 1167.86 Q175.394 1163.26 175.394 1154.53 Q175.394 1145.78 178.45 1141.2 Q181.528 1136.59 187.338 1136.59 Z\" fill=\"#000000\" fill-rule=\"evenodd\" fill-opacity=\"1\" /><path clip-path=\"url(#clip990)\" d=\"M121.043 938.095 L137.362 938.095 L137.362 942.031 L115.418 942.031 L115.418 938.095 Q118.08 935.341 122.663 930.711 Q127.269 926.058 128.45 924.716 Q130.695 922.193 131.575 920.457 Q132.478 918.697 132.478 917.008 Q132.478 914.253 130.533 912.517 Q128.612 910.781 125.51 910.781 Q123.311 910.781 120.857 911.545 Q118.427 912.309 115.649 913.859 L115.649 909.137 Q118.473 908.003 120.927 907.424 Q123.38 906.846 125.418 906.846 Q130.788 906.846 133.982 909.531 Q137.177 912.216 137.177 916.707 Q137.177 918.836 136.367 920.758 Q135.579 922.656 133.473 925.248 Q132.894 925.92 129.792 929.137 Q126.691 932.332 121.043 938.095 Z\" fill=\"#000000\" fill-rule=\"evenodd\" fill-opacity=\"1\" /><path clip-path=\"url(#clip990)\" d=\"M157.177 910.549 Q153.566 910.549 151.737 914.114 Q149.931 917.656 149.931 924.785 Q149.931 931.892 151.737 935.457 Q153.566 938.998 157.177 938.998 Q160.811 938.998 162.616 935.457 Q164.445 931.892 164.445 924.785 Q164.445 917.656 162.616 914.114 Q160.811 910.549 157.177 910.549 M157.177 906.846 Q162.987 906.846 166.042 911.452 Q169.121 916.035 169.121 924.785 Q169.121 933.512 166.042 938.119 Q162.987 942.702 157.177 942.702 Q151.366 942.702 148.288 938.119 Q145.232 933.512 145.232 924.785 Q145.232 916.035 148.288 911.452 Q151.366 906.846 157.177 906.846 Z\" fill=\"#000000\" fill-rule=\"evenodd\" fill-opacity=\"1\" /><path clip-path=\"url(#clip990)\" d=\"M187.338 910.549 Q183.727 910.549 181.899 914.114 Q180.093 917.656 180.093 924.785 Q180.093 931.892 181.899 935.457 Q183.727 938.998 187.338 938.998 Q190.973 938.998 192.778 935.457 Q194.607 931.892 194.607 924.785 Q194.607 917.656 192.778 914.114 Q190.973 910.549 187.338 910.549 M187.338 906.846 Q193.149 906.846 196.204 911.452 Q199.283 916.035 199.283 924.785 Q199.283 933.512 196.204 938.119 Q193.149 942.702 187.338 942.702 Q181.528 942.702 178.45 938.119 Q175.394 933.512 175.394 924.785 Q175.394 916.035 178.45 911.452 Q181.528 906.846 187.338 906.846 Z\" fill=\"#000000\" fill-rule=\"evenodd\" fill-opacity=\"1\" /><path clip-path=\"url(#clip990)\" d=\"M131.181 693.653 Q134.538 694.37 136.413 696.639 Q138.311 698.907 138.311 702.241 Q138.311 707.356 134.792 710.157 Q131.274 712.958 124.793 712.958 Q122.617 712.958 120.302 712.518 Q118.01 712.102 115.556 711.245 L115.556 706.731 Q117.501 707.866 119.816 708.444 Q122.13 709.023 124.654 709.023 Q129.052 709.023 131.343 707.287 Q133.658 705.551 133.658 702.241 Q133.658 699.185 131.505 697.472 Q129.376 695.736 125.556 695.736 L121.529 695.736 L121.529 691.893 L125.742 691.893 Q129.191 691.893 131.019 690.528 Q132.848 689.139 132.848 686.546 Q132.848 683.884 130.95 682.472 Q129.075 681.037 125.556 681.037 Q123.635 681.037 121.436 681.454 Q119.237 681.87 116.598 682.75 L116.598 678.583 Q119.26 677.843 121.575 677.472 Q123.913 677.102 125.973 677.102 Q131.297 677.102 134.399 679.532 Q137.501 681.94 137.501 686.06 Q137.501 688.93 135.857 690.921 Q134.214 692.889 131.181 693.653 Z\" fill=\"#000000\" fill-rule=\"evenodd\" fill-opacity=\"1\" /><path clip-path=\"url(#clip990)\" d=\"M157.177 680.805 Q153.566 680.805 151.737 684.37 Q149.931 687.912 149.931 695.042 Q149.931 702.148 151.737 705.713 Q153.566 709.254 157.177 709.254 Q160.811 709.254 162.616 705.713 Q164.445 702.148 164.445 695.042 Q164.445 687.912 162.616 684.37 Q160.811 680.805 157.177 680.805 M157.177 677.102 Q162.987 677.102 166.042 681.708 Q169.121 686.292 169.121 695.042 Q169.121 703.768 166.042 708.375 Q162.987 712.958 157.177 712.958 Q151.366 712.958 148.288 708.375 Q145.232 703.768 145.232 695.042 Q145.232 686.292 148.288 681.708 Q151.366 677.102 157.177 677.102 Z\" fill=\"#000000\" fill-rule=\"evenodd\" fill-opacity=\"1\" /><path clip-path=\"url(#clip990)\" d=\"M187.338 680.805 Q183.727 680.805 181.899 684.37 Q180.093 687.912 180.093 695.042 Q180.093 702.148 181.899 705.713 Q183.727 709.254 187.338 709.254 Q190.973 709.254 192.778 705.713 Q194.607 702.148 194.607 695.042 Q194.607 687.912 192.778 684.37 Q190.973 680.805 187.338 680.805 M187.338 677.102 Q193.149 677.102 196.204 681.708 Q199.283 686.292 199.283 695.042 Q199.283 703.768 196.204 708.375 Q193.149 712.958 187.338 712.958 Q181.528 712.958 178.45 708.375 Q175.394 703.768 175.394 695.042 Q175.394 686.292 178.45 681.708 Q181.528 677.102 187.338 677.102 Z\" fill=\"#000000\" fill-rule=\"evenodd\" fill-opacity=\"1\" /><path clip-path=\"url(#clip990)\" d=\"M129.862 452.057 L118.056 470.506 L129.862 470.506 L129.862 452.057 M128.635 447.983 L134.515 447.983 L134.515 470.506 L139.445 470.506 L139.445 474.395 L134.515 474.395 L134.515 482.543 L129.862 482.543 L129.862 474.395 L114.26 474.395 L114.26 469.881 L128.635 447.983 Z\" fill=\"#000000\" fill-rule=\"evenodd\" fill-opacity=\"1\" /><path clip-path=\"url(#clip990)\" d=\"M157.177 451.062 Q153.566 451.062 151.737 454.626 Q149.931 458.168 149.931 465.298 Q149.931 472.404 151.737 475.969 Q153.566 479.511 157.177 479.511 Q160.811 479.511 162.616 475.969 Q164.445 472.404 164.445 465.298 Q164.445 458.168 162.616 454.626 Q160.811 451.062 157.177 451.062 M157.177 447.358 Q162.987 447.358 166.042 451.964 Q169.121 456.548 169.121 465.298 Q169.121 474.025 166.042 478.631 Q162.987 483.214 157.177 483.214 Q151.366 483.214 148.288 478.631 Q145.232 474.025 145.232 465.298 Q145.232 456.548 148.288 451.964 Q151.366 447.358 157.177 447.358 Z\" fill=\"#000000\" fill-rule=\"evenodd\" fill-opacity=\"1\" /><path clip-path=\"url(#clip990)\" d=\"M187.338 451.062 Q183.727 451.062 181.899 454.626 Q180.093 458.168 180.093 465.298 Q180.093 472.404 181.899 475.969 Q183.727 479.511 187.338 479.511 Q190.973 479.511 192.778 475.969 Q194.607 472.404 194.607 465.298 Q194.607 458.168 192.778 454.626 Q190.973 451.062 187.338 451.062 M187.338 447.358 Q193.149 447.358 196.204 451.964 Q199.283 456.548 199.283 465.298 Q199.283 474.025 196.204 478.631 Q193.149 483.214 187.338 483.214 Q181.528 483.214 178.45 478.631 Q175.394 474.025 175.394 465.298 Q175.394 456.548 178.45 451.964 Q181.528 447.358 187.338 447.358 Z\" fill=\"#000000\" fill-rule=\"evenodd\" fill-opacity=\"1\" /><path clip-path=\"url(#clip990)\" d=\"M117.061 218.239 L135.417 218.239 L135.417 222.174 L121.343 222.174 L121.343 230.646 Q122.362 230.299 123.38 230.137 Q124.399 229.952 125.418 229.952 Q131.205 229.952 134.584 233.123 Q137.964 236.295 137.964 241.711 Q137.964 247.29 134.492 250.392 Q131.019 253.47 124.7 253.47 Q122.524 253.47 120.255 253.1 Q118.01 252.73 115.603 251.989 L115.603 247.29 Q117.686 248.424 119.908 248.98 Q122.13 249.535 124.607 249.535 Q128.612 249.535 130.95 247.429 Q133.288 245.322 133.288 241.711 Q133.288 238.1 130.95 235.994 Q128.612 233.887 124.607 233.887 Q122.732 233.887 120.857 234.304 Q119.006 234.721 117.061 235.6 L117.061 218.239 Z\" fill=\"#000000\" fill-rule=\"evenodd\" fill-opacity=\"1\" /><path clip-path=\"url(#clip990)\" d=\"M157.177 221.318 Q153.566 221.318 151.737 224.883 Q149.931 228.424 149.931 235.554 Q149.931 242.66 151.737 246.225 Q153.566 249.767 157.177 249.767 Q160.811 249.767 162.616 246.225 Q164.445 242.66 164.445 235.554 Q164.445 228.424 162.616 224.883 Q160.811 221.318 157.177 221.318 M157.177 217.614 Q162.987 217.614 166.042 222.221 Q169.121 226.804 169.121 235.554 Q169.121 244.281 166.042 248.887 Q162.987 253.47 157.177 253.47 Q151.366 253.47 148.288 248.887 Q145.232 244.281 145.232 235.554 Q145.232 226.804 148.288 222.221 Q151.366 217.614 157.177 217.614 Z\" fill=\"#000000\" fill-rule=\"evenodd\" fill-opacity=\"1\" /><path clip-path=\"url(#clip990)\" d=\"M187.338 221.318 Q183.727 221.318 181.899 224.883 Q180.093 228.424 180.093 235.554 Q180.093 242.66 181.899 246.225 Q183.727 249.767 187.338 249.767 Q190.973 249.767 192.778 246.225 Q194.607 242.66 194.607 235.554 Q194.607 228.424 192.778 224.883 Q190.973 221.318 187.338 221.318 M187.338 217.614 Q193.149 217.614 196.204 222.221 Q199.283 226.804 199.283 235.554 Q199.283 244.281 196.204 248.887 Q193.149 253.47 187.338 253.47 Q181.528 253.47 178.45 248.887 Q175.394 244.281 175.394 235.554 Q175.394 226.804 178.45 222.221 Q181.528 217.614 187.338 217.614 Z\" fill=\"#000000\" fill-rule=\"evenodd\" fill-opacity=\"1\" /><path clip-path=\"url(#clip990)\" d=\"M29.7248 812.555 L35.1993 812.555 Q33.8307 815.038 33.1623 817.552 Q32.4621 820.035 32.4621 822.581 Q32.4621 828.279 36.0905 831.43 Q39.6872 834.581 46.212 834.581 Q52.7369 834.581 56.3653 831.43 Q59.9619 828.279 59.9619 822.581 Q59.9619 820.035 59.2935 817.552 Q58.5933 815.038 57.2247 812.555 L62.6355 812.555 Q63.7814 815.006 64.3543 817.648 Q64.9272 820.258 64.9272 823.218 Q64.9272 831.27 59.8664 836.013 Q54.8057 840.755 46.212 840.755 Q37.491 840.755 32.4939 835.981 Q27.4968 831.175 27.4968 822.836 Q27.4968 820.13 28.0697 817.552 Q28.6108 814.974 29.7248 812.555 Z\" fill=\"#000000\" fill-rule=\"evenodd\" fill-opacity=\"1\" /><path clip-path=\"url(#clip990)\" d=\"M32.4621 788.557 Q32.4621 793.267 36.1542 796.004 Q39.8145 798.742 46.212 798.742 Q52.6095 798.742 56.3017 796.036 Q59.9619 793.299 59.9619 788.557 Q59.9619 783.878 56.2698 781.141 Q52.5777 778.403 46.212 778.403 Q39.8781 778.403 36.186 781.141 Q32.4621 783.878 32.4621 788.557 M27.4968 788.557 Q27.4968 780.918 32.4621 776.557 Q37.4273 772.197 46.212 772.197 Q54.9649 772.197 59.9619 776.557 Q64.9272 780.918 64.9272 788.557 Q64.9272 796.227 59.9619 800.588 Q54.9649 804.916 46.212 804.916 Q37.4273 804.916 32.4621 800.588 Q27.4968 796.227 27.4968 788.557 Z\" fill=\"#000000\" fill-rule=\"evenodd\" fill-opacity=\"1\" /><path clip-path=\"url(#clip990)\" d=\"M49.9359 763.094 L28.3562 763.094 L28.3562 757.237 L49.7131 757.237 Q54.7739 757.237 57.3202 755.264 Q59.8346 753.291 59.8346 749.344 Q59.8346 744.601 56.8109 741.864 Q53.7872 739.095 48.5673 739.095 L28.3562 739.095 L28.3562 733.239 L64.0042 733.239 L64.0042 739.095 L58.5296 739.095 Q61.7762 741.228 63.3676 744.06 Q64.9272 746.861 64.9272 750.585 Q64.9272 756.728 61.1078 759.911 Q57.2883 763.094 49.9359 763.094 M27.4968 748.357 L27.4968 748.357 Z\" fill=\"#000000\" fill-rule=\"evenodd\" fill-opacity=\"1\" /><path clip-path=\"url(#clip990)\" d=\"M42.4881 691.543 L64.0042 691.543 L64.0042 697.4 L42.679 697.4 Q37.6183 697.4 35.1038 699.373 Q32.5894 701.346 32.5894 705.293 Q32.5894 710.036 35.6131 712.773 Q38.6368 715.51 43.8567 715.51 L64.0042 715.51 L64.0042 721.398 L28.3562 721.398 L28.3562 715.51 L33.8944 715.51 Q30.6797 713.409 29.0883 710.577 Q27.4968 707.712 27.4968 703.988 Q27.4968 697.845 31.3163 694.694 Q35.1038 691.543 42.4881 691.543 Z\" fill=\"#000000\" fill-rule=\"evenodd\" fill-opacity=\"1\" /><path clip-path=\"url(#clip990)\" d=\"M18.2347 674.069 L28.3562 674.069 L28.3562 662.006 L32.9077 662.006 L32.9077 674.069 L52.2594 674.069 Q56.6199 674.069 57.8613 672.892 Q59.1026 671.682 59.1026 668.022 L59.1026 662.006 L64.0042 662.006 L64.0042 668.022 Q64.0042 674.801 61.4897 677.38 Q58.9434 679.958 52.2594 679.958 L32.9077 679.958 L32.9077 684.254 L28.3562 684.254 L28.3562 679.958 L18.2347 679.958 L18.2347 674.069 Z\" fill=\"#000000\" fill-rule=\"evenodd\" fill-opacity=\"1\" /><path clip-path=\"url(#clip990)\" d=\"M29.4065 631.578 L34.9447 631.578 Q33.6716 634.061 33.035 636.734 Q32.3984 639.408 32.3984 642.273 Q32.3984 646.633 33.7352 648.829 Q35.072 650.994 37.7456 650.994 Q39.7826 650.994 40.9603 649.434 Q42.1061 647.874 43.1565 643.164 L43.6021 641.159 Q44.9389 634.92 47.3897 632.31 Q49.8086 629.669 54.1691 629.669 Q59.1344 629.669 62.0308 633.615 Q64.9272 637.53 64.9272 644.405 Q64.9272 647.27 64.3543 650.389 Q63.8132 653.476 62.6992 656.914 L56.6518 656.914 Q58.3387 653.667 59.198 650.516 Q60.0256 647.365 60.0256 644.278 Q60.0256 640.14 58.6251 637.912 Q57.1929 635.684 54.6147 635.684 Q52.2276 635.684 50.9545 637.307 Q49.6813 638.899 48.5037 644.342 L48.0262 646.379 Q46.8804 651.821 44.5251 654.24 Q42.138 656.659 38.0002 656.659 Q32.9713 656.659 30.2341 653.094 Q27.4968 649.53 27.4968 642.973 Q27.4968 639.726 27.9743 636.862 Q28.4517 633.997 29.4065 631.578 Z\" fill=\"#000000\" fill-rule=\"evenodd\" fill-opacity=\"1\" /><path clip-path=\"url(#clip992)\" d=\"\n",
       "M351.748 1058 L351.748 1384.24 L430.27 1384.24 L430.27 1058 L351.748 1058 L351.748 1058  Z\n",
       "  \" fill=\"#009af9\" fill-rule=\"evenodd\" fill-opacity=\"1\"/>\n",
       "<polyline clip-path=\"url(#clip992)\" style=\"stroke:#000000; stroke-linecap:butt; stroke-linejoin:round; stroke-width:4; stroke-opacity:1; fill:none\" points=\"\n",
       "  351.748,1058 351.748,1384.24 430.27,1384.24 430.27,1058 351.748,1058 \n",
       "  \"/>\n",
       "<path clip-path=\"url(#clip992)\" d=\"\n",
       "M430.27 456.073 L430.27 1384.24 L508.793 1384.24 L508.793 456.073 L430.27 456.073 L430.27 456.073  Z\n",
       "  \" fill=\"#009af9\" fill-rule=\"evenodd\" fill-opacity=\"1\"/>\n",
       "<polyline clip-path=\"url(#clip992)\" style=\"stroke:#000000; stroke-linecap:butt; stroke-linejoin:round; stroke-width:4; stroke-opacity:1; fill:none\" points=\"\n",
       "  430.27,456.073 430.27,1384.24 508.793,1384.24 508.793,456.073 430.27,456.073 \n",
       "  \"/>\n",
       "<path clip-path=\"url(#clip992)\" d=\"\n",
       "M508.793 382.555 L508.793 1384.24 L587.316 1384.24 L587.316 382.555 L508.793 382.555 L508.793 382.555  Z\n",
       "  \" fill=\"#009af9\" fill-rule=\"evenodd\" fill-opacity=\"1\"/>\n",
       "<polyline clip-path=\"url(#clip992)\" style=\"stroke:#000000; stroke-linecap:butt; stroke-linejoin:round; stroke-width:4; stroke-opacity:1; fill:none\" points=\"\n",
       "  508.793,382.555 508.793,1384.24 587.316,1384.24 587.316,382.555 508.793,382.555 \n",
       "  \"/>\n",
       "<path clip-path=\"url(#clip992)\" d=\"\n",
       "M587.316 325.119 L587.316 1384.24 L665.838 1384.24 L665.838 325.119 L587.316 325.119 L587.316 325.119  Z\n",
       "  \" fill=\"#009af9\" fill-rule=\"evenodd\" fill-opacity=\"1\"/>\n",
       "<polyline clip-path=\"url(#clip992)\" style=\"stroke:#000000; stroke-linecap:butt; stroke-linejoin:round; stroke-width:4; stroke-opacity:1; fill:none\" points=\"\n",
       "  587.316,325.119 587.316,1384.24 665.838,1384.24 665.838,325.119 587.316,325.119 \n",
       "  \"/>\n",
       "<path clip-path=\"url(#clip992)\" d=\"\n",
       "M665.838 568.648 L665.838 1384.24 L744.361 1384.24 L744.361 568.648 L665.838 568.648 L665.838 568.648  Z\n",
       "  \" fill=\"#009af9\" fill-rule=\"evenodd\" fill-opacity=\"1\"/>\n",
       "<polyline clip-path=\"url(#clip992)\" style=\"stroke:#000000; stroke-linecap:butt; stroke-linejoin:round; stroke-width:4; stroke-opacity:1; fill:none\" points=\"\n",
       "  665.838,568.648 665.838,1384.24 744.361,1384.24 744.361,568.648 665.838,568.648 \n",
       "  \"/>\n",
       "<path clip-path=\"url(#clip992)\" d=\"\n",
       "M744.361 423.909 L744.361 1384.24 L822.884 1384.24 L822.884 423.909 L744.361 423.909 L744.361 423.909  Z\n",
       "  \" fill=\"#009af9\" fill-rule=\"evenodd\" fill-opacity=\"1\"/>\n",
       "<polyline clip-path=\"url(#clip992)\" style=\"stroke:#000000; stroke-linecap:butt; stroke-linejoin:round; stroke-width:4; stroke-opacity:1; fill:none\" points=\"\n",
       "  744.361,423.909 744.361,1384.24 822.884,1384.24 822.884,423.909 744.361,423.909 \n",
       "  \"/>\n",
       "<path clip-path=\"url(#clip992)\" d=\"\n",
       "M822.884 125.242 L822.884 1384.24 L901.406 1384.24 L901.406 125.242 L822.884 125.242 L822.884 125.242  Z\n",
       "  \" fill=\"#009af9\" fill-rule=\"evenodd\" fill-opacity=\"1\"/>\n",
       "<polyline clip-path=\"url(#clip992)\" style=\"stroke:#000000; stroke-linecap:butt; stroke-linejoin:round; stroke-width:4; stroke-opacity:1; fill:none\" points=\"\n",
       "  822.884,125.242 822.884,1384.24 901.406,1384.24 901.406,125.242 822.884,125.242 \n",
       "  \"/>\n",
       "<path clip-path=\"url(#clip992)\" d=\"\n",
       "M901.406 382.555 L901.406 1384.24 L979.929 1384.24 L979.929 382.555 L901.406 382.555 L901.406 382.555  Z\n",
       "  \" fill=\"#009af9\" fill-rule=\"evenodd\" fill-opacity=\"1\"/>\n",
       "<polyline clip-path=\"url(#clip992)\" style=\"stroke:#000000; stroke-linecap:butt; stroke-linejoin:round; stroke-width:4; stroke-opacity:1; fill:none\" points=\"\n",
       "  901.406,382.555 901.406,1384.24 979.929,1384.24 979.929,382.555 901.406,382.555 \n",
       "  \"/>\n",
       "<path clip-path=\"url(#clip992)\" d=\"\n",
       "M979.929 235.519 L979.929 1384.24 L1058.45 1384.24 L1058.45 235.519 L979.929 235.519 L979.929 235.519  Z\n",
       "  \" fill=\"#009af9\" fill-rule=\"evenodd\" fill-opacity=\"1\"/>\n",
       "<polyline clip-path=\"url(#clip992)\" style=\"stroke:#000000; stroke-linecap:butt; stroke-linejoin:round; stroke-width:4; stroke-opacity:1; fill:none\" points=\"\n",
       "  979.929,235.519 979.929,1384.24 1058.45,1384.24 1058.45,235.519 979.929,235.519 \n",
       "  \"/>\n",
       "<path clip-path=\"url(#clip992)\" d=\"\n",
       "M1058.45 573.243 L1058.45 1384.24 L1136.97 1384.24 L1136.97 573.243 L1058.45 573.243 L1058.45 573.243  Z\n",
       "  \" fill=\"#009af9\" fill-rule=\"evenodd\" fill-opacity=\"1\"/>\n",
       "<polyline clip-path=\"url(#clip992)\" style=\"stroke:#000000; stroke-linecap:butt; stroke-linejoin:round; stroke-width:4; stroke-opacity:1; fill:none\" points=\"\n",
       "  1058.45,573.243 1058.45,1384.24 1136.97,1384.24 1136.97,573.243 1058.45,573.243 \n",
       "  \"/>\n",
       "<path clip-path=\"url(#clip992)\" d=\"\n",
       "M1136.97 203.355 L1136.97 1384.24 L1215.5 1384.24 L1215.5 203.355 L1136.97 203.355 L1136.97 203.355  Z\n",
       "  \" fill=\"#009af9\" fill-rule=\"evenodd\" fill-opacity=\"1\"/>\n",
       "<polyline clip-path=\"url(#clip992)\" style=\"stroke:#000000; stroke-linecap:butt; stroke-linejoin:round; stroke-width:4; stroke-opacity:1; fill:none\" points=\"\n",
       "  1136.97,203.355 1136.97,1384.24 1215.5,1384.24 1215.5,203.355 1136.97,203.355 \n",
       "  \"/>\n",
       "<path clip-path=\"url(#clip992)\" d=\"\n",
       "M1215.5 405.53 L1215.5 1384.24 L1294.02 1384.24 L1294.02 405.53 L1215.5 405.53 L1215.5 405.53  Z\n",
       "  \" fill=\"#009af9\" fill-rule=\"evenodd\" fill-opacity=\"1\"/>\n",
       "<polyline clip-path=\"url(#clip992)\" style=\"stroke:#000000; stroke-linecap:butt; stroke-linejoin:round; stroke-width:4; stroke-opacity:1; fill:none\" points=\"\n",
       "  1215.5,405.53 1215.5,1384.24 1294.02,1384.24 1294.02,405.53 1215.5,405.53 \n",
       "  \"/>\n",
       "<path clip-path=\"url(#clip992)\" d=\"\n",
       "M1294.02 329.714 L1294.02 1384.24 L1372.54 1384.24 L1372.54 329.714 L1294.02 329.714 L1294.02 329.714  Z\n",
       "  \" fill=\"#009af9\" fill-rule=\"evenodd\" fill-opacity=\"1\"/>\n",
       "<polyline clip-path=\"url(#clip992)\" style=\"stroke:#000000; stroke-linecap:butt; stroke-linejoin:round; stroke-width:4; stroke-opacity:1; fill:none\" points=\"\n",
       "  1294.02,329.714 1294.02,1384.24 1372.54,1384.24 1372.54,329.714 1294.02,329.714 \n",
       "  \"/>\n",
       "<path clip-path=\"url(#clip992)\" d=\"\n",
       "M1372.54 547.971 L1372.54 1384.24 L1451.06 1384.24 L1451.06 547.971 L1372.54 547.971 L1372.54 547.971  Z\n",
       "  \" fill=\"#009af9\" fill-rule=\"evenodd\" fill-opacity=\"1\"/>\n",
       "<polyline clip-path=\"url(#clip992)\" style=\"stroke:#000000; stroke-linecap:butt; stroke-linejoin:round; stroke-width:4; stroke-opacity:1; fill:none\" points=\"\n",
       "  1372.54,547.971 1372.54,1384.24 1451.06,1384.24 1451.06,547.971 1372.54,547.971 \n",
       "  \"/>\n",
       "<path clip-path=\"url(#clip992)\" d=\"\n",
       "M1451.06 345.796 L1451.06 1384.24 L1529.59 1384.24 L1529.59 345.796 L1451.06 345.796 L1451.06 345.796  Z\n",
       "  \" fill=\"#009af9\" fill-rule=\"evenodd\" fill-opacity=\"1\"/>\n",
       "<polyline clip-path=\"url(#clip992)\" style=\"stroke:#000000; stroke-linecap:butt; stroke-linejoin:round; stroke-width:4; stroke-opacity:1; fill:none\" points=\"\n",
       "  1451.06,345.796 1451.06,1384.24 1529.59,1384.24 1529.59,345.796 1451.06,345.796 \n",
       "  \"/>\n",
       "<path clip-path=\"url(#clip992)\" d=\"\n",
       "M1529.59 481.345 L1529.59 1384.24 L1608.11 1384.24 L1608.11 481.345 L1529.59 481.345 L1529.59 481.345  Z\n",
       "  \" fill=\"#009af9\" fill-rule=\"evenodd\" fill-opacity=\"1\"/>\n",
       "<polyline clip-path=\"url(#clip992)\" style=\"stroke:#000000; stroke-linecap:butt; stroke-linejoin:round; stroke-width:4; stroke-opacity:1; fill:none\" points=\"\n",
       "  1529.59,481.345 1529.59,1384.24 1608.11,1384.24 1608.11,481.345 1529.59,481.345 \n",
       "  \"/>\n",
       "<path clip-path=\"url(#clip992)\" d=\"\n",
       "M1608.11 210.247 L1608.11 1384.24 L1686.63 1384.24 L1686.63 210.247 L1608.11 210.247 L1608.11 210.247  Z\n",
       "  \" fill=\"#009af9\" fill-rule=\"evenodd\" fill-opacity=\"1\"/>\n",
       "<polyline clip-path=\"url(#clip992)\" style=\"stroke:#000000; stroke-linecap:butt; stroke-linejoin:round; stroke-width:4; stroke-opacity:1; fill:none\" points=\"\n",
       "  1608.11,210.247 1608.11,1384.24 1686.63,1384.24 1686.63,210.247 1608.11,210.247 \n",
       "  \"/>\n",
       "<path clip-path=\"url(#clip992)\" d=\"\n",
       "M1686.63 359.581 L1686.63 1384.24 L1765.16 1384.24 L1765.16 359.581 L1686.63 359.581 L1686.63 359.581  Z\n",
       "  \" fill=\"#009af9\" fill-rule=\"evenodd\" fill-opacity=\"1\"/>\n",
       "<polyline clip-path=\"url(#clip992)\" style=\"stroke:#000000; stroke-linecap:butt; stroke-linejoin:round; stroke-width:4; stroke-opacity:1; fill:none\" points=\"\n",
       "  1686.63,359.581 1686.63,1384.24 1765.16,1384.24 1765.16,359.581 1686.63,359.581 \n",
       "  \"/>\n",
       "<path clip-path=\"url(#clip992)\" d=\"\n",
       "M1765.16 86.1857 L1765.16 1384.24 L1843.68 1384.24 L1843.68 86.1857 L1765.16 86.1857 L1765.16 86.1857  Z\n",
       "  \" fill=\"#009af9\" fill-rule=\"evenodd\" fill-opacity=\"1\"/>\n",
       "<polyline clip-path=\"url(#clip992)\" style=\"stroke:#000000; stroke-linecap:butt; stroke-linejoin:round; stroke-width:4; stroke-opacity:1; fill:none\" points=\"\n",
       "  1765.16,86.1857 1765.16,1384.24 1843.68,1384.24 1843.68,86.1857 1765.16,86.1857 \n",
       "  \"/>\n",
       "<path clip-path=\"url(#clip992)\" d=\"\n",
       "M1843.68 219.437 L1843.68 1384.24 L1922.2 1384.24 L1922.2 219.437 L1843.68 219.437 L1843.68 219.437  Z\n",
       "  \" fill=\"#009af9\" fill-rule=\"evenodd\" fill-opacity=\"1\"/>\n",
       "<polyline clip-path=\"url(#clip992)\" style=\"stroke:#000000; stroke-linecap:butt; stroke-linejoin:round; stroke-width:4; stroke-opacity:1; fill:none\" points=\"\n",
       "  1843.68,219.437 1843.68,1384.24 1922.2,1384.24 1922.2,219.437 1843.68,219.437 \n",
       "  \"/>\n",
       "<path clip-path=\"url(#clip992)\" d=\"\n",
       "M1922.2 205.652 L1922.2 1384.24 L2000.72 1384.24 L2000.72 205.652 L1922.2 205.652 L1922.2 205.652  Z\n",
       "  \" fill=\"#009af9\" fill-rule=\"evenodd\" fill-opacity=\"1\"/>\n",
       "<polyline clip-path=\"url(#clip992)\" style=\"stroke:#000000; stroke-linecap:butt; stroke-linejoin:round; stroke-width:4; stroke-opacity:1; fill:none\" points=\"\n",
       "  1922.2,205.652 1922.2,1384.24 2000.72,1384.24 2000.72,205.652 1922.2,205.652 \n",
       "  \"/>\n",
       "<path clip-path=\"url(#clip992)\" d=\"\n",
       "M2000.72 134.432 L2000.72 1384.24 L2079.25 1384.24 L2079.25 134.432 L2000.72 134.432 L2000.72 134.432  Z\n",
       "  \" fill=\"#009af9\" fill-rule=\"evenodd\" fill-opacity=\"1\"/>\n",
       "<polyline clip-path=\"url(#clip992)\" style=\"stroke:#000000; stroke-linecap:butt; stroke-linejoin:round; stroke-width:4; stroke-opacity:1; fill:none\" points=\"\n",
       "  2000.72,134.432 2000.72,1384.24 2079.25,1384.24 2079.25,134.432 2000.72,134.432 \n",
       "  \"/>\n",
       "<path clip-path=\"url(#clip992)\" d=\"\n",
       "M2079.25 460.668 L2079.25 1384.24 L2157.77 1384.24 L2157.77 460.668 L2079.25 460.668 L2079.25 460.668  Z\n",
       "  \" fill=\"#009af9\" fill-rule=\"evenodd\" fill-opacity=\"1\"/>\n",
       "<polyline clip-path=\"url(#clip992)\" style=\"stroke:#000000; stroke-linecap:butt; stroke-linejoin:round; stroke-width:4; stroke-opacity:1; fill:none\" points=\"\n",
       "  2079.25,460.668 2079.25,1384.24 2157.77,1384.24 2157.77,460.668 2079.25,460.668 \n",
       "  \"/>\n",
       "<path clip-path=\"url(#clip992)\" d=\"\n",
       "M2157.77 1381.94 L2157.77 1384.24 L2236.29 1384.24 L2236.29 1381.94 L2157.77 1381.94 L2157.77 1381.94  Z\n",
       "  \" fill=\"#009af9\" fill-rule=\"evenodd\" fill-opacity=\"1\"/>\n",
       "<polyline clip-path=\"url(#clip992)\" style=\"stroke:#000000; stroke-linecap:butt; stroke-linejoin:round; stroke-width:4; stroke-opacity:1; fill:none\" points=\"\n",
       "  2157.77,1381.94 2157.77,1384.24 2236.29,1384.24 2236.29,1381.94 2157.77,1381.94 \n",
       "  \"/>\n",
       "</svg>\n"
      ]
     },
     "execution_count": 26,
     "metadata": {},
     "output_type": "execute_result"
    }
   ],
   "source": [
    "mafs = maf(x)\n",
    "histogram(mafs, xlabel=\"minor allele frequency\", ylabel=\"counts\", legend=false)"
   ]
  },
  {
   "cell_type": "markdown",
   "metadata": {},
   "source": [
    "### Empirical genetic relationship matrix "
   ]
  },
  {
   "cell_type": "code",
   "execution_count": 27,
   "metadata": {
    "collapsed": false
   },
   "outputs": [
    {
     "data": {
      "text/plain": [
       "1940×1940 Matrix{Float64}:\n",
       "  0.478556    -0.0331783    0.013541     …  -0.0348225   -0.0129761\n",
       " -0.0331783    0.422993    -0.0389741        0.0457975    0.00554753\n",
       "  0.013541    -0.0389741    0.50952         -0.0357183   -0.0609305\n",
       "  0.0203209    0.00777944  -0.00887047      -0.0297696   -0.00972836\n",
       "  0.0567523   -0.0163798   -0.00498406      -0.0413874   -0.0416146\n",
       " -0.0166009   -0.0191523   -0.0112531    …   0.0176939   -0.0193442\n",
       "  0.123816    -0.0404689    0.00440171       0.0087834   -0.0438065\n",
       " -0.0629017    0.172626    -0.0729026        0.0640123   -0.0281836\n",
       "  0.0605093   -0.0260942    0.00396257      -0.00280748  -0.0608373\n",
       "  0.108922    -0.0204998   -0.00770996      -0.0210909    0.00341321\n",
       " -0.0142674    0.00268319  -0.0235927    …  -0.0223978   -0.0284489\n",
       " -0.0306486    0.197832    -0.00247243       0.0213842   -0.0478996\n",
       " -0.0131824   -0.0227124    0.0223371       -0.0373384    0.0493713\n",
       "  ⋮                                      ⋱               \n",
       "  0.0176546   -0.016599     0.0378249        0.0238609   -0.0420633\n",
       "  0.00246808  -0.0411663    0.0154656       -0.0381165   -0.0651432\n",
       "  0.0952566    0.00891997  -0.0163826    …  -0.0203036   -0.0219965\n",
       " -0.0309912   -0.0228718   -0.0478777       -0.0149289    0.261754\n",
       " -0.00483514  -0.0375673   -0.0211827       -0.0172957    0.0359138\n",
       "  0.00770862   0.0482917   -0.0328417        0.0921714   -0.0292961\n",
       "  0.0700582   -0.03026      0.000619365      0.00889767  -0.00635348\n",
       "  0.0378313   -7.02155e-5   0.00889036   …   0.0023053   -0.0291795\n",
       " -0.00133338   0.00223364   0.0496179       -0.00937223   0.0299252\n",
       "  0.0641201   -0.0241403    0.00602217       0.0040323    0.00689958\n",
       " -0.0348225    0.0457975   -0.0357183        0.509501    -0.0352599\n",
       " -0.0129761    0.00554753  -0.0609305       -0.0352599    0.553015"
      ]
     },
     "execution_count": 27,
     "metadata": {},
     "output_type": "execute_result"
    }
   ],
   "source": [
    "# Φ = grm(x, method=:Robust)          # GRM method implemented in KING\n",
    "# Φ = grm(x, method=:MoM)             # Method of moment estimator\n",
    "Φ = grm(x, method=:GRM, minmaf=0.05)  # GRM method implemented in GCTA"
   ]
  },
  {
   "cell_type": "markdown",
   "metadata": {},
   "source": [
    "### Not covered\n",
    "\n",
    "+ Split, concatenate, filter, merge, reordering...etc\n",
    "+ Linear Algebra on PLINK without converting to numeric matrix\n",
    "+ Linear Algebra on PLINK directly on GPU"
   ]
  },
  {
   "cell_type": "markdown",
   "metadata": {},
   "source": [
    "# Tips to writing performant code\n",
    "\n",
    "General tips:\n",
    "1. Inner for loops should access array elements in \"memory order\", aka write **cache aware** code (in Julia, that means looping through columns is *much* faster than looping through rows)\n",
    "2. Monitor time and memory allocations using `@time f(x)` and `@benchmark f(x)` from [BenchmarkTools.jl](https://github.com/JuliaCI/BenchmarkTools.jl)\n",
    "3. Use efficient libraries like BLAS/LAPACK as much as possible \n",
    "    + **note:** even this is becoming \"obsolete\" thinking with packages like [LoopVectorization.jl](https://github.com/JuliaSIMD/LoopVectorization.jl) and [Tullio.jl](https://github.com/mcabbott/Tullio.jl) (see last example below)\n",
    "4. Annotate `for` loops with @inbounds, @simd, @fastmath...etc\n",
    "5. Check for type stability via `@code_warntype`\n",
    "\n",
    "Advanced tips:\n",
    "1. Find bottlenecks by **rigorously profiling** your code\n",
    "    + [How long it takes your code to run line-by-line](https://docs.julialang.org/en/v1/manual/profile/#Profiling)\n",
    "    + [How much memory your code allocates line-by-line](https://docs.julialang.org/en/v1/manual/profile/#Memory-allocation-analysis)\n",
    "2. Develop a [mental model](https://biojulia.net/post/hardware/) for how computers work\n",
    "3. Learn different levels of [parallel programming](https://docs.julialang.org/en/v1/manual/parallel-computing/): SIMD, multithreading, distributed computing, GPUs\n",
    "4. `@code_lowered`, `@code_llvm`, `@code_native`,...etc"
   ]
  },
  {
   "cell_type": "markdown",
   "metadata": {},
   "source": [
    "# Short history of Julia\n",
    "\n",
    "+ 2012: Julia first appearance along with [famous blog post](https://julialang.org/blog/2012/02/why-we-created-julia/)\n",
    "+ 2013-2015 (around): Kenneth Lange hears about Julia, begins converting Mendel (75k+ lines of closed-source Fortran code) to [OpenMendel](https://github.com/OpenMendel) (pure Julia)\n",
    "+ 2017: Julia becomes [the 4th language to break 1 peta-flop barrier](https://www.youtube.com/watch?v=uecdcADM3hY) using 9000+ machines, 650k cores, and 1.3 million threads  (the other 3 are C, C++, Fortran) \n",
    "+ 2018: Julia v1.0 is released, enters \"top 50 programming languages\"\n",
    "+ 2020-2021: \n",
    "    + Usually 20-30th place in top 50 programming languages\n",
    "    + +87% more downloads\n",
    "    + 1000+ contributors to Julia language itself, 3-8 new packages and 50-60 new package versions per day\n",
    "    + World wide usage estimated ~50% of Matlab"
   ]
  },
  {
   "cell_type": "markdown",
   "metadata": {},
   "source": [
    "# Extra time (motivating example 2): matrix-matrix multiplication"
   ]
  },
  {
   "cell_type": "markdown",
   "metadata": {},
   "source": [
    "<img src=\"img/bench_AmulB_v2.svg\" alt=\"Drawing\" style=\"width: 900px;\"/>"
   ]
  },
  {
   "cell_type": "code",
   "execution_count": 28,
   "metadata": {
    "collapsed": false
   },
   "outputs": [],
   "source": [
    "using LoopVectorization, BenchmarkTools\n",
    "function mygemmavx!(C, A, B)\n",
    "   @turbo for m ∈ axes(A,1), n ∈ axes(B,2)\n",
    "       Cmn = zero(eltype(C))\n",
    "       for k ∈ axes(A,2)\n",
    "           Cmn += A[m,k] * B[k,n]\n",
    "       end\n",
    "       C[m,n] = Cmn\n",
    "   end\n",
    "end\n",
    "M, K, N = 191, 189, 171\n",
    "C = Matrix{Float64}(undef, M, N)\n",
    "A = randn(M, K)\n",
    "B = randn(K, N);"
   ]
  },
  {
   "cell_type": "code",
   "execution_count": 29,
   "metadata": {
    "collapsed": false
   },
   "outputs": [
    {
     "data": {
      "text/plain": [
       "BenchmarkTools.Trial: \n",
       "  memory estimate:  0 bytes\n",
       "  allocs estimate:  0\n",
       "  --------------\n",
       "  minimum time:     274.991 μs (0.00% GC)\n",
       "  median time:      320.247 μs (0.00% GC)\n",
       "  mean time:        328.904 μs (0.00% GC)\n",
       "  maximum time:     768.693 μs (0.00% GC)\n",
       "  --------------\n",
       "  samples:          10000\n",
       "  evals/sample:     1"
      ]
     },
     "execution_count": 29,
     "metadata": {},
     "output_type": "execute_result"
    }
   ],
   "source": [
    "@benchmark mygemmavx!($C, $A, $B)"
   ]
  },
  {
   "cell_type": "code",
   "execution_count": 30,
   "metadata": {
    "collapsed": false
   },
   "outputs": [
    {
     "name": "stdout",
     "output_type": "stream",
     "text": [
      "BLAS.vendor() = :openblas64\n"
     ]
    },
    {
     "data": {
      "text/plain": [
       "BenchmarkTools.Trial: \n",
       "  memory estimate:  0 bytes\n",
       "  allocs estimate:  0\n",
       "  --------------\n",
       "  minimum time:     229.592 μs (0.00% GC)\n",
       "  median time:      265.762 μs (0.00% GC)\n",
       "  mean time:        270.503 μs (0.00% GC)\n",
       "  maximum time:     590.124 μs (0.00% GC)\n",
       "  --------------\n",
       "  samples:          10000\n",
       "  evals/sample:     1"
      ]
     },
     "execution_count": 30,
     "metadata": {},
     "output_type": "execute_result"
    }
   ],
   "source": [
    "BLAS.set_num_threads(1)\n",
    "@show BLAS.vendor()\n",
    "@benchmark mul!($C, $A, $B)"
   ]
  },
  {
   "cell_type": "code",
   "execution_count": null,
   "metadata": {
    "collapsed": true
   },
   "outputs": [],
   "source": []
  }
 ],
 "metadata": {
  "@webio": {
   "lastCommId": null,
   "lastKernelId": null
  },
  "kernelspec": {
   "display_name": "Julia 1.6.0",
   "language": "julia",
   "name": "julia-1.6"
  },
  "language_info": {
   "file_extension": ".jl",
   "mimetype": "application/julia",
   "name": "julia",
   "version": "1.6.0"
  }
 },
 "nbformat": 4,
 "nbformat_minor": 2
}
